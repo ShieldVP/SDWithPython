{
 "cells": [
  {
   "cell_type": "markdown",
   "id": "aa12a68e",
   "metadata": {},
   "source": [
    "![](src/13.jpg)\n",
    "\n",
    "# Примеры использования стека\n",
    "\n",
    "* Передача параметров в функцию\n",
    "* Трансляция (синтаксический, семантический анализ, генерация кодов)\n",
    "* Рекурсия\n",
    "* Управление динамической памятью\n",
    "\n",
    "## Обработка текстовой информации\n",
    "\n",
    "Допустим, мы хотим реализовать процедуру стирания лишней информации.\n",
    "\n",
    "* \\# - обозначение backspace\n",
    "* \\\\n - конец строки\n",
    "* @ - символ затирания всех прошлых символов"
   ]
  },
  {
   "cell_type": "code",
   "execution_count": 1,
   "id": "de21eebb",
   "metadata": {},
   "outputs": [],
   "source": [
    "def text_processing(s):\n",
    "    i = 0\n",
    "    stack = []\n",
    "    \n",
    "    while i < len(s) and s[i] != '\\n':\n",
    "        if s[i] == '#' and len(stack) > 0:\n",
    "            stack.pop()\n",
    "        elif s[i] == '@':\n",
    "            stack = []\n",
    "        else:\n",
    "            stack.append(s[i])\n",
    "        i += 1\n",
    "    print(''.join(stack))"
   ]
  },
  {
   "cell_type": "code",
   "execution_count": 2,
   "id": "1e1b652c",
   "metadata": {},
   "outputs": [
    {
     "name": "stdout",
     "output_type": "stream",
     "text": [
      "pam im very interested person\n"
     ]
    }
   ],
   "source": [
    "s = 'pam-pam#### im very.# interested pea#rson\\n\\nggjghj#'\n",
    "text_processing(s)"
   ]
  },
  {
   "cell_type": "code",
   "execution_count": 3,
   "id": "cdb9cce9",
   "metadata": {},
   "outputs": [
    {
     "name": "stdout",
     "output_type": "stream",
     "text": [
      "very interested person\n"
     ]
    }
   ],
   "source": [
    "s = 'pam-pam#### im @very.# interested pea#rson\\n\\nggjghj#'\n",
    "text_processing(s)"
   ]
  },
  {
   "cell_type": "markdown",
   "id": "9ce1fb52",
   "metadata": {},
   "source": [
    "### Проверка скобок в выражении"
   ]
  },
  {
   "cell_type": "markdown",
   "id": "d32e32a6",
   "metadata": {},
   "source": [
    "![](src/1.png)"
   ]
  },
  {
   "cell_type": "code",
   "execution_count": null,
   "id": "74c45bd6",
   "metadata": {},
   "outputs": [],
   "source": [
    "# (((((2 + 5)"
   ]
  },
  {
   "cell_type": "code",
   "execution_count": 5,
   "id": "6aca2128",
   "metadata": {},
   "outputs": [],
   "source": [
    "# [1, 3, 4].find(4)"
   ]
  },
  {
   "cell_type": "code",
   "execution_count": 12,
   "id": "613633a2",
   "metadata": {},
   "outputs": [],
   "source": [
    "def bracket_check(s):\n",
    "    stack = []\n",
    "    open_brackets = ['{', '(', '[']\n",
    "    close_brackets = ['}', ')', ']']\n",
    "    \n",
    "    for i in s:\n",
    "        try:\n",
    "            ind = open_brackets.index(i)\n",
    "            stack.append(i)\n",
    "            continue\n",
    "        except Exception as e:\n",
    "            pass\n",
    "\n",
    "        try:\n",
    "            ind = close_brackets.index(i)\n",
    "            if ind != -1:\n",
    "                if ind != open_brackets.index(stack.pop()):\n",
    "                    return False\n",
    "        except Exception as e:\n",
    "            pass\n",
    "    if len(stack) > 0:\n",
    "        return False\n",
    "    return True"
   ]
  },
  {
   "cell_type": "code",
   "execution_count": 13,
   "id": "04065fb1",
   "metadata": {},
   "outputs": [
    {
     "data": {
      "text/plain": [
       "False"
      ]
     },
     "execution_count": 13,
     "metadata": {},
     "output_type": "execute_result"
    }
   ],
   "source": [
    "bracket_check('{[(]}')"
   ]
  },
  {
   "cell_type": "code",
   "execution_count": 14,
   "id": "4628e035",
   "metadata": {},
   "outputs": [
    {
     "data": {
      "text/plain": [
       "True"
      ]
     },
     "execution_count": 14,
     "metadata": {},
     "output_type": "execute_result"
    }
   ],
   "source": [
    "bracket_check('{[()]}{}')"
   ]
  },
  {
   "cell_type": "code",
   "execution_count": 15,
   "id": "f9835f41",
   "metadata": {},
   "outputs": [
    {
     "data": {
      "text/plain": [
       "False"
      ]
     },
     "execution_count": 15,
     "metadata": {},
     "output_type": "execute_result"
    }
   ],
   "source": [
    "bracket_check('{[()]}{}[')"
   ]
  },
  {
   "cell_type": "code",
   "execution_count": 16,
   "id": "64c8d5cf",
   "metadata": {},
   "outputs": [
    {
     "data": {
      "text/plain": [
       "False"
      ]
     },
     "execution_count": 16,
     "metadata": {},
     "output_type": "execute_result"
    }
   ],
   "source": [
    "bracket_check('(((((2 + 5)')"
   ]
  },
  {
   "cell_type": "code",
   "execution_count": 17,
   "id": "48873285",
   "metadata": {},
   "outputs": [
    {
     "data": {
      "text/plain": [
       "True"
      ]
     },
     "execution_count": 17,
     "metadata": {},
     "output_type": "execute_result"
    }
   ],
   "source": [
    "bracket_check('(2 + 5)')"
   ]
  },
  {
   "cell_type": "markdown",
   "id": "8e1c0a68",
   "metadata": {},
   "source": [
    "### Анализ выражения, вычисление значения\n",
    "\n",
    "![](src/2.png)\n",
    "![](src/3.png)\n",
    "![](src/4.png)\n",
    "![](src/5.png)\n",
    "![](src/6.png)\n",
    "![](src/7.png)\n",
    "![](src/8.png)"
   ]
  },
  {
   "cell_type": "code",
   "execution_count": 18,
   "id": "6bd493ce",
   "metadata": {},
   "outputs": [
    {
     "name": "stdout",
     "output_type": "stream",
     "text": [
      "A B * C D * +\n",
      "A B + C * D E - F G + * -\n"
     ]
    }
   ],
   "source": [
    "def infixToPostfix(infixexpr):\n",
    "    prec = {}\n",
    "    prec[\"*\"] = 3\n",
    "    prec[\"/\"] = 3\n",
    "    prec[\"+\"] = 2\n",
    "    prec[\"-\"] = 2\n",
    "    prec[\"(\"] = 1\n",
    "    \n",
    "    opStack = list()\n",
    "    postfixList = []\n",
    "    tokenList = infixexpr.split()\n",
    "\n",
    "    for token in tokenList:\n",
    "        if token in \"ABCDEFGHIJKLMNOPQRSTUVWXYZ\" or token in \"0123456789\":\n",
    "            postfixList.append(token)\n",
    "        elif token == '(':\n",
    "            opStack.append(token)\n",
    "        elif token == ')':\n",
    "            topToken = opStack.pop()\n",
    "            while topToken != '(':\n",
    "                postfixList.append(topToken)\n",
    "                topToken = opStack.pop()\n",
    "        else:\n",
    "            while len(opStack) > 0 and \\\n",
    "               (prec[opStack[-1]] >= prec[token]):\n",
    "                  postfixList.append(opStack.pop())\n",
    "            opStack.append(token)\n",
    "\n",
    "    while len(opStack) > 0:\n",
    "        postfixList.append(opStack.pop())\n",
    "    return \" \".join(postfixList)\n",
    "\n",
    "print(infixToPostfix(\"A * B + C * D\"))\n",
    "print(infixToPostfix(\"( A + B ) * C - ( D - E ) * ( F + G )\"))"
   ]
  },
  {
   "cell_type": "code",
   "execution_count": null,
   "id": "fa5aecec",
   "metadata": {},
   "outputs": [],
   "source": [
    "# 4 5 6 * +"
   ]
  },
  {
   "cell_type": "markdown",
   "id": "ef8b1a68",
   "metadata": {},
   "source": [
    "### Вычисление выражения 4 + 5 * 6"
   ]
  },
  {
   "cell_type": "markdown",
   "id": "ab578e2a",
   "metadata": {},
   "source": [
    "![](src/9.png)"
   ]
  },
  {
   "cell_type": "markdown",
   "id": "d8f67795",
   "metadata": {},
   "source": [
    "### Вычисление выражения (7 + 8) / (3 + 2)"
   ]
  },
  {
   "cell_type": "markdown",
   "id": "40c86295",
   "metadata": {},
   "source": [
    "![](src/10.png)"
   ]
  },
  {
   "cell_type": "code",
   "execution_count": 20,
   "id": "38d0036b",
   "metadata": {},
   "outputs": [
    {
     "name": "stdout",
     "output_type": "stream",
     "text": [
      "3.0\n"
     ]
    }
   ],
   "source": [
    "def postfixEval(postfixExpr):\n",
    "    operandStack = []\n",
    "    tokenList = postfixExpr.split()\n",
    "\n",
    "    for token in tokenList:\n",
    "        if token.isdigit():\n",
    "            operandStack.append(int(token))\n",
    "        else:\n",
    "            operand2 = operandStack.pop()\n",
    "            operand1 = operandStack.pop()\n",
    "            result = doMath(token,operand1,operand2)\n",
    "            operandStack.append(result)\n",
    "    return operandStack.pop()\n",
    "\n",
    "def doMath(op, op1, op2):\n",
    "    if op == \"*\":\n",
    "        return op1 * op2\n",
    "    elif op == \"/\":\n",
    "        return op1 / op2\n",
    "    elif op == \"+\":\n",
    "        return op1 + op2\n",
    "    else:\n",
    "        return op1 - op2\n",
    "\n",
    "print(postfixEval('7 8 + 3 2 + /'))"
   ]
  },
  {
   "cell_type": "code",
   "execution_count": 21,
   "id": "11828098",
   "metadata": {},
   "outputs": [
    {
     "name": "stdout",
     "output_type": "stream",
     "text": [
      "34\n"
     ]
    }
   ],
   "source": [
    "print(postfixEval('4 5 6 * +'))"
   ]
  },
  {
   "cell_type": "markdown",
   "id": "24916ab0",
   "metadata": {},
   "source": [
    "## Имитация рекурсии с помощью стека\n",
    "\n",
    "![](src/11.png)\n",
    "![](src/12.png)\n",
    "\n",
    "### Рекурсия как она есть"
   ]
  },
  {
   "cell_type": "code",
   "execution_count": 29,
   "id": "ba6356eb",
   "metadata": {},
   "outputs": [],
   "source": [
    "stack = []\n",
    "convertString = \"0123456789ABCDEF\"\n",
    "\n",
    "def toStr_rec(n, base):\n",
    "    global convertString\n",
    "\n",
    "    if n > 0:\n",
    "        res = toStr_rec(n // base, base)\n",
    "        return res + convertString[n % base]\n",
    "    return ''"
   ]
  },
  {
   "cell_type": "code",
   "execution_count": 33,
   "id": "51373de7",
   "metadata": {},
   "outputs": [
    {
     "data": {
      "text/plain": [
       "'463A'"
      ]
     },
     "execution_count": 33,
     "metadata": {},
     "output_type": "execute_result"
    }
   ],
   "source": [
    "toStr_rec(17978, 16)"
   ]
  },
  {
   "cell_type": "code",
   "execution_count": null,
   "id": "ed406330",
   "metadata": {},
   "outputs": [],
   "source": [
    "# toStr_rec(16, 2)\n",
    "# toStr_rec(8, 2)\n",
    "# toStr_rec(4, 2)\n",
    "# toStr_rec(2, 2)\n",
    "# toStr_rec(1, 2)\n",
    "# toStr_rec(0, 2)"
   ]
  },
  {
   "cell_type": "markdown",
   "id": "00ee8dcf",
   "metadata": {},
   "source": [
    "### Рекурсия с помощью стека"
   ]
  },
  {
   "cell_type": "code",
   "execution_count": 34,
   "id": "b9c889bd",
   "metadata": {},
   "outputs": [],
   "source": [
    "stack = []\n",
    "convertString = \"0123456789ABCDEF\"\n",
    "\n",
    "def toStr(n,base):\n",
    "    global convertString, stack\n",
    "\n",
    "    while n > 0:\n",
    "        if n < base:\n",
    "            stack.append(convertString[n])\n",
    "        else:\n",
    "            stack.append(convertString[n % base])\n",
    "        n = n // base\n",
    "\n",
    "    res = \"\"\n",
    "    while len(stack) != 0:\n",
    "        res = res + str(stack.pop())\n",
    "    return res"
   ]
  },
  {
   "cell_type": "code",
   "execution_count": 35,
   "id": "5dc53b25",
   "metadata": {},
   "outputs": [
    {
     "data": {
      "text/plain": [
       "'463A'"
      ]
     },
     "execution_count": 35,
     "metadata": {},
     "output_type": "execute_result"
    }
   ],
   "source": [
    "toStr(17978,16)"
   ]
  },
  {
   "cell_type": "markdown",
   "id": "c37758c3",
   "metadata": {},
   "source": [
    "![](src/14.jpg)\n",
    "\n",
    "# Примеры очередей\n",
    "\n",
    "* Обработка данных\n",
    "* Буферизация потоков данных\n",
    "* Управление процессами\n",
    "* Интеграция и взаимодействие систем"
   ]
  },
  {
   "cell_type": "markdown",
   "id": "1a1466a3",
   "metadata": {},
   "source": [
    "### Симуляция очереди в принтер"
   ]
  },
  {
   "cell_type": "code",
   "execution_count": 36,
   "id": "eb59a9fa",
   "metadata": {},
   "outputs": [],
   "source": [
    "# !pip install pythonds"
   ]
  },
  {
   "cell_type": "code",
   "execution_count": 38,
   "id": "0bd21107",
   "metadata": {},
   "outputs": [],
   "source": [
    "from pythonds.basic.queue import Queue\n",
    "\n",
    "import random\n",
    "\n",
    "class Printer:\n",
    "    def __init__(self, ppm):\n",
    "        self.pagerate = ppm\n",
    "        self.currentTask = None\n",
    "        self.timeRemaining = 0\n",
    "\n",
    "    def tick(self):\n",
    "        if self.currentTask != None:\n",
    "            self.timeRemaining = self.timeRemaining - 1\n",
    "            if self.timeRemaining <= 0:\n",
    "                self.currentTask = None\n",
    "\n",
    "    def busy(self):\n",
    "        if self.currentTask != None:\n",
    "            return True\n",
    "        else:\n",
    "            return False\n",
    "\n",
    "    def startNext(self,newtask):\n",
    "        self.currentTask = newtask\n",
    "        self.timeRemaining = newtask.getPages() * 60/self.pagerate\n",
    "\n",
    "class Task:\n",
    "    def __init__(self,time):\n",
    "        self.timestamp = time\n",
    "        self.pages = random.randrange(1,21)\n",
    "\n",
    "    def getStamp(self):\n",
    "        return self.timestamp\n",
    "\n",
    "    def getPages(self):\n",
    "        return self.pages\n",
    "\n",
    "    def waitTime(self, currenttime):\n",
    "        return currenttime - self.timestamp\n",
    "\n",
    "\n",
    "def simulation(numSeconds, pagesPerMinute):\n",
    "\n",
    "    labprinter = Printer(pagesPerMinute)\n",
    "    printQueue = Queue()\n",
    "    waitingtimes = []\n",
    "\n",
    "    for currentSecond in range(numSeconds):\n",
    "\n",
    "        if newPrintTask():\n",
    "            task = Task(currentSecond)\n",
    "            printQueue.enqueue(task)\n",
    "\n",
    "        if (not labprinter.busy()) and (not printQueue.isEmpty()):\n",
    "            nexttask = printQueue.dequeue()\n",
    "            waitingtimes.append( nexttask.waitTime(currentSecond))\n",
    "            labprinter.startNext(nexttask)\n",
    "\n",
    "        labprinter.tick()\n",
    "\n",
    "    averageWait=sum(waitingtimes)/len(waitingtimes)\n",
    "    print(\"Average Wait %6.2f secs %3d tasks remaining.\"%(averageWait,printQueue.size()))\n",
    "\n",
    "def newPrintTask():\n",
    "    num = random.randrange(1,181)\n",
    "    if num == 180:\n",
    "        return True\n",
    "    else:\n",
    "        return False"
   ]
  },
  {
   "cell_type": "code",
   "execution_count": 39,
   "id": "5768a58c",
   "metadata": {},
   "outputs": [
    {
     "name": "stdout",
     "output_type": "stream",
     "text": [
      "Average Wait  75.85 secs   0 tasks remaining.\n",
      "Average Wait  17.86 secs   1 tasks remaining.\n",
      "Average Wait  85.59 secs   6 tasks remaining.\n",
      "Average Wait  26.07 secs   0 tasks remaining.\n",
      "Average Wait 104.89 secs   0 tasks remaining.\n",
      "Average Wait 209.60 secs   6 tasks remaining.\n",
      "Average Wait  35.50 secs   0 tasks remaining.\n",
      "Average Wait  93.33 secs   0 tasks remaining.\n",
      "Average Wait  25.93 secs   0 tasks remaining.\n",
      "Average Wait 257.05 secs   3 tasks remaining.\n"
     ]
    }
   ],
   "source": [
    "for i in range(10):\n",
    "    simulation(3600,5)"
   ]
  },
  {
   "cell_type": "code",
   "execution_count": null,
   "id": "5ec8e23c",
   "metadata": {},
   "outputs": [],
   "source": []
  },
  {
   "cell_type": "code",
   "execution_count": null,
   "id": "526101ca",
   "metadata": {},
   "outputs": [],
   "source": []
  },
  {
   "cell_type": "code",
   "execution_count": null,
   "id": "0fe710e9",
   "metadata": {},
   "outputs": [],
   "source": []
  }
 ],
 "metadata": {
  "kernelspec": {
   "display_name": "Python 3 (ipykernel)",
   "language": "python",
   "name": "python3"
  },
  "language_info": {
   "codemirror_mode": {
    "name": "ipython",
    "version": 3
   },
   "file_extension": ".py",
   "mimetype": "text/x-python",
   "name": "python",
   "nbconvert_exporter": "python",
   "pygments_lexer": "ipython3",
   "version": "3.11.1"
  }
 },
 "nbformat": 4,
 "nbformat_minor": 5
}
