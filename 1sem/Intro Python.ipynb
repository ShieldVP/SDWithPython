{
 "cells": [
  {
   "cell_type": "markdown",
   "id": "b1e9961c",
   "metadata": {},
   "source": [
    "# 1. Введение в Python\n",
    "\n",
    "### > Создан в 1991 году\n",
    "<br><br>\n",
    "### > Создатель - программист из Нидерландов Гвидо ван Россум\n",
    "<br><br>\n",
    "### > Входит в топ языков программирования по популярности\n",
    "(а, значит, больше материалов и ответов на вопросы)\n",
    "<br><br>\n",
    "### > Основные сферы применения:\n",
    "  * Веб-разработка\n",
    "  * Анализ данных\n",
    "  * Машинное обучение\n"
   ]
  },
  {
   "cell_type": "markdown",
   "id": "5a70bbca",
   "metadata": {},
   "source": [
    "# 2. Почему стоит изучать именно Python?\n",
    "\n",
    "![](src/horse.jpg)\n",
    "\n",
    "### > Простота синтаксиса и команд\n",
    "<br>\n",
    "\n",
    "### > Большое количество библиотек для решения большого спектра задач\n",
    "<br>\n",
    "\n",
    "### > Низкий порог входа\n",
    "\n"
   ]
  },
  {
   "cell_type": "markdown",
   "id": "e3df7c04",
   "metadata": {},
   "source": [
    "# 3. Немного о Python\n",
    "\n",
    "![](src/dog-python.png)\n",
    "### > Python - интерпретируемый язык программирования\n",
    "<br>\n",
    "\n",
    "### > Не требует явного определения переменных\n",
    "<br>\n",
    "\n",
    "### > Является регистрозависимым (var != VAR != vAr)\n",
    "<br>\n",
    "\n",
    "### > Блоки выделяются отступами"
   ]
  },
  {
   "cell_type": "markdown",
   "id": "09f892e7",
   "metadata": {},
   "source": [
    "# 4. Где кодить?\n",
    "\n",
    "### > Visual Studio Code\n",
    "\n",
    "### > PyCharm\n",
    "\n",
    "### > Jupyter Notebook\n",
    "\n",
    "### > Google Colab"
   ]
  },
  {
   "cell_type": "markdown",
   "id": "4de5fa6c",
   "metadata": {},
   "source": [
    "# 5. Как узнать версию Python на устройстве"
   ]
  },
  {
   "cell_type": "code",
   "execution_count": 1,
   "id": "c845beef",
   "metadata": {},
   "outputs": [
    {
     "name": "stdout",
     "output_type": "stream",
     "text": [
      "Python 3.11.1\r\n"
     ]
    }
   ],
   "source": [
    "!python --version\n",
    "# Но подойдет и 3.10"
   ]
  },
  {
   "cell_type": "markdown",
   "id": "cb4afb64",
   "metadata": {},
   "source": [
    "# 6. Ввод/Вывод данных\n",
    "\n",
    "![](src/code.png)"
   ]
  },
  {
   "cell_type": "markdown",
   "id": "1bd0f6c2",
   "metadata": {},
   "source": [
    "### В простых скриптах вывод данных на экран осуществляется с помощью print"
   ]
  },
  {
   "cell_type": "code",
   "execution_count": 2,
   "id": "61f100b5",
   "metadata": {},
   "outputs": [
    {
     "name": "stdout",
     "output_type": "stream",
     "text": [
      "Today is a day\n",
      "Today is a day\n",
      "Today is a day\n",
      "Today is a day\n"
     ]
    }
   ],
   "source": [
    "print('Today is a day')\n",
    "print(\"Today is a day\")\n",
    "print(\"\"\"Today is a day\"\"\")\n",
    "print('''Today is a day''')"
   ]
  },
  {
   "cell_type": "markdown",
   "id": "7582cd6e",
   "metadata": {},
   "source": [
    "### Для получения описания функции и ее аргументов можно вызвать функцию help"
   ]
  },
  {
   "cell_type": "code",
   "execution_count": 3,
   "id": "d3cf5824",
   "metadata": {},
   "outputs": [
    {
     "name": "stdout",
     "output_type": "stream",
     "text": [
      "Help on built-in function print in module builtins:\n",
      "\n",
      "print(*args, sep=' ', end='\\n', file=None, flush=False)\n",
      "    Prints the values to a stream, or to sys.stdout by default.\n",
      "    \n",
      "    sep\n",
      "      string inserted between values, default a space.\n",
      "    end\n",
      "      string appended after the last value, default a newline.\n",
      "    file\n",
      "      a file-like object (stream); defaults to the current sys.stdout.\n",
      "    flush\n",
      "      whether to forcibly flush the stream.\n",
      "\n"
     ]
    }
   ],
   "source": [
    "help(print)"
   ]
  },
  {
   "cell_type": "code",
   "execution_count": 4,
   "id": "bcb666f2",
   "metadata": {},
   "outputs": [
    {
     "name": "stdout",
     "output_type": "stream",
     "text": [
      "Help on built-in function min in module builtins:\n",
      "\n",
      "min(...)\n",
      "    min(iterable, *[, default=obj, key=func]) -> value\n",
      "    min(arg1, arg2, *args, *[, key=func]) -> value\n",
      "    \n",
      "    With a single iterable argument, return its smallest item. The\n",
      "    default keyword-only argument specifies an object to return if\n",
      "    the provided iterable is empty.\n",
      "    With two or more arguments, return the smallest argument.\n",
      "\n"
     ]
    }
   ],
   "source": [
    "help(min)"
   ]
  },
  {
   "cell_type": "markdown",
   "id": "7acbde10",
   "metadata": {},
   "source": [
    "### Для ввода данных от пользователя через консоль используется функция input"
   ]
  },
  {
   "cell_type": "code",
   "execution_count": 5,
   "id": "f4d3e5dd",
   "metadata": {},
   "outputs": [
    {
     "name": "stdout",
     "output_type": "stream",
     "text": [
      "Hello, World!\n",
      "Hello, World!\n"
     ]
    }
   ],
   "source": [
    "phrase = input()\n",
    "print(phrase)"
   ]
  },
  {
   "cell_type": "markdown",
   "id": "c14472d0",
   "metadata": {},
   "source": [
    "### Также можно пригласить пользователя ввести данные"
   ]
  },
  {
   "cell_type": "code",
   "execution_count": 6,
   "id": "bb961f3e",
   "metadata": {},
   "outputs": [
    {
     "name": "stdout",
     "output_type": "stream",
     "text": [
      "Введите строку: Hello, world!\n",
      "Hello, world!\n"
     ]
    }
   ],
   "source": [
    "phrase = input(\"Введите строку: \")\n",
    "print(phrase)"
   ]
  },
  {
   "cell_type": "markdown",
   "id": "b6082273",
   "metadata": {},
   "source": [
    "### Стандарт оформления кода для Python - PEP 8, ему нужно следовать при написании кода для повышения читаемости кода\n",
    "\n",
    "### [PEP-8](https://pythonworld.ru/osnovy/pep-8-rukovodstvo-po-napisaniyu-koda-na-python.html)\n",
    "<br>\n",
    "\n",
    "### Согласно PEP-8, переменные в Python должны содержать маленькие буквы английского алфавита и символ подчеркивания для разделения слов в имени.\n",
    "### Примеры корректных названий переменных:\n",
    "* value\n",
    "* first_value\n",
    "\n",
    "### Также не рекомендуется использовать следующие однобуквенные имена переменных:\n",
    "* I (большая английская буква i)\n",
    "* l (маленькая английская буква L)\n",
    "* O (большая буква O)"
   ]
  },
  {
   "cell_type": "markdown",
   "id": "40df863a",
   "metadata": {},
   "source": [
    "### С помощью print можно выводить несколько значений подряд:"
   ]
  },
  {
   "cell_type": "code",
   "execution_count": 7,
   "id": "d71ea435",
   "metadata": {},
   "outputs": [
    {
     "name": "stdout",
     "output_type": "stream",
     "text": [
      "Hello, USER .\n"
     ]
    }
   ],
   "source": [
    "name = \"USER\"\n",
    "print(\"Hello,\", name, \".\")"
   ]
  },
  {
   "cell_type": "code",
   "execution_count": 8,
   "id": "0cbe2ae9",
   "metadata": {},
   "outputs": [
    {
     "name": "stdout",
     "output_type": "stream",
     "text": [
      "Help on built-in function print in module builtins:\n",
      "\n",
      "print(*args, sep=' ', end='\\n', file=None, flush=False)\n",
      "    Prints the values to a stream, or to sys.stdout by default.\n",
      "    \n",
      "    sep\n",
      "      string inserted between values, default a space.\n",
      "    end\n",
      "      string appended after the last value, default a newline.\n",
      "    file\n",
      "      a file-like object (stream); defaults to the current sys.stdout.\n",
      "    flush\n",
      "      whether to forcibly flush the stream.\n",
      "\n"
     ]
    }
   ],
   "source": [
    "help(print)"
   ]
  },
  {
   "cell_type": "markdown",
   "id": "79d7bb06",
   "metadata": {},
   "source": [
    "### Передав в аругмент sep значение в виде пустой строки получим другой резлуьтат"
   ]
  },
  {
   "cell_type": "code",
   "execution_count": 9,
   "id": "6c7c61ce",
   "metadata": {},
   "outputs": [
    {
     "name": "stdout",
     "output_type": "stream",
     "text": [
      "Hello, USER.\n"
     ]
    }
   ],
   "source": [
    "name = \"USER\"\n",
    "print(\"Hello, \", name, \".\", sep=\"\")"
   ]
  },
  {
   "cell_type": "markdown",
   "id": "dd84471e",
   "metadata": {},
   "source": [
    "# 7. Форматирование"
   ]
  },
  {
   "cell_type": "markdown",
   "id": "566cce35",
   "metadata": {},
   "source": [
    "### Чтобы не заморачиваться с пробелами, можно использовать f-строки"
   ]
  },
  {
   "cell_type": "code",
   "execution_count": 10,
   "id": "021d7615",
   "metadata": {},
   "outputs": [
    {
     "name": "stdout",
     "output_type": "stream",
     "text": [
      "Hello, USER.\n"
     ]
    }
   ],
   "source": [
    "name = \"USER\"\n",
    "print(f\"Hello, {name}.\")"
   ]
  },
  {
   "cell_type": "markdown",
   "id": "26230555",
   "metadata": {},
   "source": [
    "### Еще примеры f-строк"
   ]
  },
  {
   "cell_type": "code",
   "execution_count": 11,
   "id": "5b0a0936",
   "metadata": {},
   "outputs": [
    {
     "name": "stdout",
     "output_type": "stream",
     "text": [
      "000000123\n",
      "123000000\n",
      "000123000\n"
     ]
    }
   ],
   "source": [
    "print(f\"{123:0>9}\")\n",
    "print(f\"{123:0<9}\")\n",
    "print(f\"{123:0^9}\")"
   ]
  },
  {
   "cell_type": "markdown",
   "id": "142703fb",
   "metadata": {},
   "source": [
    "### Есть еще способ форматирования format, подробнее мы его рассмотрим позже, но ниже все равно представим пример"
   ]
  },
  {
   "cell_type": "code",
   "execution_count": 12,
   "id": "c78b4bd5",
   "metadata": {},
   "outputs": [
    {
     "name": "stdout",
     "output_type": "stream",
     "text": [
      "Hello, USER.\n"
     ]
    }
   ],
   "source": [
    "print(\"Hello, {}.\".format(name))"
   ]
  },
  {
   "cell_type": "markdown",
   "id": "b60fa67d",
   "metadata": {},
   "source": [
    "### В строках существует экранирование символов - делать символы частью выводимой строки. Также существуют и управляющие символы.\n",
    "\n",
    "### Примеры управляющих символов:\n",
    "* \\n - перевод строки\n",
    "* \\t - табуляция\n",
    "* \\b - возврат каретки на символ назад\n",
    "* \\r - возврат каретки на начало строки"
   ]
  },
  {
   "cell_type": "markdown",
   "id": "a031d2af",
   "metadata": {},
   "source": [
    "### Пример экранирования"
   ]
  },
  {
   "cell_type": "code",
   "execution_count": 15,
   "id": "bf38e54e",
   "metadata": {},
   "outputs": [
    {
     "name": "stdout",
     "output_type": "stream",
     "text": [
      "\\\n"
     ]
    }
   ],
   "source": [
    "print(\"\\\\\")"
   ]
  },
  {
   "cell_type": "code",
   "execution_count": 16,
   "id": "571c30ab",
   "metadata": {},
   "outputs": [
    {
     "name": "stdout",
     "output_type": "stream",
     "text": [
      "\\t \\n \"\n"
     ]
    }
   ],
   "source": [
    "print(\"\\\\t \\\\n \\\"\")"
   ]
  },
  {
   "cell_type": "markdown",
   "id": "0e1f64d3",
   "metadata": {},
   "source": [
    "### Пример управляющего символа"
   ]
  },
  {
   "cell_type": "code",
   "execution_count": 17,
   "id": "89f071a6",
   "metadata": {},
   "outputs": [
    {
     "name": "stdout",
     "output_type": "stream",
     "text": [
      "Today \t is a \n",
      "day\n"
     ]
    }
   ],
   "source": [
    "print(\"Today \\t is a \\nday\")"
   ]
  },
  {
   "cell_type": "code",
   "execution_count": 18,
   "id": "4b3d1537",
   "metadata": {},
   "outputs": [
    {
     "name": "stdout",
     "output_type": "stream",
     "text": [
      "Now i will return but \bo\n"
     ]
    }
   ],
   "source": [
    "print(\"Now i will return but \\bo\")"
   ]
  },
  {
   "cell_type": "code",
   "execution_count": 19,
   "id": "034f4b6e",
   "metadata": {},
   "outputs": [
    {
     "name": "stdout",
     "output_type": "stream",
     "text": [
      "Now i will return but \r",
      "H\n"
     ]
    }
   ],
   "source": [
    "print(\"Now i will return but \\rH\")"
   ]
  },
  {
   "cell_type": "markdown",
   "id": "305d9926",
   "metadata": {},
   "source": [
    "# 8. Основные действия со строками\n",
    "\n",
    "### К основным относят:\n",
    "* Сложение\n",
    "* Умножение на число\n",
    "\n",
    "P.S. Это далеко не все возможности, просто здесь мы посмотрим на простейшие"
   ]
  },
  {
   "cell_type": "markdown",
   "id": "f4bafcfa",
   "metadata": {},
   "source": [
    "### Результатом сложения строк будет новая строка"
   ]
  },
  {
   "cell_type": "code",
   "execution_count": 20,
   "id": "f046c3f9",
   "metadata": {},
   "outputs": [
    {
     "name": "stdout",
     "output_type": "stream",
     "text": [
      "Сложноподчинённый\n"
     ]
    }
   ],
   "source": [
    "print(\"Сложно\" + \"подчинённый\")"
   ]
  },
  {
   "cell_type": "markdown",
   "id": "b2f26212",
   "metadata": {},
   "source": [
    "### Результатом умножения строки на число N будет строка, повторенная N раз"
   ]
  },
  {
   "cell_type": "code",
   "execution_count": 21,
   "id": "dba152b8",
   "metadata": {},
   "outputs": [
    {
     "name": "stdout",
     "output_type": "stream",
     "text": [
      "---\n"
     ]
    }
   ],
   "source": [
    "print(\"-\" * 3)"
   ]
  },
  {
   "cell_type": "code",
   "execution_count": 22,
   "id": "a3ab876d",
   "metadata": {},
   "outputs": [
    {
     "name": "stdout",
     "output_type": "stream",
     "text": [
      "IsIsIsIs\n"
     ]
    }
   ],
   "source": [
    "print(\"Is\" * 4)"
   ]
  },
  {
   "cell_type": "code",
   "execution_count": 23,
   "id": "21df8198",
   "metadata": {},
   "outputs": [
    {
     "ename": "TypeError",
     "evalue": "can't multiply sequence by non-int of type 'float'",
     "output_type": "error",
     "traceback": [
      "\u001b[0;31m---------------------------------------------------------------------------\u001b[0m",
      "\u001b[0;31mTypeError\u001b[0m                                 Traceback (most recent call last)",
      "Cell \u001b[0;32mIn[23], line 1\u001b[0m\n\u001b[0;32m----> 1\u001b[0m \u001b[38;5;28mprint\u001b[39m(\u001b[38;5;124;43m\"\u001b[39;49m\u001b[38;5;124;43mIs\u001b[39;49m\u001b[38;5;124;43m\"\u001b[39;49m\u001b[43m \u001b[49m\u001b[38;5;241;43m*\u001b[39;49m\u001b[43m \u001b[49m\u001b[38;5;241;43m2.5\u001b[39;49m)\n",
      "\u001b[0;31mTypeError\u001b[0m: can't multiply sequence by non-int of type 'float'"
     ]
    }
   ],
   "source": [
    "print(\"Is\" * 2.5)"
   ]
  },
  {
   "cell_type": "markdown",
   "id": "19451c95",
   "metadata": {},
   "source": [
    "# 9. Основные действия с числами"
   ]
  },
  {
   "cell_type": "markdown",
   "id": "4104ba8a",
   "metadata": {},
   "source": [
    "### Создание целочисленной переменной int"
   ]
  },
  {
   "cell_type": "code",
   "execution_count": 25,
   "id": "04bbe884",
   "metadata": {},
   "outputs": [
    {
     "data": {
      "text/plain": [
       "int"
      ]
     },
     "execution_count": 25,
     "metadata": {},
     "output_type": "execute_result"
    }
   ],
   "source": [
    "n = 10\n",
    "\n",
    "n\n",
    "type(n)"
   ]
  },
  {
   "cell_type": "markdown",
   "id": "6435b860",
   "metadata": {},
   "source": [
    "### Создание вещественной переменной float"
   ]
  },
  {
   "cell_type": "code",
   "execution_count": 28,
   "id": "2e1d7586",
   "metadata": {},
   "outputs": [
    {
     "data": {
      "text/plain": [
       "float"
      ]
     },
     "execution_count": 28,
     "metadata": {},
     "output_type": "execute_result"
    }
   ],
   "source": [
    "f = 1.103\n",
    "g = 1.\n",
    "\n",
    "f\n",
    "type(g)"
   ]
  },
  {
   "cell_type": "markdown",
   "id": "0b3df811",
   "metadata": {},
   "source": [
    "### Преобразование типов\n",
    "\n",
    "### > int()\n",
    "### > float()\n",
    "### > str()"
   ]
  },
  {
   "cell_type": "code",
   "execution_count": 31,
   "id": "ac0a42ba",
   "metadata": {},
   "outputs": [
    {
     "data": {
      "text/plain": [
       "10"
      ]
     },
     "execution_count": 31,
     "metadata": {},
     "output_type": "execute_result"
    }
   ],
   "source": [
    "int(\"10\")"
   ]
  },
  {
   "cell_type": "code",
   "execution_count": 32,
   "id": "c1bea581",
   "metadata": {},
   "outputs": [
    {
     "ename": "ValueError",
     "evalue": "invalid literal for int() with base 10: '10.1'",
     "output_type": "error",
     "traceback": [
      "\u001b[0;31m---------------------------------------------------------------------------\u001b[0m",
      "\u001b[0;31mValueError\u001b[0m                                Traceback (most recent call last)",
      "Cell \u001b[0;32mIn[32], line 1\u001b[0m\n\u001b[0;32m----> 1\u001b[0m \u001b[38;5;28;43mint\u001b[39;49m\u001b[43m(\u001b[49m\u001b[38;5;124;43m\"\u001b[39;49m\u001b[38;5;124;43m10.1\u001b[39;49m\u001b[38;5;124;43m\"\u001b[39;49m\u001b[43m)\u001b[49m\n",
      "\u001b[0;31mValueError\u001b[0m: invalid literal for int() with base 10: '10.1'"
     ]
    }
   ],
   "source": [
    "int(\"10.1\")"
   ]
  },
  {
   "cell_type": "code",
   "execution_count": 35,
   "id": "9ddec5cf",
   "metadata": {},
   "outputs": [
    {
     "data": {
      "text/plain": [
       "9"
      ]
     },
     "execution_count": 35,
     "metadata": {},
     "output_type": "execute_result"
    }
   ],
   "source": [
    "int(9.1)"
   ]
  },
  {
   "cell_type": "code",
   "execution_count": 36,
   "id": "841641b7",
   "metadata": {},
   "outputs": [
    {
     "data": {
      "text/plain": [
       "9"
      ]
     },
     "execution_count": 36,
     "metadata": {},
     "output_type": "execute_result"
    }
   ],
   "source": [
    "int(9.6)"
   ]
  },
  {
   "cell_type": "code",
   "execution_count": 33,
   "id": "a19b9c84",
   "metadata": {},
   "outputs": [
    {
     "data": {
      "text/plain": [
       "10.1"
      ]
     },
     "execution_count": 33,
     "metadata": {},
     "output_type": "execute_result"
    }
   ],
   "source": [
    "float(\"10.1\")"
   ]
  },
  {
   "cell_type": "code",
   "execution_count": 34,
   "id": "4c3c9dfe",
   "metadata": {},
   "outputs": [
    {
     "data": {
      "text/plain": [
       "10.0"
      ]
     },
     "execution_count": 34,
     "metadata": {},
     "output_type": "execute_result"
    }
   ],
   "source": [
    "float(10)"
   ]
  },
  {
   "cell_type": "code",
   "execution_count": 37,
   "id": "4034f21d",
   "metadata": {},
   "outputs": [
    {
     "data": {
      "text/plain": [
       "'10'"
      ]
     },
     "execution_count": 37,
     "metadata": {},
     "output_type": "execute_result"
    }
   ],
   "source": [
    "str(10)"
   ]
  },
  {
   "cell_type": "code",
   "execution_count": 38,
   "id": "0fd37437",
   "metadata": {},
   "outputs": [
    {
     "data": {
      "text/plain": [
       "'10.1'"
      ]
     },
     "execution_count": 38,
     "metadata": {},
     "output_type": "execute_result"
    }
   ],
   "source": [
    "str(10.1)"
   ]
  },
  {
   "cell_type": "code",
   "execution_count": 39,
   "id": "d6890d0d",
   "metadata": {},
   "outputs": [
    {
     "name": "stdout",
     "output_type": "stream",
     "text": [
      "12\n",
      "3\n"
     ]
    }
   ],
   "source": [
    "n_1 = \"1\"\n",
    "n_2 = \"2\"\n",
    "print(n_1 + n_2)\n",
    "n_1 = int(n_1)\n",
    "n_2 = int(n_2)\n",
    "print(n_1 + n_2)"
   ]
  },
  {
   "cell_type": "markdown",
   "id": "3c32b56c",
   "metadata": {},
   "source": [
    "### Числовые операции:\n",
    "* Сложение a + b\n",
    "* Вычитание a - b\n",
    "* Умножение a * b\n",
    "* Деление a / b\n",
    "* Целочисленное деление a // b\n",
    "* Возведение в степень a ** b\n",
    "* Получение остатка a % b"
   ]
  },
  {
   "cell_type": "code",
   "execution_count": 40,
   "id": "00dc5d7d",
   "metadata": {},
   "outputs": [
    {
     "name": "stdout",
     "output_type": "stream",
     "text": [
      "14.0\n",
      "6.0\n",
      "40.0\n",
      "2.5\n",
      "2.0\n",
      "10000.0\n",
      "2.0\n"
     ]
    }
   ],
   "source": [
    "n = 10\n",
    "x = 4.\n",
    "\n",
    "print(n + x)\n",
    "print(n - x)\n",
    "print(n * x)\n",
    "print(n / x)\n",
    "print(n // x)\n",
    "print(n ** x)\n",
    "print(n % x)"
   ]
  },
  {
   "cell_type": "code",
   "execution_count": 41,
   "id": "2e09edf3",
   "metadata": {},
   "outputs": [
    {
     "name": "stdout",
     "output_type": "stream",
     "text": [
      "14\n",
      "6\n",
      "40\n",
      "2.5\n",
      "2\n",
      "10000\n",
      "2\n"
     ]
    }
   ],
   "source": [
    "n = 10\n",
    "x = 4\n",
    "\n",
    "print(n + x)\n",
    "print(n - x)\n",
    "print(n * x)\n",
    "print(n / x)\n",
    "print(n // x)\n",
    "print(n ** x)\n",
    "print(n % x)"
   ]
  },
  {
   "cell_type": "markdown",
   "id": "a484b475",
   "metadata": {},
   "source": [
    "### Округление чисел"
   ]
  },
  {
   "cell_type": "code",
   "execution_count": 42,
   "id": "20d591da",
   "metadata": {},
   "outputs": [
    {
     "name": "stdout",
     "output_type": "stream",
     "text": [
      "1.4142135623730951\n"
     ]
    }
   ],
   "source": [
    "print(2 ** 0.5)"
   ]
  },
  {
   "cell_type": "code",
   "execution_count": 43,
   "id": "9a1a36e5",
   "metadata": {},
   "outputs": [
    {
     "name": "stdout",
     "output_type": "stream",
     "text": [
      "1.41\n"
     ]
    }
   ],
   "source": [
    "print(f\"{2 ** 0.5:.2f}\")"
   ]
  },
  {
   "cell_type": "code",
   "execution_count": 44,
   "id": "94794134",
   "metadata": {},
   "outputs": [
    {
     "data": {
      "text/plain": [
       "1"
      ]
     },
     "execution_count": 44,
     "metadata": {},
     "output_type": "execute_result"
    }
   ],
   "source": [
    "round(2 ** 0.5)"
   ]
  },
  {
   "cell_type": "code",
   "execution_count": 45,
   "id": "77f59d87",
   "metadata": {},
   "outputs": [
    {
     "data": {
      "text/plain": [
       "0"
      ]
     },
     "execution_count": 45,
     "metadata": {},
     "output_type": "execute_result"
    }
   ],
   "source": [
    "round(0.5)"
   ]
  },
  {
   "cell_type": "code",
   "execution_count": 46,
   "id": "ded26478",
   "metadata": {},
   "outputs": [
    {
     "data": {
      "text/plain": [
       "1"
      ]
     },
     "execution_count": 46,
     "metadata": {},
     "output_type": "execute_result"
    }
   ],
   "source": [
    "round(0.51)"
   ]
  },
  {
   "cell_type": "code",
   "execution_count": 47,
   "id": "cfd2594d",
   "metadata": {},
   "outputs": [],
   "source": [
    "from math import floor, ceil"
   ]
  },
  {
   "cell_type": "code",
   "execution_count": 48,
   "id": "d157a631",
   "metadata": {},
   "outputs": [
    {
     "data": {
      "text/plain": [
       "0"
      ]
     },
     "execution_count": 48,
     "metadata": {},
     "output_type": "execute_result"
    }
   ],
   "source": [
    "floor(0.4)"
   ]
  },
  {
   "cell_type": "code",
   "execution_count": 49,
   "id": "a39255c3",
   "metadata": {},
   "outputs": [
    {
     "data": {
      "text/plain": [
       "0"
      ]
     },
     "execution_count": 49,
     "metadata": {},
     "output_type": "execute_result"
    }
   ],
   "source": [
    "floor(0.5)"
   ]
  },
  {
   "cell_type": "code",
   "execution_count": 50,
   "id": "23685f57",
   "metadata": {},
   "outputs": [
    {
     "data": {
      "text/plain": [
       "0"
      ]
     },
     "execution_count": 50,
     "metadata": {},
     "output_type": "execute_result"
    }
   ],
   "source": [
    "floor(0.51)"
   ]
  },
  {
   "cell_type": "code",
   "execution_count": 51,
   "id": "24a8f53b",
   "metadata": {},
   "outputs": [
    {
     "data": {
      "text/plain": [
       "1"
      ]
     },
     "execution_count": 51,
     "metadata": {},
     "output_type": "execute_result"
    }
   ],
   "source": [
    "ceil(0.4)"
   ]
  },
  {
   "cell_type": "code",
   "execution_count": 52,
   "id": "42db7160",
   "metadata": {},
   "outputs": [
    {
     "data": {
      "text/plain": [
       "1"
      ]
     },
     "execution_count": 52,
     "metadata": {},
     "output_type": "execute_result"
    }
   ],
   "source": [
    "ceil(0.5)"
   ]
  },
  {
   "cell_type": "code",
   "execution_count": 53,
   "id": "f65e6fa2",
   "metadata": {},
   "outputs": [
    {
     "data": {
      "text/plain": [
       "1"
      ]
     },
     "execution_count": 53,
     "metadata": {},
     "output_type": "execute_result"
    }
   ],
   "source": [
    "ceil(0.51)"
   ]
  },
  {
   "cell_type": "markdown",
   "id": "6a606d5e",
   "metadata": {},
   "source": [
    "# 10. Условный оператор"
   ]
  },
  {
   "cell_type": "code",
   "execution_count": 54,
   "id": "2149e924",
   "metadata": {},
   "outputs": [
    {
     "name": "stdout",
     "output_type": "stream",
     "text": [
      "Введите вчерашнюю температуру 10\n",
      "Введите сегодняшнюю температуру 12\n",
      "Сегодня теплее, чем вчера.\n",
      "Ура, я здесь\n"
     ]
    }
   ],
   "source": [
    "yesterday_temp = int(input(\"Введите вчерашнюю температуру \"))\n",
    "today_temp = int(input(\"Введите сегодняшнюю температуру \"))\n",
    "if today_temp > yesterday_temp:\n",
    "    print(\"Сегодня теплее, чем вчера.\")\n",
    "    print(\"Ура, я здесь\")\n",
    "elif today_temp < yesterday_temp:\n",
    "    print(\"Сегодня холоднее, чем вчера.\")\n",
    "else:\n",
    "    print(\"Сегодня такая же температура, как вчера.\")"
   ]
  },
  {
   "cell_type": "markdown",
   "id": "04b32ff0",
   "metadata": {},
   "source": [
    "### Операции для получения результатов сравнения:\n",
    "* \\> - больше\n",
    "* \\< - меньше\n",
    "* \\<= - меньше равно\n",
    "* \\>= - больше равно\n",
    "* == - равно\n",
    "* != - не равно\n",
    "\n",
    "### Логические операции:\n",
    "* and\n",
    "* or\n",
    "* not\n",
    "\n",
    "![](src/table.png)"
   ]
  },
  {
   "cell_type": "code",
   "execution_count": 56,
   "id": "751846ce",
   "metadata": {},
   "outputs": [
    {
     "name": "stdout",
     "output_type": "stream",
     "text": [
      "Введите первую и последнюю буквы русского алфавита.\n",
      "вы\n",
      "выф\n",
      "Неверно.\n"
     ]
    }
   ],
   "source": [
    "print(\"Введите первую и последнюю буквы русского алфавита.\")\n",
    "first_letter = input()\n",
    "last_letter = input()\n",
    "if (first_letter == \"а\" or first_letter == \"А\") and (\n",
    "        last_letter == \"я\" or last_letter == \"Я\"):\n",
    "    print(\"Верно.\")\n",
    "else:\n",
    "    print(\"Неверно.\")"
   ]
  },
  {
   "cell_type": "markdown",
   "id": "6c0ce5bd",
   "metadata": {},
   "source": [
    "### Также в условии можно использовать двойное неравенство"
   ]
  },
  {
   "cell_type": "code",
   "execution_count": 57,
   "id": "9d0fb3d1",
   "metadata": {},
   "outputs": [
    {
     "data": {
      "text/plain": [
       "True"
      ]
     },
     "execution_count": 57,
     "metadata": {},
     "output_type": "execute_result"
    }
   ],
   "source": [
    "10 <= 15 <= 20"
   ]
  },
  {
   "cell_type": "code",
   "execution_count": 58,
   "id": "769ce89e",
   "metadata": {},
   "outputs": [
    {
     "data": {
      "text/plain": [
       "False"
      ]
     },
     "execution_count": 58,
     "metadata": {},
     "output_type": "execute_result"
    }
   ],
   "source": [
    "10 <= 22 <= 20"
   ]
  },
  {
   "cell_type": "markdown",
   "id": "0ad005b2",
   "metadata": {},
   "source": [
    "### При сравнении символов будут сравниваться их коды"
   ]
  },
  {
   "cell_type": "code",
   "execution_count": 59,
   "id": "275e419c",
   "metadata": {},
   "outputs": [
    {
     "data": {
      "text/plain": [
       "(116, 119)"
      ]
     },
     "execution_count": 59,
     "metadata": {},
     "output_type": "execute_result"
    }
   ],
   "source": [
    "ord('t'), ord('w')"
   ]
  },
  {
   "cell_type": "code",
   "execution_count": 60,
   "id": "c43a7a5f",
   "metadata": {},
   "outputs": [
    {
     "name": "stdout",
     "output_type": "stream",
     "text": [
      "False\n"
     ]
    }
   ],
   "source": [
    "letter_1 = \"t\"\n",
    "letter_2 = \"w\"\n",
    "print(letter_1 > letter_2)"
   ]
  },
  {
   "cell_type": "code",
   "execution_count": 61,
   "id": "51c4c74e",
   "metadata": {},
   "outputs": [
    {
     "data": {
      "text/plain": [
       "('t', 'w')"
      ]
     },
     "execution_count": 61,
     "metadata": {},
     "output_type": "execute_result"
    }
   ],
   "source": [
    "chr(116), chr(119)"
   ]
  },
  {
   "cell_type": "markdown",
   "id": "ebeed46c",
   "metadata": {},
   "source": [
    "### Для проверки наличия подстроки в строке используют in"
   ]
  },
  {
   "cell_type": "code",
   "execution_count": 63,
   "id": "055d5571",
   "metadata": {},
   "outputs": [
    {
     "name": "stdout",
     "output_type": "stream",
     "text": [
      "добро\n",
      "Встретилось 'доброе' слово.\n"
     ]
    }
   ],
   "source": [
    "text = input()\n",
    "if \"добр\" in text:\n",
    "    print(\"Встретилось 'доброе' слово.\")\n",
    "else:\n",
    "    print(\"Добрых слов не найдено.\")"
   ]
  },
  {
   "cell_type": "markdown",
   "id": "6173d1ca",
   "metadata": {},
   "source": [
    "### В Python3.10 появился аналог switch, теперь можно пользоваться и им"
   ]
  },
  {
   "cell_type": "code",
   "execution_count": 66,
   "id": "537e6df4",
   "metadata": {},
   "outputs": [
    {
     "name": "stdout",
     "output_type": "stream",
     "text": [
      "вфавф\n",
      "Некорректное значение.\n"
     ]
    }
   ],
   "source": [
    "color = input()\n",
    "match color:\n",
    "    case 'красный' | 'жёлтый':\n",
    "        print('Стоп.')\n",
    "    case 'зелёный':\n",
    "        print('Можно ехать.')\n",
    "    case _:\n",
    "        print('Некорректное значение.')"
   ]
  },
  {
   "cell_type": "markdown",
   "id": "bab00685",
   "metadata": {},
   "source": [
    "# 11. Циклы"
   ]
  },
  {
   "cell_type": "markdown",
   "id": "3ab66cf4",
   "metadata": {},
   "source": [
    "### Пример простейшего цикла"
   ]
  },
  {
   "cell_type": "code",
   "execution_count": 67,
   "id": "60519207",
   "metadata": {},
   "outputs": [
    {
     "name": "stdout",
     "output_type": "stream",
     "text": [
      "Введите пароль для входа: авыавыа\n",
      "Введите пароль для входа: вффы\n",
      "Введите пароль для входа: ывфыв\n",
      "Введите пароль для входа: right_password\n",
      "Пароль верный. Вход разрешён.\n"
     ]
    }
   ],
   "source": [
    "saved_pwd = \"right_password\"\n",
    "pwd = input(\"Введите пароль для входа: \")\n",
    "while pwd != saved_pwd:\n",
    "    pwd = input(\"Введите пароль для входа: \")\n",
    "print(\"Пароль верный. Вход разрешён.\")"
   ]
  },
  {
   "cell_type": "markdown",
   "id": "c1a1e5d6",
   "metadata": {},
   "source": [
    "### Можно было не использовать переменную pwd"
   ]
  },
  {
   "cell_type": "code",
   "execution_count": 68,
   "id": "ac98248f",
   "metadata": {},
   "outputs": [
    {
     "name": "stdout",
     "output_type": "stream",
     "text": [
      "Введите пароль для входа: аыввыаыв\n",
      "Введите пароль для входа: ваыва\n",
      "Введите пароль для входа: right_password\n",
      "Пароль верный. Вход разрешён.\n"
     ]
    }
   ],
   "source": [
    "saved_pwd = \"right_password\"\n",
    "while input(\"Введите пароль для входа: \") != saved_pwd:\n",
    "    pass\n",
    "print(\"Пароль верный. Вход разрешён.\")"
   ]
  },
  {
   "cell_type": "markdown",
   "id": "b945550a",
   "metadata": {},
   "source": [
    "### Напишем программу, которая будет здороваться со всеми"
   ]
  },
  {
   "cell_type": "code",
   "execution_count": 69,
   "id": "8433b9f5",
   "metadata": {},
   "outputs": [
    {
     "name": "stdout",
     "output_type": "stream",
     "text": [
      "Введите имя: Алина\n",
      "Привет, Алина!\n",
      "Введите имя: Михаил\n",
      "Привет, Михаил!\n",
      "Введите имя: СТОп\n",
      "Привет, СТОп!\n",
      "Введите имя: СТОП\n",
      "Программа завершена.\n"
     ]
    }
   ],
   "source": [
    "name = input(\"Введите имя: \")\n",
    "while name != \"СТОП\":\n",
    "    print(f\"Привет, {name}!\")\n",
    "    name = input(\"Введите имя: \")\n",
    "print(\"Программа завершена.\")"
   ]
  },
  {
   "cell_type": "markdown",
   "id": "4702d1b8",
   "metadata": {},
   "source": [
    "### Используем моржовый оператор и перепишем"
   ]
  },
  {
   "cell_type": "code",
   "execution_count": 70,
   "id": "11d8351c",
   "metadata": {},
   "outputs": [
    {
     "name": "stdout",
     "output_type": "stream",
     "text": [
      "Введите имя: Алина\n",
      "Привет, Алина!\n",
      "Введите имя: Михаил\n",
      "Привет, Михаил!\n",
      "Введите имя: СТОП\n",
      "Программа завершена.\n"
     ]
    }
   ],
   "source": [
    "while (name := input(\"Введите имя: \")) != \"СТОП\":\n",
    "    print(f\"Привет, {name}!\")\n",
    "print(\"Программа завершена.\")"
   ]
  },
  {
   "cell_type": "markdown",
   "id": "9d75ee84",
   "metadata": {},
   "source": [
    "### Выведем числа от 0 до n - 1"
   ]
  },
  {
   "cell_type": "code",
   "execution_count": 76,
   "id": "40f9d6ca",
   "metadata": {},
   "outputs": [
    {
     "name": "stdout",
     "output_type": "stream",
     "text": [
      "Введите количество чисел: 19\n",
      "14\n",
      "16\n",
      "18\n"
     ]
    }
   ],
   "source": [
    "n = int(input(\"Введите количество чисел: \"))\n",
    "for i in range(n - 5, n, 2):\n",
    "    print(i)"
   ]
  },
  {
   "cell_type": "code",
   "execution_count": 73,
   "id": "97fb0f4d",
   "metadata": {},
   "outputs": [
    {
     "data": {
      "text/plain": [
       "range(0, 5, 2)"
      ]
     },
     "execution_count": 73,
     "metadata": {},
     "output_type": "execute_result"
    }
   ],
   "source": [
    "range(0, 5, 2)"
   ]
  },
  {
   "cell_type": "markdown",
   "id": "6ada905b",
   "metadata": {},
   "source": [
    "### Выведем числа в заданном диапазоне"
   ]
  },
  {
   "cell_type": "code",
   "execution_count": 77,
   "id": "51fdb532",
   "metadata": {},
   "outputs": [
    {
     "name": "stdout",
     "output_type": "stream",
     "text": [
      "Введите начало диапазона: 5\n",
      "Введите конец (без включения) диапазона: 19\n",
      "5\n",
      "6\n",
      "7\n",
      "8\n",
      "9\n",
      "10\n",
      "11\n",
      "12\n",
      "13\n",
      "14\n",
      "15\n",
      "16\n",
      "17\n",
      "18\n"
     ]
    }
   ],
   "source": [
    "k = int(input(\"Введите начало диапазона: \"))\n",
    "n = int(input(\"Введите конец (без включения) диапазона: \"))\n",
    "for i in range(k, n):\n",
    "    print(i)"
   ]
  },
  {
   "cell_type": "markdown",
   "id": "1f3d2e3c",
   "metadata": {},
   "source": [
    "### Выведем числа, включая конец диапазона"
   ]
  },
  {
   "cell_type": "code",
   "execution_count": 79,
   "id": "46d72769",
   "metadata": {},
   "outputs": [
    {
     "name": "stdout",
     "output_type": "stream",
     "text": [
      "Введите конец диапазона: 5\n",
      "0\n",
      "1\n",
      "2\n",
      "3\n",
      "4\n",
      "5\n"
     ]
    }
   ],
   "source": [
    "n = int(input(\"Введите конец диапазона: \"))\n",
    "for i in range(0, n + 1):\n",
    "    print(i)"
   ]
  },
  {
   "cell_type": "markdown",
   "id": "3bedad32",
   "metadata": {},
   "source": [
    "### Выведем числа с конца до 0"
   ]
  },
  {
   "cell_type": "code",
   "execution_count": 80,
   "id": "52a77bc0",
   "metadata": {},
   "outputs": [
    {
     "name": "stdout",
     "output_type": "stream",
     "text": [
      "Введите количество чисел: 19\n",
      "19\n",
      "18\n",
      "17\n",
      "16\n",
      "15\n",
      "14\n",
      "13\n",
      "12\n",
      "11\n",
      "10\n",
      "9\n",
      "8\n",
      "7\n",
      "6\n",
      "5\n",
      "4\n",
      "3\n",
      "2\n",
      "1\n",
      "0\n"
     ]
    }
   ],
   "source": [
    "n = int(input(\"Введите количество чисел: \"))\n",
    "for i in range(n, -1, -1):\n",
    "    print(i)"
   ]
  },
  {
   "cell_type": "markdown",
   "id": "2e7aa1d5",
   "metadata": {},
   "source": [
    "### Что будет, если изменить i в цикле"
   ]
  },
  {
   "cell_type": "code",
   "execution_count": 81,
   "id": "459aff2c",
   "metadata": {},
   "outputs": [
    {
     "name": "stdout",
     "output_type": "stream",
     "text": [
      "Введите n: 5\n",
      "0\n",
      "1\n",
      "2\n",
      "3\n",
      "4\n"
     ]
    }
   ],
   "source": [
    "n = int(input(\"Введите n: \"))\n",
    "for i in range(n):\n",
    "    print(i)\n",
    "    i = 100"
   ]
  },
  {
   "cell_type": "markdown",
   "id": "61f406cd",
   "metadata": {},
   "source": [
    "# 12. Вложенные циклы"
   ]
  },
  {
   "cell_type": "markdown",
   "id": "4e51421b",
   "metadata": {},
   "source": [
    "### Допустим, нам надо вывести все возможные комбинации строчных букв английского алфавита"
   ]
  },
  {
   "cell_type": "code",
   "execution_count": 82,
   "id": "9e5c79ca",
   "metadata": {},
   "outputs": [
    {
     "name": "stdout",
     "output_type": "stream",
     "text": [
      "aa\n",
      "ab\n",
      "ac\n",
      "ad\n",
      "ae\n",
      "af\n",
      "ag\n",
      "ah\n",
      "ai\n",
      "aj\n",
      "ak\n",
      "al\n",
      "am\n",
      "an\n",
      "ao\n",
      "ap\n",
      "aq\n",
      "ar\n",
      "as\n",
      "at\n",
      "au\n",
      "av\n",
      "aw\n",
      "ax\n",
      "ay\n",
      "az\n",
      "ba\n",
      "bb\n",
      "bc\n",
      "bd\n",
      "be\n",
      "bf\n",
      "bg\n",
      "bh\n",
      "bi\n",
      "bj\n",
      "bk\n",
      "bl\n",
      "bm\n",
      "bn\n",
      "bo\n",
      "bp\n",
      "bq\n",
      "br\n",
      "bs\n",
      "bt\n",
      "bu\n",
      "bv\n",
      "bw\n",
      "bx\n",
      "by\n",
      "bz\n",
      "ca\n",
      "cb\n",
      "cc\n",
      "cd\n",
      "ce\n",
      "cf\n",
      "cg\n",
      "ch\n",
      "ci\n",
      "cj\n",
      "ck\n",
      "cl\n",
      "cm\n",
      "cn\n",
      "co\n",
      "cp\n",
      "cq\n",
      "cr\n",
      "cs\n",
      "ct\n",
      "cu\n",
      "cv\n",
      "cw\n",
      "cx\n",
      "cy\n",
      "cz\n",
      "da\n",
      "db\n",
      "dc\n",
      "dd\n",
      "de\n",
      "df\n",
      "dg\n",
      "dh\n",
      "di\n",
      "dj\n",
      "dk\n",
      "dl\n",
      "dm\n",
      "dn\n",
      "do\n",
      "dp\n",
      "dq\n",
      "dr\n",
      "ds\n",
      "dt\n",
      "du\n",
      "dv\n",
      "dw\n",
      "dx\n",
      "dy\n",
      "dz\n",
      "ea\n",
      "eb\n",
      "ec\n",
      "ed\n",
      "ee\n",
      "ef\n",
      "eg\n",
      "eh\n",
      "ei\n",
      "ej\n",
      "ek\n",
      "el\n",
      "em\n",
      "en\n",
      "eo\n",
      "ep\n",
      "eq\n",
      "er\n",
      "es\n",
      "et\n",
      "eu\n",
      "ev\n",
      "ew\n",
      "ex\n",
      "ey\n",
      "ez\n",
      "fa\n",
      "fb\n",
      "fc\n",
      "fd\n",
      "fe\n",
      "ff\n",
      "fg\n",
      "fh\n",
      "fi\n",
      "fj\n",
      "fk\n",
      "fl\n",
      "fm\n",
      "fn\n",
      "fo\n",
      "fp\n",
      "fq\n",
      "fr\n",
      "fs\n",
      "ft\n",
      "fu\n",
      "fv\n",
      "fw\n",
      "fx\n",
      "fy\n",
      "fz\n",
      "ga\n",
      "gb\n",
      "gc\n",
      "gd\n",
      "ge\n",
      "gf\n",
      "gg\n",
      "gh\n",
      "gi\n",
      "gj\n",
      "gk\n",
      "gl\n",
      "gm\n",
      "gn\n",
      "go\n",
      "gp\n",
      "gq\n",
      "gr\n",
      "gs\n",
      "gt\n",
      "gu\n",
      "gv\n",
      "gw\n",
      "gx\n",
      "gy\n",
      "gz\n",
      "ha\n",
      "hb\n",
      "hc\n",
      "hd\n",
      "he\n",
      "hf\n",
      "hg\n",
      "hh\n",
      "hi\n",
      "hj\n",
      "hk\n",
      "hl\n",
      "hm\n",
      "hn\n",
      "ho\n",
      "hp\n",
      "hq\n",
      "hr\n",
      "hs\n",
      "ht\n",
      "hu\n",
      "hv\n",
      "hw\n",
      "hx\n",
      "hy\n",
      "hz\n",
      "ia\n",
      "ib\n",
      "ic\n",
      "id\n",
      "ie\n",
      "if\n",
      "ig\n",
      "ih\n",
      "ii\n",
      "ij\n",
      "ik\n",
      "il\n",
      "im\n",
      "in\n",
      "io\n",
      "ip\n",
      "iq\n",
      "ir\n",
      "is\n",
      "it\n",
      "iu\n",
      "iv\n",
      "iw\n",
      "ix\n",
      "iy\n",
      "iz\n",
      "ja\n",
      "jb\n",
      "jc\n",
      "jd\n",
      "je\n",
      "jf\n",
      "jg\n",
      "jh\n",
      "ji\n",
      "jj\n",
      "jk\n",
      "jl\n",
      "jm\n",
      "jn\n",
      "jo\n",
      "jp\n",
      "jq\n",
      "jr\n",
      "js\n",
      "jt\n",
      "ju\n",
      "jv\n",
      "jw\n",
      "jx\n",
      "jy\n",
      "jz\n",
      "ka\n",
      "kb\n",
      "kc\n",
      "kd\n",
      "ke\n",
      "kf\n",
      "kg\n",
      "kh\n",
      "ki\n",
      "kj\n",
      "kk\n",
      "kl\n",
      "km\n",
      "kn\n",
      "ko\n",
      "kp\n",
      "kq\n",
      "kr\n",
      "ks\n",
      "kt\n",
      "ku\n",
      "kv\n",
      "kw\n",
      "kx\n",
      "ky\n",
      "kz\n",
      "la\n",
      "lb\n",
      "lc\n",
      "ld\n",
      "le\n",
      "lf\n",
      "lg\n",
      "lh\n",
      "li\n",
      "lj\n",
      "lk\n",
      "ll\n",
      "lm\n",
      "ln\n",
      "lo\n",
      "lp\n",
      "lq\n",
      "lr\n",
      "ls\n",
      "lt\n",
      "lu\n",
      "lv\n",
      "lw\n",
      "lx\n",
      "ly\n",
      "lz\n",
      "ma\n",
      "mb\n",
      "mc\n",
      "md\n",
      "me\n",
      "mf\n",
      "mg\n",
      "mh\n",
      "mi\n",
      "mj\n",
      "mk\n",
      "ml\n",
      "mm\n",
      "mn\n",
      "mo\n",
      "mp\n",
      "mq\n",
      "mr\n",
      "ms\n",
      "mt\n",
      "mu\n",
      "mv\n",
      "mw\n",
      "mx\n",
      "my\n",
      "mz\n",
      "na\n",
      "nb\n",
      "nc\n",
      "nd\n",
      "ne\n",
      "nf\n",
      "ng\n",
      "nh\n",
      "ni\n",
      "nj\n",
      "nk\n",
      "nl\n",
      "nm\n",
      "nn\n",
      "no\n",
      "np\n",
      "nq\n",
      "nr\n",
      "ns\n",
      "nt\n",
      "nu\n",
      "nv\n",
      "nw\n",
      "nx\n",
      "ny\n",
      "nz\n",
      "oa\n",
      "ob\n",
      "oc\n",
      "od\n",
      "oe\n",
      "of\n",
      "og\n",
      "oh\n",
      "oi\n",
      "oj\n",
      "ok\n",
      "ol\n",
      "om\n",
      "on\n",
      "oo\n",
      "op\n",
      "oq\n",
      "or\n",
      "os\n",
      "ot\n",
      "ou\n",
      "ov\n",
      "ow\n",
      "ox\n",
      "oy\n",
      "oz\n",
      "pa\n",
      "pb\n",
      "pc\n",
      "pd\n",
      "pe\n",
      "pf\n",
      "pg\n",
      "ph\n",
      "pi\n",
      "pj\n",
      "pk\n",
      "pl\n",
      "pm\n",
      "pn\n",
      "po\n",
      "pp\n",
      "pq\n",
      "pr\n",
      "ps\n",
      "pt\n",
      "pu\n",
      "pv\n",
      "pw\n",
      "px\n",
      "py\n",
      "pz\n",
      "qa\n",
      "qb\n",
      "qc\n",
      "qd\n",
      "qe\n",
      "qf\n",
      "qg\n",
      "qh\n",
      "qi\n",
      "qj\n",
      "qk\n",
      "ql\n",
      "qm\n",
      "qn\n",
      "qo\n",
      "qp\n",
      "qq\n",
      "qr\n",
      "qs\n",
      "qt\n",
      "qu\n",
      "qv\n",
      "qw\n",
      "qx\n",
      "qy\n",
      "qz\n",
      "ra\n",
      "rb\n",
      "rc\n",
      "rd\n",
      "re\n",
      "rf\n",
      "rg\n",
      "rh\n",
      "ri\n",
      "rj\n",
      "rk\n",
      "rl\n",
      "rm\n",
      "rn\n",
      "ro\n",
      "rp\n",
      "rq\n",
      "rr\n",
      "rs\n",
      "rt\n",
      "ru\n",
      "rv\n",
      "rw\n",
      "rx\n",
      "ry\n",
      "rz\n",
      "sa\n",
      "sb\n",
      "sc\n",
      "sd\n",
      "se\n",
      "sf\n",
      "sg\n",
      "sh\n",
      "si\n",
      "sj\n",
      "sk\n",
      "sl\n",
      "sm\n",
      "sn\n",
      "so\n",
      "sp\n",
      "sq\n",
      "sr\n",
      "ss\n",
      "st\n",
      "su\n",
      "sv\n",
      "sw\n",
      "sx\n",
      "sy\n",
      "sz\n",
      "ta\n",
      "tb\n",
      "tc\n",
      "td\n",
      "te\n",
      "tf\n",
      "tg\n",
      "th\n",
      "ti\n",
      "tj\n",
      "tk\n",
      "tl\n",
      "tm\n",
      "tn\n",
      "to\n",
      "tp\n",
      "tq\n",
      "tr\n",
      "ts\n",
      "tt\n",
      "tu\n",
      "tv\n",
      "tw\n",
      "tx\n",
      "ty\n",
      "tz\n",
      "ua\n",
      "ub\n",
      "uc\n",
      "ud\n",
      "ue\n",
      "uf\n",
      "ug\n",
      "uh\n",
      "ui\n",
      "uj\n",
      "uk\n",
      "ul\n",
      "um\n",
      "un\n",
      "uo\n",
      "up\n",
      "uq\n",
      "ur\n",
      "us\n",
      "ut\n",
      "uu\n",
      "uv\n",
      "uw\n",
      "ux\n",
      "uy\n",
      "uz\n",
      "va\n",
      "vb\n",
      "vc\n",
      "vd\n",
      "ve\n",
      "vf\n",
      "vg\n",
      "vh\n",
      "vi\n",
      "vj\n",
      "vk\n",
      "vl\n",
      "vm\n",
      "vn\n",
      "vo\n",
      "vp\n",
      "vq\n",
      "vr\n",
      "vs\n",
      "vt\n",
      "vu\n",
      "vv\n",
      "vw\n",
      "vx\n",
      "vy\n",
      "vz\n",
      "wa\n",
      "wb\n",
      "wc\n",
      "wd\n",
      "we\n",
      "wf\n",
      "wg\n",
      "wh\n",
      "wi\n",
      "wj\n",
      "wk\n",
      "wl\n",
      "wm\n",
      "wn\n",
      "wo\n",
      "wp\n",
      "wq\n",
      "wr\n",
      "ws\n",
      "wt\n",
      "wu\n",
      "wv\n",
      "ww\n",
      "wx\n",
      "wy\n",
      "wz\n",
      "xa\n",
      "xb\n",
      "xc\n",
      "xd\n",
      "xe\n",
      "xf\n",
      "xg\n",
      "xh\n",
      "xi\n",
      "xj\n",
      "xk\n",
      "xl\n",
      "xm\n",
      "xn\n",
      "xo\n",
      "xp\n",
      "xq\n",
      "xr\n",
      "xs\n",
      "xt\n",
      "xu\n",
      "xv\n",
      "xw\n",
      "xx\n",
      "xy\n",
      "xz\n",
      "ya\n",
      "yb\n",
      "yc\n",
      "yd\n",
      "ye\n",
      "yf\n",
      "yg\n",
      "yh\n",
      "yi\n",
      "yj\n",
      "yk\n",
      "yl\n",
      "ym\n",
      "yn\n",
      "yo\n",
      "yp\n",
      "yq\n",
      "yr\n",
      "ys\n",
      "yt\n",
      "yu\n",
      "yv\n",
      "yw\n",
      "yx\n",
      "yy\n",
      "yz\n",
      "za\n",
      "zb\n",
      "zc\n",
      "zd\n",
      "ze\n",
      "zf\n",
      "zg\n",
      "zh\n",
      "zi\n",
      "zj\n",
      "zk\n",
      "zl\n",
      "zm\n",
      "zn\n",
      "zo\n",
      "zp\n",
      "zq\n",
      "zr\n",
      "zs\n",
      "zt\n",
      "zu\n",
      "zv\n",
      "zw\n",
      "zx\n",
      "zy\n",
      "zz\n"
     ]
    }
   ],
   "source": [
    "for i in range(26):\n",
    "    for j in range(26):\n",
    "        print(f\"{chr(ord('a') + i)}{chr(ord('a') + j)}\")"
   ]
  },
  {
   "cell_type": "markdown",
   "id": "8a6b6c76",
   "metadata": {},
   "source": [
    "### Оператор break для остановки"
   ]
  },
  {
   "cell_type": "code",
   "execution_count": 83,
   "id": "4b0e8111",
   "metadata": {},
   "outputs": [
    {
     "name": "stdout",
     "output_type": "stream",
     "text": [
      "Введите пароль: gfghjjfhg\n",
      "Введите пароль: jbnbmn\n",
      "Введите пароль: right_password\n",
      "Пароль принимается\n"
     ]
    }
   ],
   "source": [
    "password = \"right_password\"\n",
    "while True:\n",
    "    if input(\"Введите пароль: \") == password:\n",
    "        print(\"Пароль принимается\")\n",
    "        break"
   ]
  },
  {
   "cell_type": "markdown",
   "id": "1025b619",
   "metadata": {},
   "source": [
    "### Остановка по условию"
   ]
  },
  {
   "cell_type": "code",
   "execution_count": 84,
   "id": "024838aa",
   "metadata": {},
   "outputs": [
    {
     "name": "stdout",
     "output_type": "stream",
     "text": [
      "aa\n",
      "ab\n",
      "ac\n",
      "ad\n",
      "ae\n",
      "af\n",
      "ag\n",
      "ah\n",
      "ai\n",
      "aj\n",
      "ak\n",
      "al\n",
      "am\n",
      "an\n",
      "ao\n",
      "ap\n",
      "aq\n",
      "ar\n",
      "as\n",
      "at\n",
      "au\n",
      "av\n",
      "aw\n",
      "ax\n",
      "ay\n",
      "az\n",
      "ba\n",
      "bb\n",
      "bc\n",
      "bd\n",
      "be\n",
      "bf\n",
      "bg\n",
      "bh\n",
      "bi\n",
      "bj\n",
      "bk\n",
      "bl\n",
      "bm\n",
      "bn\n",
      "bo\n",
      "bp\n",
      "bq\n",
      "br\n",
      "bs\n",
      "bt\n",
      "bu\n",
      "bv\n",
      "bw\n",
      "bx\n",
      "by\n",
      "bz\n",
      "ca\n",
      "cb\n",
      "cc\n",
      "cd\n",
      "ce\n",
      "cf\n",
      "cg\n",
      "ch\n",
      "ci\n",
      "cj\n",
      "ck\n",
      "cl\n",
      "cm\n",
      "cn\n",
      "co\n",
      "cp\n",
      "cq\n",
      "cr\n",
      "cs\n",
      "ct\n",
      "cu\n",
      "cv\n",
      "cw\n",
      "cx\n",
      "cy\n",
      "cz\n",
      "da\n",
      "db\n",
      "dc\n",
      "dd\n",
      "de\n",
      "df\n",
      "dg\n",
      "dh\n",
      "di\n",
      "dj\n",
      "dk\n",
      "dl\n",
      "dm\n",
      "dn\n",
      "do\n",
      "dp\n",
      "dq\n",
      "dr\n",
      "ds\n",
      "dt\n",
      "du\n",
      "dv\n",
      "dw\n",
      "dx\n",
      "dy\n",
      "dz\n",
      "ea\n",
      "eb\n",
      "ec\n",
      "ed\n",
      "ee\n",
      "ef\n",
      "eg\n",
      "eh\n",
      "ei\n",
      "ej\n",
      "ek\n",
      "el\n",
      "em\n",
      "en\n",
      "eo\n",
      "ep\n",
      "eq\n",
      "er\n",
      "es\n",
      "et\n",
      "eu\n",
      "ev\n",
      "ew\n",
      "ex\n",
      "ey\n",
      "ez\n",
      "fa\n",
      "fb\n",
      "fc\n",
      "fd\n",
      "fe\n",
      "ff\n",
      "fg\n",
      "fh\n",
      "fi\n",
      "fj\n",
      "fk\n",
      "fl\n",
      "fm\n",
      "fn\n",
      "fo\n",
      "fp\n",
      "fq\n",
      "fr\n",
      "fs\n",
      "ft\n",
      "fu\n",
      "fv\n",
      "fw\n",
      "fx\n",
      "fy\n",
      "fz\n",
      "ga\n",
      "gb\n",
      "gc\n",
      "gd\n",
      "ge\n",
      "gf\n",
      "gg\n",
      "gh\n",
      "gi\n",
      "gj\n",
      "gk\n",
      "gl\n",
      "gm\n",
      "gn\n",
      "go\n",
      "gp\n",
      "gq\n",
      "gr\n",
      "gs\n",
      "gt\n",
      "gu\n",
      "gv\n",
      "gw\n",
      "gx\n",
      "gy\n",
      "gz\n",
      "ha\n",
      "hb\n",
      "hc\n",
      "hd\n",
      "he\n",
      "hf\n",
      "hg\n",
      "hh\n",
      "hi\n",
      "hj\n",
      "hk\n",
      "hl\n",
      "hm\n",
      "hn\n",
      "ho\n",
      "hp\n",
      "hq\n",
      "hr\n",
      "hs\n",
      "ht\n",
      "hu\n",
      "hv\n",
      "hw\n",
      "hx\n",
      "hy\n",
      "hz\n",
      "ia\n",
      "ib\n",
      "ic\n",
      "id\n",
      "ie\n",
      "if\n",
      "ig\n",
      "ih\n",
      "ii\n",
      "ij\n",
      "ik\n",
      "il\n",
      "im\n",
      "in\n",
      "io\n",
      "ip\n",
      "iq\n",
      "ir\n",
      "is\n",
      "it\n",
      "iu\n",
      "iv\n",
      "iw\n",
      "ix\n",
      "iy\n",
      "iz\n",
      "ja\n",
      "jb\n",
      "jc\n",
      "jd\n",
      "je\n",
      "jf\n",
      "jg\n",
      "jh\n",
      "ji\n",
      "jj\n",
      "jk\n",
      "jl\n",
      "jm\n",
      "jn\n",
      "jo\n",
      "jp\n",
      "jq\n",
      "jr\n",
      "js\n",
      "jt\n",
      "ju\n",
      "jv\n",
      "jw\n",
      "jx\n",
      "jy\n",
      "jz\n",
      "ka\n",
      "kb\n",
      "kc\n",
      "kd\n",
      "ke\n",
      "kf\n",
      "kg\n",
      "kh\n",
      "ki\n",
      "kj\n",
      "kk\n",
      "kl\n",
      "km\n",
      "kn\n",
      "ko\n",
      "kp\n",
      "kq\n",
      "kr\n",
      "ks\n",
      "kt\n",
      "ku\n",
      "kv\n",
      "kw\n",
      "kx\n",
      "ky\n",
      "kz\n",
      "la\n",
      "lb\n",
      "lc\n",
      "ld\n",
      "le\n",
      "lf\n",
      "lg\n",
      "lh\n",
      "li\n",
      "lj\n",
      "lk\n",
      "ll\n",
      "lm\n",
      "ln\n",
      "lo\n",
      "lp\n",
      "lq\n",
      "lr\n",
      "ls\n",
      "lt\n",
      "lu\n",
      "lv\n",
      "lw\n",
      "lx\n",
      "ly\n",
      "lz\n",
      "ma\n",
      "mb\n",
      "mc\n",
      "md\n",
      "me\n",
      "mf\n",
      "mg\n",
      "mh\n",
      "mi\n",
      "mj\n",
      "mk\n",
      "ml\n",
      "mm\n",
      "mn\n",
      "mo\n",
      "mp\n",
      "mq\n",
      "mr\n",
      "ms\n",
      "mt\n",
      "mu\n",
      "mv\n",
      "mw\n",
      "mx\n",
      "my\n",
      "mz\n",
      "na\n",
      "nb\n",
      "nc\n",
      "nd\n",
      "ne\n",
      "nf\n",
      "ng\n",
      "nh\n",
      "ni\n",
      "nj\n",
      "nk\n",
      "nl\n",
      "nm\n",
      "nn\n",
      "no\n",
      "np\n",
      "nq\n",
      "nr\n",
      "ns\n",
      "nt\n",
      "nu\n",
      "nv\n",
      "nw\n",
      "nx\n",
      "ny\n",
      "nz\n",
      "oa\n",
      "ob\n",
      "oc\n",
      "od\n",
      "oe\n",
      "of\n",
      "og\n",
      "oh\n",
      "oi\n",
      "oj\n",
      "ok\n",
      "ol\n",
      "om\n",
      "on\n",
      "oo\n",
      "op\n",
      "oq\n",
      "or\n",
      "os\n",
      "ot\n",
      "ou\n",
      "ov\n",
      "ow\n",
      "ox\n",
      "oy\n",
      "oz\n",
      "pa\n",
      "pb\n",
      "pc\n",
      "pd\n",
      "pe\n",
      "pf\n",
      "pg\n",
      "ph\n",
      "pi\n",
      "pj\n",
      "pk\n",
      "pl\n",
      "pm\n",
      "pn\n",
      "po\n",
      "pp\n",
      "pq\n",
      "pr\n",
      "ps\n",
      "pt\n",
      "pu\n",
      "pv\n",
      "pw\n",
      "px\n",
      "py\n",
      "pz\n",
      "qa\n",
      "qb\n",
      "qc\n",
      "qd\n",
      "qe\n",
      "qf\n",
      "qg\n",
      "qh\n",
      "qi\n",
      "qj\n",
      "qk\n",
      "ql\n",
      "qm\n",
      "qn\n",
      "qo\n",
      "qp\n",
      "qq\n",
      "qr\n",
      "qs\n",
      "qt\n",
      "qu\n",
      "qv\n",
      "qw\n",
      "qx\n",
      "qy\n",
      "qz\n",
      "ra\n",
      "rb\n",
      "rc\n",
      "rd\n",
      "re\n",
      "rf\n",
      "rg\n",
      "rh\n",
      "ri\n",
      "rj\n",
      "rk\n",
      "rl\n",
      "rm\n",
      "rn\n",
      "ro\n",
      "rp\n",
      "rq\n",
      "rr\n",
      "rs\n",
      "rt\n",
      "ru\n",
      "rv\n",
      "rw\n",
      "rx\n",
      "ry\n",
      "rz\n",
      "sa\n",
      "sb\n",
      "sc\n",
      "sd\n",
      "se\n",
      "sf\n",
      "sg\n",
      "sh\n",
      "si\n",
      "sj\n",
      "sk\n",
      "sl\n",
      "sm\n",
      "sn\n",
      "so\n",
      "sp\n",
      "sq\n",
      "sr\n",
      "ss\n",
      "st\n",
      "su\n",
      "sv\n",
      "sw\n",
      "sx\n",
      "sy\n",
      "sz\n",
      "ta\n",
      "tb\n",
      "tc\n",
      "td\n",
      "te\n",
      "tf\n",
      "tg\n",
      "th\n",
      "ti\n",
      "tj\n",
      "tk\n",
      "tl\n",
      "tm\n",
      "tn\n",
      "to\n",
      "tp\n",
      "tq\n",
      "tr\n",
      "ts\n",
      "tt\n",
      "tu\n",
      "tv\n",
      "tw\n",
      "tx\n",
      "ty\n",
      "tz\n",
      "ua\n",
      "ub\n",
      "uc\n",
      "ud\n",
      "ue\n",
      "uf\n",
      "ug\n",
      "uh\n",
      "ui\n",
      "uj\n",
      "uk\n",
      "ul\n",
      "um\n",
      "un\n",
      "uo\n",
      "up\n",
      "uq\n",
      "ur\n",
      "us\n",
      "ut\n",
      "uu\n",
      "uv\n",
      "uw\n",
      "ux\n",
      "uy\n",
      "uz\n",
      "va\n",
      "vb\n",
      "vc\n",
      "vd\n",
      "ve\n",
      "vf\n",
      "vg\n",
      "vh\n",
      "vi\n",
      "vj\n",
      "vk\n",
      "vl\n",
      "vm\n",
      "vn\n",
      "vo\n",
      "vp\n",
      "vq\n",
      "vr\n",
      "vs\n",
      "vt\n",
      "vu\n",
      "vv\n",
      "vw\n",
      "vx\n",
      "vy\n",
      "vz\n",
      "wa\n",
      "wb\n",
      "wc\n",
      "wd\n",
      "we\n",
      "wf\n",
      "wg\n",
      "wh\n",
      "wi\n",
      "wj\n",
      "wk\n",
      "wl\n",
      "wm\n",
      "wn\n",
      "wo\n",
      "wp\n",
      "wq\n",
      "wr\n",
      "ws\n",
      "wt\n",
      "wu\n",
      "wv\n",
      "ww\n",
      "wx\n",
      "wy\n",
      "wz\n",
      "xa\n",
      "xb\n",
      "xc\n",
      "xd\n",
      "xe\n",
      "xf\n",
      "xg\n",
      "xh\n",
      "xi\n",
      "xj\n",
      "xk\n",
      "xl\n",
      "xm\n",
      "xn\n",
      "xo\n",
      "xp\n",
      "xq\n",
      "xr\n",
      "xs\n",
      "xt\n",
      "xu\n",
      "xv\n",
      "xw\n",
      "xx\n",
      "xy\n",
      "xz\n",
      "ya\n"
     ]
    }
   ],
   "source": [
    "flag = False\n",
    "for i in range(26):\n",
    "    for j in range(26):\n",
    "        text = f\"{chr(ord('a') + i)}{chr(ord('a') + j)}\"\n",
    "        if text == \"ya\":\n",
    "            print(text)\n",
    "            flag = True\n",
    "            break\n",
    "        print(text)\n",
    "    if flag:\n",
    "        break"
   ]
  },
  {
   "cell_type": "markdown",
   "id": "54edca2d",
   "metadata": {},
   "source": [
    "### Не генерировать комбинации с одной и той же буквой"
   ]
  },
  {
   "cell_type": "code",
   "execution_count": 85,
   "id": "0c6059cc",
   "metadata": {},
   "outputs": [
    {
     "name": "stdout",
     "output_type": "stream",
     "text": [
      "ab\n",
      "ac\n",
      "ad\n",
      "ae\n",
      "af\n",
      "ag\n",
      "ah\n",
      "ai\n",
      "aj\n",
      "ak\n",
      "al\n",
      "am\n",
      "an\n",
      "ao\n",
      "ap\n",
      "aq\n",
      "ar\n",
      "as\n",
      "at\n",
      "au\n",
      "av\n",
      "aw\n",
      "ax\n",
      "ay\n",
      "az\n",
      "ba\n",
      "bc\n",
      "bd\n",
      "be\n",
      "bf\n",
      "bg\n",
      "bh\n",
      "bi\n",
      "bj\n",
      "bk\n",
      "bl\n",
      "bm\n",
      "bn\n",
      "bo\n",
      "bp\n",
      "bq\n",
      "br\n",
      "bs\n",
      "bt\n",
      "bu\n",
      "bv\n",
      "bw\n",
      "bx\n",
      "by\n",
      "bz\n",
      "ca\n",
      "cb\n",
      "cd\n",
      "ce\n",
      "cf\n",
      "cg\n",
      "ch\n",
      "ci\n",
      "cj\n",
      "ck\n",
      "cl\n",
      "cm\n",
      "cn\n",
      "co\n",
      "cp\n",
      "cq\n",
      "cr\n",
      "cs\n",
      "ct\n",
      "cu\n",
      "cv\n",
      "cw\n",
      "cx\n",
      "cy\n",
      "cz\n",
      "da\n",
      "db\n",
      "dc\n",
      "de\n",
      "df\n",
      "dg\n",
      "dh\n",
      "di\n",
      "dj\n",
      "dk\n",
      "dl\n",
      "dm\n",
      "dn\n",
      "do\n",
      "dp\n",
      "dq\n",
      "dr\n",
      "ds\n",
      "dt\n",
      "du\n",
      "dv\n",
      "dw\n",
      "dx\n",
      "dy\n",
      "dz\n",
      "ea\n",
      "eb\n",
      "ec\n",
      "ed\n",
      "ef\n",
      "eg\n",
      "eh\n",
      "ei\n",
      "ej\n",
      "ek\n",
      "el\n",
      "em\n",
      "en\n",
      "eo\n",
      "ep\n",
      "eq\n",
      "er\n",
      "es\n",
      "et\n",
      "eu\n",
      "ev\n",
      "ew\n",
      "ex\n",
      "ey\n",
      "ez\n",
      "fa\n",
      "fb\n",
      "fc\n",
      "fd\n",
      "fe\n",
      "fg\n",
      "fh\n",
      "fi\n",
      "fj\n",
      "fk\n",
      "fl\n",
      "fm\n",
      "fn\n",
      "fo\n",
      "fp\n",
      "fq\n",
      "fr\n",
      "fs\n",
      "ft\n",
      "fu\n",
      "fv\n",
      "fw\n",
      "fx\n",
      "fy\n",
      "fz\n",
      "ga\n",
      "gb\n",
      "gc\n",
      "gd\n",
      "ge\n",
      "gf\n",
      "gh\n",
      "gi\n",
      "gj\n",
      "gk\n",
      "gl\n",
      "gm\n",
      "gn\n",
      "go\n",
      "gp\n",
      "gq\n",
      "gr\n",
      "gs\n",
      "gt\n",
      "gu\n",
      "gv\n",
      "gw\n",
      "gx\n",
      "gy\n",
      "gz\n",
      "ha\n",
      "hb\n",
      "hc\n",
      "hd\n",
      "he\n",
      "hf\n",
      "hg\n",
      "hi\n",
      "hj\n",
      "hk\n",
      "hl\n",
      "hm\n",
      "hn\n",
      "ho\n",
      "hp\n",
      "hq\n",
      "hr\n",
      "hs\n",
      "ht\n",
      "hu\n",
      "hv\n",
      "hw\n",
      "hx\n",
      "hy\n",
      "hz\n",
      "ia\n",
      "ib\n",
      "ic\n",
      "id\n",
      "ie\n",
      "if\n",
      "ig\n",
      "ih\n",
      "ij\n",
      "ik\n",
      "il\n",
      "im\n",
      "in\n",
      "io\n",
      "ip\n",
      "iq\n",
      "ir\n",
      "is\n",
      "it\n",
      "iu\n",
      "iv\n",
      "iw\n",
      "ix\n",
      "iy\n",
      "iz\n",
      "ja\n",
      "jb\n",
      "jc\n",
      "jd\n",
      "je\n",
      "jf\n",
      "jg\n",
      "jh\n",
      "ji\n",
      "jk\n",
      "jl\n",
      "jm\n",
      "jn\n",
      "jo\n",
      "jp\n",
      "jq\n",
      "jr\n",
      "js\n",
      "jt\n",
      "ju\n",
      "jv\n",
      "jw\n",
      "jx\n",
      "jy\n",
      "jz\n",
      "ka\n",
      "kb\n",
      "kc\n",
      "kd\n",
      "ke\n",
      "kf\n",
      "kg\n",
      "kh\n",
      "ki\n",
      "kj\n",
      "kl\n",
      "km\n",
      "kn\n",
      "ko\n",
      "kp\n",
      "kq\n",
      "kr\n",
      "ks\n",
      "kt\n",
      "ku\n",
      "kv\n",
      "kw\n",
      "kx\n",
      "ky\n",
      "kz\n",
      "la\n",
      "lb\n",
      "lc\n",
      "ld\n",
      "le\n",
      "lf\n",
      "lg\n",
      "lh\n",
      "li\n",
      "lj\n",
      "lk\n",
      "lm\n",
      "ln\n",
      "lo\n",
      "lp\n",
      "lq\n",
      "lr\n",
      "ls\n",
      "lt\n",
      "lu\n",
      "lv\n",
      "lw\n",
      "lx\n",
      "ly\n",
      "lz\n",
      "ma\n",
      "mb\n",
      "mc\n",
      "md\n",
      "me\n",
      "mf\n",
      "mg\n",
      "mh\n",
      "mi\n",
      "mj\n",
      "mk\n",
      "ml\n",
      "mn\n",
      "mo\n",
      "mp\n",
      "mq\n",
      "mr\n",
      "ms\n",
      "mt\n",
      "mu\n",
      "mv\n",
      "mw\n",
      "mx\n",
      "my\n",
      "mz\n",
      "na\n",
      "nb\n",
      "nc\n",
      "nd\n",
      "ne\n",
      "nf\n",
      "ng\n",
      "nh\n",
      "ni\n",
      "nj\n",
      "nk\n",
      "nl\n",
      "nm\n",
      "no\n",
      "np\n",
      "nq\n",
      "nr\n",
      "ns\n",
      "nt\n",
      "nu\n",
      "nv\n",
      "nw\n",
      "nx\n",
      "ny\n",
      "nz\n",
      "oa\n",
      "ob\n",
      "oc\n",
      "od\n",
      "oe\n",
      "of\n",
      "og\n",
      "oh\n",
      "oi\n",
      "oj\n",
      "ok\n",
      "ol\n",
      "om\n",
      "on\n",
      "op\n",
      "oq\n",
      "or\n",
      "os\n",
      "ot\n",
      "ou\n",
      "ov\n",
      "ow\n",
      "ox\n",
      "oy\n",
      "oz\n",
      "pa\n",
      "pb\n",
      "pc\n",
      "pd\n",
      "pe\n",
      "pf\n",
      "pg\n",
      "ph\n",
      "pi\n",
      "pj\n",
      "pk\n",
      "pl\n",
      "pm\n",
      "pn\n",
      "po\n",
      "pq\n",
      "pr\n",
      "ps\n",
      "pt\n",
      "pu\n",
      "pv\n",
      "pw\n",
      "px\n",
      "py\n",
      "pz\n",
      "qa\n",
      "qb\n",
      "qc\n",
      "qd\n",
      "qe\n",
      "qf\n",
      "qg\n",
      "qh\n",
      "qi\n",
      "qj\n",
      "qk\n",
      "ql\n",
      "qm\n",
      "qn\n",
      "qo\n",
      "qp\n",
      "qr\n",
      "qs\n",
      "qt\n",
      "qu\n",
      "qv\n",
      "qw\n",
      "qx\n",
      "qy\n",
      "qz\n",
      "ra\n",
      "rb\n",
      "rc\n",
      "rd\n",
      "re\n",
      "rf\n",
      "rg\n",
      "rh\n",
      "ri\n",
      "rj\n",
      "rk\n",
      "rl\n",
      "rm\n",
      "rn\n",
      "ro\n",
      "rp\n",
      "rq\n",
      "rs\n",
      "rt\n",
      "ru\n",
      "rv\n",
      "rw\n",
      "rx\n",
      "ry\n",
      "rz\n",
      "sa\n",
      "sb\n",
      "sc\n",
      "sd\n",
      "se\n",
      "sf\n",
      "sg\n",
      "sh\n",
      "si\n",
      "sj\n",
      "sk\n",
      "sl\n",
      "sm\n",
      "sn\n",
      "so\n",
      "sp\n",
      "sq\n",
      "sr\n",
      "st\n",
      "su\n",
      "sv\n",
      "sw\n",
      "sx\n",
      "sy\n",
      "sz\n",
      "ta\n",
      "tb\n",
      "tc\n",
      "td\n",
      "te\n",
      "tf\n",
      "tg\n",
      "th\n",
      "ti\n",
      "tj\n",
      "tk\n",
      "tl\n",
      "tm\n",
      "tn\n",
      "to\n",
      "tp\n",
      "tq\n",
      "tr\n",
      "ts\n",
      "tu\n",
      "tv\n",
      "tw\n",
      "tx\n",
      "ty\n",
      "tz\n",
      "ua\n",
      "ub\n",
      "uc\n",
      "ud\n",
      "ue\n",
      "uf\n",
      "ug\n",
      "uh\n",
      "ui\n",
      "uj\n",
      "uk\n",
      "ul\n",
      "um\n",
      "un\n",
      "uo\n",
      "up\n",
      "uq\n",
      "ur\n",
      "us\n",
      "ut\n",
      "uv\n",
      "uw\n",
      "ux\n",
      "uy\n",
      "uz\n",
      "va\n",
      "vb\n",
      "vc\n",
      "vd\n",
      "ve\n",
      "vf\n",
      "vg\n",
      "vh\n",
      "vi\n",
      "vj\n",
      "vk\n",
      "vl\n",
      "vm\n",
      "vn\n",
      "vo\n",
      "vp\n",
      "vq\n",
      "vr\n",
      "vs\n",
      "vt\n",
      "vu\n",
      "vw\n",
      "vx\n",
      "vy\n",
      "vz\n",
      "wa\n",
      "wb\n",
      "wc\n",
      "wd\n",
      "we\n",
      "wf\n",
      "wg\n",
      "wh\n",
      "wi\n",
      "wj\n",
      "wk\n",
      "wl\n",
      "wm\n",
      "wn\n",
      "wo\n",
      "wp\n",
      "wq\n",
      "wr\n",
      "ws\n",
      "wt\n",
      "wu\n",
      "wv\n",
      "wx\n",
      "wy\n",
      "wz\n",
      "xa\n",
      "xb\n",
      "xc\n",
      "xd\n",
      "xe\n",
      "xf\n",
      "xg\n",
      "xh\n",
      "xi\n",
      "xj\n",
      "xk\n",
      "xl\n",
      "xm\n",
      "xn\n",
      "xo\n",
      "xp\n",
      "xq\n",
      "xr\n",
      "xs\n",
      "xt\n",
      "xu\n",
      "xv\n",
      "xw\n",
      "xy\n",
      "xz\n",
      "ya\n",
      "yb\n",
      "yc\n",
      "yd\n",
      "ye\n",
      "yf\n",
      "yg\n",
      "yh\n",
      "yi\n",
      "yj\n",
      "yk\n",
      "yl\n",
      "ym\n",
      "yn\n",
      "yo\n",
      "yp\n",
      "yq\n",
      "yr\n",
      "ys\n",
      "yt\n",
      "yu\n",
      "yv\n",
      "yw\n",
      "yx\n",
      "yz\n",
      "za\n",
      "zb\n",
      "zc\n",
      "zd\n",
      "ze\n",
      "zf\n",
      "zg\n",
      "zh\n",
      "zi\n",
      "zj\n",
      "zk\n",
      "zl\n",
      "zm\n",
      "zn\n",
      "zo\n",
      "zp\n",
      "zq\n",
      "zr\n",
      "zs\n",
      "zt\n",
      "zu\n",
      "zv\n",
      "zw\n",
      "zx\n",
      "zy\n"
     ]
    }
   ],
   "source": [
    "for i in range(26):\n",
    "    for j in range(26):\n",
    "        if i == j:\n",
    "            continue\n",
    "        print(f\"{chr(ord('a') + i)}{chr(ord('a') + j)}\")"
   ]
  },
  {
   "cell_type": "markdown",
   "id": "dc02868b",
   "metadata": {},
   "source": [
    "### Тот же код без continue"
   ]
  },
  {
   "cell_type": "code",
   "execution_count": 86,
   "id": "c96159ad",
   "metadata": {},
   "outputs": [
    {
     "name": "stdout",
     "output_type": "stream",
     "text": [
      "ab\n",
      "ac\n",
      "ad\n",
      "ae\n",
      "af\n",
      "ag\n",
      "ah\n",
      "ai\n",
      "aj\n",
      "ak\n",
      "al\n",
      "am\n",
      "an\n",
      "ao\n",
      "ap\n",
      "aq\n",
      "ar\n",
      "as\n",
      "at\n",
      "au\n",
      "av\n",
      "aw\n",
      "ax\n",
      "ay\n",
      "az\n",
      "ba\n",
      "bc\n",
      "bd\n",
      "be\n",
      "bf\n",
      "bg\n",
      "bh\n",
      "bi\n",
      "bj\n",
      "bk\n",
      "bl\n",
      "bm\n",
      "bn\n",
      "bo\n",
      "bp\n",
      "bq\n",
      "br\n",
      "bs\n",
      "bt\n",
      "bu\n",
      "bv\n",
      "bw\n",
      "bx\n",
      "by\n",
      "bz\n",
      "ca\n",
      "cb\n",
      "cd\n",
      "ce\n",
      "cf\n",
      "cg\n",
      "ch\n",
      "ci\n",
      "cj\n",
      "ck\n",
      "cl\n",
      "cm\n",
      "cn\n",
      "co\n",
      "cp\n",
      "cq\n",
      "cr\n",
      "cs\n",
      "ct\n",
      "cu\n",
      "cv\n",
      "cw\n",
      "cx\n",
      "cy\n",
      "cz\n",
      "da\n",
      "db\n",
      "dc\n",
      "de\n",
      "df\n",
      "dg\n",
      "dh\n",
      "di\n",
      "dj\n",
      "dk\n",
      "dl\n",
      "dm\n",
      "dn\n",
      "do\n",
      "dp\n",
      "dq\n",
      "dr\n",
      "ds\n",
      "dt\n",
      "du\n",
      "dv\n",
      "dw\n",
      "dx\n",
      "dy\n",
      "dz\n",
      "ea\n",
      "eb\n",
      "ec\n",
      "ed\n",
      "ef\n",
      "eg\n",
      "eh\n",
      "ei\n",
      "ej\n",
      "ek\n",
      "el\n",
      "em\n",
      "en\n",
      "eo\n",
      "ep\n",
      "eq\n",
      "er\n",
      "es\n",
      "et\n",
      "eu\n",
      "ev\n",
      "ew\n",
      "ex\n",
      "ey\n",
      "ez\n",
      "fa\n",
      "fb\n",
      "fc\n",
      "fd\n",
      "fe\n",
      "fg\n",
      "fh\n",
      "fi\n",
      "fj\n",
      "fk\n",
      "fl\n",
      "fm\n",
      "fn\n",
      "fo\n",
      "fp\n",
      "fq\n",
      "fr\n",
      "fs\n",
      "ft\n",
      "fu\n",
      "fv\n",
      "fw\n",
      "fx\n",
      "fy\n",
      "fz\n",
      "ga\n",
      "gb\n",
      "gc\n",
      "gd\n",
      "ge\n",
      "gf\n",
      "gh\n",
      "gi\n",
      "gj\n",
      "gk\n",
      "gl\n",
      "gm\n",
      "gn\n",
      "go\n",
      "gp\n",
      "gq\n",
      "gr\n",
      "gs\n",
      "gt\n",
      "gu\n",
      "gv\n",
      "gw\n",
      "gx\n",
      "gy\n",
      "gz\n",
      "ha\n",
      "hb\n",
      "hc\n",
      "hd\n",
      "he\n",
      "hf\n",
      "hg\n",
      "hi\n",
      "hj\n",
      "hk\n",
      "hl\n",
      "hm\n",
      "hn\n",
      "ho\n",
      "hp\n",
      "hq\n",
      "hr\n",
      "hs\n",
      "ht\n",
      "hu\n",
      "hv\n",
      "hw\n",
      "hx\n",
      "hy\n",
      "hz\n",
      "ia\n",
      "ib\n",
      "ic\n",
      "id\n",
      "ie\n",
      "if\n",
      "ig\n",
      "ih\n",
      "ij\n",
      "ik\n",
      "il\n",
      "im\n",
      "in\n",
      "io\n",
      "ip\n",
      "iq\n",
      "ir\n",
      "is\n",
      "it\n",
      "iu\n",
      "iv\n",
      "iw\n",
      "ix\n",
      "iy\n",
      "iz\n",
      "ja\n",
      "jb\n",
      "jc\n",
      "jd\n",
      "je\n",
      "jf\n",
      "jg\n",
      "jh\n",
      "ji\n",
      "jk\n",
      "jl\n",
      "jm\n",
      "jn\n",
      "jo\n",
      "jp\n",
      "jq\n",
      "jr\n",
      "js\n",
      "jt\n",
      "ju\n",
      "jv\n",
      "jw\n",
      "jx\n",
      "jy\n",
      "jz\n",
      "ka\n",
      "kb\n",
      "kc\n",
      "kd\n",
      "ke\n",
      "kf\n",
      "kg\n",
      "kh\n",
      "ki\n",
      "kj\n",
      "kl\n",
      "km\n",
      "kn\n",
      "ko\n",
      "kp\n",
      "kq\n",
      "kr\n",
      "ks\n",
      "kt\n",
      "ku\n",
      "kv\n",
      "kw\n",
      "kx\n",
      "ky\n",
      "kz\n",
      "la\n",
      "lb\n",
      "lc\n",
      "ld\n",
      "le\n",
      "lf\n",
      "lg\n",
      "lh\n",
      "li\n",
      "lj\n",
      "lk\n",
      "lm\n",
      "ln\n",
      "lo\n",
      "lp\n",
      "lq\n",
      "lr\n",
      "ls\n",
      "lt\n",
      "lu\n",
      "lv\n",
      "lw\n",
      "lx\n",
      "ly\n",
      "lz\n",
      "ma\n",
      "mb\n",
      "mc\n",
      "md\n",
      "me\n",
      "mf\n",
      "mg\n",
      "mh\n",
      "mi\n",
      "mj\n",
      "mk\n",
      "ml\n",
      "mn\n",
      "mo\n",
      "mp\n",
      "mq\n",
      "mr\n",
      "ms\n",
      "mt\n",
      "mu\n",
      "mv\n",
      "mw\n",
      "mx\n",
      "my\n",
      "mz\n",
      "na\n",
      "nb\n",
      "nc\n",
      "nd\n",
      "ne\n",
      "nf\n",
      "ng\n",
      "nh\n",
      "ni\n",
      "nj\n",
      "nk\n",
      "nl\n",
      "nm\n",
      "no\n",
      "np\n",
      "nq\n",
      "nr\n",
      "ns\n",
      "nt\n",
      "nu\n",
      "nv\n",
      "nw\n",
      "nx\n",
      "ny\n",
      "nz\n",
      "oa\n",
      "ob\n",
      "oc\n",
      "od\n",
      "oe\n",
      "of\n",
      "og\n",
      "oh\n",
      "oi\n",
      "oj\n",
      "ok\n",
      "ol\n",
      "om\n",
      "on\n",
      "op\n",
      "oq\n",
      "or\n",
      "os\n",
      "ot\n",
      "ou\n",
      "ov\n",
      "ow\n",
      "ox\n",
      "oy\n",
      "oz\n",
      "pa\n",
      "pb\n",
      "pc\n",
      "pd\n",
      "pe\n",
      "pf\n",
      "pg\n",
      "ph\n",
      "pi\n",
      "pj\n",
      "pk\n",
      "pl\n",
      "pm\n",
      "pn\n",
      "po\n",
      "pq\n",
      "pr\n",
      "ps\n",
      "pt\n",
      "pu\n",
      "pv\n",
      "pw\n",
      "px\n",
      "py\n",
      "pz\n",
      "qa\n",
      "qb\n",
      "qc\n",
      "qd\n",
      "qe\n",
      "qf\n",
      "qg\n",
      "qh\n",
      "qi\n",
      "qj\n",
      "qk\n",
      "ql\n",
      "qm\n",
      "qn\n",
      "qo\n",
      "qp\n",
      "qr\n",
      "qs\n",
      "qt\n",
      "qu\n",
      "qv\n",
      "qw\n",
      "qx\n",
      "qy\n",
      "qz\n",
      "ra\n",
      "rb\n",
      "rc\n",
      "rd\n",
      "re\n",
      "rf\n",
      "rg\n",
      "rh\n",
      "ri\n",
      "rj\n",
      "rk\n",
      "rl\n",
      "rm\n",
      "rn\n",
      "ro\n",
      "rp\n",
      "rq\n",
      "rs\n",
      "rt\n",
      "ru\n",
      "rv\n",
      "rw\n",
      "rx\n",
      "ry\n",
      "rz\n",
      "sa\n",
      "sb\n",
      "sc\n",
      "sd\n",
      "se\n",
      "sf\n",
      "sg\n",
      "sh\n",
      "si\n",
      "sj\n",
      "sk\n",
      "sl\n",
      "sm\n",
      "sn\n",
      "so\n",
      "sp\n",
      "sq\n",
      "sr\n",
      "st\n",
      "su\n",
      "sv\n",
      "sw\n",
      "sx\n",
      "sy\n",
      "sz\n",
      "ta\n",
      "tb\n",
      "tc\n",
      "td\n",
      "te\n",
      "tf\n",
      "tg\n",
      "th\n",
      "ti\n",
      "tj\n",
      "tk\n",
      "tl\n",
      "tm\n",
      "tn\n",
      "to\n",
      "tp\n",
      "tq\n",
      "tr\n",
      "ts\n",
      "tu\n",
      "tv\n",
      "tw\n",
      "tx\n",
      "ty\n",
      "tz\n",
      "ua\n",
      "ub\n",
      "uc\n",
      "ud\n",
      "ue\n",
      "uf\n",
      "ug\n",
      "uh\n",
      "ui\n",
      "uj\n",
      "uk\n",
      "ul\n",
      "um\n",
      "un\n",
      "uo\n",
      "up\n",
      "uq\n",
      "ur\n",
      "us\n",
      "ut\n",
      "uv\n",
      "uw\n",
      "ux\n",
      "uy\n",
      "uz\n",
      "va\n",
      "vb\n",
      "vc\n",
      "vd\n",
      "ve\n",
      "vf\n",
      "vg\n",
      "vh\n",
      "vi\n",
      "vj\n",
      "vk\n",
      "vl\n",
      "vm\n",
      "vn\n",
      "vo\n",
      "vp\n",
      "vq\n",
      "vr\n",
      "vs\n",
      "vt\n",
      "vu\n",
      "vw\n",
      "vx\n",
      "vy\n",
      "vz\n",
      "wa\n",
      "wb\n",
      "wc\n",
      "wd\n",
      "we\n",
      "wf\n",
      "wg\n",
      "wh\n",
      "wi\n",
      "wj\n",
      "wk\n",
      "wl\n",
      "wm\n",
      "wn\n",
      "wo\n",
      "wp\n",
      "wq\n",
      "wr\n",
      "ws\n",
      "wt\n",
      "wu\n",
      "wv\n",
      "wx\n",
      "wy\n",
      "wz\n",
      "xa\n",
      "xb\n",
      "xc\n",
      "xd\n",
      "xe\n",
      "xf\n",
      "xg\n",
      "xh\n",
      "xi\n",
      "xj\n",
      "xk\n",
      "xl\n",
      "xm\n",
      "xn\n",
      "xo\n",
      "xp\n",
      "xq\n",
      "xr\n",
      "xs\n",
      "xt\n",
      "xu\n",
      "xv\n",
      "xw\n",
      "xy\n",
      "xz\n",
      "ya\n",
      "yb\n",
      "yc\n",
      "yd\n",
      "ye\n",
      "yf\n",
      "yg\n",
      "yh\n",
      "yi\n",
      "yj\n",
      "yk\n",
      "yl\n",
      "ym\n",
      "yn\n",
      "yo\n",
      "yp\n",
      "yq\n",
      "yr\n",
      "ys\n",
      "yt\n",
      "yu\n",
      "yv\n",
      "yw\n",
      "yx\n",
      "yz\n",
      "za\n",
      "zb\n",
      "zc\n",
      "zd\n",
      "ze\n",
      "zf\n",
      "zg\n",
      "zh\n",
      "zi\n",
      "zj\n",
      "zk\n",
      "zl\n",
      "zm\n",
      "zn\n",
      "zo\n",
      "zp\n",
      "zq\n",
      "zr\n",
      "zs\n",
      "zt\n",
      "zu\n",
      "zv\n",
      "zw\n",
      "zx\n",
      "zy\n"
     ]
    }
   ],
   "source": [
    "for i in range(26):\n",
    "    for j in range(26):\n",
    "        if i != j:\n",
    "            print(f\"{chr(ord('a') + i)}{chr(ord('a') + j)}\")"
   ]
  },
  {
   "cell_type": "markdown",
   "id": "75af83d0",
   "metadata": {},
   "source": [
    "### Можно использовать else с while"
   ]
  },
  {
   "cell_type": "code",
   "execution_count": 87,
   "id": "4ae8d463",
   "metadata": {},
   "outputs": [
    {
     "name": "stdout",
     "output_type": "stream",
     "text": [
      "Введите строку (СТОП для остановки): fdsgsgfsfg\n",
      "Введите строку (СТОП для остановки): dsfsgd\n",
      "Введите строку (СТОП для остановки): СТОП\n",
      "Цикл завершён\n"
     ]
    }
   ],
   "source": [
    "while input(\"Введите строку (СТОП для остановки): \") != \"СТОП\":\n",
    "    pass\n",
    "else:\n",
    "    print(\"Цикл завершён\")"
   ]
  },
  {
   "cell_type": "markdown",
   "id": "4ef1d738",
   "metadata": {},
   "source": [
    "### Else можно игнорировать"
   ]
  },
  {
   "cell_type": "code",
   "execution_count": 89,
   "id": "7c947c15",
   "metadata": {},
   "outputs": [
    {
     "name": "stdout",
     "output_type": "stream",
     "text": [
      "Введите строку (СТОП для остановки): ignore_else\n"
     ]
    }
   ],
   "source": [
    "while (text := input(\"Введите строку (СТОП для остановки): \")) != \"СТОП\":\n",
    "    if text == \"ignore_else\":\n",
    "        break\n",
    "else:\n",
    "    print(\"Цикл завершён\")"
   ]
  },
  {
   "cell_type": "markdown",
   "id": "6e9a8fb7",
   "metadata": {},
   "source": [
    "# 13 Строки, кортежи, списки"
   ]
  },
  {
   "cell_type": "markdown",
   "id": "dc97f557",
   "metadata": {},
   "source": [
    "### Первый символ ввода пользователя"
   ]
  },
  {
   "cell_type": "code",
   "execution_count": 92,
   "id": "04990435",
   "metadata": {},
   "outputs": [
    {
     "name": "stdout",
     "output_type": "stream",
     "text": [
      "Нюанс\n",
      "Н\n"
     ]
    }
   ],
   "source": [
    "text = input()\n",
    "print(text[0])"
   ]
  },
  {
   "cell_type": "markdown",
   "id": "50e0bb8f",
   "metadata": {},
   "source": [
    "### Код, который учитывает пустой ввод"
   ]
  },
  {
   "cell_type": "code",
   "execution_count": 94,
   "id": "ee3d0ea0",
   "metadata": {},
   "outputs": [
    {
     "name": "stdout",
     "output_type": "stream",
     "text": [
      "Введите строку: Ответ\n",
      "Введите индекс символа: 0\n",
      "О\n"
     ]
    }
   ],
   "source": [
    "text = input(\"Введите строку: \")\n",
    "i = int(input(\"Введите индекс символа: \"))\n",
    "if i < len(text):\n",
    "    print(text[i])\n",
    "else:\n",
    "    print(\"Индекс выходит за пределы строки\")"
   ]
  },
  {
   "cell_type": "code",
   "execution_count": 95,
   "id": "5e83931a",
   "metadata": {},
   "outputs": [
    {
     "data": {
      "text/plain": [
       "5"
      ]
     },
     "execution_count": 95,
     "metadata": {},
     "output_type": "execute_result"
    }
   ],
   "source": [
    "len(\"Ответ\")"
   ]
  },
  {
   "cell_type": "markdown",
   "id": "23c80abf",
   "metadata": {},
   "source": [
    "### Разные способы взять последний символ строки"
   ]
  },
  {
   "cell_type": "code",
   "execution_count": 96,
   "id": "db79246f",
   "metadata": {},
   "outputs": [
    {
     "name": "stdout",
     "output_type": "stream",
     "text": [
      "Ответ\n",
      "т\n",
      "т\n"
     ]
    }
   ],
   "source": [
    "text = input()\n",
    "print(text[len(text) - 1])\n",
    "print(text[-1])"
   ]
  },
  {
   "cell_type": "markdown",
   "id": "3cbe9df9",
   "metadata": {},
   "source": [
    "### Как пройти по строке"
   ]
  },
  {
   "cell_type": "code",
   "execution_count": 97,
   "id": "684b7a10",
   "metadata": {},
   "outputs": [
    {
     "name": "stdout",
     "output_type": "stream",
     "text": [
      "Ответ\n",
      "О\n",
      "т\n",
      "в\n",
      "е\n",
      "т\n"
     ]
    }
   ],
   "source": [
    "text = input()\n",
    "for i in range(len(text)):\n",
    "    print(text[i])"
   ]
  },
  {
   "cell_type": "markdown",
   "id": "8bf83fa9",
   "metadata": {},
   "source": [
    "### Другой способ пройтись по строке"
   ]
  },
  {
   "cell_type": "code",
   "execution_count": 98,
   "id": "b978238a",
   "metadata": {},
   "outputs": [
    {
     "name": "stdout",
     "output_type": "stream",
     "text": [
      "Ответ\n",
      "О\n",
      "т\n",
      "в\n",
      "е\n",
      "т\n"
     ]
    }
   ],
   "source": [
    "text = input()\n",
    "for letter in text:\n",
    "    print(letter)"
   ]
  },
  {
   "cell_type": "markdown",
   "id": "345b81e9",
   "metadata": {},
   "source": [
    "### Выведем индекс и букву введенного текста"
   ]
  },
  {
   "cell_type": "code",
   "execution_count": 99,
   "id": "40a9d48d",
   "metadata": {},
   "outputs": [
    {
     "name": "stdout",
     "output_type": "stream",
     "text": [
      "Ответ\n",
      "0. О\n",
      "1. т\n",
      "2. в\n",
      "3. е\n",
      "4. т\n"
     ]
    }
   ],
   "source": [
    "text = input()\n",
    "for i, letter in enumerate(text):\n",
    "    print(f\"{i}. {letter}\")"
   ]
  },
  {
   "cell_type": "markdown",
   "id": "4e477a2b",
   "metadata": {},
   "source": [
    "### Примеры слайсов"
   ]
  },
  {
   "cell_type": "code",
   "execution_count": 100,
   "id": "36ef3f19",
   "metadata": {},
   "outputs": [
    {
     "name": "stdout",
     "output_type": "stream",
     "text": [
      "мир\n",
      "Привет\n",
      "мир!\n",
      "Привет, мир!\n",
      "Пие,мр\n"
     ]
    }
   ],
   "source": [
    "text = \"Привет, мир!\"\n",
    "print(text[8:11])\n",
    "print(text[:6])\n",
    "print(text[8:])\n",
    "print(text[:])\n",
    "print(text[::2])"
   ]
  },
  {
   "cell_type": "markdown",
   "id": "be69aa0e",
   "metadata": {},
   "source": [
    "### Строка - неизменяемая коллекция!"
   ]
  },
  {
   "cell_type": "code",
   "execution_count": 101,
   "id": "07ebb6f0",
   "metadata": {},
   "outputs": [
    {
     "ename": "TypeError",
     "evalue": "'str' object does not support item assignment",
     "output_type": "error",
     "traceback": [
      "\u001b[0;31m---------------------------------------------------------------------------\u001b[0m",
      "\u001b[0;31mTypeError\u001b[0m                                 Traceback (most recent call last)",
      "Cell \u001b[0;32mIn[101], line 2\u001b[0m\n\u001b[1;32m      1\u001b[0m word \u001b[38;5;241m=\u001b[39m \u001b[38;5;124m\"\u001b[39m\u001b[38;5;124mмир\u001b[39m\u001b[38;5;124m\"\u001b[39m\n\u001b[0;32m----> 2\u001b[0m \u001b[43mword\u001b[49m\u001b[43m[\u001b[49m\u001b[38;5;241;43m0\u001b[39;49m\u001b[43m]\u001b[49m \u001b[38;5;241m=\u001b[39m \u001b[38;5;124m\"\u001b[39m\u001b[38;5;124mп\u001b[39m\u001b[38;5;124m\"\u001b[39m\n",
      "\u001b[0;31mTypeError\u001b[0m: 'str' object does not support item assignment"
     ]
    }
   ],
   "source": [
    "word = \"мир\"\n",
    "word[0] = \"п\""
   ]
  },
  {
   "cell_type": "markdown",
   "id": "c816b1a3",
   "metadata": {},
   "source": [
    "### Функции строки"
   ]
  },
  {
   "cell_type": "code",
   "execution_count": 102,
   "id": "927cdcd4",
   "metadata": {},
   "outputs": [
    {
     "name": "stdout",
     "output_type": "stream",
     "text": [
      "True\n",
      "False\n"
     ]
    }
   ],
   "source": [
    "print(\"а\".islower())\n",
    "print(\"A\".islower())"
   ]
  },
  {
   "cell_type": "code",
   "execution_count": 103,
   "id": "d07ebcf9",
   "metadata": {},
   "outputs": [
    {
     "data": {
      "text/plain": [
       "'Hello, world!'"
      ]
     },
     "execution_count": 103,
     "metadata": {},
     "output_type": "execute_result"
    }
   ],
   "source": [
    "s = \"hello, World!\"\n",
    "s.capitalize()"
   ]
  },
  {
   "cell_type": "code",
   "execution_count": 106,
   "id": "929086b5",
   "metadata": {},
   "outputs": [
    {
     "data": {
      "text/plain": [
       "3"
      ]
     },
     "execution_count": 106,
     "metadata": {},
     "output_type": "execute_result"
    }
   ],
   "source": [
    "s = \"Hello, world!\"\n",
    "s.count(\"l\")"
   ]
  },
  {
   "cell_type": "code",
   "execution_count": 107,
   "id": "9f6a5d01",
   "metadata": {},
   "outputs": [
    {
     "data": {
      "text/plain": [
       "True"
      ]
     },
     "execution_count": 107,
     "metadata": {},
     "output_type": "execute_result"
    }
   ],
   "source": [
    "s = \"Hello, world!\"\n",
    "s.endswith(\"world!\")"
   ]
  },
  {
   "cell_type": "code",
   "execution_count": 108,
   "id": "b6935fdd",
   "metadata": {},
   "outputs": [
    {
     "data": {
      "text/plain": [
       "4"
      ]
     },
     "execution_count": 108,
     "metadata": {},
     "output_type": "execute_result"
    }
   ],
   "source": [
    "s = \"Hello, world!\"\n",
    "s.find(\"o\")"
   ]
  },
  {
   "cell_type": "code",
   "execution_count": 109,
   "id": "b5e3c65d",
   "metadata": {},
   "outputs": [
    {
     "data": {
      "text/plain": [
       "4"
      ]
     },
     "execution_count": 109,
     "metadata": {},
     "output_type": "execute_result"
    }
   ],
   "source": [
    "s = \"Hello, world!\"\n",
    "s.index(\"o\")"
   ]
  },
  {
   "cell_type": "code",
   "execution_count": 110,
   "id": "dc518e76",
   "metadata": {},
   "outputs": [
    {
     "data": {
      "text/plain": [
       "True"
      ]
     },
     "execution_count": 110,
     "metadata": {},
     "output_type": "execute_result"
    }
   ],
   "source": [
    "s = \"Letters\"\n",
    "s.isalpha()"
   ]
  },
  {
   "cell_type": "code",
   "execution_count": 111,
   "id": "d4aaea43",
   "metadata": {},
   "outputs": [
    {
     "data": {
      "text/plain": [
       "True"
      ]
     },
     "execution_count": 111,
     "metadata": {},
     "output_type": "execute_result"
    }
   ],
   "source": [
    "s = \"123\"\n",
    "s.isdigit()"
   ]
  },
  {
   "cell_type": "code",
   "execution_count": 112,
   "id": "f29506b2",
   "metadata": {},
   "outputs": [
    {
     "data": {
      "text/plain": [
       "True"
      ]
     },
     "execution_count": 112,
     "metadata": {},
     "output_type": "execute_result"
    }
   ],
   "source": [
    "s = \"word123\"\n",
    "s.islower()"
   ]
  },
  {
   "cell_type": "code",
   "execution_count": 113,
   "id": "09b10f91",
   "metadata": {},
   "outputs": [
    {
     "data": {
      "text/plain": [
       "True"
      ]
     },
     "execution_count": 113,
     "metadata": {},
     "output_type": "execute_result"
    }
   ],
   "source": [
    "s = \"WORD123\"\n",
    "s.isupper()"
   ]
  },
  {
   "cell_type": "code",
   "execution_count": 114,
   "id": "29fff2ce",
   "metadata": {},
   "outputs": [
    {
     "data": {
      "text/plain": [
       "'1; 2; 3'"
      ]
     },
     "execution_count": 114,
     "metadata": {},
     "output_type": "execute_result"
    }
   ],
   "source": [
    "a = [\"1\", \"2\", \"3\"]\n",
    "\"; \".join(a)"
   ]
  },
  {
   "cell_type": "code",
   "execution_count": 115,
   "id": "52981aac",
   "metadata": {},
   "outputs": [
    {
     "data": {
      "text/plain": [
       "'text======'"
      ]
     },
     "execution_count": 115,
     "metadata": {},
     "output_type": "execute_result"
    }
   ],
   "source": [
    "s = \"text\"\n",
    "s.ljust(10, \"=\")"
   ]
  },
  {
   "cell_type": "code",
   "execution_count": 116,
   "id": "5d16bc55",
   "metadata": {},
   "outputs": [
    {
     "data": {
      "text/plain": [
       "'ABCstring'"
      ]
     },
     "execution_count": 116,
     "metadata": {},
     "output_type": "execute_result"
    }
   ],
   "source": [
    "s = \"ABCstringBCCA\"\n",
    "s.rstrip(\"ABC\")"
   ]
  },
  {
   "cell_type": "code",
   "execution_count": 117,
   "id": "c628affc",
   "metadata": {},
   "outputs": [
    {
     "data": {
      "text/plain": [
       "'stringBCCA'"
      ]
     },
     "execution_count": 117,
     "metadata": {},
     "output_type": "execute_result"
    }
   ],
   "source": [
    "s = \"ABCstringBCCA\"\n",
    "s.lstrip(\"ABC\")"
   ]
  },
  {
   "cell_type": "code",
   "execution_count": 118,
   "id": "3aad9314",
   "metadata": {},
   "outputs": [
    {
     "data": {
      "text/plain": [
       "'string'"
      ]
     },
     "execution_count": 118,
     "metadata": {},
     "output_type": "execute_result"
    }
   ],
   "source": [
    "s = \"ABCstringBCCA\"\n",
    "s.strip(\"ABC\")"
   ]
  },
  {
   "cell_type": "code",
   "execution_count": 119,
   "id": "33c6b6ab",
   "metadata": {},
   "outputs": [
    {
     "data": {
      "text/plain": [
       "['one', 'two', 'three']"
      ]
     },
     "execution_count": 119,
     "metadata": {},
     "output_type": "execute_result"
    }
   ],
   "source": [
    "s = \"one, two, three\"\n",
    "s.split(\", \")"
   ]
  },
  {
   "cell_type": "code",
   "execution_count": 120,
   "id": "4fd87e0f",
   "metadata": {},
   "outputs": [
    {
     "data": {
      "text/plain": [
       "True"
      ]
     },
     "execution_count": 120,
     "metadata": {},
     "output_type": "execute_result"
    }
   ],
   "source": [
    "s = \"Hello, world!\"\n",
    "s.startswith(\"Hello\")"
   ]
  },
  {
   "cell_type": "code",
   "execution_count": 121,
   "id": "23d512fa",
   "metadata": {},
   "outputs": [
    {
     "data": {
      "text/plain": [
       "'Hello, world!'"
      ]
     },
     "execution_count": 121,
     "metadata": {},
     "output_type": "execute_result"
    }
   ],
   "source": [
    "s = \"abc Hello, world! cba\"\n",
    "s.strip(\" abc\")"
   ]
  },
  {
   "cell_type": "code",
   "execution_count": 122,
   "id": "98ea81f4",
   "metadata": {},
   "outputs": [
    {
     "data": {
      "text/plain": [
       "'Hello, World!'"
      ]
     },
     "execution_count": 122,
     "metadata": {},
     "output_type": "execute_result"
    }
   ],
   "source": [
    "s = \"hello, world!\"\n",
    "s.title()"
   ]
  },
  {
   "cell_type": "code",
   "execution_count": 123,
   "id": "c532d887",
   "metadata": {},
   "outputs": [
    {
     "data": {
      "text/plain": [
       "'HELLO, WORLD!'"
      ]
     },
     "execution_count": 123,
     "metadata": {},
     "output_type": "execute_result"
    }
   ],
   "source": [
    "s = \"Hello, world!\"\n",
    "s.upper()"
   ]
  },
  {
   "cell_type": "code",
   "execution_count": 124,
   "id": "6ae45522",
   "metadata": {},
   "outputs": [
    {
     "data": {
      "text/plain": [
       "'00123'"
      ]
     },
     "execution_count": 124,
     "metadata": {},
     "output_type": "execute_result"
    }
   ],
   "source": [
    "s = \"123\"\n",
    "s.zfill(5)"
   ]
  },
  {
   "cell_type": "markdown",
   "id": "79a473e1",
   "metadata": {},
   "source": [
    "### 14 Списки"
   ]
  },
  {
   "cell_type": "markdown",
   "id": "4f2d2a55",
   "metadata": {},
   "source": [
    "### Пример создания"
   ]
  },
  {
   "cell_type": "code",
   "execution_count": 125,
   "id": "2bd9b077",
   "metadata": {},
   "outputs": [],
   "source": [
    "numbers = [10, 20, 30]"
   ]
  },
  {
   "cell_type": "code",
   "execution_count": 126,
   "id": "b71e456c",
   "metadata": {},
   "outputs": [
    {
     "data": {
      "text/plain": [
       "[10, 20, 30]"
      ]
     },
     "execution_count": 126,
     "metadata": {},
     "output_type": "execute_result"
    }
   ],
   "source": [
    "numbers"
   ]
  },
  {
   "cell_type": "code",
   "execution_count": 127,
   "id": "4b1f835e",
   "metadata": {},
   "outputs": [],
   "source": [
    "mixed_list = [10, 20.55, \"text\"]"
   ]
  },
  {
   "cell_type": "code",
   "execution_count": 128,
   "id": "f6866173",
   "metadata": {},
   "outputs": [
    {
     "data": {
      "text/plain": [
       "[10, 20.55, 'text']"
      ]
     },
     "execution_count": 128,
     "metadata": {},
     "output_type": "execute_result"
    }
   ],
   "source": [
    "mixed_list"
   ]
  },
  {
   "cell_type": "code",
   "execution_count": 129,
   "id": "2d80e361",
   "metadata": {},
   "outputs": [
    {
     "name": "stdout",
     "output_type": "stream",
     "text": [
      "10\n",
      "50\n",
      "[20, 30]\n",
      "[50, 40, 30, 20, 10]\n"
     ]
    }
   ],
   "source": [
    "numbers = [10, 20, 30, 40, 50]\n",
    "print(numbers[0])\n",
    "print(numbers[-1])\n",
    "print(numbers[1:3])\n",
    "print(numbers[::-1])"
   ]
  },
  {
   "cell_type": "markdown",
   "id": "3279e079",
   "metadata": {},
   "source": [
    "### Список - изменяемая коллекция!"
   ]
  },
  {
   "cell_type": "code",
   "execution_count": 130,
   "id": "9bef5826",
   "metadata": {},
   "outputs": [
    {
     "name": "stdout",
     "output_type": "stream",
     "text": [
      "[10, 20, 30]\n"
     ]
    }
   ],
   "source": [
    "numbers = [10, 20, 50]\n",
    "numbers[2] = 30\n",
    "print(numbers)"
   ]
  },
  {
   "cell_type": "markdown",
   "id": "78735075",
   "metadata": {},
   "source": [
    "### Append для добавления элементов в конец"
   ]
  },
  {
   "cell_type": "code",
   "execution_count": 132,
   "id": "4b2a7802",
   "metadata": {},
   "outputs": [
    {
     "name": "stdout",
     "output_type": "stream",
     "text": [
      "1\n",
      "2\n",
      "3\n",
      "[1, 2, 3]\n"
     ]
    }
   ],
   "source": [
    "numbers = []\n",
    "for i in range(3):\n",
    "    numbers.append(int(input()))\n",
    "print(numbers)"
   ]
  },
  {
   "cell_type": "markdown",
   "id": "f2ad459b",
   "metadata": {},
   "source": [
    "### Удаление элементов из списка"
   ]
  },
  {
   "cell_type": "code",
   "execution_count": 133,
   "id": "80fa8ef3",
   "metadata": {},
   "outputs": [
    {
     "name": "stdout",
     "output_type": "stream",
     "text": [
      "[10, 20]\n"
     ]
    }
   ],
   "source": [
    "numbers = [10, 20, 50]\n",
    "del numbers[-1]\n",
    "print(numbers)"
   ]
  },
  {
   "cell_type": "markdown",
   "id": "f4f73417",
   "metadata": {},
   "source": [
    "### Удаление нескольких элементов"
   ]
  },
  {
   "cell_type": "code",
   "execution_count": 134,
   "id": "1be44071",
   "metadata": {},
   "outputs": [
    {
     "name": "stdout",
     "output_type": "stream",
     "text": [
      "[2, 4]\n"
     ]
    }
   ],
   "source": [
    "numbers = [1, 2, 3, 4, 5]\n",
    "del numbers[::2]\n",
    "print(numbers)"
   ]
  },
  {
   "cell_type": "markdown",
   "id": "daf33a31",
   "metadata": {},
   "source": [
    "### Полезные возможности списков"
   ]
  },
  {
   "cell_type": "code",
   "execution_count": 137,
   "id": "5f70ca60",
   "metadata": {},
   "outputs": [
    {
     "data": {
      "text/plain": [
       "True"
      ]
     },
     "execution_count": 137,
     "metadata": {},
     "output_type": "execute_result"
    }
   ],
   "source": [
    "1 in [1, 2, 3]"
   ]
  },
  {
   "cell_type": "code",
   "execution_count": 138,
   "id": "c5665bff",
   "metadata": {},
   "outputs": [
    {
     "data": {
      "text/plain": [
       "True"
      ]
     },
     "execution_count": 138,
     "metadata": {},
     "output_type": "execute_result"
    }
   ],
   "source": [
    "4 not in [1, 2, 3]"
   ]
  },
  {
   "cell_type": "code",
   "execution_count": 139,
   "id": "a7a8bcef",
   "metadata": {},
   "outputs": [
    {
     "data": {
      "text/plain": [
       "[1, 2, 3, 4, 5]"
      ]
     },
     "execution_count": 139,
     "metadata": {},
     "output_type": "execute_result"
    }
   ],
   "source": [
    "[1, 2] + [3, 4, 5]"
   ]
  },
  {
   "cell_type": "code",
   "execution_count": 140,
   "id": "020da901",
   "metadata": {},
   "outputs": [
    {
     "data": {
      "text/plain": [
       "[1, 2, 3, 1, 2, 3, 1, 2, 3]"
      ]
     },
     "execution_count": 140,
     "metadata": {},
     "output_type": "execute_result"
    }
   ],
   "source": [
    "[1, 2, 3] * 3"
   ]
  },
  {
   "cell_type": "code",
   "execution_count": 141,
   "id": "fe6c9072",
   "metadata": {},
   "outputs": [
    {
     "data": {
      "text/plain": [
       "3"
      ]
     },
     "execution_count": 141,
     "metadata": {},
     "output_type": "execute_result"
    }
   ],
   "source": [
    "len([1, 2, 3])"
   ]
  },
  {
   "cell_type": "code",
   "execution_count": 142,
   "id": "36569e6f",
   "metadata": {},
   "outputs": [
    {
     "data": {
      "text/plain": [
       "1"
      ]
     },
     "execution_count": 142,
     "metadata": {},
     "output_type": "execute_result"
    }
   ],
   "source": [
    "min([1, 2, 3])"
   ]
  },
  {
   "cell_type": "code",
   "execution_count": 143,
   "id": "30ff950a",
   "metadata": {},
   "outputs": [
    {
     "data": {
      "text/plain": [
       "3"
      ]
     },
     "execution_count": 143,
     "metadata": {},
     "output_type": "execute_result"
    }
   ],
   "source": [
    "max([1, 2, 3])"
   ]
  },
  {
   "cell_type": "code",
   "execution_count": 146,
   "id": "29f7ff6d",
   "metadata": {},
   "outputs": [
    {
     "data": {
      "text/plain": [
       "1"
      ]
     },
     "execution_count": 146,
     "metadata": {},
     "output_type": "execute_result"
    }
   ],
   "source": [
    "[1, 2, 3, 2, 1].index(2)"
   ]
  },
  {
   "cell_type": "code",
   "execution_count": 147,
   "id": "8913e109",
   "metadata": {},
   "outputs": [
    {
     "data": {
      "text/plain": [
       "4"
      ]
     },
     "execution_count": 147,
     "metadata": {},
     "output_type": "execute_result"
    }
   ],
   "source": [
    "[1, 1, 1, 2, 3, 1].count(1)"
   ]
  },
  {
   "cell_type": "code",
   "execution_count": 148,
   "id": "4227b9fd",
   "metadata": {},
   "outputs": [
    {
     "name": "stdout",
     "output_type": "stream",
     "text": [
      "[1, 2, 3]\n"
     ]
    }
   ],
   "source": [
    "s = [1, 2]\n",
    "s.append(3)\n",
    "print(s)"
   ]
  },
  {
   "cell_type": "code",
   "execution_count": 149,
   "id": "dfd49e70",
   "metadata": {},
   "outputs": [
    {
     "name": "stdout",
     "output_type": "stream",
     "text": [
      "[]\n"
     ]
    }
   ],
   "source": [
    "s = [1, 2, 3]\n",
    "s.clear()\n",
    "print(s)"
   ]
  },
  {
   "cell_type": "code",
   "execution_count": 150,
   "id": "a9d40923",
   "metadata": {},
   "outputs": [
    {
     "data": {
      "text/plain": [
       "[1, 2, 3]"
      ]
     },
     "execution_count": 150,
     "metadata": {},
     "output_type": "execute_result"
    }
   ],
   "source": [
    "[1, 2, 3].copy()"
   ]
  },
  {
   "cell_type": "code",
   "execution_count": 151,
   "id": "a8af860a",
   "metadata": {},
   "outputs": [
    {
     "name": "stdout",
     "output_type": "stream",
     "text": [
      "[1, 2, 3, 4, 5]\n"
     ]
    }
   ],
   "source": [
    "s = [1, 2, 3]\n",
    "s.extend([4, 5])\n",
    "print(s)"
   ]
  },
  {
   "cell_type": "code",
   "execution_count": 152,
   "id": "4801f347",
   "metadata": {},
   "outputs": [
    {
     "name": "stdout",
     "output_type": "stream",
     "text": [
      "[1, 2, 3, 4]\n"
     ]
    }
   ],
   "source": [
    "s = [1, 3, 4]\n",
    "s.insert(1, 2)\n",
    "print(s)"
   ]
  },
  {
   "cell_type": "code",
   "execution_count": 153,
   "id": "319d8bd9",
   "metadata": {},
   "outputs": [
    {
     "name": "stdout",
     "output_type": "stream",
     "text": [
      "3\n",
      "[1, 2]\n"
     ]
    }
   ],
   "source": [
    "s = [1, 2, 3]\n",
    "x = s.pop()\n",
    "print(x)\n",
    "print(s)"
   ]
  },
  {
   "cell_type": "code",
   "execution_count": 154,
   "id": "fec22e6a",
   "metadata": {},
   "outputs": [
    {
     "name": "stdout",
     "output_type": "stream",
     "text": [
      "[1, 3, 2, 1]\n"
     ]
    }
   ],
   "source": [
    "s = [1, 2, 3, 2, 1]\n",
    "s.remove(2)\n",
    "print(s)"
   ]
  },
  {
   "cell_type": "code",
   "execution_count": 155,
   "id": "4df0b14f",
   "metadata": {},
   "outputs": [
    {
     "name": "stdout",
     "output_type": "stream",
     "text": [
      "[3, 2, 1]\n"
     ]
    }
   ],
   "source": [
    "s = [1, 2, 3]\n",
    "s.reverse()\n",
    "print(s)"
   ]
  },
  {
   "cell_type": "code",
   "execution_count": 157,
   "id": "f03bc009",
   "metadata": {},
   "outputs": [
    {
     "name": "stdout",
     "output_type": "stream",
     "text": [
      "[1, 2, 3]\n"
     ]
    }
   ],
   "source": [
    "s = [2, 3, 1]\n",
    "s.sort()\n",
    "print(s)"
   ]
  },
  {
   "cell_type": "code",
   "execution_count": 159,
   "id": "e97aa5f9",
   "metadata": {},
   "outputs": [
    {
     "name": "stdout",
     "output_type": "stream",
     "text": [
      "[1, 2, 3]\n",
      "[2, 3, 1]\n"
     ]
    }
   ],
   "source": [
    "s = [2, 3, 1]\n",
    "print(sorted(s))\n",
    "print(s)"
   ]
  },
  {
   "cell_type": "code",
   "execution_count": 160,
   "id": "ff843d5d",
   "metadata": {},
   "outputs": [
    {
     "name": "stdout",
     "output_type": "stream",
     "text": [
      "[3, 2, 1]\n"
     ]
    }
   ],
   "source": [
    "s = [2, 3, 1]\n",
    "new_s = sorted(s, reverse=True)\n",
    "print(new_s)"
   ]
  },
  {
   "cell_type": "markdown",
   "id": "4a5fa5fd",
   "metadata": {},
   "source": [
    "# 15 Кортежи "
   ]
  },
  {
   "cell_type": "markdown",
   "id": "cac23c95",
   "metadata": {},
   "source": [
    "### Создание кортежа"
   ]
  },
  {
   "cell_type": "code",
   "execution_count": 161,
   "id": "c02984de",
   "metadata": {},
   "outputs": [],
   "source": [
    "numbers = (1, 2, 3, 4, 5)"
   ]
  },
  {
   "cell_type": "code",
   "execution_count": 162,
   "id": "562023e7",
   "metadata": {},
   "outputs": [
    {
     "data": {
      "text/plain": [
       "(1, 2, 3, 4, 5)"
      ]
     },
     "execution_count": 162,
     "metadata": {},
     "output_type": "execute_result"
    }
   ],
   "source": [
    "numbers"
   ]
  },
  {
   "cell_type": "markdown",
   "id": "6757fc18",
   "metadata": {},
   "source": [
    "### Создание кортежа с одним элементом"
   ]
  },
  {
   "cell_type": "code",
   "execution_count": 163,
   "id": "08de8e37",
   "metadata": {},
   "outputs": [
    {
     "data": {
      "text/plain": [
       "1"
      ]
     },
     "execution_count": 163,
     "metadata": {},
     "output_type": "execute_result"
    }
   ],
   "source": [
    "one_number = (1)\n",
    "\n",
    "one_number"
   ]
  },
  {
   "cell_type": "code",
   "execution_count": 164,
   "id": "b7d4d15f",
   "metadata": {},
   "outputs": [
    {
     "data": {
      "text/plain": [
       "(1,)"
      ]
     },
     "execution_count": 164,
     "metadata": {},
     "output_type": "execute_result"
    }
   ],
   "source": [
    "one_number = (1, )\n",
    "\n",
    "one_number"
   ]
  },
  {
   "cell_type": "code",
   "execution_count": 165,
   "id": "b79330af",
   "metadata": {},
   "outputs": [
    {
     "data": {
      "text/plain": [
       "1"
      ]
     },
     "execution_count": 165,
     "metadata": {},
     "output_type": "execute_result"
    }
   ],
   "source": [
    "len(one_number)"
   ]
  },
  {
   "cell_type": "markdown",
   "id": "db805e1d",
   "metadata": {},
   "source": [
    "### Операция перемены значений между переменными"
   ]
  },
  {
   "cell_type": "code",
   "execution_count": 166,
   "id": "efa5a696",
   "metadata": {},
   "outputs": [
    {
     "name": "stdout",
     "output_type": "stream",
     "text": [
      "a = 2, b = 1\n"
     ]
    }
   ],
   "source": [
    "a = 1\n",
    "b = 2\n",
    "(a, b) = (b, a)\n",
    "# можно опустить круглые скобки и записать так a, b = b, a\n",
    "print(f\"a = {a}, b = {b}\")"
   ]
  },
  {
   "cell_type": "markdown",
   "id": "49472adc",
   "metadata": {},
   "source": [
    "### Приведение типов"
   ]
  },
  {
   "cell_type": "code",
   "execution_count": 168,
   "id": "197e9dbf",
   "metadata": {},
   "outputs": [
    {
     "name": "stdout",
     "output_type": "stream",
     "text": [
      "['П', 'р', 'и', 'в', 'е', 'т', ',', ' ', 'м', 'и', 'р', '!']\n",
      "('П', 'р', 'и', 'в', 'е', 'т', ',', ' ', 'м', 'и', 'р', '!')\n",
      "['П', 'р', 'и', 'в', 'е', 'т', ',', ' ', 'м', 'и', 'р', '!']\n",
      "[\n"
     ]
    }
   ],
   "source": [
    "text = \"Привет, мир!\"\n",
    "list_symbols = list(text)\n",
    "tuple_symbols = tuple(text)\n",
    "text_from_list = str(list_symbols)\n",
    "print(list_symbols)\n",
    "print(tuple_symbols)\n",
    "print(text_from_list)\n",
    "print(text_from_list[0])"
   ]
  },
  {
   "cell_type": "markdown",
   "id": "76372855",
   "metadata": {},
   "source": [
    "# 16 Изменяемые и неизменяемые типы"
   ]
  },
  {
   "cell_type": "markdown",
   "id": "15d25b91",
   "metadata": {},
   "source": [
    "### id - функция, которая возвращает идентификатор объекта в памяти"
   ]
  },
  {
   "cell_type": "code",
   "execution_count": 169,
   "id": "341e0fb8",
   "metadata": {},
   "outputs": [
    {
     "name": "stdout",
     "output_type": "stream",
     "text": [
      "Help on built-in function id in module builtins:\n",
      "\n",
      "id(obj, /)\n",
      "    Return the identity of an object.\n",
      "    \n",
      "    This is guaranteed to be unique among simultaneously existing objects.\n",
      "    (CPython uses the object's memory address.)\n",
      "\n"
     ]
    }
   ],
   "source": [
    "help(id)"
   ]
  },
  {
   "cell_type": "code",
   "execution_count": null,
   "id": "7cb5533c",
   "metadata": {},
   "outputs": [],
   "source": []
  },
  {
   "cell_type": "code",
   "execution_count": 170,
   "id": "d4cf5409",
   "metadata": {},
   "outputs": [
    {
     "data": {
      "text/plain": [
       "4386184080"
      ]
     },
     "execution_count": 170,
     "metadata": {},
     "output_type": "execute_result"
    }
   ],
   "source": [
    "a = 1\n",
    "\n",
    "id(a)"
   ]
  },
  {
   "cell_type": "code",
   "execution_count": 171,
   "id": "4b1318a6",
   "metadata": {},
   "outputs": [
    {
     "data": {
      "text/plain": [
       "4386184080"
      ]
     },
     "execution_count": 171,
     "metadata": {},
     "output_type": "execute_result"
    }
   ],
   "source": [
    "id(1)"
   ]
  },
  {
   "cell_type": "code",
   "execution_count": null,
   "id": "255a3805",
   "metadata": {},
   "outputs": [],
   "source": []
  },
  {
   "cell_type": "code",
   "execution_count": 172,
   "id": "b004c747",
   "metadata": {},
   "outputs": [
    {
     "data": {
      "text/plain": [
       "4590920240"
      ]
     },
     "execution_count": 172,
     "metadata": {},
     "output_type": "execute_result"
    }
   ],
   "source": [
    "a = 'strstr'\n",
    "id(a)"
   ]
  },
  {
   "cell_type": "code",
   "execution_count": 173,
   "id": "6c17791a",
   "metadata": {},
   "outputs": [
    {
     "data": {
      "text/plain": [
       "4590920240"
      ]
     },
     "execution_count": 173,
     "metadata": {},
     "output_type": "execute_result"
    }
   ],
   "source": [
    "id('strstr')"
   ]
  },
  {
   "cell_type": "code",
   "execution_count": 174,
   "id": "28de5ffa",
   "metadata": {},
   "outputs": [
    {
     "data": {
      "text/plain": [
       "4590920240"
      ]
     },
     "execution_count": 174,
     "metadata": {},
     "output_type": "execute_result"
    }
   ],
   "source": [
    "b =  'strstr'\n",
    "id(b)"
   ]
  },
  {
   "cell_type": "code",
   "execution_count": 175,
   "id": "2624f4a4",
   "metadata": {},
   "outputs": [
    {
     "data": {
      "text/plain": [
       "4590772352"
      ]
     },
     "execution_count": 175,
     "metadata": {},
     "output_type": "execute_result"
    }
   ],
   "source": [
    "a = [1, 2, 3]\n",
    "id(a)"
   ]
  },
  {
   "cell_type": "code",
   "execution_count": 176,
   "id": "258e2e5c",
   "metadata": {},
   "outputs": [
    {
     "data": {
      "text/plain": [
       "4572116416"
      ]
     },
     "execution_count": 176,
     "metadata": {},
     "output_type": "execute_result"
    }
   ],
   "source": [
    "id([1, 2, 3])"
   ]
  },
  {
   "cell_type": "code",
   "execution_count": 178,
   "id": "4dc828fd",
   "metadata": {},
   "outputs": [
    {
     "name": "stdout",
     "output_type": "stream",
     "text": [
      "4590919680\n",
      "4590919680\n",
      "4579231616\n"
     ]
    }
   ],
   "source": [
    "a = [1, 2, 3]\n",
    "\n",
    "print(id(a))\n",
    "print(id(a))\n",
    "print(id(a.copy()))"
   ]
  },
  {
   "cell_type": "markdown",
   "id": "56a5fe25",
   "metadata": {},
   "source": [
    "# 17 Множества"
   ]
  },
  {
   "cell_type": "markdown",
   "id": "e9bef337",
   "metadata": {},
   "source": [
    "### Задание множества"
   ]
  },
  {
   "cell_type": "code",
   "execution_count": 179,
   "id": "862ce80d",
   "metadata": {},
   "outputs": [],
   "source": [
    "vowels = {\"а\", \"е\", \"ё\", \"и\", \"о\", \"у\", \"ы\", \"э\", \"ю\", \"я\"}"
   ]
  },
  {
   "cell_type": "code",
   "execution_count": 180,
   "id": "b393497f",
   "metadata": {},
   "outputs": [
    {
     "name": "stdout",
     "output_type": "stream",
     "text": [
      "Длина пустого множества равна 0.\n"
     ]
    }
   ],
   "source": [
    "empty_set = set()\n",
    "print(f\"Длина пустого множества равна {len(empty_set)}.\")"
   ]
  },
  {
   "cell_type": "code",
   "execution_count": 181,
   "id": "bd7a65d2",
   "metadata": {},
   "outputs": [
    {
     "name": "stdout",
     "output_type": "stream",
     "text": [
      "{'л', 'я', 'и', 'ц', 'к', 'о', 'е'}\n"
     ]
    }
   ],
   "source": [
    "word = \"коллекция\"\n",
    "letters = set(word)\n",
    "print(letters)"
   ]
  },
  {
   "cell_type": "code",
   "execution_count": 182,
   "id": "657f5c17",
   "metadata": {},
   "outputs": [
    {
     "data": {
      "text/plain": [
       "9"
      ]
     },
     "execution_count": 182,
     "metadata": {},
     "output_type": "execute_result"
    }
   ],
   "source": [
    "len(word)"
   ]
  },
  {
   "cell_type": "code",
   "execution_count": 183,
   "id": "027d83df",
   "metadata": {},
   "outputs": [
    {
     "data": {
      "text/plain": [
       "7"
      ]
     },
     "execution_count": 183,
     "metadata": {},
     "output_type": "execute_result"
    }
   ],
   "source": [
    "len(letters)"
   ]
  },
  {
   "cell_type": "markdown",
   "id": "6be99afa",
   "metadata": {},
   "source": [
    "### Оператор in"
   ]
  },
  {
   "cell_type": "code",
   "execution_count": 184,
   "id": "8af82b08",
   "metadata": {},
   "outputs": [
    {
     "name": "stdout",
     "output_type": "stream",
     "text": [
      "Введите букву русского алфавита: п\n",
      "Согласная буква\n"
     ]
    }
   ],
   "source": [
    "vowels = {\"а\", \"е\", \"ё\", \"и\", \"о\", \"у\", \"ы\", \"э\", \"ю\", \"я\"}\n",
    "letter = input(\"Введите букву русского алфавита: \")\n",
    "if letter.lower() in vowels:\n",
    "    print(\"Гласная буква\")\n",
    "else:\n",
    "    print(\"Согласная буква\")"
   ]
  },
  {
   "cell_type": "markdown",
   "id": "53379c56",
   "metadata": {},
   "source": [
    "### Проход в цикле по элементам"
   ]
  },
  {
   "cell_type": "code",
   "execution_count": 185,
   "id": "703c6714",
   "metadata": {},
   "outputs": [
    {
     "name": "stdout",
     "output_type": "stream",
     "text": [
      "ё\n",
      "ы\n",
      "э\n",
      "у\n",
      "и\n",
      "я\n",
      "а\n",
      "о\n",
      "е\n",
      "ю\n"
     ]
    }
   ],
   "source": [
    "vowels = {\"а\", \"е\", \"ё\", \"и\", \"о\", \"у\", \"ы\", \"э\", \"ю\", \"я\"}\n",
    "for letter in vowels:\n",
    "    print(letter)"
   ]
  },
  {
   "cell_type": "markdown",
   "id": "485d88dd",
   "metadata": {},
   "source": [
    "### Объединение множеств"
   ]
  },
  {
   "cell_type": "code",
   "execution_count": 186,
   "id": "6d1de415",
   "metadata": {},
   "outputs": [
    {
     "name": "stdout",
     "output_type": "stream",
     "text": [
      "{1, 2, 3, 4, 5}\n"
     ]
    }
   ],
   "source": [
    "s_1 = {1, 2, 3}\n",
    "s_2 = {3, 4, 5}\n",
    "# s_union = s_1 | s_2\n",
    "s_union = s_1.union(s_2)\n",
    "print(s_union)"
   ]
  },
  {
   "cell_type": "markdown",
   "id": "7ff4c11e",
   "metadata": {},
   "source": [
    "### Пересечение множеств"
   ]
  },
  {
   "cell_type": "code",
   "execution_count": 187,
   "id": "937d0937",
   "metadata": {},
   "outputs": [
    {
     "name": "stdout",
     "output_type": "stream",
     "text": [
      "{3}\n"
     ]
    }
   ],
   "source": [
    "s_1 = {1, 2, 3}\n",
    "s_2 = {3, 4, 5}\n",
    "# s_intersection = s_1 & s_2\n",
    "s_intersection = s_1.intersection(s_2)\n",
    "print(s_intersection)"
   ]
  },
  {
   "cell_type": "markdown",
   "id": "d7bcece9",
   "metadata": {},
   "source": [
    "### Разность множеств"
   ]
  },
  {
   "cell_type": "code",
   "execution_count": 188,
   "id": "c19f02e5",
   "metadata": {},
   "outputs": [
    {
     "name": "stdout",
     "output_type": "stream",
     "text": [
      "{1, 2}\n"
     ]
    }
   ],
   "source": [
    "s_1 = {1, 2, 3}\n",
    "s_2 = {3, 4, 5}\n",
    "# s_dif = s_1 - s_2\n",
    "s_dif = s_1.difference(s_2)\n",
    "print(s_dif)"
   ]
  },
  {
   "cell_type": "markdown",
   "id": "990f1a76",
   "metadata": {},
   "source": [
    "### Симметрическая разность"
   ]
  },
  {
   "cell_type": "code",
   "execution_count": 189,
   "id": "563c6199",
   "metadata": {},
   "outputs": [
    {
     "name": "stdout",
     "output_type": "stream",
     "text": [
      "{1, 2, 4, 5}\n"
     ]
    }
   ],
   "source": [
    "s_1 = {1, 2, 3}\n",
    "s_2 = {3, 4, 5}\n",
    "# s_sym_dif = s_1 ^ s_2\n",
    "s_sym_dif = s_1.symmetric_difference(s_2)\n",
    "print(s_sym_dif)"
   ]
  },
  {
   "cell_type": "markdown",
   "id": "0f67da21",
   "metadata": {},
   "source": [
    "### Пример использования операций"
   ]
  },
  {
   "cell_type": "code",
   "execution_count": 190,
   "id": "f2ec09e3",
   "metadata": {},
   "outputs": [
    {
     "name": "stdout",
     "output_type": "stream",
     "text": [
      "{'л', 'я', 'и', 'ц', 'к', 'о', 'е'}\n",
      "о, е, я, и\n"
     ]
    }
   ],
   "source": [
    "vowels = {\"а\", \"е\", \"ё\", \"и\", \"о\", \"у\", \"ы\", \"э\", \"ю\", \"я\"}\n",
    "letters = set(\"коллекция\")\n",
    "print(letters)\n",
    "print(\", \".join(letters & vowels))"
   ]
  },
  {
   "cell_type": "markdown",
   "id": "27d071fa",
   "metadata": {},
   "source": [
    "### Совпадение множеств"
   ]
  },
  {
   "cell_type": "code",
   "execution_count": 191,
   "id": "fac94caa",
   "metadata": {},
   "outputs": [
    {
     "name": "stdout",
     "output_type": "stream",
     "text": [
      "True\n"
     ]
    }
   ],
   "source": [
    "s_1 = {1, 2, 3}\n",
    "s_2 = {3, 1, 2}\n",
    "print(s_1 == s_2)"
   ]
  },
  {
   "cell_type": "markdown",
   "id": "e6019890",
   "metadata": {},
   "source": [
    "### Подмножество"
   ]
  },
  {
   "cell_type": "code",
   "execution_count": 192,
   "id": "dff341b7",
   "metadata": {},
   "outputs": [
    {
     "name": "stdout",
     "output_type": "stream",
     "text": [
      "True\n"
     ]
    }
   ],
   "source": [
    "s_1 = {1, 2, 3}\n",
    "s_2 = {1, 2, 3, 4}\n",
    "print(s_1 <= s_2)"
   ]
  },
  {
   "cell_type": "markdown",
   "id": "beac5f42",
   "metadata": {},
   "source": [
    "### Примеры операций"
   ]
  },
  {
   "cell_type": "code",
   "execution_count": 193,
   "id": "6b454f04",
   "metadata": {},
   "outputs": [
    {
     "name": "stdout",
     "output_type": "stream",
     "text": [
      "{1}\n"
     ]
    }
   ],
   "source": [
    "s = set()\n",
    "s.add(1)\n",
    "print(s)"
   ]
  },
  {
   "cell_type": "code",
   "execution_count": 194,
   "id": "99a1c0ed",
   "metadata": {},
   "outputs": [
    {
     "name": "stdout",
     "output_type": "stream",
     "text": [
      "{1, 3}\n"
     ]
    }
   ],
   "source": [
    "s = {1, 2, 3}\n",
    "s.remove(2)\n",
    "print(s)"
   ]
  },
  {
   "cell_type": "code",
   "execution_count": 198,
   "id": "a791c4fa",
   "metadata": {},
   "outputs": [
    {
     "name": "stdout",
     "output_type": "stream",
     "text": [
      "{1, 3}\n"
     ]
    }
   ],
   "source": [
    "s = {1, 2, 3}\n",
    "s.discard(2)\n",
    "print(s)"
   ]
  },
  {
   "cell_type": "code",
   "execution_count": 199,
   "id": "ded3e268",
   "metadata": {},
   "outputs": [
    {
     "name": "stdout",
     "output_type": "stream",
     "text": [
      "1\n",
      "{2, 3}\n"
     ]
    }
   ],
   "source": [
    "s = {1, 2, 3}\n",
    "x = s.pop()\n",
    "print(x)\n",
    "print(s)"
   ]
  },
  {
   "cell_type": "code",
   "execution_count": 200,
   "id": "7e96428c",
   "metadata": {},
   "outputs": [
    {
     "name": "stdout",
     "output_type": "stream",
     "text": [
      "set()\n"
     ]
    }
   ],
   "source": [
    "s = {1, 2, 3}\n",
    "s.clear()\n",
    "print(s)"
   ]
  },
  {
   "cell_type": "markdown",
   "id": "712b4e4e",
   "metadata": {},
   "source": [
    "# 18 Словари"
   ]
  },
  {
   "cell_type": "markdown",
   "id": "f5569743",
   "metadata": {},
   "source": [
    "### Задание словаря"
   ]
  },
  {
   "cell_type": "code",
   "execution_count": 201,
   "id": "5be23f0b",
   "metadata": {},
   "outputs": [],
   "source": [
    "countries_and_capitals = [(\"Россия\", \"Москва\"), (\"США\", \"Вашингтон\"), (\"Франция\", \"Париж\")]"
   ]
  },
  {
   "cell_type": "code",
   "execution_count": 202,
   "id": "5a8ce275",
   "metadata": {},
   "outputs": [
    {
     "data": {
      "text/plain": [
       "[('Россия', 'Москва'), ('США', 'Вашингтон'), ('Франция', 'Париж')]"
      ]
     },
     "execution_count": 202,
     "metadata": {},
     "output_type": "execute_result"
    }
   ],
   "source": [
    "countries_and_capitals"
   ]
  },
  {
   "cell_type": "markdown",
   "id": "70197790",
   "metadata": {},
   "source": [
    "### Поиск нужного ключа"
   ]
  },
  {
   "cell_type": "code",
   "execution_count": 203,
   "id": "64bd3cf7",
   "metadata": {},
   "outputs": [
    {
     "name": "stdout",
     "output_type": "stream",
     "text": [
      "Париж\n"
     ]
    }
   ],
   "source": [
    "countries_and_capitals = [(\"Россия\", \"Москва\"), (\"США\", \"Вашингтон\"), (\"Франция\", \"Париж\")]\n",
    "for country in countries_and_capitals:\n",
    "    if country[0] == \"Франция\":\n",
    "        print(country[1])\n",
    "        break"
   ]
  },
  {
   "cell_type": "markdown",
   "id": "022571db",
   "metadata": {},
   "source": [
    "### Получение значения по ключу"
   ]
  },
  {
   "cell_type": "code",
   "execution_count": 204,
   "id": "e676e93a",
   "metadata": {},
   "outputs": [
    {
     "name": "stdout",
     "output_type": "stream",
     "text": [
      "Париж\n"
     ]
    }
   ],
   "source": [
    "countries_and_capitals = {\"Россия\": \"Москва\",\n",
    "                          \"США\": \"Вашингтон\",\n",
    "                          \"Франция\": \"Париж\"}\n",
    "print(countries_and_capitals[\"Франция\"])"
   ]
  },
  {
   "cell_type": "markdown",
   "id": "f7637fa4",
   "metadata": {},
   "source": [
    "### Добавление значения"
   ]
  },
  {
   "cell_type": "code",
   "execution_count": 205,
   "id": "b7ce97e6",
   "metadata": {},
   "outputs": [
    {
     "name": "stdout",
     "output_type": "stream",
     "text": [
      "{'Россия': 'Москва', 'США': 'Вашингтон', 'Франция': 'Париж', 'Сербия': 'Белград'}\n"
     ]
    }
   ],
   "source": [
    "countries_and_capitals = {\"Россия\": \"Москва\",\n",
    "                          \"США\": \"Вашингтон\",\n",
    "                          \"Франция\": \"Париж\"}\n",
    "countries_and_capitals[\"Сербия\"] = \"Белград\"\n",
    "print(countries_and_capitals)"
   ]
  },
  {
   "cell_type": "code",
   "execution_count": 206,
   "id": "16cb3cf2",
   "metadata": {},
   "outputs": [
    {
     "name": "stdout",
     "output_type": "stream",
     "text": [
      "new_value\n"
     ]
    }
   ],
   "source": [
    "d = {\"key\": \"old_value\"}\n",
    "d[\"key\"] = \"new_value\"\n",
    "print(d[\"key\"])"
   ]
  },
  {
   "cell_type": "markdown",
   "id": "370b947c",
   "metadata": {},
   "source": [
    "### Получение значения по несуществующему ключу"
   ]
  },
  {
   "cell_type": "code",
   "execution_count": 207,
   "id": "4e695af2",
   "metadata": {},
   "outputs": [
    {
     "ename": "KeyError",
     "evalue": "'Сербия'",
     "output_type": "error",
     "traceback": [
      "\u001b[0;31m---------------------------------------------------------------------------\u001b[0m",
      "\u001b[0;31mKeyError\u001b[0m                                  Traceback (most recent call last)",
      "Cell \u001b[0;32mIn[207], line 4\u001b[0m\n\u001b[1;32m      1\u001b[0m countries_and_capitals \u001b[38;5;241m=\u001b[39m {\u001b[38;5;124m\"\u001b[39m\u001b[38;5;124mРоссия\u001b[39m\u001b[38;5;124m\"\u001b[39m: \u001b[38;5;124m\"\u001b[39m\u001b[38;5;124mМосква\u001b[39m\u001b[38;5;124m\"\u001b[39m,\n\u001b[1;32m      2\u001b[0m                           \u001b[38;5;124m\"\u001b[39m\u001b[38;5;124mСША\u001b[39m\u001b[38;5;124m\"\u001b[39m: \u001b[38;5;124m\"\u001b[39m\u001b[38;5;124mВашингтон\u001b[39m\u001b[38;5;124m\"\u001b[39m,\n\u001b[1;32m      3\u001b[0m                           \u001b[38;5;124m\"\u001b[39m\u001b[38;5;124mФранция\u001b[39m\u001b[38;5;124m\"\u001b[39m: \u001b[38;5;124m\"\u001b[39m\u001b[38;5;124mПариж\u001b[39m\u001b[38;5;124m\"\u001b[39m}\n\u001b[0;32m----> 4\u001b[0m \u001b[38;5;28mprint\u001b[39m(\u001b[43mcountries_and_capitals\u001b[49m\u001b[43m[\u001b[49m\u001b[38;5;124;43m\"\u001b[39;49m\u001b[38;5;124;43mСербия\u001b[39;49m\u001b[38;5;124;43m\"\u001b[39;49m\u001b[43m]\u001b[49m)\n",
      "\u001b[0;31mKeyError\u001b[0m: 'Сербия'"
     ]
    }
   ],
   "source": [
    "countries_and_capitals = {\"Россия\": \"Москва\",\n",
    "                          \"США\": \"Вашингтон\",\n",
    "                          \"Франция\": \"Париж\"}\n",
    "print(countries_and_capitals[\"Сербия\"])"
   ]
  },
  {
   "cell_type": "code",
   "execution_count": 209,
   "id": "f003f7c6",
   "metadata": {},
   "outputs": [
    {
     "name": "stdout",
     "output_type": "stream",
     "text": [
      "Страна пока не добавлена в словарь\n"
     ]
    }
   ],
   "source": [
    "countries_and_capitals = {\"Россия\": \"Москва\",\n",
    "                          \"США\": \"Вашингтон\",\n",
    "                          \"Франция\": \"Париж\"}\n",
    "if \"Сербия\" in countries_and_capitals:\n",
    "    print(countries_and_capitals[\"Сербия\"])\n",
    "else:\n",
    "    print(\"Страна пока не добавлена в словарь\")"
   ]
  },
  {
   "cell_type": "markdown",
   "id": "8d425d17",
   "metadata": {},
   "source": [
    "### Обход словаря"
   ]
  },
  {
   "cell_type": "code",
   "execution_count": 210,
   "id": "38a710b8",
   "metadata": {},
   "outputs": [
    {
     "name": "stdout",
     "output_type": "stream",
     "text": [
      "У страны Россия столица — Москва.\n",
      "У страны США столица — Вашингтон.\n",
      "У страны Франция столица — Париж.\n"
     ]
    }
   ],
   "source": [
    "countries_and_capitals = {\"Россия\": \"Москва\",\n",
    "                          \"США\": \"Вашингтон\",\n",
    "                          \"Франция\": \"Париж\"}\n",
    "for country in countries_and_capitals:\n",
    "    print(f\"У страны {country} столица — {countries_and_capitals[country]}.\")"
   ]
  },
  {
   "cell_type": "code",
   "execution_count": 211,
   "id": "1f11c297",
   "metadata": {},
   "outputs": [
    {
     "name": "stdout",
     "output_type": "stream",
     "text": [
      "Россия\n",
      "Россия\n",
      "США\n",
      "США\n",
      "Франция\n",
      "kfdslnfdks,\n",
      "СТОП\n",
      "Россия: [0, 1]\n",
      "США: [2, 3]\n",
      "Франция: [4]\n",
      "kfdslnfdks,: [5]\n"
     ]
    }
   ],
   "source": [
    "# создаём пустой словарь\n",
    "countries = dict()\n",
    "# вводим первую строку до цикла (можно заменить, использовав оператор-морж)\n",
    "country = input()\n",
    "# создаём счётчик номеров строк\n",
    "str_number = 0\n",
    "# продолжаем цикл, пока не введена строка «СТОП»\n",
    "while country != \"СТОП\":\n",
    "    # если введённой страны нет в словаре, создаём ключ и записываем по ключу список из одного номера строки\n",
    "    if country not in countries:\n",
    "        countries[country] = [str_number]\n",
    "    # иначе добавляем в список по ключу новое значение номера строки\n",
    "    else:\n",
    "        countries[country].append(str_number)\n",
    "    # увеличиваем счётчик\n",
    "    str_number += 1\n",
    "    # вводим следующую строку\n",
    "    country = input()\n",
    "# выводим название страны и полученные списки с новой строки\n",
    "for country in countries:\n",
    "    print(f\"{country}: {countries[country]}\")"
   ]
  },
  {
   "cell_type": "code",
   "execution_count": 212,
   "id": "6ee939aa",
   "metadata": {},
   "outputs": [
    {
     "name": "stdout",
     "output_type": "stream",
     "text": [
      "3\n"
     ]
    }
   ],
   "source": [
    "d = {\"a\": 1, \"b\": 2, \"c\": 3}\n",
    "print(len(d))"
   ]
  },
  {
   "cell_type": "code",
   "execution_count": 213,
   "id": "91ba7d82",
   "metadata": {},
   "outputs": [
    {
     "name": "stdout",
     "output_type": "stream",
     "text": [
      "{'a': 1, 'c': 3}\n"
     ]
    }
   ],
   "source": [
    "d = {\"a\": 1, \"b\": 2, \"c\": 3}\n",
    "del d[\"b\"]\n",
    "print(d)"
   ]
  },
  {
   "cell_type": "code",
   "execution_count": 214,
   "id": "b5b90d91",
   "metadata": {},
   "outputs": [
    {
     "name": "stdout",
     "output_type": "stream",
     "text": [
      "{}\n"
     ]
    }
   ],
   "source": [
    "d = {\"a\": 1, \"b\": 2, \"c\": 3}\n",
    "d.clear()\n",
    "print(d)"
   ]
  },
  {
   "cell_type": "code",
   "execution_count": 215,
   "id": "de125354",
   "metadata": {},
   "outputs": [
    {
     "name": "stdout",
     "output_type": "stream",
     "text": [
      "{'a': 1, 'b': 2, 'c': 3}\n"
     ]
    }
   ],
   "source": [
    "d = {\"a\": 1, \"b\": 2, \"c\": 3}\n",
    "d_new = d.copy()\n",
    "print(d_new)"
   ]
  },
  {
   "cell_type": "code",
   "execution_count": 216,
   "id": "fb2d339d",
   "metadata": {},
   "outputs": [
    {
     "data": {
      "text/plain": [
       "4590962880"
      ]
     },
     "execution_count": 216,
     "metadata": {},
     "output_type": "execute_result"
    }
   ],
   "source": [
    "id(d)"
   ]
  },
  {
   "cell_type": "code",
   "execution_count": 217,
   "id": "f64b5539",
   "metadata": {},
   "outputs": [
    {
     "data": {
      "text/plain": [
       "4590919744"
      ]
     },
     "execution_count": 217,
     "metadata": {},
     "output_type": "execute_result"
    }
   ],
   "source": [
    "id(d_new)"
   ]
  },
  {
   "cell_type": "code",
   "execution_count": 220,
   "id": "aca848ab",
   "metadata": {},
   "outputs": [
    {
     "name": "stdout",
     "output_type": "stream",
     "text": [
      "Ключа нет в словаре\n"
     ]
    }
   ],
   "source": [
    "d = {\"a\": 1, \"b\": 2, \"c\": 3}\n",
    "print(d.get(\"e\", \"Ключа нет в словаре\"))"
   ]
  },
  {
   "cell_type": "code",
   "execution_count": 222,
   "id": "c01c512b",
   "metadata": {},
   "outputs": [
    {
     "name": "stdout",
     "output_type": "stream",
     "text": [
      "a 1\n",
      "b 2\n",
      "c 3\n"
     ]
    }
   ],
   "source": [
    "d = {\"a\": 1, \"b\": 2, \"c\": 3}\n",
    "for key, value in d.items():\n",
    "    print(key, value)"
   ]
  },
  {
   "cell_type": "code",
   "execution_count": 221,
   "id": "8803ab73",
   "metadata": {},
   "outputs": [],
   "source": [
    "# [(\"a\", 1), (\"b\", 2), (\"c\", 3)]"
   ]
  },
  {
   "cell_type": "code",
   "execution_count": 224,
   "id": "2f3ec9a9",
   "metadata": {},
   "outputs": [
    {
     "name": "stdout",
     "output_type": "stream",
     "text": [
      "a\n",
      "b\n",
      "c\n"
     ]
    }
   ],
   "source": [
    "d = {\"a\": 1, \"b\": 2, \"c\": 3}\n",
    "for key in d.keys():\n",
    "    print(key)"
   ]
  },
  {
   "cell_type": "code",
   "execution_count": 223,
   "id": "a8c64c36",
   "metadata": {},
   "outputs": [
    {
     "data": {
      "text/plain": [
       "dict_keys(['a', 'b', 'c'])"
      ]
     },
     "execution_count": 223,
     "metadata": {},
     "output_type": "execute_result"
    }
   ],
   "source": [
    "d.keys()"
   ]
  },
  {
   "cell_type": "code",
   "execution_count": 225,
   "id": "ead872d6",
   "metadata": {},
   "outputs": [
    {
     "name": "stdout",
     "output_type": "stream",
     "text": [
      "1\n",
      "{'b': 2, 'c': 3}\n"
     ]
    }
   ],
   "source": [
    "d = {\"a\": 1, \"b\": 2, \"c\": 3}\n",
    "x = d.pop(\"a\")\n",
    "print(x)\n",
    "print(d)"
   ]
  },
  {
   "cell_type": "code",
   "execution_count": 226,
   "id": "5231848b",
   "metadata": {},
   "outputs": [
    {
     "name": "stdout",
     "output_type": "stream",
     "text": [
      "1\n",
      "2\n",
      "3\n"
     ]
    }
   ],
   "source": [
    "d = {\"a\": 1, \"b\": 2, \"c\": 3}\n",
    "for value in d.values():\n",
    "    print(value)"
   ]
  },
  {
   "cell_type": "markdown",
   "id": "4602819e",
   "metadata": {},
   "source": [
    "# List comperehensions\n",
    "\n",
    "### Обычный"
   ]
  },
  {
   "cell_type": "code",
   "execution_count": 233,
   "id": "51e9cf8a",
   "metadata": {},
   "outputs": [
    {
     "data": {
      "text/plain": [
       "[0, 1, 2, 3, 4, 5, 6, 7, 8, 9, 10, 11, 12, 13, 14]"
      ]
     },
     "execution_count": 233,
     "metadata": {},
     "output_type": "execute_result"
    }
   ],
   "source": [
    "[i for i in range(15)]"
   ]
  },
  {
   "cell_type": "markdown",
   "id": "2868a54c",
   "metadata": {},
   "source": [
    "### Можно делать математические выражения"
   ]
  },
  {
   "cell_type": "code",
   "execution_count": 234,
   "id": "6f24a17e",
   "metadata": {},
   "outputs": [
    {
     "data": {
      "text/plain": [
       "[0, 1, 4, 9, 16, 25, 36, 49, 64, 81, 100, 121, 144, 169, 196]"
      ]
     },
     "execution_count": 234,
     "metadata": {},
     "output_type": "execute_result"
    }
   ],
   "source": [
    "[i * i for i in range(15)]"
   ]
  },
  {
   "cell_type": "markdown",
   "id": "0d6dcc79",
   "metadata": {},
   "source": [
    "### Еще и условие можно добавить"
   ]
  },
  {
   "cell_type": "code",
   "execution_count": 235,
   "id": "0c1ab38e",
   "metadata": {},
   "outputs": [
    {
     "data": {
      "text/plain": [
       "[36, 49, 64, 81, 100, 121, 144, 169, 196]"
      ]
     },
     "execution_count": 235,
     "metadata": {},
     "output_type": "execute_result"
    }
   ],
   "source": [
    "[i * i  for i in range(15) if i > 5]"
   ]
  },
  {
   "cell_type": "markdown",
   "id": "b3c30a24",
   "metadata": {},
   "source": [
    "### Условие можно еще и с else"
   ]
  },
  {
   "cell_type": "code",
   "execution_count": 236,
   "id": "b9d0cbe8",
   "metadata": {},
   "outputs": [
    {
     "data": {
      "text/plain": [
       "[5, 5, 5, 5, 5, 5, 36, 49, 64, 81, 100, 121, 144, 169, 196]"
      ]
     },
     "execution_count": 236,
     "metadata": {},
     "output_type": "execute_result"
    }
   ],
   "source": [
    "[i * i if i > 5 else 5 for i in range(15)]"
   ]
  },
  {
   "cell_type": "markdown",
   "id": "09d2889c",
   "metadata": {},
   "source": [
    "# Так можно и со словарями"
   ]
  },
  {
   "cell_type": "markdown",
   "id": "7fd7f018",
   "metadata": {},
   "source": [
    "\n",
    "### Обычный"
   ]
  },
  {
   "cell_type": "code",
   "execution_count": 240,
   "id": "ad2ba14a",
   "metadata": {},
   "outputs": [
    {
     "data": {
      "text/plain": [
       "{0: 0,\n",
       " 1: 1,\n",
       " 2: 2,\n",
       " 3: 3,\n",
       " 4: 4,\n",
       " 5: 5,\n",
       " 6: 6,\n",
       " 7: 7,\n",
       " 8: 8,\n",
       " 9: 9,\n",
       " 10: 10,\n",
       " 11: 11,\n",
       " 12: 12,\n",
       " 13: 13,\n",
       " 14: 14}"
      ]
     },
     "execution_count": 240,
     "metadata": {},
     "output_type": "execute_result"
    }
   ],
   "source": [
    "{i: i for i in range(15)}"
   ]
  },
  {
   "cell_type": "markdown",
   "id": "0aaa457a",
   "metadata": {},
   "source": [
    "### Можно делать математические выражения"
   ]
  },
  {
   "cell_type": "code",
   "execution_count": 1,
   "id": "92f728f8",
   "metadata": {},
   "outputs": [
    {
     "data": {
      "text/plain": [
       "{0: 0,\n",
       " 1: 1,\n",
       " 2: 4,\n",
       " 3: 9,\n",
       " 4: 16,\n",
       " 5: 25,\n",
       " 6: 36,\n",
       " 7: 49,\n",
       " 8: 64,\n",
       " 9: 81,\n",
       " 10: 100,\n",
       " 11: 121,\n",
       " 12: 144,\n",
       " 13: 169,\n",
       " 14: 196}"
      ]
     },
     "execution_count": 1,
     "metadata": {},
     "output_type": "execute_result"
    }
   ],
   "source": [
    "{i: i * i for i in range(15)}"
   ]
  },
  {
   "cell_type": "markdown",
   "id": "201440a6",
   "metadata": {},
   "source": [
    "### Еще и условие можно добавить"
   ]
  },
  {
   "cell_type": "code",
   "execution_count": 3,
   "id": "6041c13a",
   "metadata": {},
   "outputs": [
    {
     "data": {
      "text/plain": [
       "{0: 0, 1: 1, 2: 4, 3: 9, 4: 16, 5: 25, 6: 36, 7: 49, 8: 64, 9: 81}"
      ]
     },
     "execution_count": 3,
     "metadata": {},
     "output_type": "execute_result"
    }
   ],
   "source": [
    "{i: i * i for i in range(15) if i < 10}"
   ]
  },
  {
   "cell_type": "markdown",
   "id": "d67d3c92",
   "metadata": {},
   "source": [
    "### Условие можно еще и с else"
   ]
  },
  {
   "cell_type": "code",
   "execution_count": 4,
   "id": "23aced2e",
   "metadata": {},
   "outputs": [
    {
     "data": {
      "text/plain": [
       "{0: 0,\n",
       " 1: 1,\n",
       " 2: 4,\n",
       " 3: 9,\n",
       " 4: 16,\n",
       " 5: 25,\n",
       " 6: 36,\n",
       " 7: 49,\n",
       " 8: 64,\n",
       " 9: 81,\n",
       " 10: 10,\n",
       " 11: 11,\n",
       " 12: 12,\n",
       " 13: 13,\n",
       " 14: 14}"
      ]
     },
     "execution_count": 4,
     "metadata": {},
     "output_type": "execute_result"
    }
   ],
   "source": [
    "{i: i * i if i < 10 else i for i in range(15)}"
   ]
  },
  {
   "cell_type": "code",
   "execution_count": null,
   "id": "65d696c1",
   "metadata": {},
   "outputs": [],
   "source": []
  }
 ],
 "metadata": {
  "kernelspec": {
   "display_name": "Python 3 (ipykernel)",
   "language": "python",
   "name": "python3"
  },
  "language_info": {
   "codemirror_mode": {
    "name": "ipython",
    "version": 3
   },
   "file_extension": ".py",
   "mimetype": "text/x-python",
   "name": "python",
   "nbconvert_exporter": "python",
   "pygments_lexer": "ipython3",
   "version": "3.11.1"
  }
 },
 "nbformat": 4,
 "nbformat_minor": 5
}
