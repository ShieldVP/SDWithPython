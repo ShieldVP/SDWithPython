{
 "cells": [
  {
   "cell_type": "markdown",
   "id": "deecaf15",
   "metadata": {},
   "source": [
    "# Пример очереди в разработческой жизни\n",
    "\n",
    "![](src/1.png)\n",
    "\n",
    "## Семафоры\n",
    "\n",
    "### Сначала чуток про lock\n",
    "\n",
    "![](src/11.png)\n",
    "\n",
    "![](src/12.png)\n",
    "\n",
    "![](src/13.png)\n",
    "\n",
    "### Пример конкуррентного доступа к ресурсу (counter)"
   ]
  },
  {
   "cell_type": "code",
   "execution_count": 5,
   "id": "71be2497",
   "metadata": {},
   "outputs": [],
   "source": [
    "from threading import Thread\n",
    "from time import sleep\n",
    "\n",
    "\n",
    "counter = 0\n",
    "\n",
    "def increase(by):\n",
    "    global counter\n",
    "\n",
    "    local_counter = counter\n",
    "    local_counter += by\n",
    "\n",
    "    sleep(0.1)\n",
    "\n",
    "    counter = local_counter\n",
    "    print(f'counter={counter}')"
   ]
  },
  {
   "cell_type": "code",
   "execution_count": 6,
   "id": "666fed3f",
   "metadata": {},
   "outputs": [
    {
     "name": "stdout",
     "output_type": "stream",
     "text": [
      "counter=20counter=10\n",
      "\n",
      "The final counter is 10\n"
     ]
    }
   ],
   "source": [
    "t1 = Thread(target=increase, args=(10,))\n",
    "t2 = Thread(target=increase, args=(20,))\n",
    "\n",
    "t1.start()\n",
    "t2.start()\n",
    "\n",
    "t1.join()\n",
    "t2.join()\n",
    "\n",
    "print(f'The final counter is {counter}')\n",
    "\n",
    "# если поток 2 закончит раньше, то счетчик будет некорректно изменен"
   ]
  },
  {
   "cell_type": "markdown",
   "id": "3d032c0f",
   "metadata": {},
   "source": [
    "### Использование lock для решения проблемы выше"
   ]
  },
  {
   "cell_type": "code",
   "execution_count": 9,
   "id": "43813173",
   "metadata": {},
   "outputs": [],
   "source": [
    "from threading import Thread, Lock\n",
    "from time import sleep\n",
    "\n",
    "\n",
    "counter = 0\n",
    "\n",
    "\n",
    "def increase(by, lock):\n",
    "    global counter\n",
    "\n",
    "    lock.acquire()\n",
    "\n",
    "    local_counter = counter\n",
    "    local_counter += by\n",
    "\n",
    "    sleep(0.1)\n",
    "\n",
    "    counter = local_counter\n",
    "    print(f'counter={counter}')\n",
    "\n",
    "    lock.release()\n",
    "    \n",
    "#     with lock:\n",
    "#         ...\n",
    "\n",
    "\n",
    "lock = Lock()"
   ]
  },
  {
   "cell_type": "code",
   "execution_count": 10,
   "id": "fa7b45a0",
   "metadata": {},
   "outputs": [
    {
     "name": "stdout",
     "output_type": "stream",
     "text": [
      "counter=10\n",
      "counter=30\n",
      "The final counter is 30\n"
     ]
    }
   ],
   "source": [
    "t1 = Thread(target=increase, args=(10, lock))\n",
    "t2 = Thread(target=increase, args=(20, lock))\n",
    "\n",
    "# start the threads\n",
    "t1.start()\n",
    "t2.start()\n",
    "\n",
    "\n",
    "# wait for the threads to complete\n",
    "t1.join()\n",
    "t2.join()\n",
    "\n",
    "\n",
    "print(f'The final counter is {counter}')"
   ]
  },
  {
   "cell_type": "markdown",
   "id": "82c456f2",
   "metadata": {},
   "source": [
    "### Теперь уже про сам семафор\n",
    "\n",
    "![](src/10.png)"
   ]
  },
  {
   "cell_type": "code",
   "execution_count": 13,
   "id": "25234063",
   "metadata": {},
   "outputs": [],
   "source": [
    "import threading, random, time\n",
    "\n",
    "class ActivePool:\n",
    "    start = time.time()\n",
    "\n",
    "    def __init__(self):\n",
    "        super(ActivePool, self).__init__()\n",
    "        self.active = []\n",
    "        self.lock = threading.Lock()\n",
    "\n",
    "    def makeActive(self, name):\n",
    "        with self.lock:\n",
    "            self.active.append(name)\n",
    "            tm = time.time() - self.start\n",
    "            print(f'Время: {round(tm, 3)} Running: {self.active}')\n",
    "\n",
    "    def makeInactive(self, name):\n",
    "        with self.lock:\n",
    "            self.active.remove(name)\n",
    "            tm = time.time() - self.start\n",
    "            print(f'Время: {round(tm, 3)} Running: {self.active}')\n",
    "\n",
    "\n",
    "def worker(sem, pool):\n",
    "    with sem:\n",
    "        th_name = threading.current_thread().name\n",
    "        print(f'{th_name} ожидает присоединения к пулу')\n",
    "        pool.makeActive(th_name)\n",
    "        time.sleep(1.5)\n",
    "        pool.makeInactive(th_name)"
   ]
  },
  {
   "cell_type": "code",
   "execution_count": 14,
   "id": "164d11d5",
   "metadata": {},
   "outputs": [
    {
     "name": "stdout",
     "output_type": "stream",
     "text": [
      "Thread-21 (worker) ожидает присоединения к пулуThread-22 (worker) ожидает присоединения к пулу\n",
      "Время: 0.41 Running: ['Thread-22 (worker)']\n",
      "\n",
      "Время: 0.41 Running: ['Thread-22 (worker)', 'Thread-21 (worker)']\n",
      "Время: 1.918 Running: ['Thread-22 (worker)']\n",
      "Время: 1.919 Running: []\n",
      "Thread-23 (worker) ожидает присоединения к пулу\n",
      "Время: 1.919 Running: ['Thread-23 (worker)']\n",
      "Thread-24 (worker) ожидает присоединения к пулу\n",
      "Время: 1.919 Running: ['Thread-23 (worker)', 'Thread-24 (worker)']\n",
      "Время: 3.422 Running: ['Thread-24 (worker)']\n",
      "Время: 3.424 Running: []\n"
     ]
    }
   ],
   "source": [
    "sem = threading.Semaphore(2)\n",
    "\n",
    "pool = ActivePool()\n",
    "for i in range(4):\n",
    "    t = threading.Thread(\n",
    "        target=worker,\n",
    "        args=(sem, pool),\n",
    "    )\n",
    "    t.start()"
   ]
  },
  {
   "cell_type": "markdown",
   "id": "f6a098d5",
   "metadata": {},
   "source": [
    "### Скачивание файлов с ограничением семафора"
   ]
  },
  {
   "cell_type": "code",
   "execution_count": 15,
   "id": "0c261201",
   "metadata": {},
   "outputs": [],
   "source": [
    "import threading\n",
    "import urllib.request\n",
    "\n",
    "MAX_CONCURRENT_DOWNLOADS = 3\n",
    "semaphore = threading.Semaphore(MAX_CONCURRENT_DOWNLOADS)\n",
    "\n",
    "def download(url):\n",
    "    with semaphore:\n",
    "        print(f\"Downloading {url}...\")\n",
    "        \n",
    "        response = urllib.request.urlopen(url)\n",
    "        data = response.read()\n",
    "        \n",
    "        print(f\"Finished downloading {url}\")\n",
    "\n",
    "        return data\n",
    "\n",
    "        \n",
    "\n",
    "def main():\n",
    "    urls = [\n",
    "        'https://www.ietf.org/rfc/rfc791.txt',\n",
    "        'https://www.ietf.org/rfc/rfc792.txt',\n",
    "        'https://www.ietf.org/rfc/rfc793.txt',\n",
    "        'https://www.ietf.org/rfc/rfc794.txt',\n",
    "        'https://www.ietf.org/rfc/rfc795.txt',\n",
    "    ]\n",
    "\n",
    "    \n",
    "    threads = []\n",
    "    for url in urls:\n",
    "        thread = threading.Thread(target=download, args=(url,))\n",
    "        threads.append(thread)\n",
    "        thread.start()\n",
    "\n",
    "    for thread in threads:\n",
    "        thread.join()"
   ]
  },
  {
   "cell_type": "code",
   "execution_count": 16,
   "id": "876adb89",
   "metadata": {},
   "outputs": [
    {
     "name": "stdout",
     "output_type": "stream",
     "text": [
      "Downloading https://www.ietf.org/rfc/rfc791.txt...\n",
      "Downloading https://www.ietf.org/rfc/rfc792.txt...\n",
      "Downloading https://www.ietf.org/rfc/rfc793.txt...\n",
      "Finished downloading https://www.ietf.org/rfc/rfc793.txt\n",
      "Downloading https://www.ietf.org/rfc/rfc794.txt...\n",
      "Finished downloading https://www.ietf.org/rfc/rfc791.txt\n",
      "Downloading https://www.ietf.org/rfc/rfc795.txt...\n",
      "Finished downloading https://www.ietf.org/rfc/rfc794.txt\n",
      "Finished downloading https://www.ietf.org/rfc/rfc795.txt\n",
      "Finished downloading https://www.ietf.org/rfc/rfc792.txt\n"
     ]
    }
   ],
   "source": [
    "main()"
   ]
  },
  {
   "cell_type": "code",
   "execution_count": null,
   "id": "d0eb8806",
   "metadata": {},
   "outputs": [],
   "source": []
  },
  {
   "cell_type": "markdown",
   "id": "869a6ad0",
   "metadata": {},
   "source": [
    "## Реализация стека через очередь\n",
    "\n",
    "![](src/2.png)\n",
    "\n",
    "### Реализация, когда операция вставки будет более затратной, чем изъятие"
   ]
  },
  {
   "cell_type": "code",
   "execution_count": 17,
   "id": "b8ac1aae",
   "metadata": {},
   "outputs": [],
   "source": [
    "from _collections import deque\n",
    " \n",
    " \n",
    "class Stack:\n",
    "    def __init__(self):\n",
    "        self.q1 = deque()\n",
    "        self.q2 = deque()\n",
    "\n",
    "    def push(self, x):\n",
    "        self.q2.append(x)\n",
    "        while (self.q1):\n",
    "            self.q2.append(self.q1.popleft())\n",
    "        self.q1, self.q2 = self.q2, self.q1\n",
    "\n",
    "    def pop(self):\n",
    "        if self.q1:\n",
    "            self.q1.popleft()\n",
    "\n",
    "    def top(self):\n",
    "        if (self.q1):\n",
    "            return self.q1[0]\n",
    "        return None\n",
    "\n",
    "    def size(self):\n",
    "        return len(self.q1)"
   ]
  },
  {
   "cell_type": "code",
   "execution_count": 18,
   "id": "bea052fd",
   "metadata": {},
   "outputs": [
    {
     "name": "stdout",
     "output_type": "stream",
     "text": [
      "current size:  3\n",
      "3\n",
      "2\n",
      "1\n",
      "current size:  1\n"
     ]
    }
   ],
   "source": [
    "s = Stack()\n",
    "s.push(1)\n",
    "s.push(2)\n",
    "s.push(3)\n",
    "\n",
    "print(\"current size: \", s.size())\n",
    "print(s.top())\n",
    "s.pop()\n",
    "print(s.top())\n",
    "s.pop()\n",
    "print(s.top())\n",
    "\n",
    "print(\"current size: \", s.size())"
   ]
  },
  {
   "cell_type": "markdown",
   "id": "6aeaafb3",
   "metadata": {},
   "source": [
    "### Реализация, когда операция изъятия будет более затратной, чем вставка"
   ]
  },
  {
   "cell_type": "code",
   "execution_count": 23,
   "id": "1fd8ae9f",
   "metadata": {},
   "outputs": [],
   "source": [
    "class Stack:\n",
    "    def __init__(self):\n",
    "        self.q1 = deque()\n",
    "        self.q2 = deque()\n",
    " \n",
    "    def push(self, x):\n",
    "        self.q1.append(x)\n",
    " \n",
    "    def pop(self):\n",
    "        if (not self.q1):\n",
    "            return\n",
    "        while(len(self.q1) != 1):\n",
    "            self.q2.append(self.q1.popleft())\n",
    "\n",
    "        self.q1, self.q2 = self.q2, self.q1\n",
    " \n",
    "    def top(self):\n",
    "        if (not self.q1):\n",
    "            return\n",
    "        while(len(self.q1) != 1):\n",
    "            self.q2.append(self.q1.popleft())\n",
    "\n",
    "        top = self.q1[0]\n",
    "        self.q2.append(self.q1.popleft())\n",
    "\n",
    "        self.q1, self.q2 = self.q2, self.q1\n",
    " \n",
    "        return top\n",
    " \n",
    "    def size(self):\n",
    "        return len(self.q1)"
   ]
  },
  {
   "cell_type": "code",
   "execution_count": 24,
   "id": "6c383ddc",
   "metadata": {},
   "outputs": [
    {
     "name": "stdout",
     "output_type": "stream",
     "text": [
      "current size:  3\n",
      "3\n",
      "2\n",
      "1\n",
      "current size:  3\n"
     ]
    }
   ],
   "source": [
    "s = Stack()\n",
    "s.push(1)\n",
    "s.push(2)\n",
    "s.push(3)\n",
    "\n",
    "print(\"current size: \", s.size())\n",
    "print(s.top())\n",
    "s.pop()\n",
    "print(s.top())\n",
    "s.pop()\n",
    "print(s.top())\n",
    "\n",
    "print(\"current size: \", s.size())"
   ]
  },
  {
   "cell_type": "markdown",
   "id": "709d06f8",
   "metadata": {},
   "source": [
    "### С помощью одной очереди"
   ]
  },
  {
   "cell_type": "code",
   "execution_count": 25,
   "id": "863076a7",
   "metadata": {},
   "outputs": [],
   "source": [
    "class Stack:\n",
    "    def __init__(self):\n",
    "        self.q = deque()\n",
    "\n",
    "    def push(self, data):\n",
    "        s = len(self.q)\n",
    "        self.q.append(data)\n",
    "        for i in range(s):\n",
    "            self.q.append(self.q.popleft())\n",
    "\n",
    "    def pop(self):\n",
    "        if (not self.q):\n",
    "            print(\"No elements\")\n",
    "        else:\n",
    "            self.q.popleft()\n",
    " \n",
    "    # Returns top of stack\n",
    "    def top(self):\n",
    "        if (not self.q):\n",
    "            return\n",
    "        return self.q[0]\n",
    " \n",
    "    def size(self):\n",
    "        return len(self.q)"
   ]
  },
  {
   "cell_type": "code",
   "execution_count": 26,
   "id": "82a23f15",
   "metadata": {},
   "outputs": [
    {
     "name": "stdout",
     "output_type": "stream",
     "text": [
      "current size:  3\n",
      "3\n",
      "2\n",
      "1\n",
      "current size:  1\n"
     ]
    }
   ],
   "source": [
    "s = Stack()\n",
    "s.push(1)\n",
    "s.push(2)\n",
    "s.push(3)\n",
    "\n",
    "print(\"current size: \", s.size())\n",
    "print(s.top())\n",
    "s.pop()\n",
    "print(s.top())\n",
    "s.pop()\n",
    "print(s.top())\n",
    "\n",
    "print(\"current size: \", s.size())"
   ]
  },
  {
   "cell_type": "code",
   "execution_count": null,
   "id": "a0da27a1",
   "metadata": {},
   "outputs": [],
   "source": []
  },
  {
   "cell_type": "markdown",
   "id": "05a25448",
   "metadata": {},
   "source": [
    "## Буфферизация сообщений\n",
    "\n",
    "## RabbitMQ\n",
    "\n",
    "### Строение изнутри (уже видно очереди)\n",
    "![](src/3.png)\n",
    "\n",
    "\n",
    "### Круги ада, через которые происходит соединение\n",
    "![](src/4.jpeg)\n",
    "\n",
    "### Взаимодействие с очередями крупным планом\n",
    "![](src/5.jpeg)\n",
    "\n",
    "\n",
    "### Как сообщения уходят из очереди\n",
    "![](src/6.jpeg)\n",
    "\n",
    "\n",
    "### Про создание очередей\n",
    "![](src/7.jpeg)\n",
    "\n",
    "![](src/8.jpeg)\n",
    "\n",
    "\n",
    "### Как это выглядит после создания\n",
    "![](src/9.jpeg)\n",
    "\n",
    "### Отправка сообщений в очередь"
   ]
  },
  {
   "cell_type": "code",
   "execution_count": null,
   "id": "6b189f9a",
   "metadata": {},
   "outputs": [],
   "source": [
    "# !pip install pika"
   ]
  },
  {
   "cell_type": "code",
   "execution_count": 27,
   "id": "3ce43f14",
   "metadata": {},
   "outputs": [],
   "source": [
    "import pika\n",
    "\n",
    "credentials = pika.PlainCredentials('guest', 'guest')\n",
    "\n",
    "connection = pika.BlockingConnection(pika.ConnectionParameters(\n",
    "    host='localhost',\n",
    "    port='5672',\n",
    "    credentials=credentials\n",
    "))\n",
    "channel = connection.channel()"
   ]
  },
  {
   "cell_type": "code",
   "execution_count": 28,
   "id": "809d4a5f",
   "metadata": {},
   "outputs": [
    {
     "data": {
      "text/plain": [
       "<METHOD(['channel_number=1', 'frame_type=1', \"method=<Queue.DeclareOk(['consumer_count=0', 'message_count=0', 'queue=hello'])>\"])>"
      ]
     },
     "execution_count": 28,
     "metadata": {},
     "output_type": "execute_result"
    }
   ],
   "source": [
    "channel.queue_declare(queue='hello')"
   ]
  },
  {
   "cell_type": "code",
   "execution_count": 30,
   "id": "b5f80e52",
   "metadata": {},
   "outputs": [],
   "source": [
    "channel.basic_publish(exchange='', routing_key='hello', body='Hello World!')\n",
    "# print(\" [x] Sent 'Hello World!'\")"
   ]
  },
  {
   "cell_type": "code",
   "execution_count": 31,
   "id": "b6cf4670",
   "metadata": {},
   "outputs": [],
   "source": [
    "connection.close()"
   ]
  },
  {
   "cell_type": "markdown",
   "id": "4874cbc6",
   "metadata": {},
   "source": [
    "### Получение сообщений"
   ]
  },
  {
   "cell_type": "code",
   "execution_count": 32,
   "id": "ec188db5",
   "metadata": {},
   "outputs": [],
   "source": [
    "credentials = pika.PlainCredentials('guest', 'guest')\n",
    "\n",
    "connection = pika.BlockingConnection(pika.ConnectionParameters(\n",
    "    host='localhost',\n",
    "    port='5672',\n",
    "    credentials=credentials\n",
    "))\n",
    "channel = connection.channel()"
   ]
  },
  {
   "cell_type": "code",
   "execution_count": 33,
   "id": "b42f7505",
   "metadata": {},
   "outputs": [
    {
     "data": {
      "text/plain": [
       "<METHOD(['channel_number=1', 'frame_type=1', \"method=<Queue.DeclareOk(['consumer_count=0', 'message_count=2', 'queue=hello'])>\"])>"
      ]
     },
     "execution_count": 33,
     "metadata": {},
     "output_type": "execute_result"
    }
   ],
   "source": [
    "channel.queue_declare(queue='hello')"
   ]
  },
  {
   "cell_type": "code",
   "execution_count": 34,
   "id": "65de202e",
   "metadata": {},
   "outputs": [],
   "source": [
    "def callback(ch, method, properties, body):\n",
    "    print(\" [x] Received %r\" % body)"
   ]
  },
  {
   "cell_type": "code",
   "execution_count": 35,
   "id": "d1d0793c",
   "metadata": {},
   "outputs": [
    {
     "data": {
      "text/plain": [
       "'ctag1.40a21db573a14a5db0bb069a8f18949f'"
      ]
     },
     "execution_count": 35,
     "metadata": {},
     "output_type": "execute_result"
    }
   ],
   "source": [
    "channel.basic_consume(queue='hello',auto_ack=True,on_message_callback=callback)"
   ]
  },
  {
   "cell_type": "code",
   "execution_count": 36,
   "id": "c504e17e",
   "metadata": {},
   "outputs": [
    {
     "name": "stdout",
     "output_type": "stream",
     "text": [
      " [*] Waiting for messages. To exit press CTRL+C\n",
      " [x] Received b'Hello World!'\n",
      " [x] Received b'Hello World!'\n"
     ]
    },
    {
     "ename": "KeyboardInterrupt",
     "evalue": "",
     "output_type": "error",
     "traceback": [
      "\u001b[0;31m---------------------------------------------------------------------------\u001b[0m",
      "\u001b[0;31mKeyboardInterrupt\u001b[0m                         Traceback (most recent call last)",
      "Cell \u001b[0;32mIn[36], line 2\u001b[0m\n\u001b[1;32m      1\u001b[0m \u001b[38;5;28mprint\u001b[39m(\u001b[38;5;124m'\u001b[39m\u001b[38;5;124m [*] Waiting for messages. To exit press CTRL+C\u001b[39m\u001b[38;5;124m'\u001b[39m)\n\u001b[0;32m----> 2\u001b[0m \u001b[43mchannel\u001b[49m\u001b[38;5;241;43m.\u001b[39;49m\u001b[43mstart_consuming\u001b[49m\u001b[43m(\u001b[49m\u001b[43m)\u001b[49m\n",
      "File \u001b[0;32m~/Desktop/env/lib/python3.11/site-packages/pika/adapters/blocking_connection.py:1883\u001b[0m, in \u001b[0;36mBlockingChannel.start_consuming\u001b[0;34m(self)\u001b[0m\n\u001b[1;32m   1880\u001b[0m \u001b[38;5;66;03m# Process events as long as consumers exist on this channel\u001b[39;00m\n\u001b[1;32m   1881\u001b[0m \u001b[38;5;28;01mwhile\u001b[39;00m \u001b[38;5;28mself\u001b[39m\u001b[38;5;241m.\u001b[39m_consumer_infos:\n\u001b[1;32m   1882\u001b[0m     \u001b[38;5;66;03m# This will raise ChannelClosed if channel is closed by broker\u001b[39;00m\n\u001b[0;32m-> 1883\u001b[0m     \u001b[38;5;28;43mself\u001b[39;49m\u001b[38;5;241;43m.\u001b[39;49m\u001b[43m_process_data_events\u001b[49m\u001b[43m(\u001b[49m\u001b[43mtime_limit\u001b[49m\u001b[38;5;241;43m=\u001b[39;49m\u001b[38;5;28;43;01mNone\u001b[39;49;00m\u001b[43m)\u001b[49m\n",
      "File \u001b[0;32m~/Desktop/env/lib/python3.11/site-packages/pika/adapters/blocking_connection.py:2044\u001b[0m, in \u001b[0;36mBlockingChannel._process_data_events\u001b[0;34m(self, time_limit)\u001b[0m\n\u001b[1;32m   2025\u001b[0m \u001b[38;5;28;01mdef\u001b[39;00m \u001b[38;5;21m_process_data_events\u001b[39m(\u001b[38;5;28mself\u001b[39m, time_limit):\n\u001b[1;32m   2026\u001b[0m \u001b[38;5;250m    \u001b[39m\u001b[38;5;124;03m\"\"\"Wrapper for `BlockingConnection.process_data_events()` with common\u001b[39;00m\n\u001b[1;32m   2027\u001b[0m \u001b[38;5;124;03m    channel-specific logic that raises ChannelClosed if broker closed this\u001b[39;00m\n\u001b[1;32m   2028\u001b[0m \u001b[38;5;124;03m    channel.\u001b[39;00m\n\u001b[0;32m   (...)\u001b[0m\n\u001b[1;32m   2042\u001b[0m \n\u001b[1;32m   2043\u001b[0m \u001b[38;5;124;03m    \"\"\"\u001b[39;00m\n\u001b[0;32m-> 2044\u001b[0m     \u001b[38;5;28;43mself\u001b[39;49m\u001b[38;5;241;43m.\u001b[39;49m\u001b[43mconnection\u001b[49m\u001b[38;5;241;43m.\u001b[39;49m\u001b[43mprocess_data_events\u001b[49m\u001b[43m(\u001b[49m\u001b[43mtime_limit\u001b[49m\u001b[38;5;241;43m=\u001b[39;49m\u001b[43mtime_limit\u001b[49m\u001b[43m)\u001b[49m\n\u001b[1;32m   2045\u001b[0m     \u001b[38;5;28;01mif\u001b[39;00m \u001b[38;5;28mself\u001b[39m\u001b[38;5;241m.\u001b[39mis_closed \u001b[38;5;129;01mand\u001b[39;00m \u001b[38;5;28misinstance\u001b[39m(\u001b[38;5;28mself\u001b[39m\u001b[38;5;241m.\u001b[39m_closing_reason,\n\u001b[1;32m   2046\u001b[0m                                      exceptions\u001b[38;5;241m.\u001b[39mChannelClosedByBroker):\n\u001b[1;32m   2047\u001b[0m         LOGGER\u001b[38;5;241m.\u001b[39mdebug(\u001b[38;5;124m'\u001b[39m\u001b[38;5;124mChannel close by broker detected, raising \u001b[39m\u001b[38;5;132;01m%r\u001b[39;00m\u001b[38;5;124m; \u001b[39m\u001b[38;5;132;01m%r\u001b[39;00m\u001b[38;5;124m'\u001b[39m,\n\u001b[1;32m   2048\u001b[0m                      \u001b[38;5;28mself\u001b[39m\u001b[38;5;241m.\u001b[39m_closing_reason, \u001b[38;5;28mself\u001b[39m)\n",
      "File \u001b[0;32m~/Desktop/env/lib/python3.11/site-packages/pika/adapters/blocking_connection.py:842\u001b[0m, in \u001b[0;36mBlockingConnection.process_data_events\u001b[0;34m(self, time_limit)\u001b[0m\n\u001b[1;32m    838\u001b[0m common_terminator \u001b[38;5;241m=\u001b[39m \u001b[38;5;28;01mlambda\u001b[39;00m: \u001b[38;5;28mbool\u001b[39m(dispatch_acquired \u001b[38;5;129;01mand\u001b[39;00m\n\u001b[1;32m    839\u001b[0m                                  (\u001b[38;5;28mself\u001b[39m\u001b[38;5;241m.\u001b[39m_channels_pending_dispatch \u001b[38;5;129;01mor\u001b[39;00m\n\u001b[1;32m    840\u001b[0m                                   \u001b[38;5;28mself\u001b[39m\u001b[38;5;241m.\u001b[39m_ready_events))\n\u001b[1;32m    841\u001b[0m \u001b[38;5;28;01mif\u001b[39;00m time_limit \u001b[38;5;129;01mis\u001b[39;00m \u001b[38;5;28;01mNone\u001b[39;00m:\n\u001b[0;32m--> 842\u001b[0m     \u001b[38;5;28;43mself\u001b[39;49m\u001b[38;5;241;43m.\u001b[39;49m\u001b[43m_flush_output\u001b[49m\u001b[43m(\u001b[49m\u001b[43mcommon_terminator\u001b[49m\u001b[43m)\u001b[49m\n\u001b[1;32m    843\u001b[0m \u001b[38;5;28;01melse\u001b[39;00m:\n\u001b[1;32m    844\u001b[0m     \u001b[38;5;28;01mwith\u001b[39;00m _IoloopTimerContext(time_limit, \u001b[38;5;28mself\u001b[39m\u001b[38;5;241m.\u001b[39m_impl) \u001b[38;5;28;01mas\u001b[39;00m timer:\n",
      "File \u001b[0;32m~/Desktop/env/lib/python3.11/site-packages/pika/adapters/blocking_connection.py:514\u001b[0m, in \u001b[0;36mBlockingConnection._flush_output\u001b[0;34m(self, *waiters)\u001b[0m\n\u001b[1;32m    512\u001b[0m \u001b[38;5;66;03m# Process I/O until our completion condition is satisfied\u001b[39;00m\n\u001b[1;32m    513\u001b[0m \u001b[38;5;28;01mwhile\u001b[39;00m \u001b[38;5;129;01mnot\u001b[39;00m is_done():\n\u001b[0;32m--> 514\u001b[0m     \u001b[38;5;28;43mself\u001b[39;49m\u001b[38;5;241;43m.\u001b[39;49m\u001b[43m_impl\u001b[49m\u001b[38;5;241;43m.\u001b[39;49m\u001b[43mioloop\u001b[49m\u001b[38;5;241;43m.\u001b[39;49m\u001b[43mpoll\u001b[49m\u001b[43m(\u001b[49m\u001b[43m)\u001b[49m\n\u001b[1;32m    515\u001b[0m     \u001b[38;5;28mself\u001b[39m\u001b[38;5;241m.\u001b[39m_impl\u001b[38;5;241m.\u001b[39mioloop\u001b[38;5;241m.\u001b[39mprocess_timeouts()\n\u001b[1;32m    517\u001b[0m \u001b[38;5;28;01mif\u001b[39;00m \u001b[38;5;28mself\u001b[39m\u001b[38;5;241m.\u001b[39m_closed_result\u001b[38;5;241m.\u001b[39mready:\n",
      "File \u001b[0;32m~/Desktop/env/lib/python3.11/site-packages/pika/adapters/select_connection.py:579\u001b[0m, in \u001b[0;36mIOLoop.poll\u001b[0;34m(self)\u001b[0m\n\u001b[1;32m    572\u001b[0m \u001b[38;5;28;01mdef\u001b[39;00m \u001b[38;5;21mpoll\u001b[39m(\u001b[38;5;28mself\u001b[39m):\n\u001b[1;32m    573\u001b[0m \u001b[38;5;250m    \u001b[39m\u001b[38;5;124;03m\"\"\"[Extension] Wait for events of interest on registered file\u001b[39;00m\n\u001b[1;32m    574\u001b[0m \u001b[38;5;124;03m    descriptors until an event of interest occurs or next timer deadline or\u001b[39;00m\n\u001b[1;32m    575\u001b[0m \u001b[38;5;124;03m    `_PollerBase._MAX_POLL_TIMEOUT`, whichever is sooner, and dispatch the\u001b[39;00m\n\u001b[1;32m    576\u001b[0m \u001b[38;5;124;03m    corresponding event handlers.\u001b[39;00m\n\u001b[1;32m    577\u001b[0m \n\u001b[1;32m    578\u001b[0m \u001b[38;5;124;03m    \"\"\"\u001b[39;00m\n\u001b[0;32m--> 579\u001b[0m     \u001b[38;5;28;43mself\u001b[39;49m\u001b[38;5;241;43m.\u001b[39;49m\u001b[43m_poller\u001b[49m\u001b[38;5;241;43m.\u001b[39;49m\u001b[43mpoll\u001b[49m\u001b[43m(\u001b[49m\u001b[43m)\u001b[49m\n",
      "File \u001b[0;32m~/Desktop/env/lib/python3.11/site-packages/pika/adapters/select_connection.py:1064\u001b[0m, in \u001b[0;36mKQueuePoller.poll\u001b[0;34m(self)\u001b[0m\n\u001b[1;32m   1062\u001b[0m \u001b[38;5;28;01mwhile\u001b[39;00m \u001b[38;5;28;01mTrue\u001b[39;00m:\n\u001b[1;32m   1063\u001b[0m     \u001b[38;5;28;01mtry\u001b[39;00m:\n\u001b[0;32m-> 1064\u001b[0m         kevents \u001b[38;5;241m=\u001b[39m \u001b[38;5;28mself\u001b[39m\u001b[38;5;241m.\u001b[39m_kqueue\u001b[38;5;241m.\u001b[39mcontrol(\u001b[38;5;28;01mNone\u001b[39;00m, \u001b[38;5;241m1000\u001b[39m, \u001b[38;5;28mself\u001b[39m\u001b[38;5;241m.\u001b[39m_get_max_wait())\n\u001b[1;32m   1065\u001b[0m         \u001b[38;5;28;01mbreak\u001b[39;00m\n\u001b[1;32m   1066\u001b[0m     \u001b[38;5;28;01mexcept\u001b[39;00m _SELECT_ERRORS \u001b[38;5;28;01mas\u001b[39;00m error:\n",
      "\u001b[0;31mKeyboardInterrupt\u001b[0m: "
     ]
    }
   ],
   "source": [
    "print(' [*] Waiting for messages. To exit press CTRL+C')\n",
    "channel.start_consuming()"
   ]
  },
  {
   "cell_type": "code",
   "execution_count": null,
   "id": "43cecf17",
   "metadata": {},
   "outputs": [],
   "source": []
  },
  {
   "cell_type": "code",
   "execution_count": null,
   "id": "ac997a52",
   "metadata": {},
   "outputs": [],
   "source": []
  }
 ],
 "metadata": {
  "kernelspec": {
   "display_name": "Python 3 (ipykernel)",
   "language": "python",
   "name": "python3"
  },
  "language_info": {
   "codemirror_mode": {
    "name": "ipython",
    "version": 3
   },
   "file_extension": ".py",
   "mimetype": "text/x-python",
   "name": "python",
   "nbconvert_exporter": "python",
   "pygments_lexer": "ipython3",
   "version": "3.11.1"
  }
 },
 "nbformat": 4,
 "nbformat_minor": 5
}
