{
 "cells": [
  {
   "cell_type": "markdown",
   "id": "01a3664d",
   "metadata": {},
   "source": [
    "# Функции. Области видимости. Передача параметров в функции"
   ]
  },
  {
   "cell_type": "markdown",
   "id": "e3c7a9ca",
   "metadata": {},
   "source": [
    "def <имя функции>(<аргументы функции>):\n",
    "\n",
    "    <тело функции>"
   ]
  },
  {
   "cell_type": "markdown",
   "id": "84222805",
   "metadata": {},
   "source": [
    "### Пример функции проверки на четность чисел из списка"
   ]
  },
  {
   "cell_type": "code",
   "execution_count": 1,
   "id": "85a73398",
   "metadata": {},
   "outputs": [
    {
     "name": "stdout",
     "output_type": "stream",
     "text": [
      "True\n",
      "False\n"
     ]
    }
   ],
   "source": [
    "def only_even(numbers):\n",
    "    result = True\n",
    "    for x in numbers:\n",
    "        if x % 2 != 0:\n",
    "            result = False\n",
    "            break\n",
    "    return result\n",
    "\n",
    "\n",
    "print(only_even([2, 4, 6]))\n",
    "print(only_even([1, 2, 3]))"
   ]
  },
  {
   "cell_type": "markdown",
   "id": "2c0c2560",
   "metadata": {},
   "source": [
    "### Можно использовать несколько операторов return"
   ]
  },
  {
   "cell_type": "code",
   "execution_count": 2,
   "id": "166e7b9c",
   "metadata": {},
   "outputs": [
    {
     "name": "stdout",
     "output_type": "stream",
     "text": [
      "True\n",
      "False\n"
     ]
    }
   ],
   "source": [
    "def only_even(numbers):\n",
    "    for x in numbers:\n",
    "        if x % 2 != 0:\n",
    "            return False\n",
    "    return True\n",
    "\n",
    "\n",
    "print(only_even([2, 4, 6]))\n",
    "print(only_even([1, 2, 3]))"
   ]
  },
  {
   "cell_type": "markdown",
   "id": "b0c58023",
   "metadata": {},
   "source": [
    "### Функция print в качестве аргумента функции print"
   ]
  },
  {
   "cell_type": "code",
   "execution_count": 3,
   "id": "216767d1",
   "metadata": {},
   "outputs": [
    {
     "name": "stdout",
     "output_type": "stream",
     "text": [
      "Эту строку выведет функция до возврата значения.\n",
      "None\n"
     ]
    }
   ],
   "source": [
    "print(print(\"Эту строку выведет функция до возврата значения.\"))"
   ]
  },
  {
   "cell_type": "code",
   "execution_count": null,
   "id": "25a26bc7",
   "metadata": {},
   "outputs": [],
   "source": []
  },
  {
   "cell_type": "code",
   "execution_count": 7,
   "id": "9dcb0c8b",
   "metadata": {},
   "outputs": [],
   "source": [
    "def return_None():\n",
    "    return\n",
    "\n",
    "def return_None2():\n",
    "    a = 3"
   ]
  },
  {
   "cell_type": "code",
   "execution_count": 8,
   "id": "e837539e",
   "metadata": {},
   "outputs": [
    {
     "name": "stdout",
     "output_type": "stream",
     "text": [
      "None\n",
      "None\n"
     ]
    }
   ],
   "source": [
    "print(return_None())\n",
    "print(return_None2())"
   ]
  },
  {
   "cell_type": "markdown",
   "id": "5e52c5bf",
   "metadata": {},
   "source": [
    "### Из функции можно возвращать несколько значений"
   ]
  },
  {
   "cell_type": "code",
   "execution_count": 9,
   "id": "417eb7ad",
   "metadata": {},
   "outputs": [
    {
     "name": "stdout",
     "output_type": "stream",
     "text": [
      "True\n",
      "(False, 0)\n"
     ]
    }
   ],
   "source": [
    "def only_even(numbers):\n",
    "    for i, x in enumerate(numbers):\n",
    "        if x % 2 != 0:\n",
    "            return False, i\n",
    "    return True\n",
    "\n",
    "\n",
    "print(only_even([2, 4, 6]))\n",
    "print(only_even([1, 2, 3]))"
   ]
  },
  {
   "cell_type": "markdown",
   "id": "e8198d5b",
   "metadata": {},
   "source": [
    "### Значения аргумента доступны только внутри функции"
   ]
  },
  {
   "cell_type": "code",
   "execution_count": 10,
   "id": "7cf29da5",
   "metadata": {},
   "outputs": [
    {
     "ename": "NameError",
     "evalue": "name 'numbers' is not defined",
     "output_type": "error",
     "traceback": [
      "\u001b[0;31m---------------------------------------------------------------------------\u001b[0m",
      "\u001b[0;31mNameError\u001b[0m                                 Traceback (most recent call last)",
      "Cell \u001b[0;32mIn[10], line 8\u001b[0m\n\u001b[1;32m      4\u001b[0m             \u001b[38;5;28;01mreturn\u001b[39;00m \u001b[38;5;28;01mFalse\u001b[39;00m, i\n\u001b[1;32m      5\u001b[0m     \u001b[38;5;28;01mreturn\u001b[39;00m \u001b[38;5;28;01mTrue\u001b[39;00m\n\u001b[0;32m----> 8\u001b[0m \u001b[38;5;28mprint\u001b[39m(\u001b[43mnumbers\u001b[49m)\n",
      "\u001b[0;31mNameError\u001b[0m: name 'numbers' is not defined"
     ]
    }
   ],
   "source": [
    "def only_even(numbers):\n",
    "    for i, x in enumerate(numbers):\n",
    "        if x % 2 != 0:\n",
    "            return False, i\n",
    "    return True\n",
    "\n",
    "\n",
    "print(numbers)"
   ]
  },
  {
   "cell_type": "markdown",
   "id": "47a026aa",
   "metadata": {},
   "source": [
    "### Использование глобальной переменной"
   ]
  },
  {
   "cell_type": "code",
   "execution_count": 12,
   "id": "0f5b052e",
   "metadata": {},
   "outputs": [
    {
     "name": "stdout",
     "output_type": "stream",
     "text": [
      "False\n",
      "True\n"
     ]
    }
   ],
   "source": [
    "def check_password(pwd):\n",
    "    return pwd == password\n",
    "\n",
    "\n",
    "password = \"Python\"\n",
    "print(check_password(\"123\"))\n",
    "print(check_password(\"Python\"))\n"
   ]
  },
  {
   "cell_type": "code",
   "execution_count": 13,
   "id": "449194a2",
   "metadata": {},
   "outputs": [
    {
     "name": "stdout",
     "output_type": "stream",
     "text": [
      "False\n",
      "True\n"
     ]
    }
   ],
   "source": [
    "def check_password(pwd):\n",
    "    global password\n",
    "    return pwd == password\n",
    "\n",
    "\n",
    "password = \"Python\"\n",
    "print(check_password(\"123\"))\n",
    "print(check_password(\"Python\"))\n"
   ]
  },
  {
   "cell_type": "markdown",
   "id": "dd0110ea",
   "metadata": {},
   "source": [
    "### Изменение глобальной переменной из функции"
   ]
  },
  {
   "cell_type": "code",
   "execution_count": 14,
   "id": "05138608",
   "metadata": {},
   "outputs": [
    {
     "name": "stdout",
     "output_type": "stream",
     "text": [
      "[1, 2]\n"
     ]
    }
   ],
   "source": [
    "def list_modify():\n",
    "    del sample[-1]\n",
    "\n",
    "\n",
    "sample = [1, 2, 3]\n",
    "list_modify()\n",
    "print(sample)"
   ]
  },
  {
   "cell_type": "markdown",
   "id": "99889a5a",
   "metadata": {},
   "source": [
    "### Попытка перезаписать глобальную переменную"
   ]
  },
  {
   "cell_type": "code",
   "execution_count": 15,
   "id": "1bab9f24",
   "metadata": {},
   "outputs": [
    {
     "name": "stdout",
     "output_type": "stream",
     "text": [
      "[1, 2, 3]\n"
     ]
    }
   ],
   "source": [
    "def list_modify():\n",
    "    sample = [4, 5, 6]\n",
    "\n",
    "\n",
    "sample = [1, 2, 3]\n",
    "list_modify()\n",
    "print(sample)"
   ]
  },
  {
   "cell_type": "markdown",
   "id": "d9f09006",
   "metadata": {},
   "source": [
    "### Изменение внешней и создание локальной переменных"
   ]
  },
  {
   "cell_type": "code",
   "execution_count": 16,
   "id": "cd8a3742",
   "metadata": {},
   "outputs": [
    {
     "name": "stdout",
     "output_type": "stream",
     "text": [
      "[1, 2, 3]\n",
      "[1, 2, 3, 4]\n"
     ]
    }
   ],
   "source": [
    "def list_modify_1(list_arg):\n",
    "    # создаём новый локальный список, не имеющий связи с внешним\n",
    "    list_arg = [1, 2, 3, 4]\n",
    "\n",
    "\n",
    "def list_modify_2(list_arg):\n",
    "    # меняем исходный внешний список, переданный как аргумент\n",
    "    list_arg += [4]\n",
    "\n",
    "\n",
    "sample_1 = [1, 2, 3]\n",
    "sample_2 = [1, 2, 3]\n",
    "list_modify_1(sample_1)\n",
    "list_modify_2(sample_2)\n",
    "print(sample_1)\n",
    "print(sample_2)"
   ]
  },
  {
   "cell_type": "markdown",
   "id": "03aecd06",
   "metadata": {},
   "source": [
    "### Можно законно менять глобальные переменные"
   ]
  },
  {
   "cell_type": "code",
   "execution_count": 17,
   "id": "14fa817c",
   "metadata": {},
   "outputs": [
    {
     "name": "stdout",
     "output_type": "stream",
     "text": [
      "Количество вызовов функции равно 1.\n",
      "Количество вызовов функции равно 2.\n",
      "Количество вызовов функции равно 3.\n"
     ]
    }
   ],
   "source": [
    "def inc():\n",
    "    global x\n",
    "    x += 1\n",
    "    print(f\"Количество вызовов функции равно {x}.\")\n",
    "\n",
    "\n",
    "x = 0\n",
    "inc()\n",
    "inc()\n",
    "inc()"
   ]
  },
  {
   "cell_type": "markdown",
   "id": "929b9bba",
   "metadata": {},
   "source": [
    "### То же, что сверху, только без глобальных переменных"
   ]
  },
  {
   "cell_type": "code",
   "execution_count": 18,
   "id": "81c179d6",
   "metadata": {},
   "outputs": [
    {
     "name": "stdout",
     "output_type": "stream",
     "text": [
      "Количество вызовов функции равно 1.\n",
      "Количество вызовов функции равно 2.\n",
      "Количество вызовов функции равно 3.\n"
     ]
    }
   ],
   "source": [
    "def f(count):\n",
    "    count += 1\n",
    "    print(f'Количество вызовов функции равно {count}.')\n",
    "    return count\n",
    "\n",
    "    \n",
    "count_f = 0\n",
    "count_f = f(count_f)\n",
    "count_f = f(count_f)\n",
    "count_f = f(count_f)"
   ]
  },
  {
   "cell_type": "markdown",
   "id": "267c327c",
   "metadata": {},
   "source": [
    "### Просто какая-то функция с аргументами"
   ]
  },
  {
   "cell_type": "code",
   "execution_count": 19,
   "id": "1640f24c",
   "metadata": {},
   "outputs": [
    {
     "name": "stdout",
     "output_type": "stream",
     "text": [
      "950.0\n"
     ]
    }
   ],
   "source": [
    "def final_price(price, discount):\n",
    "    return price - price * discount / 100\n",
    "\n",
    "\n",
    "print(final_price(1000, 5))"
   ]
  },
  {
   "cell_type": "markdown",
   "id": "52a7e137",
   "metadata": {},
   "source": [
    "### Аргумент со значением по умолчанию"
   ]
  },
  {
   "cell_type": "code",
   "execution_count": 20,
   "id": "7de9e488",
   "metadata": {},
   "outputs": [
    {
     "name": "stdout",
     "output_type": "stream",
     "text": [
      "950.0\n",
      "990.0\n"
     ]
    }
   ],
   "source": [
    "def final_price(price, discount=1):\n",
    "    return price - price * discount / 100\n",
    "\n",
    "\n",
    "print(final_price(1000, 5))\n",
    "# Значение скидки не задано, используется значение по умолчанию\n",
    "print(final_price(1000))"
   ]
  },
  {
   "cell_type": "markdown",
   "id": "9ebcafb4",
   "metadata": {},
   "source": [
    "### Опасность задания пустого списка значением по умолчанию"
   ]
  },
  {
   "cell_type": "code",
   "execution_count": 21,
   "id": "c0a1da7e",
   "metadata": {},
   "outputs": [
    {
     "name": "stdout",
     "output_type": "stream",
     "text": [
      "[0]\n",
      "[1, 2, 3, 0]\n",
      "[0, 1]\n"
     ]
    }
   ],
   "source": [
    "def add_value(x, list_arg=[]):\n",
    "    list_arg += [x]\n",
    "    return list_arg\n",
    "\n",
    "\n",
    "print(add_value(0))\n",
    "print(add_value(0, [1, 2, 3]))\n",
    "print(add_value(1))"
   ]
  },
  {
   "cell_type": "markdown",
   "id": "be0a0f0d",
   "metadata": {},
   "source": [
    "### Лучше так, чем то, как выше"
   ]
  },
  {
   "cell_type": "code",
   "execution_count": 22,
   "id": "2decdbfc",
   "metadata": {},
   "outputs": [
    {
     "name": "stdout",
     "output_type": "stream",
     "text": [
      "[0]\n",
      "[1, 2, 3, 0]\n",
      "[1]\n"
     ]
    }
   ],
   "source": [
    "def add_value(x, list_arg=None):\n",
    "    if list_arg is None:\n",
    "        list_arg = []\n",
    "    list_arg += [x]\n",
    "    return list_arg\n",
    "\n",
    "\n",
    "print(add_value(0))\n",
    "print(add_value(0, [1, 2, 3]))\n",
    "print(add_value(1))"
   ]
  },
  {
   "cell_type": "markdown",
   "id": "49526211",
   "metadata": {},
   "source": [
    "### Сначала передаются позиционные аргументы, а уже потом именованные "
   ]
  },
  {
   "cell_type": "code",
   "execution_count": 23,
   "id": "d45353f8",
   "metadata": {},
   "outputs": [
    {
     "name": "stdout",
     "output_type": "stream",
     "text": [
      "950.0\n",
      "900.0\n"
     ]
    }
   ],
   "source": [
    "def final_price(price, discount=1):\n",
    "    return price - price * discount / 100\n",
    "\n",
    "\n",
    "print(final_price(1000, discount=5))\n",
    "print(final_price(discount=10, price=1000))"
   ]
  },
  {
   "cell_type": "markdown",
   "id": "50f3558c",
   "metadata": {},
   "source": [
    "### Типизация"
   ]
  },
  {
   "cell_type": "code",
   "execution_count": 24,
   "id": "d78b143e",
   "metadata": {},
   "outputs": [
    {
     "name": "stdout",
     "output_type": "stream",
     "text": [
      "950.0\n"
     ]
    }
   ],
   "source": [
    "def final_price(price: int, discount: int=1) -> float:\n",
    "    return price - price * discount / 100\n",
    "\n",
    "\n",
    "print(final_price(1000, discount=5))"
   ]
  },
  {
   "cell_type": "code",
   "execution_count": 25,
   "id": "6cf5ae0d",
   "metadata": {},
   "outputs": [
    {
     "name": "stdout",
     "output_type": "stream",
     "text": [
      "[950.0]\n",
      "[950.0, 4.75]\n"
     ]
    }
   ],
   "source": [
    "def final_price(prices: list[int], discount=1) -> list[float]:\n",
    "    return [price - price * discount / 100 for price in prices]\n",
    "\n",
    "\n",
    "print(final_price([1000], discount=5))\n",
    "\n",
    "# ошибкой не будет, если будет подан не тот тип, что указан, если он не ломает логику работы программы\n",
    "print(final_price([1000., 5.], discount=5))"
   ]
  },
  {
   "cell_type": "markdown",
   "id": "a1d47858",
   "metadata": {},
   "source": [
    "### Оператор * и **"
   ]
  },
  {
   "cell_type": "code",
   "execution_count": 29,
   "id": "72363a06",
   "metadata": {},
   "outputs": [
    {
     "name": "stdout",
     "output_type": "stream",
     "text": [
      "Args ()\n",
      "*Args\n",
      "\n",
      "Args (10, 20, 20, 'ffff', [1, 2, 3, 4])\n",
      "*Args 10 20 20 ffff [1, 2, 3, 4]\n"
     ]
    }
   ],
   "source": [
    "def f(*args):\n",
    "    print('Args', args)\n",
    "    print('*Args', *args)\n",
    "    \n",
    "f()\n",
    "print()\n",
    "f(10, 20, 20, 'ffff', [1, 2, 3, 4])"
   ]
  },
  {
   "cell_type": "code",
   "execution_count": 30,
   "id": "07db6f4f",
   "metadata": {},
   "outputs": [
    {
     "name": "stdout",
     "output_type": "stream",
     "text": [
      "Kwargs {}\n",
      "*Kwargs\n",
      "**Kwargs\n",
      "\n",
      "Kwargs {'a': 10, 'b': 20, 'c': 20, 'd': 'ffff', 'e': [1, 2, 3, 4]}\n",
      "*Kwargs a b c d e\n"
     ]
    },
    {
     "ename": "TypeError",
     "evalue": "'a' is an invalid keyword argument for print()",
     "output_type": "error",
     "traceback": [
      "\u001b[0;31m---------------------------------------------------------------------------\u001b[0m",
      "\u001b[0;31mTypeError\u001b[0m                                 Traceback (most recent call last)",
      "Cell \u001b[0;32mIn[30], line 8\u001b[0m\n\u001b[1;32m      6\u001b[0m f()\n\u001b[1;32m      7\u001b[0m \u001b[38;5;28mprint\u001b[39m()\n\u001b[0;32m----> 8\u001b[0m \u001b[43mf\u001b[49m\u001b[43m(\u001b[49m\u001b[43ma\u001b[49m\u001b[38;5;241;43m=\u001b[39;49m\u001b[38;5;241;43m10\u001b[39;49m\u001b[43m,\u001b[49m\u001b[43m \u001b[49m\u001b[43mb\u001b[49m\u001b[38;5;241;43m=\u001b[39;49m\u001b[38;5;241;43m20\u001b[39;49m\u001b[43m,\u001b[49m\u001b[43m \u001b[49m\u001b[43mc\u001b[49m\u001b[38;5;241;43m=\u001b[39;49m\u001b[38;5;241;43m20\u001b[39;49m\u001b[43m,\u001b[49m\u001b[43m \u001b[49m\u001b[43md\u001b[49m\u001b[38;5;241;43m=\u001b[39;49m\u001b[38;5;124;43m'\u001b[39;49m\u001b[38;5;124;43mffff\u001b[39;49m\u001b[38;5;124;43m'\u001b[39;49m\u001b[43m,\u001b[49m\u001b[43m \u001b[49m\u001b[43me\u001b[49m\u001b[38;5;241;43m=\u001b[39;49m\u001b[43m[\u001b[49m\u001b[38;5;241;43m1\u001b[39;49m\u001b[43m,\u001b[49m\u001b[43m \u001b[49m\u001b[38;5;241;43m2\u001b[39;49m\u001b[43m,\u001b[49m\u001b[43m \u001b[49m\u001b[38;5;241;43m3\u001b[39;49m\u001b[43m,\u001b[49m\u001b[43m \u001b[49m\u001b[38;5;241;43m4\u001b[39;49m\u001b[43m]\u001b[49m\u001b[43m)\u001b[49m\n",
      "Cell \u001b[0;32mIn[30], line 4\u001b[0m, in \u001b[0;36mf\u001b[0;34m(**kwargs)\u001b[0m\n\u001b[1;32m      2\u001b[0m \u001b[38;5;28mprint\u001b[39m(\u001b[38;5;124m'\u001b[39m\u001b[38;5;124mKwargs\u001b[39m\u001b[38;5;124m'\u001b[39m, kwargs)\n\u001b[1;32m      3\u001b[0m \u001b[38;5;28mprint\u001b[39m(\u001b[38;5;124m'\u001b[39m\u001b[38;5;124m*Kwargs\u001b[39m\u001b[38;5;124m'\u001b[39m, \u001b[38;5;241m*\u001b[39mkwargs)\n\u001b[0;32m----> 4\u001b[0m \u001b[38;5;28;43mprint\u001b[39;49m\u001b[43m(\u001b[49m\u001b[38;5;124;43m'\u001b[39;49m\u001b[38;5;124;43m**Kwargs\u001b[39;49m\u001b[38;5;124;43m'\u001b[39;49m\u001b[43m,\u001b[49m\u001b[43m \u001b[49m\u001b[38;5;241;43m*\u001b[39;49m\u001b[38;5;241;43m*\u001b[39;49m\u001b[43mkwargs\u001b[49m\u001b[43m)\u001b[49m\n",
      "\u001b[0;31mTypeError\u001b[0m: 'a' is an invalid keyword argument for print()"
     ]
    }
   ],
   "source": [
    "def f(**kwargs):\n",
    "    print('Kwargs', kwargs)\n",
    "    print('*Kwargs', *kwargs)\n",
    "    print('**Kwargs', **kwargs)\n",
    "    \n",
    "f()\n",
    "print()\n",
    "f(a=10, b=20, c=20, d='ffff', e=[1, 2, 3, 4])"
   ]
  },
  {
   "cell_type": "code",
   "execution_count": 31,
   "id": "2c820895",
   "metadata": {},
   "outputs": [
    {
     "name": "stdout",
     "output_type": "stream",
     "text": [
      "Args ()\n",
      "Kwargs {}\n",
      "\n",
      "Args (10, 20, 20, 'ffff', [1, 2, 3, 4])\n",
      "Kwargs {'a': 10, 'b': 20, 'c': 20, 'd': 'ffff', 'e': [1, 2, 3, 4]}\n",
      "\n"
     ]
    }
   ],
   "source": [
    "def f(*args, **kwargs):\n",
    "    print('Args', args)\n",
    "    print('Kwargs', kwargs)\n",
    "    \n",
    "f()\n",
    "print()\n",
    "f(10, 20, 20, 'ffff', [1, 2, 3, 4], a=10, b=20, c=20, d='ffff', e=[1, 2, 3, 4])\n",
    "print()\n",
    "# f(a=10, b=20, c=20, d='ffff', e=[1, 2, 3, 4], 10, 20, 20, 'ffff', [1, 2, 3, 4])"
   ]
  },
  {
   "cell_type": "markdown",
   "id": "7e92a20e",
   "metadata": {},
   "source": [
    "### Передаем любое количество цен"
   ]
  },
  {
   "cell_type": "code",
   "execution_count": 32,
   "id": "d6e31aa9",
   "metadata": {},
   "outputs": [
    {
     "name": "stdout",
     "output_type": "stream",
     "text": [
      "[95.0, 190.0, 285.0]\n"
     ]
    }
   ],
   "source": [
    "def final_price(*prices, discount=1):\n",
    "    return [price - price * discount / 100 for price in prices]\n",
    "\n",
    "\n",
    "print(final_price(100, 200, 300, discount=5))"
   ]
  },
  {
   "cell_type": "markdown",
   "id": "f90903ea",
   "metadata": {},
   "source": [
    "### Передаем любое количество цен и именованных аргументов"
   ]
  },
  {
   "cell_type": "code",
   "execution_count": 33,
   "id": "55ad7d4f",
   "metadata": {},
   "outputs": [
    {
     "name": "stdout",
     "output_type": "stream",
     "text": [
      "[95.0, 190.0, 285.0, 380.0, 475.0]\n",
      "[190.0, 285.0, 380.0, 475.0]\n",
      "[95.0, 190.0]\n",
      "[190.0, 285.0]\n"
     ]
    }
   ],
   "source": [
    "def final_price(*prices, discount=1, **kwargs):\n",
    "    low = kwargs.get(\"price_low\", min(prices))\n",
    "    high = kwargs.get(\"price_high\", max(prices))\n",
    "    return [price - price * discount / 100 for price in prices if low <= price <= high]\n",
    "\n",
    "\n",
    "print(final_price(100, 200, 300, 400, 500, discount=5))\n",
    "print(final_price(100, 200, 300, 400, 500, discount=5, price_low=200))\n",
    "print(final_price(100, 200, 300, 400, 500, discount=5, price_high=200))\n",
    "print(final_price(100, 200, 300, 400, 500, discount=5, price_low=200, price_high=350))"
   ]
  },
  {
   "cell_type": "markdown",
   "id": "67f400ff",
   "metadata": {},
   "source": [
    "### Аргументом может быть и другая функция"
   ]
  },
  {
   "cell_type": "code",
   "execution_count": 34,
   "id": "024ff913",
   "metadata": {},
   "outputs": [
    {
     "name": "stdout",
     "output_type": "stream",
     "text": [
      "5, 6\n"
     ]
    }
   ],
   "source": [
    "def only_pos(x):\n",
    "    return x > 0\n",
    "\n",
    "\n",
    "result = filter(only_pos, [-1, 5, 6, -10, 0])\n",
    "print(\", \".join(str(x) for x in result))"
   ]
  },
  {
   "cell_type": "code",
   "execution_count": 35,
   "id": "1469e51d",
   "metadata": {},
   "outputs": [
    {
     "name": "stdout",
     "output_type": "stream",
     "text": [
      "ABcd\n"
     ]
    }
   ],
   "source": [
    "result = filter(str.isalpha, \"123ABcd()\")\n",
    "print(\"\".join(result))"
   ]
  },
  {
   "cell_type": "code",
   "execution_count": 36,
   "id": "a8f8e62d",
   "metadata": {},
   "outputs": [
    {
     "name": "stdout",
     "output_type": "stream",
     "text": [
      "0, 1, 4, 9, 16\n"
     ]
    }
   ],
   "source": [
    "def square(x):\n",
    "    return x ** 2\n",
    "\n",
    "    \n",
    "result = map(square, range(5))\n",
    "print(\", \".join(str(x) for x in result))"
   ]
  },
  {
   "cell_type": "code",
   "execution_count": 37,
   "id": "742f656d",
   "metadata": {},
   "outputs": [
    {
     "name": "stdout",
     "output_type": "stream",
     "text": [
      "abcd\n",
      "efgh\n",
      "ijkl\n"
     ]
    }
   ],
   "source": [
    "result = map(str.lower, [\"abCD\", \"EFGh\", \"IJkl\"])\n",
    "print(\"\\n\".join(result))"
   ]
  },
  {
   "cell_type": "code",
   "execution_count": null,
   "id": "5296e2ad",
   "metadata": {},
   "outputs": [],
   "source": [
    "numbers = list(map(int, input().split()))"
   ]
  },
  {
   "cell_type": "markdown",
   "id": "39a4ed82",
   "metadata": {},
   "source": [
    "### Lambda функции"
   ]
  },
  {
   "cell_type": "code",
   "execution_count": 38,
   "id": "0c0a2de0",
   "metadata": {},
   "outputs": [
    {
     "data": {
      "text/plain": [
       "<function __main__.<lambda>(x)>"
      ]
     },
     "execution_count": 38,
     "metadata": {},
     "output_type": "execute_result"
    }
   ],
   "source": [
    "lambda x: x > 0"
   ]
  },
  {
   "cell_type": "code",
   "execution_count": 39,
   "id": "90780b19",
   "metadata": {},
   "outputs": [
    {
     "name": "stdout",
     "output_type": "stream",
     "text": [
      "5, 6\n"
     ]
    }
   ],
   "source": [
    "result = filter(lambda x: x > 0, [-1, 5, 6, -10, 0])\n",
    "print(\", \".join(str(x) for x in result))"
   ]
  },
  {
   "cell_type": "code",
   "execution_count": 40,
   "id": "83e70288",
   "metadata": {},
   "outputs": [
    {
     "name": "stdout",
     "output_type": "stream",
     "text": [
      "0, 1, 4, 9, 16\n"
     ]
    }
   ],
   "source": [
    "result = map(lambda x: x ** 2, range(5))\n",
    "print(\", \".join(str(x) for x in result))"
   ]
  },
  {
   "cell_type": "code",
   "execution_count": 41,
   "id": "94118181",
   "metadata": {},
   "outputs": [
    {
     "name": "stdout",
     "output_type": "stream",
     "text": [
      "['ab', 'abc', 'abcd', 'abcdef']\n"
     ]
    }
   ],
   "source": [
    "lines = [\"abcd\", \"ab\", \"abc\", \"abcdef\"]\n",
    "print(sorted(lines, key=lambda line: len(line)))"
   ]
  },
  {
   "cell_type": "code",
   "execution_count": 42,
   "id": "6b5bdfdd",
   "metadata": {},
   "outputs": [
    {
     "name": "stdout",
     "output_type": "stream",
     "text": [
      "['ab', 'ba', 'abcd', 'acde']\n"
     ]
    }
   ],
   "source": [
    "lines = [\"abcd\", \"ab\", \"ba\", \"acde\"]\n",
    "print(sorted(lines, key=lambda line: (len(line), line)))"
   ]
  },
  {
   "cell_type": "code",
   "execution_count": 43,
   "id": "da1d00db",
   "metadata": {},
   "outputs": [
    {
     "name": "stdout",
     "output_type": "stream",
     "text": [
      "['abcd', 'acde', 'ab', 'ba']\n"
     ]
    }
   ],
   "source": [
    "lines = [\"abcd\", \"ab\", \"ba\", \"acde\"]\n",
    "print(sorted(lines, key=lambda line: (-len(line), line)))"
   ]
  },
  {
   "cell_type": "code",
   "execution_count": 44,
   "id": "253f9951",
   "metadata": {},
   "outputs": [
    {
     "name": "stdout",
     "output_type": "stream",
     "text": [
      "abcd\n"
     ]
    }
   ],
   "source": [
    "lines = [\"abcd\", \"ab\", \"ba\", \"acde\"]\n",
    "print(min(lines, key=lambda line: (-len(line), line)))"
   ]
  },
  {
   "cell_type": "code",
   "execution_count": 45,
   "id": "10e7fcbc",
   "metadata": {},
   "outputs": [
    {
     "name": "stdout",
     "output_type": "stream",
     "text": [
      "5, 6\n"
     ]
    }
   ],
   "source": [
    "result = (x for x in [-1, 5, 6, -10, 0] if x > 0)\n",
    "print(\", \".join(str(x) for x in result))"
   ]
  },
  {
   "cell_type": "markdown",
   "id": "ed18853c",
   "metadata": {},
   "source": [
    "### Лямбда и reduce"
   ]
  },
  {
   "cell_type": "code",
   "execution_count": 47,
   "id": "0e3f2ddf",
   "metadata": {},
   "outputs": [
    {
     "name": "stdout",
     "output_type": "stream",
     "text": [
      "Help on built-in function reduce in module _functools:\n",
      "\n",
      "reduce(...)\n",
      "    reduce(function, iterable[, initial]) -> value\n",
      "    \n",
      "    Apply a function of two arguments cumulatively to the items of a sequence\n",
      "    or iterable, from left to right, so as to reduce the iterable to a single\n",
      "    value.  For example, reduce(lambda x, y: x+y, [1, 2, 3, 4, 5]) calculates\n",
      "    ((((1+2)+3)+4)+5).  If initial is present, it is placed before the items\n",
      "    of the iterable in the calculation, and serves as a default when the\n",
      "    iterable is empty.\n",
      "\n"
     ]
    }
   ],
   "source": [
    "help(reduce)"
   ]
  },
  {
   "cell_type": "code",
   "execution_count": 46,
   "id": "b4230f5f",
   "metadata": {},
   "outputs": [
    {
     "name": "stdout",
     "output_type": "stream",
     "text": [
      "15\n"
     ]
    }
   ],
   "source": [
    "from functools import reduce\n",
    "\n",
    "numbers = range(1, 6)\n",
    "print(reduce(lambda x, y: x + y, numbers))"
   ]
  },
  {
   "cell_type": "markdown",
   "id": "36354096",
   "metadata": {},
   "source": [
    "### Лямбда и list comprehensions"
   ]
  },
  {
   "cell_type": "code",
   "execution_count": 48,
   "id": "c44cabd8",
   "metadata": {},
   "outputs": [
    {
     "name": "stdout",
     "output_type": "stream",
     "text": [
      "10\n",
      "20\n",
      "30\n",
      "40\n",
      "50\n",
      "60\n",
      "70\n",
      "80\n",
      "90\n",
      "100\n"
     ]
    }
   ],
   "source": [
    "tables = [lambda x = x: x*10 for x in range(1, 11)]\n",
    "for table in tables:\n",
    "    print(table())"
   ]
  },
  {
   "cell_type": "markdown",
   "id": "fe8e1418",
   "metadata": {},
   "source": [
    "### Лямбда и условный оператор"
   ]
  },
  {
   "cell_type": "code",
   "execution_count": 49,
   "id": "0529adef",
   "metadata": {},
   "outputs": [
    {
     "name": "stdout",
     "output_type": "stream",
     "text": [
      "5\n"
     ]
    }
   ],
   "source": [
    "max_number = lambda a, b: a if a > b else b\n",
    "print(max_number(3, 5))"
   ]
  },
  {
   "cell_type": "markdown",
   "id": "3efabd39",
   "metadata": {},
   "source": [
    "### Лямбда и множественные операторы"
   ]
  },
  {
   "cell_type": "code",
   "execution_count": 50,
   "id": "16b22b9e",
   "metadata": {},
   "outputs": [
    {
     "name": "stdout",
     "output_type": "stream",
     "text": [
      "[9, 16, 30]\n"
     ]
    }
   ],
   "source": [
    "current_list = [[10,6,9],[0, 14, 16, 80],[8, 12, 30, 44]]\n",
    "sorted_list = lambda x: (sorted(i) for i in x)\n",
    "second_largest = lambda x, func: [y[len(y)-2] for y in func(x)]\n",
    "result = second_largest(current_list, sorted_list)\n",
    "print(result)"
   ]
  },
  {
   "cell_type": "markdown",
   "id": "9fa03f3b",
   "metadata": {},
   "source": [
    "# Рекурсия"
   ]
  },
  {
   "cell_type": "markdown",
   "id": "e78a1949",
   "metadata": {},
   "source": [
    "### Найдем факториал числа n! = 1 * 2 * ... * n"
   ]
  },
  {
   "cell_type": "code",
   "execution_count": 51,
   "id": "cb440e64",
   "metadata": {},
   "outputs": [
    {
     "name": "stdout",
     "output_type": "stream",
     "text": [
      "120\n"
     ]
    }
   ],
   "source": [
    "def fact(n):\n",
    "    factorial = 1\n",
    "    for i in range(2, n + 1):\n",
    "        factorial *= i\n",
    "    return factorial\n",
    "\n",
    "\n",
    "print(fact(5))"
   ]
  },
  {
   "cell_type": "markdown",
   "id": "b0b98be5",
   "metadata": {},
   "source": [
    "### Рассмотрим факториал с другой стороны n! = (1 * 2 * ... * (n - 1)) *n = (n - 1)! * n"
   ]
  },
  {
   "cell_type": "code",
   "execution_count": 52,
   "id": "a28d1aac",
   "metadata": {},
   "outputs": [
    {
     "name": "stdout",
     "output_type": "stream",
     "text": [
      "120\n"
     ]
    }
   ],
   "source": [
    "def fact(n):\n",
    "    if n == 0:  # 0! = 1\n",
    "        return 1\n",
    "    return fact(n - 1) * n  # n! = (n - 1)! * n\n",
    "\n",
    "\n",
    "print(fact(5))"
   ]
  },
  {
   "cell_type": "markdown",
   "id": "1c6e3090",
   "metadata": {},
   "source": [
    "### Числа фибоначчи"
   ]
  },
  {
   "cell_type": "code",
   "execution_count": 53,
   "id": "29b5d4fd",
   "metadata": {},
   "outputs": [
    {
     "name": "stdout",
     "output_type": "stream",
     "text": [
      "14930352\n"
     ]
    }
   ],
   "source": [
    "def fib(n):\n",
    "    if n in (0, 1):\n",
    "        return 1\n",
    "    return fib(n - 1) + fib(n - 2)\n",
    "\n",
    "\n",
    "print(fib(35))"
   ]
  },
  {
   "cell_type": "markdown",
   "id": "e24b9249",
   "metadata": {},
   "source": [
    "### Время вычисления числа фибоначчи рекурсией"
   ]
  },
  {
   "cell_type": "code",
   "execution_count": 54,
   "id": "5455a2fd",
   "metadata": {},
   "outputs": [
    {
     "name": "stdout",
     "output_type": "stream",
     "text": [
      "Среднее время вычисления: 1.282 с.\n"
     ]
    }
   ],
   "source": [
    "from timeit import timeit\n",
    "\n",
    "\n",
    "def fib(n):\n",
    "    if n in (0, 1):\n",
    "        return 1\n",
    "    return fib(n - 1) + fib(n - 2)\n",
    "\n",
    "\n",
    "print(f\"Среднее время вычисления: \"\n",
    "      f\"{round(timeit('fib(35)', number=10, globals=globals()) / 10, 3)} с.\")"
   ]
  },
  {
   "cell_type": "markdown",
   "id": "3f2a3257",
   "metadata": {},
   "source": [
    "### Время вычисления числа фибоначчи итеративным методом"
   ]
  },
  {
   "cell_type": "code",
   "execution_count": 55,
   "id": "a21b2d80",
   "metadata": {},
   "outputs": [
    {
     "name": "stdout",
     "output_type": "stream",
     "text": [
      "Среднее время вычисления: 0.0 с.\n"
     ]
    }
   ],
   "source": [
    "from timeit import timeit\n",
    "\n",
    "\n",
    "def fib(n):\n",
    "    f_1, f = 1, 1\n",
    "    for i in range(n - 1):\n",
    "        f_1, f = f, f_1 + f\n",
    "    return f\n",
    "\n",
    "\n",
    "print(f\"Среднее время вычисления: \"\n",
    "      f\"{round(timeit('fib(35)', number=10, globals=globals()) / 10, 3)} с.\")"
   ]
  },
  {
   "cell_type": "markdown",
   "id": "8f5bf5d7",
   "metadata": {},
   "source": [
    "### Проблема рекурсии\n",
    "\n",
    "![](recursion.png)"
   ]
  },
  {
   "cell_type": "code",
   "execution_count": 56,
   "id": "7473e39a",
   "metadata": {},
   "outputs": [
    {
     "name": "stdout",
     "output_type": "stream",
     "text": [
      "35-е число Фибоначчи равно: 14930352.\n",
      "Количество вызовов рекурсивной функции равно: 29860703.\n"
     ]
    }
   ],
   "source": [
    "def fib(n):\n",
    "    global count\n",
    "    count += 1\n",
    "    if n in (0, 1):\n",
    "        return 1\n",
    "    return fib(n - 1) + fib(n - 2)\n",
    "\n",
    "\n",
    "count = 0\n",
    "print(f\"35-е число Фибоначчи равно: {fib(35)}.\")\n",
    "print(f\"Количество вызовов рекурсивной функции равно: {count}.\")"
   ]
  },
  {
   "cell_type": "markdown",
   "id": "f94ade2d",
   "metadata": {},
   "source": [
    "### Запоминаем уже посчитанные числа"
   ]
  },
  {
   "cell_type": "code",
   "execution_count": 57,
   "id": "dc70699c",
   "metadata": {},
   "outputs": [
    {
     "name": "stdout",
     "output_type": "stream",
     "text": [
      "35-е число Фибоначчи равно: 14930352.\n",
      "Количество вызовов рекурсивной функции равно: 69.\n"
     ]
    }
   ],
   "source": [
    "def fib(n):\n",
    "    global count\n",
    "    count += 1\n",
    "    if n not in cash:\n",
    "        cash[n] = fib(n - 1) + fib(n - 2)\n",
    "    return cash[n]\n",
    "\n",
    "\n",
    "count = 0\n",
    "cash = {0: 1, 1: 1}\n",
    "print(f\"35-е число Фибоначчи равно: {fib(35)}.\")\n",
    "print(f\"Количество вызовов рекурсивной функции равно: {count}.\")"
   ]
  },
  {
   "cell_type": "markdown",
   "id": "ced70489",
   "metadata": {},
   "source": [
    "### Замеры скорости улучшенного метода"
   ]
  },
  {
   "cell_type": "code",
   "execution_count": 58,
   "id": "fc63be27",
   "metadata": {},
   "outputs": [
    {
     "name": "stdout",
     "output_type": "stream",
     "text": [
      "Среднее время вычисления: 5e-06 с.\n"
     ]
    }
   ],
   "source": [
    "from timeit import timeit\n",
    "\n",
    "\n",
    "def fib(n):\n",
    "    global count\n",
    "    count += 1\n",
    "    if n not in cash:\n",
    "        cash[n] = fib(n - 1) + fib(n - 2)\n",
    "    return cash[n]\n",
    "\n",
    "\n",
    "count = 0\n",
    "cash = {0: 1, 1: 1}\n",
    "print(f\"Среднее время вычисления: \"\n",
    "      f\"{round(timeit('fib(35)', number=10, globals=globals()) / 10, 6)} с.\")"
   ]
  },
  {
   "cell_type": "code",
   "execution_count": null,
   "id": "954c096e",
   "metadata": {},
   "outputs": [],
   "source": []
  },
  {
   "cell_type": "code",
   "execution_count": 59,
   "id": "80d63ff4",
   "metadata": {},
   "outputs": [
    {
     "name": "stdout",
     "output_type": "stream",
     "text": [
      "Unexpected exception formatting exception. Falling back to standard exception\n"
     ]
    },
    {
     "name": "stderr",
     "output_type": "stream",
     "text": [
      "Traceback (most recent call last):\n",
      "  File \"/Users/alinatarskaa/Desktop/env/lib/python3.11/site-packages/IPython/core/interactiveshell.py\", line 3508, in run_code\n",
      "    exec(code_obj, self.user_global_ns, self.user_ns)\n",
      "  File \"/var/folders/hx/c2bmt9hn1b5f_135wkslfgzw0000gn/T/ipykernel_19988/2605800480.py\", line 14, in <module>\n",
      "    f\"{round(timeit('fib(1000)', number=10, globals=globals()) / 10, 6)} с.\")\n",
      "             ^^^^^^^^^^^^^^^^^^^^^^^^^^^^^^^^^^^^^^^^^^^^^^^^^\n",
      "  File \"/opt/homebrew/Cellar/python@3.11/3.11.1/Frameworks/Python.framework/Versions/3.11/lib/python3.11/timeit.py\", line 234, in timeit\n",
      "    return Timer(stmt, setup, timer, globals).timeit(number)\n",
      "           ^^^^^^^^^^^^^^^^^^^^^^^^^^^^^^^^^^^^^^^^^^^^^^^^^\n",
      "  File \"/opt/homebrew/Cellar/python@3.11/3.11.1/Frameworks/Python.framework/Versions/3.11/lib/python3.11/timeit.py\", line 178, in timeit\n",
      "    timing = self.inner(it, self.timer)\n",
      "             ^^^^^^^^^^^^^^^^^^^^^^^^^^\n",
      "  File \"<timeit-src>\", line 6, in inner\n",
      "  File \"/var/folders/hx/c2bmt9hn1b5f_135wkslfgzw0000gn/T/ipykernel_19988/2605800480.py\", line 7, in fib\n",
      "    cash[n] = fib(n - 1) + fib(n - 2)\n",
      "              ^^^^^^^^^^\n",
      "  File \"/var/folders/hx/c2bmt9hn1b5f_135wkslfgzw0000gn/T/ipykernel_19988/2605800480.py\", line 7, in fib\n",
      "    cash[n] = fib(n - 1) + fib(n - 2)\n",
      "              ^^^^^^^^^^\n",
      "  File \"/var/folders/hx/c2bmt9hn1b5f_135wkslfgzw0000gn/T/ipykernel_19988/2605800480.py\", line 7, in fib\n",
      "    cash[n] = fib(n - 1) + fib(n - 2)\n",
      "              ^^^^^^^^^^\n",
      "  [Previous line repeated 68 more times]\n",
      "RecursionError: maximum recursion depth exceeded\n",
      "\n",
      "During handling of the above exception, another exception occurred:\n",
      "\n",
      "Traceback (most recent call last):\n",
      "  File \"/Users/alinatarskaa/Desktop/env/lib/python3.11/site-packages/pygments/lexer.py\", line 559, in _process_state\n",
      "    rex = cls._process_regex(tdef[0], rflags, state)\n",
      "          ^^^^^^^^^^^^^^^^^^^^^^^^^^^^^^^^^^^^^^^^^^\n",
      "  File \"/Users/alinatarskaa/Desktop/env/lib/python3.11/site-packages/pygments/lexer.py\", line 487, in _process_regex\n",
      "    regex = regex.get()\n",
      "            ^^^^^^^^^^^\n",
      "  File \"/Users/alinatarskaa/Desktop/env/lib/python3.11/site-packages/pygments/lexer.py\", line 475, in get\n",
      "    return regex_opt(self.words, prefix=self.prefix, suffix=self.suffix)\n",
      "           ^^^^^^^^^^^^^^^^^^^^^^^^^^^^^^^^^^^^^^^^^^^^^^^^^^^^^^^^^^^^^\n",
      "  File \"/Users/alinatarskaa/Desktop/env/lib/python3.11/site-packages/pygments/regexopt.py\", line 91, in regex_opt\n",
      "    return prefix + regex_opt_inner(strings, '(') + suffix\n",
      "                    ^^^^^^^^^^^^^^^^^^^^^^^^^^^^^\n",
      "  File \"/Users/alinatarskaa/Desktop/env/lib/python3.11/site-packages/pygments/regexopt.py\", line 77, in regex_opt_inner\n",
      "    '|'.join(regex_opt_inner(list(group[1]), '')\n",
      "  File \"/Users/alinatarskaa/Desktop/env/lib/python3.11/site-packages/pygments/regexopt.py\", line 77, in <genexpr>\n",
      "    '|'.join(regex_opt_inner(list(group[1]), '')\n",
      "             ^^^^^^^^^^^^^^^^^^^^^^^^^^^^^^^^^^^\n",
      "  File \"/Users/alinatarskaa/Desktop/env/lib/python3.11/site-packages/pygments/regexopt.py\", line 77, in regex_opt_inner\n",
      "    '|'.join(regex_opt_inner(list(group[1]), '')\n",
      "  File \"/Users/alinatarskaa/Desktop/env/lib/python3.11/site-packages/pygments/regexopt.py\", line 77, in <genexpr>\n",
      "    '|'.join(regex_opt_inner(list(group[1]), '')\n",
      "             ^^^^^^^^^^^^^^^^^^^^^^^^^^^^^^^^^^^\n",
      "  File \"/Users/alinatarskaa/Desktop/env/lib/python3.11/site-packages/pygments/regexopt.py\", line 77, in regex_opt_inner\n",
      "    '|'.join(regex_opt_inner(list(group[1]), '')\n",
      "  File \"/Users/alinatarskaa/Desktop/env/lib/python3.11/site-packages/pygments/regexopt.py\", line 77, in <genexpr>\n",
      "    '|'.join(regex_opt_inner(list(group[1]), '')\n",
      "             ^^^^^^^^^^^^^^^^^^^^^^^^^^^^^^^^^^^\n",
      "  File \"/Users/alinatarskaa/Desktop/env/lib/python3.11/site-packages/pygments/regexopt.py\", line 77, in regex_opt_inner\n",
      "    '|'.join(regex_opt_inner(list(group[1]), '')\n",
      "  File \"/Users/alinatarskaa/Desktop/env/lib/python3.11/site-packages/pygments/regexopt.py\", line 77, in <genexpr>\n",
      "    '|'.join(regex_opt_inner(list(group[1]), '')\n",
      "             ^^^^^^^^^^^^^^^^^^^^^^^^^^^^^^^^^^^\n",
      "  File \"/Users/alinatarskaa/Desktop/env/lib/python3.11/site-packages/pygments/regexopt.py\", line 77, in regex_opt_inner\n",
      "    '|'.join(regex_opt_inner(list(group[1]), '')\n",
      "  File \"/Users/alinatarskaa/Desktop/env/lib/python3.11/site-packages/pygments/regexopt.py\", line 77, in <genexpr>\n",
      "    '|'.join(regex_opt_inner(list(group[1]), '')\n",
      "             ^^^^^^^^^^^^^^^^^^^^^^^^^^^^^^^^^^^\n",
      "  File \"/Users/alinatarskaa/Desktop/env/lib/python3.11/site-packages/pygments/regexopt.py\", line 77, in regex_opt_inner\n",
      "    '|'.join(regex_opt_inner(list(group[1]), '')\n",
      "  File \"/Users/alinatarskaa/Desktop/env/lib/python3.11/site-packages/pygments/regexopt.py\", line 77, in <genexpr>\n",
      "    '|'.join(regex_opt_inner(list(group[1]), '')\n",
      "             ^^^^^^^^^^^^^^^^^^^^^^^^^^^^^^^^^^^\n",
      "  File \"/Users/alinatarskaa/Desktop/env/lib/python3.11/site-packages/pygments/regexopt.py\", line 77, in regex_opt_inner\n",
      "    '|'.join(regex_opt_inner(list(group[1]), '')\n",
      "  File \"/Users/alinatarskaa/Desktop/env/lib/python3.11/site-packages/pygments/regexopt.py\", line 77, in <genexpr>\n",
      "    '|'.join(regex_opt_inner(list(group[1]), '')\n",
      "             ^^^^^^^^^^^^^^^^^^^^^^^^^^^^^^^^^^^\n",
      "  File \"/Users/alinatarskaa/Desktop/env/lib/python3.11/site-packages/pygments/regexopt.py\", line 77, in regex_opt_inner\n",
      "    '|'.join(regex_opt_inner(list(group[1]), '')\n",
      "  File \"/Users/alinatarskaa/Desktop/env/lib/python3.11/site-packages/pygments/regexopt.py\", line 77, in <genexpr>\n",
      "    '|'.join(regex_opt_inner(list(group[1]), '')\n",
      "             ^^^^^^^^^^^^^^^^^^^^^^^^^^^^^^^^^^^\n",
      "  File \"/Users/alinatarskaa/Desktop/env/lib/python3.11/site-packages/pygments/regexopt.py\", line 77, in regex_opt_inner\n",
      "    '|'.join(regex_opt_inner(list(group[1]), '')\n",
      "  File \"/Users/alinatarskaa/Desktop/env/lib/python3.11/site-packages/pygments/regexopt.py\", line 77, in <genexpr>\n",
      "    '|'.join(regex_opt_inner(list(group[1]), '')\n",
      "             ^^^^^^^^^^^^^^^^^^^^^^^^^^^^^^^^^^^\n",
      "  File \"/Users/alinatarskaa/Desktop/env/lib/python3.11/site-packages/pygments/regexopt.py\", line 77, in regex_opt_inner\n",
      "    '|'.join(regex_opt_inner(list(group[1]), '')\n",
      "  File \"/Users/alinatarskaa/Desktop/env/lib/python3.11/site-packages/pygments/regexopt.py\", line 77, in <genexpr>\n",
      "    '|'.join(regex_opt_inner(list(group[1]), '')\n",
      "             ^^^^^^^^^^^^^^^^^^^^^^^^^^^^^^^^^^^\n",
      "  File \"/Users/alinatarskaa/Desktop/env/lib/python3.11/site-packages/pygments/regexopt.py\", line 77, in regex_opt_inner\n",
      "    '|'.join(regex_opt_inner(list(group[1]), '')\n",
      "  File \"/Users/alinatarskaa/Desktop/env/lib/python3.11/site-packages/pygments/regexopt.py\", line 77, in <genexpr>\n",
      "    '|'.join(regex_opt_inner(list(group[1]), '')\n",
      "             ^^^^^^^^^^^^^^^^^^^^^^^^^^^^^^^^^^^\n",
      "  File \"/Users/alinatarskaa/Desktop/env/lib/python3.11/site-packages/pygments/regexopt.py\", line 77, in regex_opt_inner\n",
      "    '|'.join(regex_opt_inner(list(group[1]), '')\n",
      "  File \"/Users/alinatarskaa/Desktop/env/lib/python3.11/site-packages/pygments/regexopt.py\", line 77, in <genexpr>\n",
      "    '|'.join(regex_opt_inner(list(group[1]), '')\n",
      "             ^^^^^^^^^^^^^^^^^^^^^^^^^^^^^^^^^^^\n",
      "  File \"/Users/alinatarskaa/Desktop/env/lib/python3.11/site-packages/pygments/regexopt.py\", line 77, in regex_opt_inner\n",
      "    '|'.join(regex_opt_inner(list(group[1]), '')\n",
      "  File \"/Users/alinatarskaa/Desktop/env/lib/python3.11/site-packages/pygments/regexopt.py\", line 77, in <genexpr>\n",
      "    '|'.join(regex_opt_inner(list(group[1]), '')\n",
      "             ^^^^^^^^^^^^^^^^^^^^^^^^^^^^^^^^^^^\n",
      "  File \"/Users/alinatarskaa/Desktop/env/lib/python3.11/site-packages/pygments/regexopt.py\", line 77, in regex_opt_inner\n",
      "    '|'.join(regex_opt_inner(list(group[1]), '')\n",
      "  File \"/Users/alinatarskaa/Desktop/env/lib/python3.11/site-packages/pygments/regexopt.py\", line 77, in <genexpr>\n",
      "    '|'.join(regex_opt_inner(list(group[1]), '')\n",
      "             ^^^^^^^^^^^^^^^^^^^^^^^^^^^^^^^^^^^\n",
      "  File \"/Users/alinatarskaa/Desktop/env/lib/python3.11/site-packages/pygments/regexopt.py\", line 63, in regex_opt_inner\n",
      "    + regex_opt_inner([s[plen:] for s in strings], '(?:') \\\n",
      "      ^^^^^^^^^^^^^^^^^^^^^^^^^^^^^^^^^^^^^^^^^^^^^^^^^^^\n",
      "  File \"/Users/alinatarskaa/Desktop/env/lib/python3.11/site-packages/pygments/regexopt.py\", line 77, in regex_opt_inner\n",
      "    '|'.join(regex_opt_inner(list(group[1]), '')\n",
      "  File \"/Users/alinatarskaa/Desktop/env/lib/python3.11/site-packages/pygments/regexopt.py\", line 77, in <genexpr>\n",
      "    '|'.join(regex_opt_inner(list(group[1]), '')\n",
      "             ^^^^^^^^^^^^^^^^^^^^^^^^^^^^^^^^^^^\n",
      "  File \"/Users/alinatarskaa/Desktop/env/lib/python3.11/site-packages/pygments/regexopt.py\", line 77, in regex_opt_inner\n",
      "    '|'.join(regex_opt_inner(list(group[1]), '')\n",
      "  File \"/Users/alinatarskaa/Desktop/env/lib/python3.11/site-packages/pygments/regexopt.py\", line 77, in <genexpr>\n",
      "    '|'.join(regex_opt_inner(list(group[1]), '')\n",
      "             ^^^^^^^^^^^^^^^^^^^^^^^^^^^^^^^^^^^\n",
      "  File \"/Users/alinatarskaa/Desktop/env/lib/python3.11/site-packages/pygments/regexopt.py\", line 77, in regex_opt_inner\n",
      "    '|'.join(regex_opt_inner(list(group[1]), '')\n",
      "  File \"/Users/alinatarskaa/Desktop/env/lib/python3.11/site-packages/pygments/regexopt.py\", line 77, in <genexpr>\n",
      "    '|'.join(regex_opt_inner(list(group[1]), '')\n",
      "             ^^^^^^^^^^^^^^^^^^^^^^^^^^^^^^^^^^^\n",
      "  File \"/Users/alinatarskaa/Desktop/env/lib/python3.11/site-packages/pygments/regexopt.py\", line 36, in regex_opt_inner\n",
      "    return open_paren + escape(first) + close_paren\n",
      "                        ^^^^^^^^^^^^^\n",
      "  File \"/opt/homebrew/Cellar/python@3.11/3.11.1/Frameworks/Python.framework/Versions/3.11/lib/python3.11/re/__init__.py\", line 258, in escape\n",
      "    return pattern.translate(_special_chars_map)\n",
      "           ^^^^^^^^^^^^^^^^^^^^^^^^^^^^^^^^^^^^^\n",
      "RecursionError: maximum recursion depth exceeded while calling a Python object\n",
      "\n",
      "The above exception was the direct cause of the following exception:\n",
      "\n",
      "Traceback (most recent call last):\n",
      "  File \"/Users/alinatarskaa/Desktop/env/lib/python3.11/site-packages/IPython/core/interactiveshell.py\", line 2105, in showtraceback\n",
      "    stb = self.InteractiveTB.structured_traceback(\n",
      "          ^^^^^^^^^^^^^^^^^^^^^^^^^^^^^^^^^^^^^^^^\n",
      "  File \"/Users/alinatarskaa/Desktop/env/lib/python3.11/site-packages/IPython/core/ultratb.py\", line 1396, in structured_traceback\n",
      "    return FormattedTB.structured_traceback(\n",
      "           ^^^^^^^^^^^^^^^^^^^^^^^^^^^^^^^^^\n",
      "  File \"/Users/alinatarskaa/Desktop/env/lib/python3.11/site-packages/IPython/core/ultratb.py\", line 1287, in structured_traceback\n",
      "    return VerboseTB.structured_traceback(\n",
      "           ^^^^^^^^^^^^^^^^^^^^^^^^^^^^^^^\n",
      "  File \"/Users/alinatarskaa/Desktop/env/lib/python3.11/site-packages/IPython/core/ultratb.py\", line 1140, in structured_traceback\n",
      "    formatted_exception = self.format_exception_as_a_whole(etype, evalue, etb, number_of_lines_of_context,\n",
      "                          ^^^^^^^^^^^^^^^^^^^^^^^^^^^^^^^^^^^^^^^^^^^^^^^^^^^^^^^^^^^^^^^^^^^^^^^^^^^^^^^^\n",
      "  File \"/Users/alinatarskaa/Desktop/env/lib/python3.11/site-packages/IPython/core/ultratb.py\", line 1055, in format_exception_as_a_whole\n",
      "    frames.append(self.format_record(record))\n",
      "                  ^^^^^^^^^^^^^^^^^^^^^^^^^^\n",
      "  File \"/Users/alinatarskaa/Desktop/env/lib/python3.11/site-packages/IPython/core/ultratb.py\", line 954, in format_record\n",
      "    _format_traceback_lines(\n",
      "  File \"/Users/alinatarskaa/Desktop/env/lib/python3.11/site-packages/IPython/core/ultratb.py\", line 206, in _format_traceback_lines\n",
      "    line = stack_line.render(pygmented=has_colors).rstrip('\\n') + '\\n'\n",
      "           ^^^^^^^^^^^^^^^^^^^^^^^^^^^^^^^^^^^^^^^\n",
      "  File \"/Users/alinatarskaa/Desktop/env/lib/python3.11/site-packages/stack_data/core.py\", line 391, in render\n",
      "    start_line, lines = self.frame_info._pygmented_scope_lines\n",
      "                        ^^^^^^^^^^^^^^^^^^^^^^^^^^^^^^^^^^^^^^\n",
      "  File \"/Users/alinatarskaa/Desktop/env/lib/python3.11/site-packages/stack_data/utils.py\", line 144, in cached_property_wrapper\n",
      "    value = obj.__dict__[self.func.__name__] = self.func(obj)\n",
      "                                               ^^^^^^^^^^^^^^\n",
      "  File \"/Users/alinatarskaa/Desktop/env/lib/python3.11/site-packages/stack_data/core.py\", line 824, in _pygmented_scope_lines\n",
      "    lines = _pygmented_with_ranges(formatter, code, ranges)\n",
      "            ^^^^^^^^^^^^^^^^^^^^^^^^^^^^^^^^^^^^^^^^^^^^^^^\n",
      "  File \"/Users/alinatarskaa/Desktop/env/lib/python3.11/site-packages/stack_data/utils.py\", line 163, in _pygmented_with_ranges\n",
      "    lexer = MyLexer(stripnl=False)\n",
      "            ^^^^^^^^^^^^^^^^^^^^^^\n",
      "  File \"/Users/alinatarskaa/Desktop/env/lib/python3.11/site-packages/pygments/lexer.py\", line 641, in __call__\n",
      "    cls._tokens = cls.process_tokendef('', cls.get_tokendefs())\n",
      "                  ^^^^^^^^^^^^^^^^^^^^^^^^^^^^^^^^^^^^^^^^^^^^^\n",
      "  File \"/Users/alinatarskaa/Desktop/env/lib/python3.11/site-packages/pygments/lexer.py\", line 580, in process_tokendef\n",
      "    cls._process_state(tokendefs, processed, state)\n",
      "  File \"/Users/alinatarskaa/Desktop/env/lib/python3.11/site-packages/pygments/lexer.py\", line 543, in _process_state\n",
      "    tokens.extend(cls._process_state(unprocessed, processed,\n",
      "                  ^^^^^^^^^^^^^^^^^^^^^^^^^^^^^^^^^^^^^^^^^^\n",
      "  File \"/Users/alinatarskaa/Desktop/env/lib/python3.11/site-packages/pygments/lexer.py\", line 543, in _process_state\n",
      "    tokens.extend(cls._process_state(unprocessed, processed,\n",
      "                  ^^^^^^^^^^^^^^^^^^^^^^^^^^^^^^^^^^^^^^^^^^\n",
      "  File \"/Users/alinatarskaa/Desktop/env/lib/python3.11/site-packages/pygments/lexer.py\", line 561, in _process_state\n",
      "    raise ValueError(\"uncompilable regex %r in state %r of %r: %s\" %\n",
      "ValueError: uncompilable regex <pygments.lexer.words object at 0x103399290> in state 'builtins' of <class 'stack_data.utils._pygmented_with_ranges.<locals>.MyLexer'>: maximum recursion depth exceeded while calling a Python object\n"
     ]
    }
   ],
   "source": [
    "from timeit import timeit\n",
    "from sys import setrecursionlimit\n",
    "\n",
    "\n",
    "def fib(n):\n",
    "    if n not in cash:\n",
    "        cash[n] = fib(n - 1) + fib(n - 2)\n",
    "    return cash[n]\n",
    "\n",
    "\n",
    "cash = {0: 1, 1: 1}\n",
    "setrecursionlimit(100)\n",
    "print(f\"Среднее время вычисления: \"\n",
    "      f\"{round(timeit('fib(1000)', number=10, globals=globals()) / 10, 6)} с.\")"
   ]
  },
  {
   "cell_type": "code",
   "execution_count": 60,
   "id": "3f5318bb",
   "metadata": {},
   "outputs": [
    {
     "name": "stdout",
     "output_type": "stream",
     "text": [
      "Среднее время вычисления: 6e-05 с.\n"
     ]
    }
   ],
   "source": [
    "from timeit import timeit\n",
    "from sys import setrecursionlimit\n",
    "\n",
    "\n",
    "def fib(n):\n",
    "    if n not in cash:\n",
    "        cash[n] = fib(n - 1) + fib(n - 2)\n",
    "    return cash[n]\n",
    "\n",
    "\n",
    "cash = {0: 1, 1: 1}\n",
    "setrecursionlimit(2000)\n",
    "print(f\"Среднее время вычисления: \"\n",
    "      f\"{round(timeit('fib(1000)', number=10, globals=globals()) / 10, 6)} с.\")"
   ]
  },
  {
   "cell_type": "markdown",
   "id": "18418d39",
   "metadata": {},
   "source": [
    "### Кэширование из коробки"
   ]
  },
  {
   "cell_type": "code",
   "execution_count": 61,
   "id": "d574669d",
   "metadata": {},
   "outputs": [
    {
     "name": "stdout",
     "output_type": "stream",
     "text": [
      "Среднее время вычисления: 4e-06 с.\n"
     ]
    }
   ],
   "source": [
    "from timeit import timeit\n",
    "from functools import lru_cache\n",
    "\n",
    "\n",
    "@lru_cache(maxsize=1000)\n",
    "def fib(n):\n",
    "    if n in (0, 1):\n",
    "        return 1\n",
    "    return fib(n - 1) + fib(n - 2)\n",
    "\n",
    "    \n",
    "print(f\"Среднее время вычисления: \"\n",
    "      f\"{round(timeit('fib(35)', number=10, globals=globals()) / 10, 6)} с.\")"
   ]
  },
  {
   "cell_type": "code",
   "execution_count": null,
   "id": "bdddf092",
   "metadata": {},
   "outputs": [],
   "source": []
  },
  {
   "cell_type": "code",
   "execution_count": null,
   "id": "5b51fd7d",
   "metadata": {},
   "outputs": [],
   "source": []
  },
  {
   "cell_type": "code",
   "execution_count": null,
   "id": "0f20923b",
   "metadata": {},
   "outputs": [],
   "source": []
  },
  {
   "cell_type": "code",
   "execution_count": null,
   "id": "22828f95",
   "metadata": {},
   "outputs": [],
   "source": []
  },
  {
   "cell_type": "code",
   "execution_count": null,
   "id": "4e3044b5",
   "metadata": {},
   "outputs": [],
   "source": []
  },
  {
   "cell_type": "code",
   "execution_count": null,
   "id": "bd40e5f4",
   "metadata": {},
   "outputs": [],
   "source": []
  }
 ],
 "metadata": {
  "kernelspec": {
   "display_name": "Python 3 (ipykernel)",
   "language": "python",
   "name": "python3"
  },
  "language_info": {
   "codemirror_mode": {
    "name": "ipython",
    "version": 3
   },
   "file_extension": ".py",
   "mimetype": "text/x-python",
   "name": "python",
   "nbconvert_exporter": "python",
   "pygments_lexer": "ipython3",
   "version": "3.11.1"
  }
 },
 "nbformat": 4,
 "nbformat_minor": 5
}
