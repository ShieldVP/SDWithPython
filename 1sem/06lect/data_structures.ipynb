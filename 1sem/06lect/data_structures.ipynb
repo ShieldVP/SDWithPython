{
 "cells": [
  {
   "cell_type": "markdown",
   "metadata": {},
   "source": [
    "<h1>Структуры данных</h1>"
   ]
  },
  {
   "cell_type": "markdown",
   "metadata": {},
   "source": [
    "# Стек"
   ]
  },
  {
   "cell_type": "markdown",
   "metadata": {},
   "source": [
    "**Стек** - структура данных, работающая по принципу LIFO (Last In-First Out), то есть, первым будет извлечён последний добавленный в стек элемент"
   ]
  },
  {
   "cell_type": "markdown",
   "metadata": {},
   "source": [
    "В простейшем случае ```list()``` реализует протокол стека методами ```append()``` и ```pop()```"
   ]
  },
  {
   "cell_type": "code",
   "execution_count": 32,
   "metadata": {},
   "outputs": [],
   "source": [
    "stack = []"
   ]
  },
  {
   "cell_type": "code",
   "execution_count": 33,
   "metadata": {},
   "outputs": [
    {
     "data": {
      "text/plain": [
       "[10, 17, 24, 31, 38, 45, 52, 59, 66, 73, 80, 87, 94]"
      ]
     },
     "execution_count": 33,
     "metadata": {},
     "output_type": "execute_result"
    }
   ],
   "source": [
    "for x in range(10, 100, 7):\n",
    "    stack.append(x)\n",
    "stack"
   ]
  },
  {
   "cell_type": "code",
   "execution_count": 34,
   "metadata": {},
   "outputs": [
    {
     "name": "stdout",
     "output_type": "stream",
     "text": [
      "94\n"
     ]
    },
    {
     "data": {
      "text/plain": [
       "[10, 17, 24, 31, 38, 45, 52, 59, 66, 73, 80, 87]"
      ]
     },
     "execution_count": 34,
     "metadata": {},
     "output_type": "execute_result"
    }
   ],
   "source": [
    "print(stack.pop())\n",
    "stack"
   ]
  },
  {
   "cell_type": "markdown",
   "metadata": {},
   "source": [
    "# Очередь"
   ]
  },
  {
   "cell_type": "markdown",
   "metadata": {},
   "source": [
    "В отличие от стека очередь работает по принципу FIFO (First In-First Out), то есть первым извлечён будет элемент, добавленный в очередь первым"
   ]
  },
  {
   "cell_type": "markdown",
   "metadata": {},
   "source": [
    "Аналогично предыдущему пункту, протокол очереди в Python реализует ```list``` посредством тех же методов ```append()``` и  ```pop(0)```"
   ]
  },
  {
   "cell_type": "code",
   "execution_count": 10,
   "metadata": {},
   "outputs": [],
   "source": [
    "queue = []"
   ]
  },
  {
   "cell_type": "code",
   "execution_count": 11,
   "metadata": {},
   "outputs": [
    {
     "data": {
      "text/plain": [
       "[10, 17, 24, 31, 38, 45, 52, 59, 66, 73, 80, 87, 94]"
      ]
     },
     "execution_count": 11,
     "metadata": {},
     "output_type": "execute_result"
    }
   ],
   "source": [
    "for x in range(10, 100, 7):\n",
    "    queue.append(x)\n",
    "\n",
    "queue"
   ]
  },
  {
   "cell_type": "code",
   "execution_count": 12,
   "metadata": {},
   "outputs": [
    {
     "name": "stdout",
     "output_type": "stream",
     "text": [
      "10\n"
     ]
    },
    {
     "data": {
      "text/plain": [
       "[17, 24, 31, 38, 45, 52, 59, 66, 73, 80, 87, 94]"
      ]
     },
     "execution_count": 12,
     "metadata": {},
     "output_type": "execute_result"
    }
   ],
   "source": [
    "print(queue.pop(0))\n",
    "queue"
   ]
  },
  {
   "cell_type": "markdown",
   "metadata": {},
   "source": [
    "# Дек"
   ]
  },
  {
   "cell_type": "markdown",
   "metadata": {},
   "source": [
    "Деком называют структуру данных, которая реализует одновременно интерфейс стека и очереди - добавление и извлечение элементов возможно с обеих сторон"
   ]
  },
  {
   "cell_type": "markdown",
   "metadata": {},
   "source": [
    "# Связный список"
   ]
  },
  {
   "cell_type": "markdown",
   "metadata": {},
   "source": [
    "Связный список - структура данных, хранящая в каждом узле ссылку на предыдущий (и последующий в случае двусвязного списка) элемент списка"
   ]
  },
  {
   "cell_type": "code",
   "execution_count": 37,
   "metadata": {},
   "outputs": [],
   "source": [
    "class Node:\n",
    "    def __init__(self, data = None, prev = None, next = None):\n",
    "        self._data = data\n",
    "        self._prev = prev\n",
    "\n",
    "    def __str__(self):\n",
    "        return str(self._data)"
   ]
  },
  {
   "cell_type": "code",
   "execution_count": 38,
   "metadata": {},
   "outputs": [],
   "source": [
    "class _list:\n",
    "    def __init__(self, head = None):\n",
    "        self._head = head\n",
    "\n",
    "    def push(self, node):\n",
    "        if self._head is None:\n",
    "            self._head = node\n",
    "            return\n",
    "        \n",
    "        node._prev = self._head\n",
    "        self._head = node\n",
    "\n",
    "    def pop(self):\n",
    "        if self._head is None:\n",
    "            return\n",
    "        \n",
    "        result = self._head\n",
    "        self._head = self._head._prev\n",
    "        return result\n",
    "    \n",
    "    def find(self, val):\n",
    "        cur = self._head\n",
    "        while not (cur is None):\n",
    "            if cur._data == val:\n",
    "                return cur\n",
    "            cur = cur._prev\n",
    "        \n",
    "        return None\n",
    "        \n",
    "\n",
    "    def rm(self, val):\n",
    "        cur = self._head._prev\n",
    "        prev = self._head\n",
    "        while not (cur is None):\n",
    "            if cur._data == val:\n",
    "                prev._prev = cur._prev\n",
    "                return cur\n",
    "            prev = cur\n",
    "            cur = cur._prev\n",
    "\n",
    "    def __str__(self):\n",
    "        output = []\n",
    "        cur = self._head\n",
    "        while not (cur is None):\n",
    "            output.append(cur._data)\n",
    "            cur = cur._prev\n",
    "        return str(output[::-1])"
   ]
  },
  {
   "cell_type": "code",
   "execution_count": 39,
   "metadata": {},
   "outputs": [],
   "source": [
    "l = _list()"
   ]
  },
  {
   "cell_type": "code",
   "execution_count": 40,
   "metadata": {},
   "outputs": [
    {
     "name": "stdout",
     "output_type": "stream",
     "text": [
      "[10, 17, 24, 31, 38, 45, 52, 59, 66, 73, 80, 87, 94]\n"
     ]
    }
   ],
   "source": [
    "for x in range(10, 100, 7):\n",
    "    l.push(Node(x))\n",
    "\n",
    "print(l)"
   ]
  },
  {
   "cell_type": "code",
   "execution_count": 41,
   "metadata": {},
   "outputs": [
    {
     "name": "stdout",
     "output_type": "stream",
     "text": [
      "94\n",
      "[10, 17, 24, 31, 38, 45, 52, 59, 66, 73, 80, 87]\n"
     ]
    }
   ],
   "source": [
    "print(l.pop(), l, sep='\\n')"
   ]
  },
  {
   "cell_type": "code",
   "execution_count": 45,
   "metadata": {},
   "outputs": [
    {
     "name": "stdout",
     "output_type": "stream",
     "text": [
      "None\n",
      "[10, 17, 24, 31, 38, 45, 59, 66, 73, 80, 87]\n"
     ]
    }
   ],
   "source": [
    "print(l.rm(52), l, sep='\\n')"
   ]
  },
  {
   "cell_type": "code",
   "execution_count": 46,
   "metadata": {},
   "outputs": [
    {
     "name": "stdout",
     "output_type": "stream",
     "text": [
      "10\n"
     ]
    }
   ],
   "source": [
    "print(l.find(10))"
   ]
  },
  {
   "cell_type": "code",
   "execution_count": 47,
   "metadata": {},
   "outputs": [
    {
     "name": "stdout",
     "output_type": "stream",
     "text": [
      "None\n"
     ]
    }
   ],
   "source": [
    "print(l.find(1))"
   ]
  }
 ],
 "metadata": {
  "kernelspec": {
   "display_name": "Python 3",
   "language": "python",
   "name": "python3"
  },
  "language_info": {
   "codemirror_mode": {
    "name": "ipython",
    "version": 3
   },
   "file_extension": ".py",
   "mimetype": "text/x-python",
   "name": "python",
   "nbconvert_exporter": "python",
   "pygments_lexer": "ipython3",
   "version": "3.11.6"
  }
 },
 "nbformat": 4,
 "nbformat_minor": 2
}
