{
 "cells": [
  {
   "cell_type": "markdown",
   "id": "6a49637f",
   "metadata": {},
   "source": [
    "# Почему set не имеет свойство упорядоченности\n",
    "\n",
    "Это особенность реализации set, он реализован как хэшсет.\n",
    "\n",
    "Если заполнять хешсет последовательно с меньших чисел до больших,\n",
    "они станут занимать последовательные \"корзины\".\n",
    "\n",
    "Номер корзины вычисляется как хеш код по модулю текущей вместимости хешсет. А вместимость в этой ситуации больше любого хешкода."
   ]
  },
  {
   "cell_type": "markdown",
   "id": "ce4c7094",
   "metadata": {},
   "source": [
    "В реализации вычисления хэшей, хэши чисел до 2^61 - 2 являются самими этими числами, поэтому, если мы будем последовательно добавлять такие числа, то они будут упорядочены"
   ]
  },
  {
   "cell_type": "code",
   "execution_count": 1,
   "id": "fca03b85",
   "metadata": {},
   "outputs": [
    {
     "data": {
      "text/plain": [
       "{1, 2, 3, 4, 5}"
      ]
     },
     "execution_count": 1,
     "metadata": {},
     "output_type": "execute_result"
    }
   ],
   "source": [
    "s = {1, 2, 3 , 4 ,5}\n",
    "s"
   ]
  },
  {
   "cell_type": "markdown",
   "id": "44e1cba3",
   "metadata": {},
   "source": [
    "Еще один пример"
   ]
  },
  {
   "cell_type": "code",
   "execution_count": 2,
   "id": "5e740da9",
   "metadata": {},
   "outputs": [
    {
     "data": {
      "text/plain": [
       "{1, 2, 4, 5, 10, 11}"
      ]
     },
     "execution_count": 2,
     "metadata": {},
     "output_type": "execute_result"
    }
   ],
   "source": [
    "s = {11, 10, 2, 4, 5, 1}\n",
    "s"
   ]
  },
  {
   "cell_type": "markdown",
   "id": "87cf9976",
   "metadata": {},
   "source": [
    "В реализации set в python вместимость \"корзин\", доступных по хэшу, N, значит, каждые N элементов или меньше будут упорядочены"
   ]
  },
  {
   "cell_type": "code",
   "execution_count": null,
   "id": "831f4c4c",
   "metadata": {},
   "outputs": [],
   "source": [
    "dir(set)"
   ]
  },
  {
   "cell_type": "code",
   "execution_count": 3,
   "id": "6f948c44",
   "metadata": {},
   "outputs": [
    {
     "data": {
      "text/plain": [
       "65"
      ]
     },
     "execution_count": 3,
     "metadata": {},
     "output_type": "execute_result"
    }
   ],
   "source": [
    "ord('A')"
   ]
  },
  {
   "cell_type": "code",
   "execution_count": 4,
   "id": "8f53bc94",
   "metadata": {},
   "outputs": [
    {
     "data": {
      "text/plain": [
       "122"
      ]
     },
     "execution_count": 4,
     "metadata": {},
     "output_type": "execute_result"
    }
   ],
   "source": [
    "ord('z')"
   ]
  },
  {
   "cell_type": "code",
   "execution_count": 5,
   "id": "d248fd26",
   "metadata": {},
   "outputs": [
    {
     "name": "stdout",
     "output_type": "stream",
     "text": [
      "10 {0, 1, 1.3, 3, 'a', 'bb', 'b', 'aa', 'c', -1}\n",
      "11 {0, 1, 1.3, 3, 'a', 44, 'bb', 'b', 'aa', 'c', -1}\n",
      "\n",
      "12 {0, 1, 1.3, 3, 'a', 44, 'h', 'bb', 'b', 'aa', 'c', -1}\n",
      "13 {0, 1, 1.3, 3, 'a', 44, 14, 'h', 'bb', 'b', 'aa', 'c', -1}\n",
      "\n",
      "14 {0, 1, 1.3, 3, 'a', 'X', 44, 14, 'h', 'bb', 'b', 'aa', 'c', -1}\n",
      "15 {0, 1, 1.3, 3, 'a', 'X', 8, 44, 14, 'h', 'bb', 'b', 'aa', 'c', -1}\n",
      "\n",
      "16 {0, 1, 1.3, 3, 'a', 'X', 8, '_', 44, 14, 'h', 'bb', 'b', 'aa', 'c', -1}\n",
      "17 {0, 1, 1.3, 3, 'a', 'X', 8, '_', 44, 14, 'h', 49, 'bb', 'b', 'aa', 'c', -1}\n",
      "\n",
      "17 {0, 1, 1.3, 3, 'a', 'X', 8, '_', 44, 14, 'h', 49, 'bb', 'b', 'aa', 'c', -1}\n",
      "18 {0, 1, 1.3, 3, 'a', 'X', 8, '_', 44, 14, 'h', 49, 'bb', 'b', 'aa', 'c', -1, 63}\n",
      "\n",
      "19 {0, 1, 1.3, 3, 8, 14, 'bb', 'b', 'a', 44, 'h', 49, 63, '_', 'aa', 'X', 'd', 'c', -1}\n",
      "20 {0, 1, 1.3, 3, 8, 14, 'bb', 'b', 'a', 44, 'h', 49, 55, 63, '_', 'aa', 'X', 'd', 'c', -1}\n",
      "\n",
      "21 {0, 1, 1.3, 3, 8, 14, 'bb', 'b', 'B', 'a', 44, 'h', 49, 55, 63, '_', 'aa', 'X', 'd', 'c', -1}\n",
      "22 {0, 1, 1.3, 3, 8, 14, 'bb', 'b', 'B', 'a', 44, 'h', 49, 55, 57, 63, '_', 'aa', 'X', 'd', 'c', -1}\n",
      "\n",
      "23 {0, 1, 1.3, 3, 8, 14, 'bb', 'b', 'B', 'a', 44, 'h', 49, 55, 57, 63, '_', 'aa', 'X', 'd', 'c', 'F', -1}\n",
      "24 {0, 1, 1.3, 3, 8, 14, 'bb', 'b', 'B', 29, 'a', 44, 'h', 49, 55, 57, 63, '_', 'aa', 'X', 'd', 'c', 'F', -1}\n",
      "\n",
      "24 {0, 1, 1.3, 3, 8, 14, 'bb', 'b', 'B', 29, 'a', 44, 'h', 49, 55, 57, 63, '_', 'aa', 'X', 'd', 'c', 'F', -1}\n"
     ]
    }
   ],
   "source": [
    "import random\n",
    "\n",
    "s = {1, 'b', 3, 0, -1, 'a', 'aa', 'bb', 'c', 1.3}\n",
    "for i in range(8):\n",
    "    print(len(s), s)\n",
    "    s.add(random.randint(0, 100))\n",
    "    \n",
    "    print(len(s), s)\n",
    "    s.add(chr(random.randint(65, 122)))\n",
    "    print()\n",
    "print(len(s), s)"
   ]
  },
  {
   "cell_type": "markdown",
   "id": "5e0fa69d",
   "metadata": {},
   "source": [
    "# List comprehensions (дополнение к прошлой лекции)"
   ]
  },
  {
   "cell_type": "markdown",
   "id": "cf65b576",
   "metadata": {},
   "source": [
    "### Простейший генератор списка"
   ]
  },
  {
   "cell_type": "code",
   "execution_count": 6,
   "id": "2e3819b8",
   "metadata": {},
   "outputs": [
    {
     "name": "stdout",
     "output_type": "stream",
     "text": [
      "[0, 1, 2, 3, 4]\n"
     ]
    }
   ],
   "source": [
    "numbers = [i for i in range(5)]\n",
    "print(numbers)"
   ]
  },
  {
   "cell_type": "markdown",
   "id": "3b452392",
   "metadata": {},
   "source": [
    "### С условием"
   ]
  },
  {
   "cell_type": "code",
   "execution_count": 8,
   "id": "7465f6e0",
   "metadata": {},
   "outputs": [
    {
     "name": "stdout",
     "output_type": "stream",
     "text": [
      "2\n",
      "[3, 4]\n"
     ]
    }
   ],
   "source": [
    "numbers = [i for i in range(5)]\n",
    "avg = sum(numbers) // len(numbers)\n",
    "print(avg)\n",
    "numbers = [element for element in numbers if element > avg]\n",
    "print(numbers)"
   ]
  },
  {
   "cell_type": "markdown",
   "id": "0619039f",
   "metadata": {},
   "source": [
    "### Некорректный с точки зрения производительности пример"
   ]
  },
  {
   "cell_type": "code",
   "execution_count": 9,
   "id": "d6df5885",
   "metadata": {},
   "outputs": [
    {
     "name": "stdout",
     "output_type": "stream",
     "text": [
      "[3, 4]\n"
     ]
    }
   ],
   "source": [
    "numbers = [i for i in range(5)]\n",
    "numbers = [element for element in numbers if element > sum(numbers) // len(numbers)]\n",
    "print(numbers)"
   ]
  },
  {
   "cell_type": "markdown",
   "id": "97c763f8",
   "metadata": {},
   "source": [
    "### Вложенный цикл в list comprehensions"
   ]
  },
  {
   "cell_type": "code",
   "execution_count": 11,
   "id": "45aafb85",
   "metadata": {},
   "outputs": [
    {
     "name": "stdout",
     "output_type": "stream",
     "text": [
      "2 3 4 5 6\n",
      "1 2 3 4 4\n",
      "1 2 3 4\n",
      "[[2, 3, 4, 5, 6], [1, 2, 3, 4, 4], [1, 2, 3, 4]]\n"
     ]
    }
   ],
   "source": [
    "matrix = [[int(x) for x in input().split()] for i in range(3)]\n",
    "print(matrix)"
   ]
  },
  {
   "cell_type": "markdown",
   "id": "6fabe4ea",
   "metadata": {},
   "source": [
    "### Создадим список, используя уже известные нам операции со списками"
   ]
  },
  {
   "cell_type": "code",
   "execution_count": 12,
   "id": "21dc65b3",
   "metadata": {},
   "outputs": [
    {
     "name": "stdout",
     "output_type": "stream",
     "text": [
      "[[0, 0, 0, 0, 0], [0, 0, 0, 0, 0], [0, 0, 0, 0, 0], [0, 0, 0, 0, 0], [0, 0, 0, 0, 0]]\n"
     ]
    }
   ],
   "source": [
    "zeros = [[0] * 5] * 5\n",
    "print(zeros)"
   ]
  },
  {
   "cell_type": "markdown",
   "id": "61a1c060",
   "metadata": {},
   "source": [
    "### Попробуем поменять значение в первом элементе первого вложенного списка"
   ]
  },
  {
   "cell_type": "code",
   "execution_count": 13,
   "id": "4c6edcf9",
   "metadata": {},
   "outputs": [
    {
     "name": "stdout",
     "output_type": "stream",
     "text": [
      "[[1, 0, 0, 0, 0], [1, 0, 0, 0, 0], [1, 0, 0, 0, 0], [1, 0, 0, 0, 0], [1, 0, 0, 0, 0]]\n"
     ]
    }
   ],
   "source": [
    "zeros[0][0] = 1\n",
    "print(zeros)"
   ]
  },
  {
   "cell_type": "markdown",
   "id": "648cbcf4",
   "metadata": {},
   "source": [
    "### Сделаем правильное решение задачи"
   ]
  },
  {
   "cell_type": "code",
   "execution_count": 14,
   "id": "eacd3d95",
   "metadata": {},
   "outputs": [
    {
     "name": "stdout",
     "output_type": "stream",
     "text": [
      "[[0, 0, 0, 0, 0], [0, 0, 0, 0, 0], [0, 0, 0, 0, 0], [0, 0, 0, 0, 0], [0, 0, 0, 0, 0]]\n",
      "[[1, 0, 0, 0, 0], [0, 0, 0, 0, 0], [0, 0, 0, 0, 0], [0, 0, 0, 0, 0], [0, 0, 0, 0, 0]]\n"
     ]
    }
   ],
   "source": [
    "zeros = [[0] * 5 for i in range(5)]\n",
    "print(zeros)\n",
    "zeros[0][0] = 1\n",
    "print(zeros)"
   ]
  },
  {
   "cell_type": "markdown",
   "id": "3544c8cf",
   "metadata": {},
   "source": [
    "### List comprehension со строкой"
   ]
  },
  {
   "cell_type": "code",
   "execution_count": 15,
   "id": "ff313a03",
   "metadata": {},
   "outputs": [
    {
     "name": "stdout",
     "output_type": "stream",
     "text": [
      "[1057, 1090, 1088, 1086, 1082, 1072, 32, 1089, 1080, 1084, 1074, 1086, 1083, 1086, 1074]\n"
     ]
    }
   ],
   "source": [
    "text = \"Строка символов\"\n",
    "codes = [ord(symbol) for symbol in text]\n",
    "print(codes)"
   ]
  },
  {
   "cell_type": "markdown",
   "id": "cb9db8d9",
   "metadata": {},
   "source": [
    "### List comprehensions со словарем"
   ]
  },
  {
   "cell_type": "code",
   "execution_count": 16,
   "id": "27108e68",
   "metadata": {},
   "outputs": [
    {
     "name": "stdout",
     "output_type": "stream",
     "text": [
      "['Беларусь', 'Бельгия']\n"
     ]
    }
   ],
   "source": [
    "countries = {\"Россия\": [\"русский\"],\n",
    "             \"Беларусь\": [\"белорусский\", \"русский\"],\n",
    "             \"Бельгия\": [\"немецкий\", \"французский\", \"нидерландский\"],\n",
    "             \"Вьетнам\": [\"вьетнамский\"]}\n",
    "multiple_lang = [country for (country, lang) in countries.items() if len(lang) > 1]\n",
    "print(multiple_lang)"
   ]
  },
  {
   "cell_type": "code",
   "execution_count": 17,
   "id": "5d4d75df",
   "metadata": {},
   "outputs": [
    {
     "name": "stdout",
     "output_type": "stream",
     "text": [
      "{'Россия': 'Москва', 'Беларусь': 'Минск', 'Сербия': 'Белград'}\n"
     ]
    }
   ],
   "source": [
    "countries = {country: capital for country, capital in\n",
    "             [(\"Россия\", \"Москва\"),\n",
    "              (\"Беларусь\", \"Минск\"),\n",
    "              (\"Сербия\", \"Белград\")]}\n",
    "print(countries)"
   ]
  },
  {
   "cell_type": "markdown",
   "id": "30b96654",
   "metadata": {},
   "source": [
    "### List comprehensions в виде итератора"
   ]
  },
  {
   "cell_type": "code",
   "execution_count": 18,
   "id": "1448716a",
   "metadata": {},
   "outputs": [
    {
     "name": "stdout",
     "output_type": "stream",
     "text": [
      "<generator object <genexpr> at 0x107fa4740>\n"
     ]
    }
   ],
   "source": [
    "numbers = (int(input()) for i in range(5))\n",
    "print(numbers)"
   ]
  },
  {
   "cell_type": "markdown",
   "id": "646175a0",
   "metadata": {},
   "source": [
    "### Итератор занимает меньше памяти"
   ]
  },
  {
   "cell_type": "code",
   "execution_count": 19,
   "id": "6648f24a",
   "metadata": {},
   "outputs": [
    {
     "name": "stdout",
     "output_type": "stream",
     "text": [
      "Итератор занимает 200 байт.\n",
      "Список занимает 8000056 байт.\n"
     ]
    }
   ],
   "source": [
    "from sys import getsizeof\n",
    "\n",
    "# Создаём итератор из одного миллиона целых чисел\n",
    "numbers_iter = (i for i in range(10 ** 6))\n",
    "# Выводим количество байт, занятых итератором\n",
    "print(f\"Итератор занимает {getsizeof(numbers_iter)} байт.\")\n",
    "# Создаём список\n",
    "numbers_list = list(range(10 ** 6))\n",
    "# Выводим количество байт, занятых списком\n",
    "print(f\"Список занимает {getsizeof(numbers_list)} байт.\")"
   ]
  },
  {
   "cell_type": "markdown",
   "id": "24bd25a0",
   "metadata": {},
   "source": [
    "### Работа с итераторами, как правило, немного эффективнее"
   ]
  },
  {
   "cell_type": "code",
   "execution_count": 20,
   "id": "43737744",
   "metadata": {},
   "outputs": [
    {
     "name": "stdout",
     "output_type": "stream",
     "text": [
      "9.915\n",
      "9.267\n"
     ]
    }
   ],
   "source": [
    "from timeit import timeit\n",
    "\n",
    "print(round(timeit(\"s = '; '.join(str(x) for x in range(10 ** 7))\", number=10), 3))\n",
    "print(round(timeit(\"s = '; '.join([str(x) for x in list(range(10 ** 7))])\", number=10), 3))"
   ]
  },
  {
   "cell_type": "markdown",
   "id": "2cba894c",
   "metadata": {},
   "source": [
    "### Операция присваивания и идентификаторы памяти"
   ]
  },
  {
   "cell_type": "code",
   "execution_count": 21,
   "id": "d056ad06",
   "metadata": {},
   "outputs": [
    {
     "name": "stdout",
     "output_type": "stream",
     "text": [
      "4350270480\n",
      "4350270640\n"
     ]
    }
   ],
   "source": [
    "x = 5\n",
    "print(id(x))\n",
    "x = 10\n",
    "print(id(x))"
   ]
  },
  {
   "cell_type": "markdown",
   "id": "21e2e1fc",
   "metadata": {},
   "source": [
    "### Оператор is"
   ]
  },
  {
   "cell_type": "code",
   "execution_count": 22,
   "id": "e8fb9f44",
   "metadata": {},
   "outputs": [
    {
     "name": "stdout",
     "output_type": "stream",
     "text": [
      "4350270352\n",
      "4350270352\n",
      "True\n"
     ]
    }
   ],
   "source": [
    "x = 1\n",
    "y = x\n",
    "print(id(x))\n",
    "print(id(y))\n",
    "print(x is y)"
   ]
  },
  {
   "cell_type": "code",
   "execution_count": 23,
   "id": "7673476c",
   "metadata": {},
   "outputs": [
    {
     "name": "stdout",
     "output_type": "stream",
     "text": [
      "4350270352\n",
      "4350270352\n"
     ]
    }
   ],
   "source": [
    "x = 1\n",
    "y = 1\n",
    "\n",
    "print(id(x))\n",
    "print(id(y))"
   ]
  },
  {
   "cell_type": "code",
   "execution_count": 25,
   "id": "69d6fdf2",
   "metadata": {},
   "outputs": [
    {
     "name": "stdout",
     "output_type": "stream",
     "text": [
      "4349832672\n",
      "4349832672\n"
     ]
    }
   ],
   "source": [
    "x = \"str\"\n",
    "y = \"str\"\n",
    "\n",
    "print(id(x))\n",
    "print(id(y))"
   ]
  },
  {
   "cell_type": "code",
   "execution_count": 26,
   "id": "2f8947e7",
   "metadata": {},
   "outputs": [
    {
     "name": "stdout",
     "output_type": "stream",
     "text": [
      "4349832672\n",
      "4349832672\n"
     ]
    }
   ],
   "source": [
    "x = \"str\"\n",
    "y = x\n",
    "\n",
    "print(id(x))\n",
    "print(id(y))"
   ]
  },
  {
   "cell_type": "code",
   "execution_count": 27,
   "id": "4809d38b",
   "metadata": {},
   "outputs": [],
   "source": [
    "# неизменяемые\n",
    "# int\n",
    "# str\n",
    "# tuple\n",
    "\n",
    "# изменяемые\n",
    "# set\n",
    "# list\n",
    "# dict\n",
    "# frozenset\n"
   ]
  },
  {
   "cell_type": "code",
   "execution_count": 28,
   "id": "4cc7f4a4",
   "metadata": {},
   "outputs": [
    {
     "name": "stdout",
     "output_type": "stream",
     "text": [
      "4428825792\n",
      "4428494976\n",
      "True\n",
      "False\n"
     ]
    }
   ],
   "source": [
    "x = [el ** 2 for el in range(5)]\n",
    "y = [el ** 2 for el in range(5)]\n",
    "print(id(x))\n",
    "print(id(y))\n",
    "print(x == y)\n",
    "print(x is y)"
   ]
  },
  {
   "cell_type": "markdown",
   "id": "793742c2",
   "metadata": {},
   "source": [
    "### Так как список изменяемый, после изменения списка ячейка в памяти останется той же"
   ]
  },
  {
   "cell_type": "code",
   "execution_count": 29,
   "id": "ad5448b1",
   "metadata": {},
   "outputs": [
    {
     "name": "stdout",
     "output_type": "stream",
     "text": [
      "[1, 2, 3], id = 4429164928\n",
      "[1, 2, 3, 4], id = 4429164928\n"
     ]
    }
   ],
   "source": [
    "numbers = [1, 2, 3]\n",
    "print(f\"{numbers}, id = {id(numbers)}\")\n",
    "numbers += [4]\n",
    "print(f\"{numbers}, id = {id(numbers)}\")"
   ]
  },
  {
   "cell_type": "code",
   "execution_count": 30,
   "id": "8922d541",
   "metadata": {
    "scrolled": true
   },
   "outputs": [
    {
     "name": "stdout",
     "output_type": "stream",
     "text": [
      "4350270448\n",
      "4350270480\n"
     ]
    }
   ],
   "source": [
    "x = 4\n",
    "\n",
    "print(id(x))\n",
    "\n",
    "x += 1\n",
    "\n",
    "print(id(x))"
   ]
  },
  {
   "cell_type": "markdown",
   "id": "3733dea8",
   "metadata": {},
   "source": [
    "### Оператор \"=\" создает новый объект"
   ]
  },
  {
   "cell_type": "code",
   "execution_count": null,
   "id": "02c4b26e",
   "metadata": {},
   "outputs": [],
   "source": [
    "numbers = [1, 2, 3]\n",
    "print(f\"{numbers}, id = {id(numbers)}\")\n",
    "numbers = numbers + [4]\n",
    "print(f\"{numbers}, id = {id(numbers)}\")"
   ]
  },
  {
   "cell_type": "code",
   "execution_count": 32,
   "id": "eb2535b5",
   "metadata": {},
   "outputs": [
    {
     "name": "stdout",
     "output_type": "stream",
     "text": [
      "True\n",
      "[0, 2, 3]\n",
      "[0, 2, 3]\n",
      "True\n"
     ]
    }
   ],
   "source": [
    "x = [1, 2, 3]\n",
    "y = x\n",
    "print(x is y)\n",
    "x[0] = 0\n",
    "print(x)\n",
    "print(y)\n",
    "print(x is y)"
   ]
  },
  {
   "cell_type": "markdown",
   "id": "c463e2ee",
   "metadata": {},
   "source": [
    "### Срез создает новый объект"
   ]
  },
  {
   "cell_type": "code",
   "execution_count": 33,
   "id": "91eb92e6",
   "metadata": {},
   "outputs": [
    {
     "name": "stdout",
     "output_type": "stream",
     "text": [
      "False\n",
      "[0, 2, 3]\n",
      "[1, 2, 3]\n",
      "False\n"
     ]
    }
   ],
   "source": [
    "x = [1, 2, 3]\n",
    "y = x[:]\n",
    "print(x is y)\n",
    "x[0] = 0\n",
    "print(x)\n",
    "print(y)\n",
    "print(x is y)"
   ]
  },
  {
   "cell_type": "markdown",
   "id": "34b14ffa",
   "metadata": {},
   "source": [
    "### Интересный момент со срезом вложенного списка"
   ]
  },
  {
   "cell_type": "code",
   "execution_count": 34,
   "id": "03b3f154",
   "metadata": {},
   "outputs": [
    {
     "name": "stdout",
     "output_type": "stream",
     "text": [
      "False\n",
      "[True, True, True]\n"
     ]
    }
   ],
   "source": [
    "numbers = [[1, 2, 3],\n",
    "           [4, 5, 6],\n",
    "           [7, 8, 9]]\n",
    "numbers_copy = numbers[:]\n",
    "print(numbers_copy is numbers)\n",
    "print([numbers_copy[i] is numbers[i] for i in range(len(numbers))])"
   ]
  },
  {
   "cell_type": "code",
   "execution_count": 35,
   "id": "9b80bd1b",
   "metadata": {},
   "outputs": [
    {
     "name": "stdout",
     "output_type": "stream",
     "text": [
      "[False, False, False]\n"
     ]
    }
   ],
   "source": [
    "numbers = [[1, 2, 3],\n",
    "           [4, 5, 6],\n",
    "           [7, 8, 9]]\n",
    "numbers_copy = [elem[:] for elem in numbers]\n",
    "print([numbers_copy[i] is numbers[i] for i in range(len(numbers))])"
   ]
  },
  {
   "cell_type": "markdown",
   "id": "b7bef5e4",
   "metadata": {},
   "source": [
    "### Как создать действительно копию списка без заморочек как выше"
   ]
  },
  {
   "cell_type": "code",
   "execution_count": 37,
   "id": "acc66e4d",
   "metadata": {},
   "outputs": [
    {
     "name": "stdout",
     "output_type": "stream",
     "text": [
      "False\n",
      "[False, False, False]\n"
     ]
    }
   ],
   "source": [
    "from copy import deepcopy\n",
    "\n",
    "numbers = [[1, 2, 3],\n",
    "           [4, 5, 6],\n",
    "           [7, 8, 9]]\n",
    "numbers_copy = deepcopy(numbers)\n",
    "print(numbers is numbers_copy)\n",
    "print([numbers_copy[i] is numbers[i] for i in range(len(numbers))])"
   ]
  },
  {
   "cell_type": "markdown",
   "id": "6d2b5169",
   "metadata": {},
   "source": [
    "# Встроенные возможности работы с коллекциями"
   ]
  },
  {
   "cell_type": "markdown",
   "id": "aa35280b",
   "metadata": {},
   "source": [
    "## Модуль itertools"
   ]
  },
  {
   "cell_type": "code",
   "execution_count": 38,
   "id": "0ef35063",
   "metadata": {},
   "outputs": [],
   "source": [
    "import itertools"
   ]
  },
  {
   "cell_type": "markdown",
   "id": "f8ea3717",
   "metadata": {},
   "source": [
    "### Product возвращает итератор (об итераторах чуть позже)"
   ]
  },
  {
   "cell_type": "code",
   "execution_count": 39,
   "id": "487b4e2c",
   "metadata": {},
   "outputs": [
    {
     "name": "stdout",
     "output_type": "stream",
     "text": [
      "<itertools.product object at 0x107ff9540>\n"
     ]
    }
   ],
   "source": [
    "import itertools\n",
    "\n",
    "print(itertools.product(\"ABC\", repeat=2))"
   ]
  },
  {
   "cell_type": "markdown",
   "id": "3bd4838d",
   "metadata": {},
   "source": [
    "### Также можно импортировать только одну функцию - product"
   ]
  },
  {
   "cell_type": "code",
   "execution_count": 40,
   "id": "22600c81",
   "metadata": {},
   "outputs": [
    {
     "name": "stdout",
     "output_type": "stream",
     "text": [
      "<itertools.product object at 0x107ff2440>\n"
     ]
    }
   ],
   "source": [
    "from itertools import product\n",
    "\n",
    "print(product(\"ABC\", repeat=2))"
   ]
  },
  {
   "cell_type": "markdown",
   "id": "10c08acc",
   "metadata": {},
   "source": [
    "### Выведем результат product -> декартово произведение"
   ]
  },
  {
   "cell_type": "code",
   "execution_count": 41,
   "id": "c6c9f1a4",
   "metadata": {},
   "outputs": [
    {
     "name": "stdout",
     "output_type": "stream",
     "text": [
      "('A', 'A')\n",
      "('A', 'B')\n",
      "('A', 'C')\n",
      "('B', 'A')\n",
      "('B', 'B')\n",
      "('B', 'C')\n",
      "('C', 'A')\n",
      "('C', 'B')\n",
      "('C', 'C')\n"
     ]
    }
   ],
   "source": [
    "for i in itertools.product(\"ABC\", repeat=2):\n",
    "    print(i)"
   ]
  },
  {
   "cell_type": "markdown",
   "id": "e21afdb4",
   "metadata": {},
   "source": [
    "### Поменяем параметр repeat на 3"
   ]
  },
  {
   "cell_type": "code",
   "execution_count": 42,
   "id": "922ce841",
   "metadata": {},
   "outputs": [
    {
     "name": "stdout",
     "output_type": "stream",
     "text": [
      "('A', 'A', 'A')\n",
      "('A', 'A', 'B')\n",
      "('A', 'A', 'C')\n",
      "('A', 'B', 'A')\n",
      "('A', 'B', 'B')\n",
      "('A', 'B', 'C')\n",
      "('A', 'C', 'A')\n",
      "('A', 'C', 'B')\n",
      "('A', 'C', 'C')\n",
      "('B', 'A', 'A')\n",
      "('B', 'A', 'B')\n",
      "('B', 'A', 'C')\n",
      "('B', 'B', 'A')\n",
      "('B', 'B', 'B')\n",
      "('B', 'B', 'C')\n",
      "('B', 'C', 'A')\n",
      "('B', 'C', 'B')\n",
      "('B', 'C', 'C')\n",
      "('C', 'A', 'A')\n",
      "('C', 'A', 'B')\n",
      "('C', 'A', 'C')\n",
      "('C', 'B', 'A')\n",
      "('C', 'B', 'B')\n",
      "('C', 'B', 'C')\n",
      "('C', 'C', 'A')\n",
      "('C', 'C', 'B')\n",
      "('C', 'C', 'C')\n"
     ]
    }
   ],
   "source": [
    "for i in itertools.product(\"ABC\", repeat=3):\n",
    "    print(i)"
   ]
  },
  {
   "cell_type": "markdown",
   "id": "d1662c81",
   "metadata": {},
   "source": [
    "### Рассмотрим функцию count"
   ]
  },
  {
   "cell_type": "code",
   "execution_count": 43,
   "id": "3ba8ba85",
   "metadata": {},
   "outputs": [
    {
     "name": "stdout",
     "output_type": "stream",
     "text": [
      "0\n",
      "0.1\n",
      "0.2\n",
      "0.3\n",
      "0.4\n",
      "0.5\n",
      "0.6\n",
      "0.7\n",
      "0.8\n",
      "0.9\n",
      "1.0\n"
     ]
    }
   ],
   "source": [
    "from itertools import count\n",
    "\n",
    "for value in count(0, 0.1):\n",
    "    if value <= 1:\n",
    "        print(round(value, 1))\n",
    "    else:\n",
    "        break"
   ]
  },
  {
   "cell_type": "markdown",
   "id": "9ac421dd",
   "metadata": {},
   "source": [
    "### Рассмотрим функцию cycle"
   ]
  },
  {
   "cell_type": "code",
   "execution_count": 44,
   "id": "f8263c85",
   "metadata": {},
   "outputs": [
    {
     "name": "stdout",
     "output_type": "stream",
     "text": [
      "ABCABCABCA\n"
     ]
    }
   ],
   "source": [
    "from itertools import cycle\n",
    "\n",
    "max_len = 10\n",
    "s = \"\"\n",
    "for letter in cycle(\"ABC\"):\n",
    "    if len(s) < 10:\n",
    "        s += letter\n",
    "    else:\n",
    "        break\n",
    "print(s)"
   ]
  },
  {
   "cell_type": "markdown",
   "id": "619e3f9b",
   "metadata": {},
   "source": [
    "### Рассмотрим функцию repeat"
   ]
  },
  {
   "cell_type": "code",
   "execution_count": 46,
   "id": "29d8d9df",
   "metadata": {},
   "outputs": [
    {
     "name": "stdout",
     "output_type": "stream",
     "text": [
      "repeat('ABC', 5)\n",
      "['ABC', 'ABC', 'ABC', 'ABC', 'ABC']\n"
     ]
    }
   ],
   "source": [
    "from itertools import repeat\n",
    "\n",
    "result = list(repeat(\"ABC\", 5))\n",
    "print(repeat(\"ABC\", 5))\n",
    "print(result)"
   ]
  },
  {
   "cell_type": "markdown",
   "id": "ce0b6ff5",
   "metadata": {},
   "source": [
    "### Рассмотрим функцию accumulate"
   ]
  },
  {
   "cell_type": "code",
   "execution_count": 47,
   "id": "8849606a",
   "metadata": {},
   "outputs": [
    {
     "name": "stdout",
     "output_type": "stream",
     "text": [
      "1\n",
      "3\n",
      "6\n",
      "10\n",
      "15\n"
     ]
    }
   ],
   "source": [
    "from itertools import accumulate\n",
    "\n",
    "for value in accumulate([1, 2, 3, 4, 5]):\n",
    "    print(value)"
   ]
  },
  {
   "cell_type": "markdown",
   "id": "50631cff",
   "metadata": {},
   "source": [
    "### Рассмотрим chain по умолчанию"
   ]
  },
  {
   "cell_type": "code",
   "execution_count": 49,
   "id": "b1dbc108",
   "metadata": {},
   "outputs": [
    {
     "name": "stdout",
     "output_type": "stream",
     "text": [
      "['А', 'Б', 'В', 'Г', 'Д', 'Е', 'Ё', 'Ж', 'З', 'И', 'Й', 'К']\n",
      "['А', 'Б', 'В', 'Г', 'Д', 'Е', 'Ё', 'Ж', 'З', 'И', 'Й', 'К']\n"
     ]
    }
   ],
   "source": [
    "from itertools import chain\n",
    "\n",
    "values = list(chain(\"АБВ\", \"ГДЕЁ\", \"ЖЗИЙК\"))\n",
    "print(values)\n",
    "\n",
    "print(list(\"АБВГДЕЁЖЗИЙК\"))"
   ]
  },
  {
   "cell_type": "markdown",
   "id": "fe6c2394",
   "metadata": {},
   "source": [
    "### Рассмотрим chain from_iterable"
   ]
  },
  {
   "cell_type": "code",
   "execution_count": 50,
   "id": "3c79dd88",
   "metadata": {},
   "outputs": [
    {
     "name": "stdout",
     "output_type": "stream",
     "text": [
      "['А', 'Б', 'В', 'Г', 'Д', 'Е', 'Ё', 'Ж', 'З', 'И', 'Й', 'К']\n"
     ]
    }
   ],
   "source": [
    "values = list(chain.from_iterable([\"АБВ\", \"ГДЕЁ\", \"ЖЗИЙК\"]))\n",
    "print(values)"
   ]
  },
  {
   "cell_type": "markdown",
   "id": "aa7883ca",
   "metadata": {},
   "source": [
    "### Рассмотрим product для нескольких коллекций"
   ]
  },
  {
   "cell_type": "code",
   "execution_count": 51,
   "id": "e69035b1",
   "metadata": {},
   "outputs": [
    {
     "name": "stdout",
     "output_type": "stream",
     "text": [
      "[(1, 'А'), (1, 'Б'), (1, 'В'), (1, 'Г'), (2, 'А'), (2, 'Б'), (2, 'В'), (2, 'Г'), (3, 'А'), (3, 'Б'), (3, 'В'), (3, 'Г')]\n"
     ]
    }
   ],
   "source": [
    "from itertools import product\n",
    "\n",
    "values = list(product([1, 2, 3], \"АБВГ\"))\n",
    "print(values)"
   ]
  },
  {
   "cell_type": "markdown",
   "id": "61073762",
   "metadata": {},
   "source": [
    "### То же самое, но с repeat 2"
   ]
  },
  {
   "cell_type": "code",
   "execution_count": 52,
   "id": "8bd99b05",
   "metadata": {},
   "outputs": [
    {
     "name": "stdout",
     "output_type": "stream",
     "text": [
      "[(1, 'А', 1, 'А'), (1, 'А', 1, 'Б'), (1, 'А', 1, 'В'), (1, 'А', 1, 'Г'), (1, 'А', 2, 'А'), (1, 'А', 2, 'Б'), (1, 'А', 2, 'В'), (1, 'А', 2, 'Г'), (1, 'А', 3, 'А'), (1, 'А', 3, 'Б'), (1, 'А', 3, 'В'), (1, 'А', 3, 'Г'), (1, 'Б', 1, 'А'), (1, 'Б', 1, 'Б'), (1, 'Б', 1, 'В'), (1, 'Б', 1, 'Г'), (1, 'Б', 2, 'А'), (1, 'Б', 2, 'Б'), (1, 'Б', 2, 'В'), (1, 'Б', 2, 'Г'), (1, 'Б', 3, 'А'), (1, 'Б', 3, 'Б'), (1, 'Б', 3, 'В'), (1, 'Б', 3, 'Г'), (1, 'В', 1, 'А'), (1, 'В', 1, 'Б'), (1, 'В', 1, 'В'), (1, 'В', 1, 'Г'), (1, 'В', 2, 'А'), (1, 'В', 2, 'Б'), (1, 'В', 2, 'В'), (1, 'В', 2, 'Г'), (1, 'В', 3, 'А'), (1, 'В', 3, 'Б'), (1, 'В', 3, 'В'), (1, 'В', 3, 'Г'), (1, 'Г', 1, 'А'), (1, 'Г', 1, 'Б'), (1, 'Г', 1, 'В'), (1, 'Г', 1, 'Г'), (1, 'Г', 2, 'А'), (1, 'Г', 2, 'Б'), (1, 'Г', 2, 'В'), (1, 'Г', 2, 'Г'), (1, 'Г', 3, 'А'), (1, 'Г', 3, 'Б'), (1, 'Г', 3, 'В'), (1, 'Г', 3, 'Г'), (2, 'А', 1, 'А'), (2, 'А', 1, 'Б'), (2, 'А', 1, 'В'), (2, 'А', 1, 'Г'), (2, 'А', 2, 'А'), (2, 'А', 2, 'Б'), (2, 'А', 2, 'В'), (2, 'А', 2, 'Г'), (2, 'А', 3, 'А'), (2, 'А', 3, 'Б'), (2, 'А', 3, 'В'), (2, 'А', 3, 'Г'), (2, 'Б', 1, 'А'), (2, 'Б', 1, 'Б'), (2, 'Б', 1, 'В'), (2, 'Б', 1, 'Г'), (2, 'Б', 2, 'А'), (2, 'Б', 2, 'Б'), (2, 'Б', 2, 'В'), (2, 'Б', 2, 'Г'), (2, 'Б', 3, 'А'), (2, 'Б', 3, 'Б'), (2, 'Б', 3, 'В'), (2, 'Б', 3, 'Г'), (2, 'В', 1, 'А'), (2, 'В', 1, 'Б'), (2, 'В', 1, 'В'), (2, 'В', 1, 'Г'), (2, 'В', 2, 'А'), (2, 'В', 2, 'Б'), (2, 'В', 2, 'В'), (2, 'В', 2, 'Г'), (2, 'В', 3, 'А'), (2, 'В', 3, 'Б'), (2, 'В', 3, 'В'), (2, 'В', 3, 'Г'), (2, 'Г', 1, 'А'), (2, 'Г', 1, 'Б'), (2, 'Г', 1, 'В'), (2, 'Г', 1, 'Г'), (2, 'Г', 2, 'А'), (2, 'Г', 2, 'Б'), (2, 'Г', 2, 'В'), (2, 'Г', 2, 'Г'), (2, 'Г', 3, 'А'), (2, 'Г', 3, 'Б'), (2, 'Г', 3, 'В'), (2, 'Г', 3, 'Г'), (3, 'А', 1, 'А'), (3, 'А', 1, 'Б'), (3, 'А', 1, 'В'), (3, 'А', 1, 'Г'), (3, 'А', 2, 'А'), (3, 'А', 2, 'Б'), (3, 'А', 2, 'В'), (3, 'А', 2, 'Г'), (3, 'А', 3, 'А'), (3, 'А', 3, 'Б'), (3, 'А', 3, 'В'), (3, 'А', 3, 'Г'), (3, 'Б', 1, 'А'), (3, 'Б', 1, 'Б'), (3, 'Б', 1, 'В'), (3, 'Б', 1, 'Г'), (3, 'Б', 2, 'А'), (3, 'Б', 2, 'Б'), (3, 'Б', 2, 'В'), (3, 'Б', 2, 'Г'), (3, 'Б', 3, 'А'), (3, 'Б', 3, 'Б'), (3, 'Б', 3, 'В'), (3, 'Б', 3, 'Г'), (3, 'В', 1, 'А'), (3, 'В', 1, 'Б'), (3, 'В', 1, 'В'), (3, 'В', 1, 'Г'), (3, 'В', 2, 'А'), (3, 'В', 2, 'Б'), (3, 'В', 2, 'В'), (3, 'В', 2, 'Г'), (3, 'В', 3, 'А'), (3, 'В', 3, 'Б'), (3, 'В', 3, 'В'), (3, 'В', 3, 'Г'), (3, 'Г', 1, 'А'), (3, 'Г', 1, 'Б'), (3, 'Г', 1, 'В'), (3, 'Г', 1, 'Г'), (3, 'Г', 2, 'А'), (3, 'Г', 2, 'Б'), (3, 'Г', 2, 'В'), (3, 'Г', 2, 'Г'), (3, 'Г', 3, 'А'), (3, 'Г', 3, 'Б'), (3, 'Г', 3, 'В'), (3, 'Г', 3, 'Г')]\n"
     ]
    }
   ],
   "source": [
    "from itertools import product\n",
    "\n",
    "values = list(product([1, 2, 3], \"АБВГ\", repeat=2))\n",
    "print(values)"
   ]
  },
  {
   "cell_type": "markdown",
   "id": "082c4342",
   "metadata": {},
   "source": [
    "### Рассмотрим функцию permutations"
   ]
  },
  {
   "cell_type": "code",
   "execution_count": 53,
   "id": "3a88e5b3",
   "metadata": {},
   "outputs": [
    {
     "name": "stdout",
     "output_type": "stream",
     "text": [
      "[('А', 'Б', 'В'), ('А', 'В', 'Б'), ('Б', 'А', 'В'), ('Б', 'В', 'А'), ('В', 'А', 'Б'), ('В', 'Б', 'А')]\n"
     ]
    }
   ],
   "source": [
    "from itertools import permutations\n",
    "\n",
    "values = list(permutations(\"АБВ\"))\n",
    "print(values)"
   ]
  },
  {
   "cell_type": "code",
   "execution_count": 54,
   "id": "4ad7f7c4",
   "metadata": {},
   "outputs": [
    {
     "name": "stdout",
     "output_type": "stream",
     "text": [
      "[('А', 'Б'), ('А', 'В'), ('Б', 'А'), ('Б', 'В'), ('В', 'А'), ('В', 'Б')]\n"
     ]
    }
   ],
   "source": [
    "from itertools import permutations\n",
    "\n",
    "values = list(permutations(\"АБВ\", r=2))\n",
    "print(values)"
   ]
  },
  {
   "cell_type": "markdown",
   "id": "1e6e1dbe",
   "metadata": {},
   "source": [
    "### Рассмотрим функцию combinations"
   ]
  },
  {
   "cell_type": "code",
   "execution_count": 55,
   "id": "b8a412dc",
   "metadata": {},
   "outputs": [
    {
     "name": "stdout",
     "output_type": "stream",
     "text": [
      "[('А', 'Б'), ('А', 'В'), ('Б', 'В')]\n"
     ]
    }
   ],
   "source": [
    "from itertools import combinations\n",
    "\n",
    "values = list(combinations(\"АБВ\", 2))\n",
    "print(values)"
   ]
  },
  {
   "cell_type": "markdown",
   "id": "bdb7babe",
   "metadata": {},
   "source": [
    "### Рассмотрим функцию combinations_with_replacement"
   ]
  },
  {
   "cell_type": "code",
   "execution_count": 56,
   "id": "50064043",
   "metadata": {},
   "outputs": [
    {
     "name": "stdout",
     "output_type": "stream",
     "text": [
      "[('А', 'А'), ('А', 'Б'), ('А', 'В'), ('Б', 'Б'), ('Б', 'В'), ('В', 'В')]\n"
     ]
    }
   ],
   "source": [
    "from itertools import combinations_with_replacement\n",
    "\n",
    "values = list(combinations_with_replacement(\"АБВ\", 2))\n",
    "print(values)"
   ]
  },
  {
   "cell_type": "markdown",
   "id": "f63c25de",
   "metadata": {},
   "source": [
    "### Рассмотрим функцию enumerate"
   ]
  },
  {
   "cell_type": "code",
   "execution_count": 57,
   "id": "3da013e2",
   "metadata": {},
   "outputs": [
    {
     "name": "stdout",
     "output_type": "stream",
     "text": [
      "1 A\n",
      "2 B\n",
      "3 C\n"
     ]
    }
   ],
   "source": [
    "for index, value in enumerate(\"ABC\", 1):\n",
    "    print(index, value)"
   ]
  },
  {
   "cell_type": "code",
   "execution_count": 58,
   "id": "0c406695",
   "metadata": {},
   "outputs": [
    {
     "name": "stdout",
     "output_type": "stream",
     "text": [
      "0 A\n",
      "1 B\n",
      "2 C\n"
     ]
    }
   ],
   "source": [
    "for index, value in enumerate(\"ABC\"):\n",
    "    print(index, value)"
   ]
  },
  {
   "cell_type": "markdown",
   "id": "c77e3514",
   "metadata": {},
   "source": [
    "### Рассмотрим функцию zip"
   ]
  },
  {
   "cell_type": "code",
   "execution_count": 59,
   "id": "6c1be214",
   "metadata": {},
   "outputs": [
    {
     "name": "stdout",
     "output_type": "stream",
     "text": [
      "[('A', 1), ('B', 2), ('C', 3)]\n"
     ]
    }
   ],
   "source": [
    "print(list(zip(\"ABC\", [1, 2, 3])))"
   ]
  },
  {
   "cell_type": "markdown",
   "id": "d29f5edf",
   "metadata": {},
   "source": [
    "### Рассмотрим функцию zip с аргументами разной длины"
   ]
  },
  {
   "cell_type": "code",
   "execution_count": 60,
   "id": "f41e164d",
   "metadata": {},
   "outputs": [
    {
     "name": "stdout",
     "output_type": "stream",
     "text": [
      "[('A', 1), ('B', 2), ('C', 3)]\n"
     ]
    }
   ],
   "source": [
    "print(list(zip(\"ABCDE\", [1, 2, 3])))"
   ]
  },
  {
   "cell_type": "markdown",
   "id": "38d29f99",
   "metadata": {},
   "source": [
    "### Рассмотрим функцию zip с аргументами разной длины и параметром strict"
   ]
  },
  {
   "cell_type": "code",
   "execution_count": 61,
   "id": "6d0db632",
   "metadata": {},
   "outputs": [
    {
     "ename": "ValueError",
     "evalue": "zip() argument 2 is shorter than argument 1",
     "output_type": "error",
     "traceback": [
      "\u001b[0;31m---------------------------------------------------------------------------\u001b[0m",
      "\u001b[0;31mValueError\u001b[0m                                Traceback (most recent call last)",
      "Cell \u001b[0;32mIn[61], line 1\u001b[0m\n\u001b[0;32m----> 1\u001b[0m \u001b[38;5;28mprint\u001b[39m(\u001b[38;5;28;43mlist\u001b[39;49m\u001b[43m(\u001b[49m\u001b[38;5;28;43mzip\u001b[39;49m\u001b[43m(\u001b[49m\u001b[38;5;124;43m\"\u001b[39;49m\u001b[38;5;124;43mABCDE\u001b[39;49m\u001b[38;5;124;43m\"\u001b[39;49m\u001b[43m,\u001b[49m\u001b[43m \u001b[49m\u001b[43m[\u001b[49m\u001b[38;5;241;43m1\u001b[39;49m\u001b[43m,\u001b[49m\u001b[43m \u001b[49m\u001b[38;5;241;43m2\u001b[39;49m\u001b[43m,\u001b[49m\u001b[43m \u001b[49m\u001b[38;5;241;43m3\u001b[39;49m\u001b[43m]\u001b[49m\u001b[43m,\u001b[49m\u001b[43m \u001b[49m\u001b[43mstrict\u001b[49m\u001b[38;5;241;43m=\u001b[39;49m\u001b[38;5;28;43;01mTrue\u001b[39;49;00m\u001b[43m)\u001b[49m\u001b[43m)\u001b[49m)\n",
      "\u001b[0;31mValueError\u001b[0m: zip() argument 2 is shorter than argument 1"
     ]
    }
   ],
   "source": [
    "print(list(zip(\"ABCDE\", [1, 2, 3], strict=True)))"
   ]
  },
  {
   "cell_type": "code",
   "execution_count": 62,
   "id": "fa2209b1",
   "metadata": {},
   "outputs": [
    {
     "name": "stdout",
     "output_type": "stream",
     "text": [
      "[('A', 1, 'A', 1), ('B', 2, 'D', 3), ('C', 3, 'B', 4)]\n"
     ]
    }
   ],
   "source": [
    "print(list(zip(\"ABCDE\", [1, 2, 3], \"ADBDBD\", [1, 3, 4])))"
   ]
  },
  {
   "cell_type": "markdown",
   "id": "8babd833",
   "metadata": {},
   "source": [
    "## Модуль collections"
   ]
  },
  {
   "cell_type": "code",
   "execution_count": 63,
   "id": "01626b3b",
   "metadata": {},
   "outputs": [],
   "source": [
    "import collections"
   ]
  },
  {
   "cell_type": "markdown",
   "id": "fa6128f0",
   "metadata": {},
   "source": [
    "### Counter"
   ]
  },
  {
   "cell_type": "code",
   "execution_count": 64,
   "id": "5eabfd7e",
   "metadata": {},
   "outputs": [
    {
     "name": "stdout",
     "output_type": "stream",
     "text": [
      "['П', 'а', 'м', '-', 'п', 'а', 'м', '-', 'б', 'а', 'б', 'а', 'м']\n"
     ]
    },
    {
     "data": {
      "text/plain": [
       "Counter({'а': 4, 'м': 3, '-': 2, 'б': 2, 'П': 1, 'п': 1})"
      ]
     },
     "execution_count": 64,
     "metadata": {},
     "output_type": "execute_result"
    }
   ],
   "source": [
    "list_of_letters = list('Пам-пам-бабам')\n",
    "print(list_of_letters)\n",
    "letter_cnt = collections.Counter(list_of_letters)\n",
    "letter_cnt"
   ]
  },
  {
   "cell_type": "markdown",
   "id": "d8d87b1e",
   "metadata": {},
   "source": [
    "### Получение количества вхождений символа"
   ]
  },
  {
   "cell_type": "code",
   "execution_count": 65,
   "id": "2e8ea066",
   "metadata": {},
   "outputs": [
    {
     "data": {
      "text/plain": [
       "4"
      ]
     },
     "execution_count": 65,
     "metadata": {},
     "output_type": "execute_result"
    }
   ],
   "source": [
    "letter_cnt['а']"
   ]
  },
  {
   "cell_type": "markdown",
   "id": "16193dcb",
   "metadata": {},
   "source": [
    "### Если элемент не существует, ошибки не будет"
   ]
  },
  {
   "cell_type": "code",
   "execution_count": 66,
   "id": "47874249",
   "metadata": {},
   "outputs": [
    {
     "data": {
      "text/plain": [
       "0"
      ]
     },
     "execution_count": 66,
     "metadata": {},
     "output_type": "execute_result"
    }
   ],
   "source": [
    "letter_cnt['ю']"
   ]
  },
  {
   "cell_type": "markdown",
   "id": "47f3eeee",
   "metadata": {},
   "source": [
    "### Можно добавить элемент"
   ]
  },
  {
   "cell_type": "code",
   "execution_count": 67,
   "id": "972837b7",
   "metadata": {},
   "outputs": [
    {
     "data": {
      "text/plain": [
       "Counter({'а': 4, 'м': 3, '-': 2, 'б': 2, 'П': 1, 'п': 1, 'в': 0})"
      ]
     },
     "execution_count": 67,
     "metadata": {},
     "output_type": "execute_result"
    }
   ],
   "source": [
    "letter_cnt['в'] = 0\n",
    "letter_cnt"
   ]
  },
  {
   "cell_type": "markdown",
   "id": "cf69db3d",
   "metadata": {},
   "source": [
    "### Можно удалить элемент"
   ]
  },
  {
   "cell_type": "code",
   "execution_count": 68,
   "id": "73da50f2",
   "metadata": {},
   "outputs": [
    {
     "data": {
      "text/plain": [
       "Counter({'а': 4, 'м': 3, '-': 2, 'б': 2, 'П': 1, 'п': 1})"
      ]
     },
     "execution_count": 68,
     "metadata": {},
     "output_type": "execute_result"
    }
   ],
   "source": [
    "del letter_cnt['в']\n",
    "letter_cnt"
   ]
  },
  {
   "cell_type": "markdown",
   "id": "34787d38",
   "metadata": {},
   "source": [
    "### Удаление несуществующего элемента не вызовет ошибку"
   ]
  },
  {
   "cell_type": "code",
   "execution_count": 69,
   "id": "48fa5eae",
   "metadata": {},
   "outputs": [],
   "source": [
    "del letter_cnt['в']"
   ]
  },
  {
   "cell_type": "markdown",
   "id": "4b4c2d62",
   "metadata": {},
   "source": [
    "### Получение самых часто встречающихся символов"
   ]
  },
  {
   "cell_type": "code",
   "execution_count": 70,
   "id": "b16f051c",
   "metadata": {},
   "outputs": [
    {
     "data": {
      "text/plain": [
       "[('а', 4), ('м', 3), ('-', 2)]"
      ]
     },
     "execution_count": 70,
     "metadata": {},
     "output_type": "execute_result"
    }
   ],
   "source": [
    "letter_cnt.most_common(3)"
   ]
  },
  {
   "cell_type": "code",
   "execution_count": 71,
   "id": "d26a2b0d",
   "metadata": {},
   "outputs": [
    {
     "data": {
      "text/plain": [
       "[('а', 4), ('м', 3), ('-', 2), ('б', 2), ('П', 1), ('п', 1)]"
      ]
     },
     "execution_count": 71,
     "metadata": {},
     "output_type": "execute_result"
    }
   ],
   "source": [
    "letter_cnt.most_common()"
   ]
  },
  {
   "cell_type": "code",
   "execution_count": 72,
   "id": "e5f5f471",
   "metadata": {},
   "outputs": [
    {
     "data": {
      "text/plain": [
       "[('п', 1), ('П', 1)]"
      ]
     },
     "execution_count": 72,
     "metadata": {},
     "output_type": "execute_result"
    }
   ],
   "source": [
    "letter_cnt.most_common()[:-3:-1]"
   ]
  },
  {
   "cell_type": "markdown",
   "id": "ee2fd7fe",
   "metadata": {},
   "source": [
    "### Можно получить значения"
   ]
  },
  {
   "cell_type": "code",
   "execution_count": 73,
   "id": "0b7ff394",
   "metadata": {},
   "outputs": [
    {
     "data": {
      "text/plain": [
       "dict_values([1, 4, 3, 2, 1, 2])"
      ]
     },
     "execution_count": 73,
     "metadata": {},
     "output_type": "execute_result"
    }
   ],
   "source": [
    "letter_cnt.values()"
   ]
  },
  {
   "cell_type": "code",
   "execution_count": 74,
   "id": "b6d77479",
   "metadata": {
    "scrolled": true
   },
   "outputs": [
    {
     "data": {
      "text/plain": [
       "13"
      ]
     },
     "execution_count": 74,
     "metadata": {},
     "output_type": "execute_result"
    }
   ],
   "source": [
    "sum(letter_cnt.values())"
   ]
  },
  {
   "cell_type": "markdown",
   "id": "6bd2c098",
   "metadata": {},
   "source": [
    "### Counter можно преобразовать во встроенные коллекции"
   ]
  },
  {
   "cell_type": "code",
   "execution_count": 75,
   "id": "0727582d",
   "metadata": {},
   "outputs": [
    {
     "data": {
      "text/plain": [
       "['П', 'а', 'м', '-', 'п', 'б']"
      ]
     },
     "execution_count": 75,
     "metadata": {},
     "output_type": "execute_result"
    }
   ],
   "source": [
    "list(letter_cnt)"
   ]
  },
  {
   "cell_type": "code",
   "execution_count": 76,
   "id": "8818b754",
   "metadata": {},
   "outputs": [
    {
     "data": {
      "text/plain": [
       "{'-', 'П', 'а', 'б', 'м', 'п'}"
      ]
     },
     "execution_count": 76,
     "metadata": {},
     "output_type": "execute_result"
    }
   ],
   "source": [
    "set(letter_cnt)"
   ]
  },
  {
   "cell_type": "code",
   "execution_count": 77,
   "id": "4119024b",
   "metadata": {},
   "outputs": [
    {
     "data": {
      "text/plain": [
       "{'П': 1, 'а': 4, 'м': 3, '-': 2, 'п': 1, 'б': 2}"
      ]
     },
     "execution_count": 77,
     "metadata": {},
     "output_type": "execute_result"
    }
   ],
   "source": [
    "dict(letter_cnt)"
   ]
  },
  {
   "cell_type": "markdown",
   "id": "c99e3db4",
   "metadata": {},
   "source": [
    "### Можно инициализировать Counter сразу словарем"
   ]
  },
  {
   "cell_type": "code",
   "execution_count": 78,
   "id": "47c89511",
   "metadata": {},
   "outputs": [
    {
     "data": {
      "text/plain": [
       "Counter({'dislike': 3, 'like': 2})"
      ]
     },
     "execution_count": 78,
     "metadata": {},
     "output_type": "execute_result"
    }
   ],
   "source": [
    "emotion_cnt = collections.Counter({'like':2, 'dislike':3})\n",
    "emotion_cnt"
   ]
  },
  {
   "cell_type": "markdown",
   "id": "68a461b3",
   "metadata": {},
   "source": [
    "### Получение всех элементов"
   ]
  },
  {
   "cell_type": "code",
   "execution_count": 79,
   "id": "c58def37",
   "metadata": {},
   "outputs": [
    {
     "data": {
      "text/plain": [
       "['like', 'like', 'dislike', 'dislike', 'dislike']"
      ]
     },
     "execution_count": 79,
     "metadata": {},
     "output_type": "execute_result"
    }
   ],
   "source": [
    "list(emotion_cnt.elements())"
   ]
  },
  {
   "cell_type": "markdown",
   "id": "835b0911",
   "metadata": {},
   "source": [
    "### Сложение Counter"
   ]
  },
  {
   "cell_type": "code",
   "execution_count": 80,
   "id": "e6b543b1",
   "metadata": {},
   "outputs": [
    {
     "data": {
      "text/plain": [
       "Counter({'а': 4,\n",
       "         'м': 3,\n",
       "         'dislike': 3,\n",
       "         '-': 2,\n",
       "         'б': 2,\n",
       "         'like': 2,\n",
       "         'П': 1,\n",
       "         'п': 1})"
      ]
     },
     "execution_count": 80,
     "metadata": {},
     "output_type": "execute_result"
    }
   ],
   "source": [
    "letter_cnt + emotion_cnt"
   ]
  },
  {
   "cell_type": "markdown",
   "id": "2d5bb1ec",
   "metadata": {},
   "source": [
    "### Вычитание "
   ]
  },
  {
   "cell_type": "code",
   "execution_count": 81,
   "id": "83a57b40",
   "metadata": {},
   "outputs": [
    {
     "data": {
      "text/plain": [
       "Counter({'like': 1})"
      ]
     },
     "execution_count": 81,
     "metadata": {},
     "output_type": "execute_result"
    }
   ],
   "source": [
    "emotion_cnt - collections.Counter(like=1, dislike=3)"
   ]
  },
  {
   "cell_type": "markdown",
   "id": "6e014c7f",
   "metadata": {},
   "source": [
    "### Пересечение"
   ]
  },
  {
   "cell_type": "code",
   "execution_count": 83,
   "id": "0a0564f9",
   "metadata": {},
   "outputs": [
    {
     "name": "stdout",
     "output_type": "stream",
     "text": [
      "Counter({'a': 4, 'b': 2, 'c': 0, 'd': -2})\n"
     ]
    },
    {
     "data": {
      "text/plain": [
       "Counter({'b': 2, 'a': 1})"
      ]
     },
     "execution_count": 83,
     "metadata": {},
     "output_type": "execute_result"
    }
   ],
   "source": [
    "c = collections.Counter(a=4, b=2, c=0, d=-2)\n",
    "d = collections.Counter(a=1, b=2, c=3, d=4)\n",
    "\n",
    "print(c)\n",
    "c & d"
   ]
  },
  {
   "cell_type": "markdown",
   "id": "7a063f47",
   "metadata": {},
   "source": [
    "### Объединение"
   ]
  },
  {
   "cell_type": "code",
   "execution_count": 84,
   "id": "eb4a9f68",
   "metadata": {},
   "outputs": [
    {
     "data": {
      "text/plain": [
       "Counter({'a': 4, 'd': 4, 'c': 3, 'b': 2})"
      ]
     },
     "execution_count": 84,
     "metadata": {},
     "output_type": "execute_result"
    }
   ],
   "source": [
    "c | d"
   ]
  },
  {
   "cell_type": "markdown",
   "id": "da6e1ae4",
   "metadata": {},
   "source": [
    "### In-place метод вычитания"
   ]
  },
  {
   "cell_type": "code",
   "execution_count": 85,
   "id": "5e943e30",
   "metadata": {},
   "outputs": [
    {
     "data": {
      "text/plain": [
       "Counter({'a': 3, 'b': 0, 'c': -3, 'd': -6})"
      ]
     },
     "execution_count": 85,
     "metadata": {},
     "output_type": "execute_result"
    }
   ],
   "source": [
    "c.subtract(d)\n",
    "c"
   ]
  },
  {
   "cell_type": "markdown",
   "id": "6e90d261",
   "metadata": {},
   "source": [
    "### Можно получить ключи только с положительными значениями"
   ]
  },
  {
   "cell_type": "code",
   "execution_count": 86,
   "id": "4c022c2c",
   "metadata": {},
   "outputs": [
    {
     "data": {
      "text/plain": [
       "Counter({'a': 3})"
      ]
     },
     "execution_count": 86,
     "metadata": {},
     "output_type": "execute_result"
    }
   ],
   "source": [
    "+c"
   ]
  },
  {
   "cell_type": "markdown",
   "id": "b976b559",
   "metadata": {},
   "source": [
    "### Можно получить ключи только с отрицательными значениями"
   ]
  },
  {
   "cell_type": "code",
   "execution_count": 87,
   "id": "c364da53",
   "metadata": {},
   "outputs": [
    {
     "data": {
      "text/plain": [
       "Counter({'d': 6, 'c': 3})"
      ]
     },
     "execution_count": 87,
     "metadata": {},
     "output_type": "execute_result"
    }
   ],
   "source": [
    "-c"
   ]
  },
  {
   "cell_type": "markdown",
   "id": "f79deb3b",
   "metadata": {},
   "source": [
    "### Можно очистить Counter"
   ]
  },
  {
   "cell_type": "code",
   "execution_count": 88,
   "id": "e26f6a41",
   "metadata": {},
   "outputs": [
    {
     "data": {
      "text/plain": [
       "Counter()"
      ]
     },
     "execution_count": 88,
     "metadata": {},
     "output_type": "execute_result"
    }
   ],
   "source": [
    "c.clear()\n",
    "c"
   ]
  },
  {
   "cell_type": "markdown",
   "id": "803fdf48",
   "metadata": {},
   "source": [
    "### Еще одна коллекция - defaultdict"
   ]
  },
  {
   "cell_type": "code",
   "execution_count": 89,
   "id": "b6bb369b",
   "metadata": {},
   "outputs": [
    {
     "ename": "KeyError",
     "evalue": "'hahah'",
     "output_type": "error",
     "traceback": [
      "\u001b[0;31m---------------------------------------------------------------------------\u001b[0m",
      "\u001b[0;31mKeyError\u001b[0m                                  Traceback (most recent call last)",
      "Cell \u001b[0;32mIn[89], line 3\u001b[0m\n\u001b[1;32m      1\u001b[0m d \u001b[38;5;241m=\u001b[39m {}\n\u001b[0;32m----> 3\u001b[0m \u001b[43md\u001b[49m\u001b[43m[\u001b[49m\u001b[38;5;124;43m'\u001b[39;49m\u001b[38;5;124;43mhahah\u001b[39;49m\u001b[38;5;124;43m'\u001b[39;49m\u001b[43m]\u001b[49m\n",
      "\u001b[0;31mKeyError\u001b[0m: 'hahah'"
     ]
    }
   ],
   "source": [
    "d = {}\n",
    "\n",
    "d['hahah']"
   ]
  },
  {
   "cell_type": "code",
   "execution_count": 96,
   "id": "be1fce43",
   "metadata": {},
   "outputs": [],
   "source": [
    "d = collections.defaultdict(str)\n",
    "d['name'] = 'James' \n",
    "d['surname'] = 'Bond'\n",
    "d['patronymic'] = None\n",
    "d['patronymic']"
   ]
  },
  {
   "cell_type": "code",
   "execution_count": 97,
   "id": "ce1b3dd5",
   "metadata": {},
   "outputs": [
    {
     "data": {
      "text/plain": [
       "defaultdict(str, {'name': 'James', 'surname': 'Bond', 'patronymic': None})"
      ]
     },
     "execution_count": 97,
     "metadata": {},
     "output_type": "execute_result"
    }
   ],
   "source": [
    "d"
   ]
  },
  {
   "cell_type": "code",
   "execution_count": null,
   "id": "75aea5f6",
   "metadata": {},
   "outputs": [],
   "source": []
  },
  {
   "cell_type": "code",
   "execution_count": 104,
   "id": "ac0241b3",
   "metadata": {},
   "outputs": [],
   "source": [
    "d = collections.defaultdict(None)\n"
   ]
  },
  {
   "cell_type": "code",
   "execution_count": 105,
   "id": "544fbc0d",
   "metadata": {},
   "outputs": [
    {
     "data": {
      "text/plain": [
       "defaultdict(None, {})"
      ]
     },
     "execution_count": 105,
     "metadata": {},
     "output_type": "execute_result"
    }
   ],
   "source": [
    "d"
   ]
  },
  {
   "cell_type": "code",
   "execution_count": 108,
   "id": "a4989e01",
   "metadata": {},
   "outputs": [],
   "source": [
    "d['name'] = None\n",
    "d['surname'] = None\n",
    "# d['patronymic']"
   ]
  },
  {
   "cell_type": "code",
   "execution_count": 109,
   "id": "eb448ad6",
   "metadata": {},
   "outputs": [
    {
     "data": {
      "text/plain": [
       "defaultdict(None, {'name': None, 'surname': None})"
      ]
     },
     "execution_count": 109,
     "metadata": {},
     "output_type": "execute_result"
    }
   ],
   "source": [
    "d"
   ]
  },
  {
   "cell_type": "markdown",
   "id": "13425129",
   "metadata": {},
   "source": [
    "### Задание defaultdict"
   ]
  },
  {
   "cell_type": "code",
   "execution_count": 110,
   "id": "8601ddf2",
   "metadata": {},
   "outputs": [
    {
     "data": {
      "text/plain": [
       "defaultdict(list, {0: [0], 1: [1], 2: [2], 3: [3], 4: [4]})"
      ]
     },
     "execution_count": 110,
     "metadata": {},
     "output_type": "execute_result"
    }
   ],
   "source": [
    "dict_of_lists = collections.defaultdict(list)\n",
    "for i in range(5):\n",
    "    dict_of_lists[i].append(i)\n",
    "dict_of_lists"
   ]
  },
  {
   "cell_type": "code",
   "execution_count": 111,
   "id": "73a6c38c",
   "metadata": {},
   "outputs": [
    {
     "data": {
      "text/plain": [
       "[('i', 4), ('m', 1), ('p', 2), ('s', 4)]"
      ]
     },
     "execution_count": 111,
     "metadata": {},
     "output_type": "execute_result"
    }
   ],
   "source": [
    "s = 'mississippi'\n",
    "d = collections.defaultdict(int)\n",
    "for k in s:\n",
    "    d[k] += 1\n",
    "\n",
    "sorted(d.items())"
   ]
  },
  {
   "cell_type": "code",
   "execution_count": 112,
   "id": "6bc39457",
   "metadata": {},
   "outputs": [
    {
     "data": {
      "text/plain": [
       "[('blue', {2, 4}), ('red', {1, 3})]"
      ]
     },
     "execution_count": 112,
     "metadata": {},
     "output_type": "execute_result"
    }
   ],
   "source": [
    "s = [('red', 1), ('blue', 2), ('red', 3), ('blue', 4), ('red', 1), ('blue', 4)]\n",
    "d = collections.defaultdict(set)\n",
    "for k, v in s:\n",
    "    d[k].add(v)\n",
    "\n",
    "sorted(d.items())"
   ]
  },
  {
   "cell_type": "markdown",
   "id": "a722784e",
   "metadata": {},
   "source": [
    "### Еще одна коллекция - OrderedDict"
   ]
  },
  {
   "cell_type": "code",
   "execution_count": 117,
   "id": "bff8668f",
   "metadata": {},
   "outputs": [
    {
     "data": {
      "text/plain": [
       "OrderedDict([('a', None), ('b', None), ('c', None), ('d', None), ('e', None)])"
      ]
     },
     "execution_count": 117,
     "metadata": {},
     "output_type": "execute_result"
    }
   ],
   "source": [
    "d = collections.OrderedDict.fromkeys('abcde')\n",
    "d"
   ]
  },
  {
   "cell_type": "code",
   "execution_count": 118,
   "id": "30e4faf4",
   "metadata": {},
   "outputs": [
    {
     "data": {
      "text/plain": [
       "'abcde'"
      ]
     },
     "execution_count": 118,
     "metadata": {},
     "output_type": "execute_result"
    }
   ],
   "source": [
    "''.join(d.keys())"
   ]
  },
  {
   "cell_type": "code",
   "execution_count": 119,
   "id": "fd3b27ac",
   "metadata": {},
   "outputs": [
    {
     "data": {
      "text/plain": [
       "'acdeb'"
      ]
     },
     "execution_count": 119,
     "metadata": {},
     "output_type": "execute_result"
    }
   ],
   "source": [
    "d.move_to_end('b')\n",
    "''.join(d.keys())"
   ]
  },
  {
   "cell_type": "code",
   "execution_count": 120,
   "id": "191e0993",
   "metadata": {},
   "outputs": [
    {
     "data": {
      "text/plain": [
       "OrderedDict([('a', None), ('c', None), ('d', None), ('e', None), ('b', None)])"
      ]
     },
     "execution_count": 120,
     "metadata": {},
     "output_type": "execute_result"
    }
   ],
   "source": [
    "d"
   ]
  },
  {
   "cell_type": "markdown",
   "id": "f4c50e2a",
   "metadata": {},
   "source": [
    "### Попытка переместить в конец"
   ]
  },
  {
   "cell_type": "code",
   "execution_count": 121,
   "id": "1905f39b",
   "metadata": {},
   "outputs": [
    {
     "data": {
      "text/plain": [
       "'bacde'"
      ]
     },
     "execution_count": 121,
     "metadata": {},
     "output_type": "execute_result"
    }
   ],
   "source": [
    "d.move_to_end('b', last=False)\n",
    "''.join(d.keys())"
   ]
  },
  {
   "cell_type": "code",
   "execution_count": 122,
   "id": "7edd0d2a",
   "metadata": {},
   "outputs": [
    {
     "data": {
      "text/plain": [
       "'ebacd'"
      ]
     },
     "execution_count": 122,
     "metadata": {},
     "output_type": "execute_result"
    }
   ],
   "source": [
    "d.move_to_end('e', last=False)\n",
    "''.join(d.keys())"
   ]
  },
  {
   "cell_type": "markdown",
   "id": "e405df2b",
   "metadata": {},
   "source": [
    "### Еще одна коллекция - ChainMap"
   ]
  },
  {
   "cell_type": "code",
   "execution_count": 123,
   "id": "2543c030",
   "metadata": {},
   "outputs": [
    {
     "data": {
      "text/plain": [
       "ChainMap({'a': 1, 'b': 2}, {'a': 1, 'b': 0, 'c': 0, 'd': 0, 'e': 1})"
      ]
     },
     "execution_count": 123,
     "metadata": {},
     "output_type": "execute_result"
    }
   ],
   "source": [
    "letters = {'a':1, 'b':2}\n",
    "vowels = {'a':1, 'b':0, 'c':0, 'd': 0, 'e':1}\n",
    "chain = collections.ChainMap(letters, vowels)\n",
    "chain"
   ]
  },
  {
   "cell_type": "markdown",
   "id": "584df842",
   "metadata": {},
   "source": [
    "### Можно получить значение по ключу"
   ]
  },
  {
   "cell_type": "code",
   "execution_count": 124,
   "id": "aa24e130",
   "metadata": {},
   "outputs": [
    {
     "data": {
      "text/plain": [
       "1"
      ]
     },
     "execution_count": 124,
     "metadata": {},
     "output_type": "execute_result"
    }
   ],
   "source": [
    "chain['e']"
   ]
  },
  {
   "cell_type": "markdown",
   "id": "fdc0fcfd",
   "metadata": {},
   "source": [
    "### Получение значения по ключу, который входит в 2 элемента"
   ]
  },
  {
   "cell_type": "code",
   "execution_count": 125,
   "id": "b7549771",
   "metadata": {},
   "outputs": [
    {
     "data": {
      "text/plain": [
       "2"
      ]
     },
     "execution_count": 125,
     "metadata": {},
     "output_type": "execute_result"
    }
   ],
   "source": [
    "chain['b']"
   ]
  },
  {
   "cell_type": "markdown",
   "id": "c48bc749",
   "metadata": {},
   "source": [
    "### Что будет при изменении элемента снаружи"
   ]
  },
  {
   "cell_type": "code",
   "execution_count": 126,
   "id": "70e98e51",
   "metadata": {},
   "outputs": [
    {
     "data": {
      "text/plain": [
       "ChainMap({'a': 1, 'b': 2, 'c': 3}, {'a': 1, 'b': 0, 'c': 0, 'd': 0, 'e': 1})"
      ]
     },
     "execution_count": 126,
     "metadata": {},
     "output_type": "execute_result"
    }
   ],
   "source": [
    "letters['c'] = 3\n",
    "chain"
   ]
  },
  {
   "cell_type": "markdown",
   "id": "b9255c53",
   "metadata": {},
   "source": [
    "### Получение ключей"
   ]
  },
  {
   "cell_type": "code",
   "execution_count": 127,
   "id": "807d10b2",
   "metadata": {},
   "outputs": [
    {
     "data": {
      "text/plain": [
       "['a', 'b', 'c', 'd', 'e']"
      ]
     },
     "execution_count": 127,
     "metadata": {},
     "output_type": "execute_result"
    }
   ],
   "source": [
    "list(chain.keys())"
   ]
  },
  {
   "cell_type": "markdown",
   "id": "4855a7b4",
   "metadata": {},
   "source": [
    "### Получение значений"
   ]
  },
  {
   "cell_type": "code",
   "execution_count": 128,
   "id": "0c17d0df",
   "metadata": {},
   "outputs": [
    {
     "data": {
      "text/plain": [
       "[1, 2, 3, 0, 1]"
      ]
     },
     "execution_count": 128,
     "metadata": {},
     "output_type": "execute_result"
    }
   ],
   "source": [
    "list(chain.values())"
   ]
  },
  {
   "cell_type": "markdown",
   "id": "b44810fb",
   "metadata": {},
   "source": [
    "### Добавление нового элемента в chain"
   ]
  },
  {
   "cell_type": "code",
   "execution_count": 129,
   "id": "56a8e3bc",
   "metadata": {},
   "outputs": [
    {
     "data": {
      "text/plain": [
       "ChainMap({'a': 0, 'b': 1, 'c': 1}, {'a': 1, 'b': 2, 'c': 3}, {'a': 1, 'b': 0, 'c': 0, 'd': 0, 'e': 1})"
      ]
     },
     "execution_count": 129,
     "metadata": {},
     "output_type": "execute_result"
    }
   ],
   "source": [
    "consons = {'a':0, 'b':1, 'c':1}\n",
    "chain.new_child(consons)"
   ]
  },
  {
   "cell_type": "markdown",
   "id": "6044cca6",
   "metadata": {},
   "source": [
    "### Еще одна коллекция - namedtuple"
   ]
  },
  {
   "cell_type": "code",
   "execution_count": 131,
   "id": "5d91a249",
   "metadata": {},
   "outputs": [
    {
     "data": {
      "text/plain": [
       "User2(fname='Петр', pname='Иванович', lname='Сидоров', age=30)"
      ]
     },
     "execution_count": 131,
     "metadata": {},
     "output_type": "execute_result"
    }
   ],
   "source": [
    "cols = ['fname', 'pname', 'lname', 'age']\n",
    "User = collections.namedtuple('User2', cols)\n",
    "user1 = User('Петр', 'Иванович', 'Сидоров', 30)\n",
    "user1"
   ]
  },
  {
   "cell_type": "markdown",
   "id": "ecd8c2fe",
   "metadata": {},
   "source": [
    "### Получение значений по ключу"
   ]
  },
  {
   "cell_type": "code",
   "execution_count": 132,
   "id": "df839514",
   "metadata": {},
   "outputs": [
    {
     "data": {
      "text/plain": [
       "'Сидоров'"
      ]
     },
     "execution_count": 132,
     "metadata": {},
     "output_type": "execute_result"
    }
   ],
   "source": [
    "user1.lname"
   ]
  },
  {
   "cell_type": "markdown",
   "id": "81fb1e2d",
   "metadata": {},
   "source": [
    "### Пример использования"
   ]
  },
  {
   "cell_type": "code",
   "execution_count": 133,
   "id": "e5c8cce0",
   "metadata": {},
   "outputs": [
    {
     "data": {
      "text/plain": [
       "25"
      ]
     },
     "execution_count": 133,
     "metadata": {},
     "output_type": "execute_result"
    }
   ],
   "source": [
    "Point = collections.namedtuple('Point', ['x', 'y'])\n",
    "p = Point(3, 4)\n",
    "p.x**2 + p.y**2"
   ]
  },
  {
   "cell_type": "markdown",
   "id": "1fc7b7c4",
   "metadata": {},
   "source": [
    "### Поддержка индексации"
   ]
  },
  {
   "cell_type": "code",
   "execution_count": 134,
   "id": "7bb1a126",
   "metadata": {},
   "outputs": [
    {
     "data": {
      "text/plain": [
       "25"
      ]
     },
     "execution_count": 134,
     "metadata": {},
     "output_type": "execute_result"
    }
   ],
   "source": [
    "p[0]**2 + p[1]**2"
   ]
  },
  {
   "cell_type": "code",
   "execution_count": 135,
   "id": "7ed6724b",
   "metadata": {},
   "outputs": [
    {
     "data": {
      "text/plain": [
       "3"
      ]
     },
     "execution_count": 135,
     "metadata": {},
     "output_type": "execute_result"
    }
   ],
   "source": [
    "p[0]"
   ]
  },
  {
   "cell_type": "code",
   "execution_count": 136,
   "id": "a5574084",
   "metadata": {},
   "outputs": [
    {
     "data": {
      "text/plain": [
       "4"
      ]
     },
     "execution_count": 136,
     "metadata": {},
     "output_type": "execute_result"
    }
   ],
   "source": [
    "p[1]"
   ]
  },
  {
   "cell_type": "markdown",
   "id": "fde3aad1",
   "metadata": {},
   "source": [
    "### Перенос в словарь"
   ]
  },
  {
   "cell_type": "code",
   "execution_count": 137,
   "id": "9781c8aa",
   "metadata": {},
   "outputs": [
    {
     "data": {
      "text/plain": [
       "{'x': 3, 'y': 4}"
      ]
     },
     "execution_count": 137,
     "metadata": {},
     "output_type": "execute_result"
    }
   ],
   "source": [
    "p._asdict()"
   ]
  },
  {
   "cell_type": "markdown",
   "id": "fa1ccc07",
   "metadata": {},
   "source": [
    "### Получение атрибута по имени в строковом формате"
   ]
  },
  {
   "cell_type": "code",
   "execution_count": 138,
   "id": "a5745ee0",
   "metadata": {},
   "outputs": [
    {
     "data": {
      "text/plain": [
       "3"
      ]
     },
     "execution_count": 138,
     "metadata": {},
     "output_type": "execute_result"
    }
   ],
   "source": [
    "getattr(p, 'x')"
   ]
  },
  {
   "cell_type": "markdown",
   "id": "e4b2d474",
   "metadata": {},
   "source": [
    "### Задание из словаря (чуть дальше поговорим об операторе **)"
   ]
  },
  {
   "cell_type": "code",
   "execution_count": 139,
   "id": "c1731d55",
   "metadata": {},
   "outputs": [
    {
     "data": {
      "text/plain": [
       "Point(x=0, y=1)"
      ]
     },
     "execution_count": 139,
     "metadata": {},
     "output_type": "execute_result"
    }
   ],
   "source": [
    "d = {'x': 0, 'y': 1}\n",
    "Point(**d)"
   ]
  },
  {
   "cell_type": "markdown",
   "id": "b89aa145",
   "metadata": {},
   "source": [
    "### Получение всех полей"
   ]
  },
  {
   "cell_type": "code",
   "execution_count": 140,
   "id": "1837e525",
   "metadata": {},
   "outputs": [
    {
     "data": {
      "text/plain": [
       "(('fname', 'pname', 'lname', 'age'), ('x', 'y'))"
      ]
     },
     "execution_count": 140,
     "metadata": {},
     "output_type": "execute_result"
    }
   ],
   "source": [
    "user1._fields, p._fields"
   ]
  },
  {
   "cell_type": "markdown",
   "id": "82502124",
   "metadata": {},
   "source": [
    "### Еще один способ инициализации"
   ]
  },
  {
   "cell_type": "code",
   "execution_count": 141,
   "id": "9b0e6f4c",
   "metadata": {},
   "outputs": [
    {
     "data": {
      "text/plain": [
       "Point(x=11, y=22)"
      ]
     },
     "execution_count": 141,
     "metadata": {},
     "output_type": "execute_result"
    }
   ],
   "source": [
    "t = [11, 22]\n",
    "Point._make(t)"
   ]
  },
  {
   "cell_type": "markdown",
   "id": "bd0efe4b",
   "metadata": {},
   "source": [
    "### Изменение значения поля"
   ]
  },
  {
   "cell_type": "code",
   "execution_count": 143,
   "id": "fec6f34e",
   "metadata": {},
   "outputs": [],
   "source": [
    "p = Point(x=11, y=22)\n",
    "p = p._replace(x=33)"
   ]
  },
  {
   "cell_type": "code",
   "execution_count": 144,
   "id": "370b6fce",
   "metadata": {},
   "outputs": [
    {
     "data": {
      "text/plain": [
       "Point(x=33, y=22)"
      ]
     },
     "execution_count": 144,
     "metadata": {},
     "output_type": "execute_result"
    }
   ],
   "source": [
    "p"
   ]
  },
  {
   "cell_type": "markdown",
   "id": "aed54099",
   "metadata": {},
   "source": [
    "# Потоковый ввод/вывод"
   ]
  },
  {
   "cell_type": "code",
   "execution_count": 145,
   "id": "18d6161f",
   "metadata": {},
   "outputs": [],
   "source": [
    "from sys import stdin"
   ]
  },
  {
   "cell_type": "markdown",
   "id": "c4dcf30f",
   "metadata": {},
   "source": [
    "### Пример потокового ввода"
   ]
  },
  {
   "cell_type": "code",
   "execution_count": 146,
   "id": "a44b4973",
   "metadata": {},
   "outputs": [
    {
     "name": "stdout",
     "output_type": "stream",
     "text": [
      "[]\n"
     ]
    }
   ],
   "source": [
    "#Нужно запускать в виде отдельного скрипта, в ноутбуке не будет работать (stdin.py)\n",
    "\n",
    "from sys import stdin\n",
    "\n",
    "lines = []\n",
    "for line in stdin:\n",
    "    lines.append(line)\n",
    "print(lines)"
   ]
  },
  {
   "cell_type": "markdown",
   "id": "a5f4b8d7",
   "metadata": {},
   "source": [
    "### Убираем переносы строки"
   ]
  },
  {
   "cell_type": "code",
   "execution_count": 147,
   "id": "0d7321e8",
   "metadata": {},
   "outputs": [
    {
     "name": "stdout",
     "output_type": "stream",
     "text": [
      "[]\n"
     ]
    }
   ],
   "source": [
    "#Нужно запускать в виде отдельного скрипта, в ноутбуке не будет работать (stdin2.py)\n",
    "\n",
    "from sys import stdin\n",
    "\n",
    "lines = []\n",
    "for line in stdin:\n",
    "    lines.append(line.rstrip(\"\\n\"))\n",
    "print(lines)"
   ]
  },
  {
   "cell_type": "markdown",
   "id": "d3eeaa97",
   "metadata": {},
   "source": [
    "### Упрощаем код и жизнь"
   ]
  },
  {
   "cell_type": "code",
   "execution_count": null,
   "id": "ca3b15c4",
   "metadata": {},
   "outputs": [],
   "source": [
    "#Нужно запускать в виде отдельного скрипта, в ноутбуке не будет работать (stdin3.py)\n",
    "\n",
    "from sys import stdin\n",
    "\n",
    "lines = stdin.readlines()\n",
    "print(lines)"
   ]
  },
  {
   "cell_type": "markdown",
   "id": "c564c334",
   "metadata": {},
   "source": [
    "### Если надо все и в одном месте"
   ]
  },
  {
   "cell_type": "code",
   "execution_count": 148,
   "id": "e51aba3c",
   "metadata": {},
   "outputs": [
    {
     "name": "stdout",
     "output_type": "stream",
     "text": [
      "['']\n"
     ]
    }
   ],
   "source": [
    "#Нужно запускать в виде отдельного скрипта, в ноутбуке не будет работать (stdin4.py)\n",
    "\n",
    "from sys import stdin\n",
    "\n",
    "text = stdin.read()\n",
    "print([text])"
   ]
  },
  {
   "cell_type": "markdown",
   "id": "8932c396",
   "metadata": {},
   "source": [
    "### Читаем из файла"
   ]
  },
  {
   "cell_type": "code",
   "execution_count": 149,
   "id": "5e465e4a",
   "metadata": {},
   "outputs": [
    {
     "name": "stdout",
     "output_type": "stream",
     "text": [
      "Help on function open in module io:\n",
      "\n",
      "open(file, mode='r', buffering=-1, encoding=None, errors=None, newline=None, closefd=True, opener=None)\n",
      "    Open file and return a stream.  Raise OSError upon failure.\n",
      "    \n",
      "    file is either a text or byte string giving the name (and the path\n",
      "    if the file isn't in the current working directory) of the file to\n",
      "    be opened or an integer file descriptor of the file to be\n",
      "    wrapped. (If a file descriptor is given, it is closed when the\n",
      "    returned I/O object is closed, unless closefd is set to False.)\n",
      "    \n",
      "    mode is an optional string that specifies the mode in which the file\n",
      "    is opened. It defaults to 'r' which means open for reading in text\n",
      "    mode.  Other common values are 'w' for writing (truncating the file if\n",
      "    it already exists), 'x' for creating and writing to a new file, and\n",
      "    'a' for appending (which on some Unix systems, means that all writes\n",
      "    append to the end of the file regardless of the current seek position).\n",
      "    In text mode, if encoding is not specified the encoding used is platform\n",
      "    dependent: locale.getencoding() is called to get the current locale encoding.\n",
      "    (For reading and writing raw bytes use binary mode and leave encoding\n",
      "    unspecified.) The available modes are:\n",
      "    \n",
      "    ========= ===============================================================\n",
      "    Character Meaning\n",
      "    --------- ---------------------------------------------------------------\n",
      "    'r'       open for reading (default)\n",
      "    'w'       open for writing, truncating the file first\n",
      "    'x'       create a new file and open it for writing\n",
      "    'a'       open for writing, appending to the end of the file if it exists\n",
      "    'b'       binary mode\n",
      "    't'       text mode (default)\n",
      "    '+'       open a disk file for updating (reading and writing)\n",
      "    ========= ===============================================================\n",
      "    \n",
      "    The default mode is 'rt' (open for reading text). For binary random\n",
      "    access, the mode 'w+b' opens and truncates the file to 0 bytes, while\n",
      "    'r+b' opens the file without truncation. The 'x' mode implies 'w' and\n",
      "    raises an `FileExistsError` if the file already exists.\n",
      "    \n",
      "    Python distinguishes between files opened in binary and text modes,\n",
      "    even when the underlying operating system doesn't. Files opened in\n",
      "    binary mode (appending 'b' to the mode argument) return contents as\n",
      "    bytes objects without any decoding. In text mode (the default, or when\n",
      "    't' is appended to the mode argument), the contents of the file are\n",
      "    returned as strings, the bytes having been first decoded using a\n",
      "    platform-dependent encoding or using the specified encoding if given.\n",
      "    \n",
      "    buffering is an optional integer used to set the buffering policy.\n",
      "    Pass 0 to switch buffering off (only allowed in binary mode), 1 to select\n",
      "    line buffering (only usable in text mode), and an integer > 1 to indicate\n",
      "    the size of a fixed-size chunk buffer.  When no buffering argument is\n",
      "    given, the default buffering policy works as follows:\n",
      "    \n",
      "    * Binary files are buffered in fixed-size chunks; the size of the buffer\n",
      "      is chosen using a heuristic trying to determine the underlying device's\n",
      "      \"block size\" and falling back on `io.DEFAULT_BUFFER_SIZE`.\n",
      "      On many systems, the buffer will typically be 4096 or 8192 bytes long.\n",
      "    \n",
      "    * \"Interactive\" text files (files for which isatty() returns True)\n",
      "      use line buffering.  Other text files use the policy described above\n",
      "      for binary files.\n",
      "    \n",
      "    encoding is the name of the encoding used to decode or encode the\n",
      "    file. This should only be used in text mode. The default encoding is\n",
      "    platform dependent, but any encoding supported by Python can be\n",
      "    passed.  See the codecs module for the list of supported encodings.\n",
      "    \n",
      "    errors is an optional string that specifies how encoding errors are to\n",
      "    be handled---this argument should not be used in binary mode. Pass\n",
      "    'strict' to raise a ValueError exception if there is an encoding error\n",
      "    (the default of None has the same effect), or pass 'ignore' to ignore\n",
      "    errors. (Note that ignoring encoding errors can lead to data loss.)\n",
      "    See the documentation for codecs.register or run 'help(codecs.Codec)'\n",
      "    for a list of the permitted encoding error strings.\n",
      "    \n",
      "    newline controls how universal newlines works (it only applies to text\n",
      "    mode). It can be None, '', '\\n', '\\r', and '\\r\\n'.  It works as\n",
      "    follows:\n",
      "    \n",
      "    * On input, if newline is None, universal newlines mode is\n",
      "      enabled. Lines in the input can end in '\\n', '\\r', or '\\r\\n', and\n",
      "      these are translated into '\\n' before being returned to the\n",
      "      caller. If it is '', universal newline mode is enabled, but line\n",
      "      endings are returned to the caller untranslated. If it has any of\n",
      "      the other legal values, input lines are only terminated by the given\n",
      "      string, and the line ending is returned to the caller untranslated.\n",
      "    \n",
      "    * On output, if newline is None, any '\\n' characters written are\n",
      "      translated to the system default line separator, os.linesep. If\n",
      "      newline is '' or '\\n', no translation takes place. If newline is any\n",
      "      of the other legal values, any '\\n' characters written are translated\n",
      "      to the given string.\n",
      "    \n",
      "    If closefd is False, the underlying file descriptor will be kept open\n",
      "    when the file is closed. This does not work when a file name is given\n",
      "    and must be True in that case.\n",
      "    \n",
      "    A custom opener can be used by passing a callable as *opener*. The\n",
      "    underlying file descriptor for the file object is then obtained by\n",
      "    calling *opener* with (*file*, *flags*). *opener* must return an open\n",
      "    file descriptor (passing os.open as *opener* results in functionality\n",
      "    similar to passing None).\n",
      "    \n",
      "    open() returns a file object whose type depends on the mode, and\n",
      "    through which the standard file operations such as reading and writing\n",
      "    are performed. When open() is used to open a file in a text mode ('w',\n",
      "    'r', 'wt', 'rt', etc.), it returns a TextIOWrapper. When used to open\n",
      "    a file in a binary mode, the returned class varies: in read binary\n",
      "    mode, it returns a BufferedReader; in write binary and append binary\n",
      "    modes, it returns a BufferedWriter, and in read/write mode, it returns\n",
      "    a BufferedRandom.\n",
      "    \n",
      "    It is also possible to use a string or bytearray as a file for both\n",
      "    reading and writing. For strings StringIO can be used like a file\n",
      "    opened in a text mode, and for bytes a BytesIO can be used like a file\n",
      "    opened in a binary mode.\n",
      "\n"
     ]
    }
   ],
   "source": [
    "help(open)"
   ]
  },
  {
   "cell_type": "markdown",
   "id": "471f1bd8",
   "metadata": {},
   "source": [
    "### Открываем файл для чтения"
   ]
  },
  {
   "cell_type": "code",
   "execution_count": 150,
   "id": "a5539d2b",
   "metadata": {},
   "outputs": [],
   "source": [
    "file_in = open(\"stdin.py\", encoding=\"UTF-8\")"
   ]
  },
  {
   "cell_type": "markdown",
   "id": "1c1ee12d",
   "metadata": {},
   "source": [
    "### Читаем файл"
   ]
  },
  {
   "cell_type": "code",
   "execution_count": 151,
   "id": "57f62a30",
   "metadata": {},
   "outputs": [
    {
     "name": "stdout",
     "output_type": "stream",
     "text": [
      "from sys import stdin\n",
      "\n",
      "\n",
      "\n",
      "lines = []\n",
      "\n",
      "for line in stdin:\n",
      "\n",
      "    lines.append(line)\n",
      "\n",
      "print(lines)\n"
     ]
    }
   ],
   "source": [
    "file_in = open(\"stdin.py\", encoding=\"UTF-8\")\n",
    "for line in file_in:\n",
    "    print(line)\n",
    "file_in.close()"
   ]
  },
  {
   "cell_type": "markdown",
   "id": "230d1829",
   "metadata": {},
   "source": [
    "### Убираем лишние переводы строки"
   ]
  },
  {
   "cell_type": "code",
   "execution_count": 152,
   "id": "43702533",
   "metadata": {},
   "outputs": [
    {
     "name": "stdout",
     "output_type": "stream",
     "text": [
      "from sys import stdin\n",
      "\n",
      "lines = []\n",
      "for line in stdin:\n",
      "    lines.append(line)\n",
      "print(lines)\n"
     ]
    }
   ],
   "source": [
    "with open(\"stdin.py\", encoding=\"UTF-8\") as file_in:\n",
    "    for line in file_in:\n",
    "        print(line.rstrip(\"\\n\"))"
   ]
  },
  {
   "cell_type": "markdown",
   "id": "38c6be17",
   "metadata": {},
   "source": [
    "### Как прочитать весь файл"
   ]
  },
  {
   "cell_type": "code",
   "execution_count": 153,
   "id": "86d08979",
   "metadata": {},
   "outputs": [
    {
     "name": "stdout",
     "output_type": "stream",
     "text": [
      "['from sys import stdin\\n', '\\n', 'lines = []\\n', 'for line in stdin:\\n', '    lines.append(line)\\n', 'print(lines)']\n"
     ]
    }
   ],
   "source": [
    "file_in = open(\"stdin.py\", encoding=\"UTF-8\")\n",
    "lines = file_in.readlines()\n",
    "file_in.close()\n",
    "print(lines)"
   ]
  },
  {
   "cell_type": "code",
   "execution_count": 154,
   "id": "12d4836f",
   "metadata": {},
   "outputs": [
    {
     "name": "stdout",
     "output_type": "stream",
     "text": [
      "['from sys import stdin\\n', '\\n', 'lines = []\\n', 'for line in stdin:\\n', '    lines.append(line)\\n', 'print(lines)']\n"
     ]
    }
   ],
   "source": [
    "with open(\"stdin.py\", encoding=\"UTF-8\") as file_in:\n",
    "    lines = file_in.readlines()\n",
    "print(lines)"
   ]
  },
  {
   "cell_type": "markdown",
   "id": "0331a102",
   "metadata": {},
   "source": [
    "### Прочитать конкретную часть"
   ]
  },
  {
   "cell_type": "code",
   "execution_count": 155,
   "id": "6b9dfddc",
   "metadata": {},
   "outputs": [
    {
     "name": "stdout",
     "output_type": "stream",
     "text": [
      "['from sys i']\n"
     ]
    }
   ],
   "source": [
    "with open(\"stdin.py\", encoding=\"UTF-8\") as file_in:\n",
    "    symbols = file_in.read(10)\n",
    "print([symbols])"
   ]
  },
  {
   "cell_type": "markdown",
   "id": "c1fd3f78",
   "metadata": {},
   "source": [
    "### А теперь учимся писать"
   ]
  },
  {
   "cell_type": "code",
   "execution_count": 156,
   "id": "e268be3a",
   "metadata": {},
   "outputs": [],
   "source": [
    "with open(\"output_1.txt\", \"w\", encoding=\"UTF-8\") as file_out:\n",
    "    n = file_out.write(\"Это первая строка\\nА вот и вторая\\nИ третья — последняя\\n\")"
   ]
  },
  {
   "cell_type": "code",
   "execution_count": 157,
   "id": "72fb5847",
   "metadata": {},
   "outputs": [
    {
     "data": {
      "text/plain": [
       "54"
      ]
     },
     "execution_count": 157,
     "metadata": {},
     "output_type": "execute_result"
    }
   ],
   "source": [
    "n"
   ]
  },
  {
   "cell_type": "code",
   "execution_count": 159,
   "id": "44366701",
   "metadata": {},
   "outputs": [
    {
     "name": "stdout",
     "output_type": "stream",
     "text": [
      "['Это первая строка\\n', 'А вот и вторая\\n', 'И третья — последняя\\n']\n"
     ]
    }
   ],
   "source": [
    "with open(\"output_1.txt\", encoding=\"UTF-8\") as file_in:\n",
    "    symbols = file_in.readlines()\n",
    "print(symbols)"
   ]
  },
  {
   "cell_type": "code",
   "execution_count": 160,
   "id": "5eb6edb4",
   "metadata": {},
   "outputs": [],
   "source": [
    "lines = [\"Это первая строка\\n\", \"А вот и вторая\\n\", \"И третья — последняя\\n\"]\n",
    "with open(\"output_2.txt\", \"w\", encoding=\"UTF-8\") as file_out:\n",
    "    file_out.writelines(lines)"
   ]
  },
  {
   "cell_type": "code",
   "execution_count": 161,
   "id": "11ab6fae",
   "metadata": {},
   "outputs": [
    {
     "name": "stdout",
     "output_type": "stream",
     "text": [
      "['Это первая строка\\n', 'А вот и вторая\\n', 'И третья — последняя\\n']\n"
     ]
    }
   ],
   "source": [
    "with open(\"output_2.txt\", encoding=\"UTF-8\") as file_in:\n",
    "    symbols = file_in.readlines()\n",
    "print(symbols)"
   ]
  },
  {
   "cell_type": "markdown",
   "id": "54488b16",
   "metadata": {},
   "source": [
    "### Print тоже может писать в файлы..."
   ]
  },
  {
   "cell_type": "code",
   "execution_count": 162,
   "id": "50ab8689",
   "metadata": {},
   "outputs": [],
   "source": [
    "with open(\"output_3.txt\", \"w\", encoding=\"UTF-8\") as file_out:\n",
    "    print(\"Вывод в файл с помощью функции print()\", file=file_out)"
   ]
  },
  {
   "cell_type": "code",
   "execution_count": 163,
   "id": "c7773641",
   "metadata": {},
   "outputs": [
    {
     "name": "stdout",
     "output_type": "stream",
     "text": [
      "['Вывод в файл с помощью функции print()\\n']\n"
     ]
    }
   ],
   "source": [
    "with open(\"output_3.txt\", encoding=\"UTF-8\") as file_in:\n",
    "    symbols = file_in.readlines()\n",
    "print(symbols)"
   ]
  },
  {
   "cell_type": "markdown",
   "id": "3a130804",
   "metadata": {},
   "source": [
    "### Разные модификаторы"
   ]
  },
  {
   "cell_type": "code",
   "execution_count": 166,
   "id": "a1211793",
   "metadata": {},
   "outputs": [
    {
     "ename": "FileExistsError",
     "evalue": "[Errno 17] File exists: 'output_4.txt'",
     "output_type": "error",
     "traceback": [
      "\u001b[0;31m---------------------------------------------------------------------------\u001b[0m",
      "\u001b[0;31mFileExistsError\u001b[0m                           Traceback (most recent call last)",
      "Cell \u001b[0;32mIn[166], line 1\u001b[0m\n\u001b[0;32m----> 1\u001b[0m \u001b[38;5;28;01mwith\u001b[39;00m \u001b[38;5;28;43mopen\u001b[39;49m\u001b[43m(\u001b[49m\u001b[38;5;124;43m\"\u001b[39;49m\u001b[38;5;124;43moutput_4.txt\u001b[39;49m\u001b[38;5;124;43m\"\u001b[39;49m\u001b[43m,\u001b[49m\u001b[43m \u001b[49m\u001b[38;5;124;43m\"\u001b[39;49m\u001b[38;5;124;43mx\u001b[39;49m\u001b[38;5;124;43m\"\u001b[39;49m\u001b[43m,\u001b[49m\u001b[43m \u001b[49m\u001b[43mencoding\u001b[49m\u001b[38;5;241;43m=\u001b[39;49m\u001b[38;5;124;43m\"\u001b[39;49m\u001b[38;5;124;43mUTF-8\u001b[39;49m\u001b[38;5;124;43m\"\u001b[39;49m\u001b[43m)\u001b[49m \u001b[38;5;28;01mas\u001b[39;00m file_out:\n\u001b[1;32m      2\u001b[0m     n \u001b[38;5;241m=\u001b[39m file_out\u001b[38;5;241m.\u001b[39mwrite(\u001b[38;5;124m\"\u001b[39m\u001b[38;5;124mЭто первая строка\u001b[39m\u001b[38;5;130;01m\\n\u001b[39;00m\u001b[38;5;124mА вот и вторая\u001b[39m\u001b[38;5;130;01m\\n\u001b[39;00m\u001b[38;5;124mИ третья — последняя\u001b[39m\u001b[38;5;130;01m\\n\u001b[39;00m\u001b[38;5;124m\"\u001b[39m)\n",
      "File \u001b[0;32m~/Desktop/env/lib/python3.11/site-packages/IPython/core/interactiveshell.py:284\u001b[0m, in \u001b[0;36m_modified_open\u001b[0;34m(file, *args, **kwargs)\u001b[0m\n\u001b[1;32m    277\u001b[0m \u001b[38;5;28;01mif\u001b[39;00m file \u001b[38;5;129;01min\u001b[39;00m {\u001b[38;5;241m0\u001b[39m, \u001b[38;5;241m1\u001b[39m, \u001b[38;5;241m2\u001b[39m}:\n\u001b[1;32m    278\u001b[0m     \u001b[38;5;28;01mraise\u001b[39;00m \u001b[38;5;167;01mValueError\u001b[39;00m(\n\u001b[1;32m    279\u001b[0m         \u001b[38;5;124mf\u001b[39m\u001b[38;5;124m\"\u001b[39m\u001b[38;5;124mIPython won\u001b[39m\u001b[38;5;124m'\u001b[39m\u001b[38;5;124mt let you open fd=\u001b[39m\u001b[38;5;132;01m{\u001b[39;00mfile\u001b[38;5;132;01m}\u001b[39;00m\u001b[38;5;124m by default \u001b[39m\u001b[38;5;124m\"\u001b[39m\n\u001b[1;32m    280\u001b[0m         \u001b[38;5;124m\"\u001b[39m\u001b[38;5;124mas it is likely to crash IPython. If you know what you are doing, \u001b[39m\u001b[38;5;124m\"\u001b[39m\n\u001b[1;32m    281\u001b[0m         \u001b[38;5;124m\"\u001b[39m\u001b[38;5;124myou can use builtins\u001b[39m\u001b[38;5;124m'\u001b[39m\u001b[38;5;124m open.\u001b[39m\u001b[38;5;124m\"\u001b[39m\n\u001b[1;32m    282\u001b[0m     )\n\u001b[0;32m--> 284\u001b[0m \u001b[38;5;28;01mreturn\u001b[39;00m \u001b[43mio_open\u001b[49m\u001b[43m(\u001b[49m\u001b[43mfile\u001b[49m\u001b[43m,\u001b[49m\u001b[43m \u001b[49m\u001b[38;5;241;43m*\u001b[39;49m\u001b[43margs\u001b[49m\u001b[43m,\u001b[49m\u001b[43m \u001b[49m\u001b[38;5;241;43m*\u001b[39;49m\u001b[38;5;241;43m*\u001b[39;49m\u001b[43mkwargs\u001b[49m\u001b[43m)\u001b[49m\n",
      "\u001b[0;31mFileExistsError\u001b[0m: [Errno 17] File exists: 'output_4.txt'"
     ]
    }
   ],
   "source": [
    "with open(\"output_4.txt\", \"x\", encoding=\"UTF-8\") as file_out:\n",
    "    n = file_out.write(\"Это первая строка\\nА вот и вторая\\nИ третья — последняя\\n\")"
   ]
  },
  {
   "cell_type": "code",
   "execution_count": 167,
   "id": "9d806f44",
   "metadata": {},
   "outputs": [],
   "source": [
    "with open(\"output_4.txt\", \"a\", encoding=\"UTF-8\") as file_out:\n",
    "    n = file_out.write(\"Это первая строка\\nА вот и вторая\\nИ третья — последняя\\n\")"
   ]
  },
  {
   "cell_type": "code",
   "execution_count": 168,
   "id": "f5479faa",
   "metadata": {},
   "outputs": [
    {
     "name": "stdout",
     "output_type": "stream",
     "text": [
      "['Это первая строка\\n', 'А вот и вторая\\n', 'И третья — последняя\\n', 'Это первая строка\\n', 'А вот и вторая\\n', 'И третья — последняя\\n']\n"
     ]
    }
   ],
   "source": [
    "with open(\"output_4.txt\", encoding=\"UTF-8\") as file_in:\n",
    "    symbols = file_in.readlines()\n",
    "print(symbols)"
   ]
  },
  {
   "cell_type": "code",
   "execution_count": 169,
   "id": "a52c8d43",
   "metadata": {},
   "outputs": [
    {
     "name": "stdout",
     "output_type": "stream",
     "text": [
      "['Это первая строка\\n', 'А вот и вторая\\n', 'И третья — последняя\\n', 'Это первая строка\\n', 'А вот и вторая\\n', 'И третья — последняя\\n']\n"
     ]
    }
   ],
   "source": [
    "with open(\"output_4.txt\", \"r+\", encoding=\"UTF-8\") as file_out:\n",
    "    data = file_out.readlines()\n",
    "    print(data)\n",
    "    n = file_out.write(\"Это первая строка\\n\")"
   ]
  },
  {
   "cell_type": "code",
   "execution_count": 170,
   "id": "7c17619b",
   "metadata": {},
   "outputs": [
    {
     "name": "stdout",
     "output_type": "stream",
     "text": [
      "['Это первая строка\\n', 'А вот и вторая\\n', 'И третья — последняя\\n', 'Это первая строка\\n', 'А вот и вторая\\n', 'И третья — последняя\\n', 'Это первая строка\\n']\n"
     ]
    }
   ],
   "source": [
    "with open(\"output_4.txt\", encoding=\"UTF-8\") as file_in:\n",
    "    symbols = file_in.readlines()\n",
    "print(symbols)"
   ]
  },
  {
   "cell_type": "code",
   "execution_count": 171,
   "id": "57a395c5",
   "metadata": {},
   "outputs": [
    {
     "ename": "ValueError",
     "evalue": "binary mode doesn't take an encoding argument",
     "output_type": "error",
     "traceback": [
      "\u001b[0;31m---------------------------------------------------------------------------\u001b[0m",
      "\u001b[0;31mValueError\u001b[0m                                Traceback (most recent call last)",
      "Cell \u001b[0;32mIn[171], line 1\u001b[0m\n\u001b[0;32m----> 1\u001b[0m \u001b[38;5;28;01mwith\u001b[39;00m \u001b[38;5;28;43mopen\u001b[39;49m\u001b[43m(\u001b[49m\u001b[38;5;124;43m\"\u001b[39;49m\u001b[38;5;124;43moutput_4.txt\u001b[39;49m\u001b[38;5;124;43m\"\u001b[39;49m\u001b[43m,\u001b[49m\u001b[43m \u001b[49m\u001b[38;5;124;43m\"\u001b[39;49m\u001b[38;5;124;43mrb\u001b[39;49m\u001b[38;5;124;43m\"\u001b[39;49m\u001b[43m,\u001b[49m\u001b[43m \u001b[49m\u001b[43mencoding\u001b[49m\u001b[38;5;241;43m=\u001b[39;49m\u001b[38;5;124;43m\"\u001b[39;49m\u001b[38;5;124;43mUTF-8\u001b[39;49m\u001b[38;5;124;43m\"\u001b[39;49m\u001b[43m)\u001b[49m \u001b[38;5;28;01mas\u001b[39;00m file_out:\n\u001b[1;32m      2\u001b[0m     data \u001b[38;5;241m=\u001b[39m file_out\u001b[38;5;241m.\u001b[39mreadlines()\n\u001b[1;32m      3\u001b[0m     \u001b[38;5;28mprint\u001b[39m(data)\n",
      "File \u001b[0;32m~/Desktop/env/lib/python3.11/site-packages/IPython/core/interactiveshell.py:284\u001b[0m, in \u001b[0;36m_modified_open\u001b[0;34m(file, *args, **kwargs)\u001b[0m\n\u001b[1;32m    277\u001b[0m \u001b[38;5;28;01mif\u001b[39;00m file \u001b[38;5;129;01min\u001b[39;00m {\u001b[38;5;241m0\u001b[39m, \u001b[38;5;241m1\u001b[39m, \u001b[38;5;241m2\u001b[39m}:\n\u001b[1;32m    278\u001b[0m     \u001b[38;5;28;01mraise\u001b[39;00m \u001b[38;5;167;01mValueError\u001b[39;00m(\n\u001b[1;32m    279\u001b[0m         \u001b[38;5;124mf\u001b[39m\u001b[38;5;124m\"\u001b[39m\u001b[38;5;124mIPython won\u001b[39m\u001b[38;5;124m'\u001b[39m\u001b[38;5;124mt let you open fd=\u001b[39m\u001b[38;5;132;01m{\u001b[39;00mfile\u001b[38;5;132;01m}\u001b[39;00m\u001b[38;5;124m by default \u001b[39m\u001b[38;5;124m\"\u001b[39m\n\u001b[1;32m    280\u001b[0m         \u001b[38;5;124m\"\u001b[39m\u001b[38;5;124mas it is likely to crash IPython. If you know what you are doing, \u001b[39m\u001b[38;5;124m\"\u001b[39m\n\u001b[1;32m    281\u001b[0m         \u001b[38;5;124m\"\u001b[39m\u001b[38;5;124myou can use builtins\u001b[39m\u001b[38;5;124m'\u001b[39m\u001b[38;5;124m open.\u001b[39m\u001b[38;5;124m\"\u001b[39m\n\u001b[1;32m    282\u001b[0m     )\n\u001b[0;32m--> 284\u001b[0m \u001b[38;5;28;01mreturn\u001b[39;00m \u001b[43mio_open\u001b[49m\u001b[43m(\u001b[49m\u001b[43mfile\u001b[49m\u001b[43m,\u001b[49m\u001b[43m \u001b[49m\u001b[38;5;241;43m*\u001b[39;49m\u001b[43margs\u001b[49m\u001b[43m,\u001b[49m\u001b[43m \u001b[49m\u001b[38;5;241;43m*\u001b[39;49m\u001b[38;5;241;43m*\u001b[39;49m\u001b[43mkwargs\u001b[49m\u001b[43m)\u001b[49m\n",
      "\u001b[0;31mValueError\u001b[0m: binary mode doesn't take an encoding argument"
     ]
    }
   ],
   "source": [
    "with open(\"output_4.txt\", \"rb\", encoding=\"UTF-8\") as file_out:\n",
    "    data = file_out.readlines()\n",
    "    print(data)"
   ]
  },
  {
   "cell_type": "code",
   "execution_count": 172,
   "id": "b2fe1468",
   "metadata": {},
   "outputs": [
    {
     "name": "stdout",
     "output_type": "stream",
     "text": [
      "['Это первая строка\\n', 'А вот и вторая\\n', 'И третья — последняя\\n', 'Это первая строка\\n', 'А вот и вторая\\n', 'И третья — последняя\\n', 'Это первая строка\\n']\n"
     ]
    }
   ],
   "source": [
    "with open(\"output_4.txt\", \"rt\", encoding=\"UTF-8\") as file_out:\n",
    "    data = file_out.readlines()\n",
    "    print(data)"
   ]
  },
  {
   "cell_type": "markdown",
   "id": "9dc84b2e",
   "metadata": {},
   "source": [
    "# JSON"
   ]
  },
  {
   "cell_type": "markdown",
   "id": "cde4fc68",
   "metadata": {},
   "source": [
    "[\n",
    "\n",
    "  {\n",
    "  \n",
    "    \"last_name\": \"Иванов\",\n",
    "    \"first_name\": \"Иван\",\n",
    "    \"patronymic\": \"Иванович\",\n",
    "    \"date_of_birth\": \"01.01.2001\",\n",
    "    \"group_number\": 1,\n",
    "    \"phone_numbers\": [\n",
    "      \"+7 111 111 1111\",\n",
    "      \"+7 111 111 1112\"\n",
    "    ]\n",
    "  },\n",
    "  \n",
    "  {\n",
    "  \n",
    "    \"last_name\": \"Петров\",\n",
    "    \"first_name\": \"Пётр\",\n",
    "    \"patronymic\": \"Петрович\",\n",
    "    \"date_of_birth\": \"10.10.2001\",\n",
    "    \"group_number\": 1,\n",
    "    \"phone_numbers\": [\n",
    "      \"+7 111 111 1113\",\n",
    "      \"+7 111 111 1114\"\n",
    "    ]\n",
    "    \n",
    "  }\n",
    "  \n",
    "]"
   ]
  },
  {
   "cell_type": "markdown",
   "id": "abb488fd",
   "metadata": {},
   "source": [
    "### Прочитаем файл"
   ]
  },
  {
   "cell_type": "code",
   "execution_count": 173,
   "id": "414e069c",
   "metadata": {},
   "outputs": [
    {
     "name": "stdout",
     "output_type": "stream",
     "text": [
      "[{'last_name': 'Иванов', 'first_name': 'Иван', 'patronymic': 'Иванович', 'date_of_birth': '01.01.2001', 'group_number': 1, 'phone_numbers': ['+7 111 111 1111', '+7 111 111 1112']}, {'last_name': 'Петров', 'first_name': 'Пётр', 'patronymic': 'Петрович', 'date_of_birth': '10.10.2001', 'group_number': 2, 'phone_numbers': ['+7 111 111 1113', '+7 111 111 1114']}]\n"
     ]
    }
   ],
   "source": [
    "import json\n",
    "\n",
    "with open(\"data.json\", encoding=\"UTF-8\") as file_in:\n",
    "    records = json.load(file_in)\n",
    "print(records)"
   ]
  },
  {
   "cell_type": "markdown",
   "id": "1bc8956d",
   "metadata": {},
   "source": [
    "### Попробуем переписать"
   ]
  },
  {
   "cell_type": "code",
   "execution_count": 174,
   "id": "71909b4b",
   "metadata": {},
   "outputs": [],
   "source": [
    "import json\n",
    "\n",
    "with open(\"data.json\", encoding=\"UTF-8\") as file_in:\n",
    "    records = json.load(file_in)\n",
    "records[1][\"group_number\"] = 15\n",
    "\n",
    "with open(\"data.json\", \"w\", encoding=\"UTF-8\") as file_out:\n",
    "    json.dump(records, file_out, ensure_ascii=False, indent=2)"
   ]
  },
  {
   "cell_type": "markdown",
   "id": "2e87972a",
   "metadata": {},
   "source": [
    "### Что станет, если сделать ensure_ascii=True и поменять indent"
   ]
  },
  {
   "cell_type": "code",
   "execution_count": 175,
   "id": "cddb628a",
   "metadata": {},
   "outputs": [],
   "source": [
    "with open(\"data2.json\", \"w\", encoding=\"UTF-8\") as file_out:\n",
    "    json.dump(records, file_out, ensure_ascii=True, indent=4)"
   ]
  },
  {
   "cell_type": "markdown",
   "id": "4c6b788d",
   "metadata": {},
   "source": [
    "### Пример записи словаря в json файл"
   ]
  },
  {
   "cell_type": "code",
   "execution_count": 176,
   "id": "3b252f3a",
   "metadata": {},
   "outputs": [],
   "source": [
    "import json\n",
    "\n",
    "records = {1: \"First\",\n",
    "           2: \"Second\",\n",
    "           3: \"Third\"}\n",
    "with open(\"output.json\", \"w\", encoding=\"UTF-8\") as file_out:\n",
    "    json.dump(records, file_out, ensure_ascii=False, indent=2)"
   ]
  },
  {
   "cell_type": "markdown",
   "id": "ad8b97c5",
   "metadata": {},
   "source": [
    "### Модуль Json не работает с несериализуемыми объектами"
   ]
  },
  {
   "cell_type": "code",
   "execution_count": 177,
   "id": "0363f1ed",
   "metadata": {},
   "outputs": [
    {
     "ename": "TypeError",
     "evalue": "Object of type ndarray is not JSON serializable",
     "output_type": "error",
     "traceback": [
      "\u001b[0;31m---------------------------------------------------------------------------\u001b[0m",
      "\u001b[0;31mTypeError\u001b[0m                                 Traceback (most recent call last)",
      "Cell \u001b[0;32mIn[177], line 5\u001b[0m\n\u001b[1;32m      3\u001b[0m arr \u001b[38;5;241m=\u001b[39m np\u001b[38;5;241m.\u001b[39marray([\u001b[38;5;241m1\u001b[39m, \u001b[38;5;241m2\u001b[39m, \u001b[38;5;241m3\u001b[39m, \u001b[38;5;241m4\u001b[39m])\n\u001b[1;32m      4\u001b[0m \u001b[38;5;28;01mwith\u001b[39;00m \u001b[38;5;28mopen\u001b[39m(\u001b[38;5;124m\"\u001b[39m\u001b[38;5;124moutput2.json\u001b[39m\u001b[38;5;124m\"\u001b[39m, \u001b[38;5;124m\"\u001b[39m\u001b[38;5;124mw\u001b[39m\u001b[38;5;124m\"\u001b[39m, encoding\u001b[38;5;241m=\u001b[39m\u001b[38;5;124m\"\u001b[39m\u001b[38;5;124mUTF-8\u001b[39m\u001b[38;5;124m\"\u001b[39m) \u001b[38;5;28;01mas\u001b[39;00m file_out:\n\u001b[0;32m----> 5\u001b[0m     \u001b[43mjson\u001b[49m\u001b[38;5;241;43m.\u001b[39;49m\u001b[43mdump\u001b[49m\u001b[43m(\u001b[49m\u001b[43marr\u001b[49m\u001b[43m,\u001b[49m\u001b[43m \u001b[49m\u001b[43mfile_out\u001b[49m\u001b[43m,\u001b[49m\u001b[43m \u001b[49m\u001b[43mensure_ascii\u001b[49m\u001b[38;5;241;43m=\u001b[39;49m\u001b[38;5;28;43;01mFalse\u001b[39;49;00m\u001b[43m,\u001b[49m\u001b[43m \u001b[49m\u001b[43mindent\u001b[49m\u001b[38;5;241;43m=\u001b[39;49m\u001b[38;5;241;43m2\u001b[39;49m\u001b[43m)\u001b[49m\n",
      "File \u001b[0;32m/opt/homebrew/Cellar/python@3.11/3.11.1/Frameworks/Python.framework/Versions/3.11/lib/python3.11/json/__init__.py:179\u001b[0m, in \u001b[0;36mdump\u001b[0;34m(obj, fp, skipkeys, ensure_ascii, check_circular, allow_nan, cls, indent, separators, default, sort_keys, **kw)\u001b[0m\n\u001b[1;32m    173\u001b[0m     iterable \u001b[38;5;241m=\u001b[39m \u001b[38;5;28mcls\u001b[39m(skipkeys\u001b[38;5;241m=\u001b[39mskipkeys, ensure_ascii\u001b[38;5;241m=\u001b[39mensure_ascii,\n\u001b[1;32m    174\u001b[0m         check_circular\u001b[38;5;241m=\u001b[39mcheck_circular, allow_nan\u001b[38;5;241m=\u001b[39mallow_nan, indent\u001b[38;5;241m=\u001b[39mindent,\n\u001b[1;32m    175\u001b[0m         separators\u001b[38;5;241m=\u001b[39mseparators,\n\u001b[1;32m    176\u001b[0m         default\u001b[38;5;241m=\u001b[39mdefault, sort_keys\u001b[38;5;241m=\u001b[39msort_keys, \u001b[38;5;241m*\u001b[39m\u001b[38;5;241m*\u001b[39mkw)\u001b[38;5;241m.\u001b[39miterencode(obj)\n\u001b[1;32m    177\u001b[0m \u001b[38;5;66;03m# could accelerate with writelines in some versions of Python, at\u001b[39;00m\n\u001b[1;32m    178\u001b[0m \u001b[38;5;66;03m# a debuggability cost\u001b[39;00m\n\u001b[0;32m--> 179\u001b[0m \u001b[38;5;28;01mfor\u001b[39;00m chunk \u001b[38;5;129;01min\u001b[39;00m iterable:\n\u001b[1;32m    180\u001b[0m     fp\u001b[38;5;241m.\u001b[39mwrite(chunk)\n",
      "File \u001b[0;32m/opt/homebrew/Cellar/python@3.11/3.11.1/Frameworks/Python.framework/Versions/3.11/lib/python3.11/json/encoder.py:439\u001b[0m, in \u001b[0;36m_make_iterencode.<locals>._iterencode\u001b[0;34m(o, _current_indent_level)\u001b[0m\n\u001b[1;32m    437\u001b[0m         \u001b[38;5;28;01mraise\u001b[39;00m \u001b[38;5;167;01mValueError\u001b[39;00m(\u001b[38;5;124m\"\u001b[39m\u001b[38;5;124mCircular reference detected\u001b[39m\u001b[38;5;124m\"\u001b[39m)\n\u001b[1;32m    438\u001b[0m     markers[markerid] \u001b[38;5;241m=\u001b[39m o\n\u001b[0;32m--> 439\u001b[0m o \u001b[38;5;241m=\u001b[39m \u001b[43m_default\u001b[49m\u001b[43m(\u001b[49m\u001b[43mo\u001b[49m\u001b[43m)\u001b[49m\n\u001b[1;32m    440\u001b[0m \u001b[38;5;28;01myield from\u001b[39;00m _iterencode(o, _current_indent_level)\n\u001b[1;32m    441\u001b[0m \u001b[38;5;28;01mif\u001b[39;00m markers \u001b[38;5;129;01mis\u001b[39;00m \u001b[38;5;129;01mnot\u001b[39;00m \u001b[38;5;28;01mNone\u001b[39;00m:\n",
      "File \u001b[0;32m/opt/homebrew/Cellar/python@3.11/3.11.1/Frameworks/Python.framework/Versions/3.11/lib/python3.11/json/encoder.py:180\u001b[0m, in \u001b[0;36mJSONEncoder.default\u001b[0;34m(self, o)\u001b[0m\n\u001b[1;32m    161\u001b[0m \u001b[38;5;28;01mdef\u001b[39;00m \u001b[38;5;21mdefault\u001b[39m(\u001b[38;5;28mself\u001b[39m, o):\n\u001b[1;32m    162\u001b[0m \u001b[38;5;250m    \u001b[39m\u001b[38;5;124;03m\"\"\"Implement this method in a subclass such that it returns\u001b[39;00m\n\u001b[1;32m    163\u001b[0m \u001b[38;5;124;03m    a serializable object for ``o``, or calls the base implementation\u001b[39;00m\n\u001b[1;32m    164\u001b[0m \u001b[38;5;124;03m    (to raise a ``TypeError``).\u001b[39;00m\n\u001b[0;32m   (...)\u001b[0m\n\u001b[1;32m    178\u001b[0m \n\u001b[1;32m    179\u001b[0m \u001b[38;5;124;03m    \"\"\"\u001b[39;00m\n\u001b[0;32m--> 180\u001b[0m     \u001b[38;5;28;01mraise\u001b[39;00m \u001b[38;5;167;01mTypeError\u001b[39;00m(\u001b[38;5;124mf\u001b[39m\u001b[38;5;124m'\u001b[39m\u001b[38;5;124mObject of type \u001b[39m\u001b[38;5;132;01m{\u001b[39;00mo\u001b[38;5;241m.\u001b[39m\u001b[38;5;18m__class__\u001b[39m\u001b[38;5;241m.\u001b[39m\u001b[38;5;18m__name__\u001b[39m\u001b[38;5;132;01m}\u001b[39;00m\u001b[38;5;124m \u001b[39m\u001b[38;5;124m'\u001b[39m\n\u001b[1;32m    181\u001b[0m                     \u001b[38;5;124mf\u001b[39m\u001b[38;5;124m'\u001b[39m\u001b[38;5;124mis not JSON serializable\u001b[39m\u001b[38;5;124m'\u001b[39m)\n",
      "\u001b[0;31mTypeError\u001b[0m: Object of type ndarray is not JSON serializable"
     ]
    }
   ],
   "source": [
    "import numpy as np\n",
    "\n",
    "arr = np.array([1, 2, 3, 4])\n",
    "with open(\"output2.json\", \"w\", encoding=\"UTF-8\") as file_out:\n",
    "    json.dump(arr, file_out, ensure_ascii=False, indent=2)"
   ]
  },
  {
   "cell_type": "markdown",
   "id": "e89c78f5",
   "metadata": {},
   "source": [
    "# YAML"
   ]
  },
  {
   "cell_type": "markdown",
   "id": "1006df5e",
   "metadata": {},
   "source": [
    "total:\n",
    "\n",
    "    - BS: 1550\n",
    "      IT: 791\n",
    "      id: 11\n",
    "      name: Liverpool\n",
    "      to_id: 1\n",
    "      to_name: LONDON\n",
    "    \n",
    "    - BS: 1510\n",
    "      IT: 793\n",
    "      id: 12\n",
    "      name: Bristol\n",
    "      to_id: 1\n",
    "      to_name: LONDON\n",
    "    \n",
    "    - BS: 1650\n",
    "      IT: 892\n",
    "      id: 14\n",
    "      name: Coventry\n",
    "      to_id: 2\n",
    "      to_name:\n",
    "        new_name: Manchester"
   ]
  },
  {
   "cell_type": "code",
   "execution_count": null,
   "id": "1c03df5a",
   "metadata": {},
   "outputs": [],
   "source": [
    "# []\n",
    "# {}"
   ]
  },
  {
   "cell_type": "code",
   "execution_count": 178,
   "id": "3d1990f0",
   "metadata": {},
   "outputs": [
    {
     "name": "stdout",
     "output_type": "stream",
     "text": [
      "{'total': [{'BS': 1550,\n",
      "            'IT': 791,\n",
      "            'id': 11,\n",
      "            'name': 'Liverpool',\n",
      "            'to_id': 1,\n",
      "            'to_name': 'LONDON'},\n",
      "           {'BS': 1510,\n",
      "            'IT': 793,\n",
      "            'id': 12,\n",
      "            'name': 'Bristol',\n",
      "            'to_id': 1,\n",
      "            'to_name': 'LONDON'},\n",
      "           {'BS': 1650,\n",
      "            'IT': 892,\n",
      "            'id': 14,\n",
      "            'name': 'Coventry',\n",
      "            'to_id': 2,\n",
      "            'to_name': {'new_name': 'Manchester'}}]}\n"
     ]
    }
   ],
   "source": [
    "import yaml\n",
    "from pprint import pprint\n",
    "\n",
    "with open('info.yaml') as f:\n",
    "    templates = yaml.safe_load(f)\n",
    "\n",
    "pprint(templates)"
   ]
  },
  {
   "cell_type": "code",
   "execution_count": 179,
   "id": "e7fa4572",
   "metadata": {},
   "outputs": [
    {
     "name": "stdout",
     "output_type": "stream",
     "text": [
      "access:\n",
      "- switchport mode access\n",
      "- switchport access vlan\n",
      "- switchport nonegotiate\n",
      "- spanning-tree portfast\n",
      "- spanning-tree bpduguard enable\n",
      "trunk:\n",
      "- switchport trunk encapsulation dot1q\n",
      "- switchport mode trunk\n",
      "- switchport trunk native vlan 999\n",
      "- switchport trunk allowed vlan\n",
      "\n"
     ]
    }
   ],
   "source": [
    "import yaml\n",
    "\n",
    "to_yaml = {\n",
    "   'access': ['switchport mode access',\n",
    "              'switchport access vlan',\n",
    "              'switchport nonegotiate',\n",
    "              'spanning-tree portfast',\n",
    "              'spanning-tree bpduguard enable'],\n",
    "   'trunk': ['switchport trunk encapsulation dot1q',\n",
    "             'switchport mode trunk',\n",
    "             'switchport trunk native vlan 999',\n",
    "             'switchport trunk allowed vlan'],\n",
    "}\n",
    "\n",
    "with open('sw_templates.yaml', 'w') as f:\n",
    "    yaml.dump(to_yaml, f)\n",
    "\n",
    "with open('sw_templates.yaml') as f:\n",
    "    print(f.read())"
   ]
  },
  {
   "cell_type": "markdown",
   "id": "a44fd563",
   "metadata": {},
   "source": [
    "# CSV"
   ]
  },
  {
   "cell_type": "markdown",
   "id": "fd3dd61c",
   "metadata": {},
   "source": [
    "hostname, vendor, model, location\n",
    "\n",
    "sw1, Cisco, 3750, London\n",
    "\n",
    "sw2, Cisco, 3850, Liverpool\n",
    "\n",
    "sw3, Cisco, 3650, Liverpool\n",
    "\n",
    "sw4, Cisco, 3650, London"
   ]
  },
  {
   "cell_type": "markdown",
   "id": "cf3e0a75",
   "metadata": {},
   "source": [
    "### Пример чтения"
   ]
  },
  {
   "cell_type": "code",
   "execution_count": 180,
   "id": "d59dd38c",
   "metadata": {},
   "outputs": [
    {
     "name": "stdout",
     "output_type": "stream",
     "text": [
      "['hostname', 'vendor', 'model', 'location']\n",
      "['sw1', 'Cisco', '3750', 'London']\n",
      "['sw2', 'Cisco', '3850', 'Liverpool']\n",
      "['sw3', 'Cisco', '3650', 'Liverpool']\n",
      "['sw4', 'Cisco', '3650', 'London']\n"
     ]
    }
   ],
   "source": [
    "import csv\n",
    "\n",
    "with open('data.csv') as f:\n",
    "    reader = csv.reader(f)\n",
    "    for row in reader:\n",
    "        print(row)"
   ]
  },
  {
   "cell_type": "markdown",
   "id": "846f6ca1",
   "metadata": {},
   "source": [
    "### reader - итератор"
   ]
  },
  {
   "cell_type": "code",
   "execution_count": 181,
   "id": "5dc5c580",
   "metadata": {},
   "outputs": [
    {
     "name": "stdout",
     "output_type": "stream",
     "text": [
      "<_csv.reader object at 0x10b6fa3b0>\n"
     ]
    }
   ],
   "source": [
    "import csv\n",
    "\n",
    "with open('data.csv') as f:\n",
    "    reader = csv.reader(f)\n",
    "    print(reader)"
   ]
  },
  {
   "cell_type": "code",
   "execution_count": 182,
   "id": "843ea33a",
   "metadata": {},
   "outputs": [
    {
     "name": "stdout",
     "output_type": "stream",
     "text": [
      "[['hostname', 'vendor', 'model', 'location'], ['sw1', 'Cisco', '3750', 'London'], ['sw2', 'Cisco', '3850', 'Liverpool'], ['sw3', 'Cisco', '3650', 'Liverpool'], ['sw4', 'Cisco', '3650', 'London']]\n"
     ]
    }
   ],
   "source": [
    "import csv\n",
    "\n",
    "with open('data.csv') as f:\n",
    "    reader = csv.reader(f)\n",
    "    print(list(reader))"
   ]
  },
  {
   "cell_type": "markdown",
   "id": "a7d96a6c",
   "metadata": {},
   "source": [
    "### Получение заголовков отдельно"
   ]
  },
  {
   "cell_type": "code",
   "execution_count": 183,
   "id": "62b29a7b",
   "metadata": {},
   "outputs": [
    {
     "name": "stdout",
     "output_type": "stream",
     "text": [
      "Headers:  ['hostname', 'vendor', 'model', 'location']\n",
      "['sw1', 'Cisco', '3750', 'London']\n",
      "['sw2', 'Cisco', '3850', 'Liverpool']\n",
      "['sw3', 'Cisco', '3650', 'Liverpool']\n",
      "['sw4', 'Cisco', '3650', 'London']\n"
     ]
    }
   ],
   "source": [
    "import csv\n",
    "\n",
    "with open('data.csv') as f:\n",
    "    reader = csv.reader(f)\n",
    "    headers = next(reader)\n",
    "    print('Headers: ', headers)\n",
    "    for row in reader:\n",
    "        print(row)"
   ]
  },
  {
   "cell_type": "markdown",
   "id": "8a7002d6",
   "metadata": {},
   "source": [
    "### Получение в виде словарей"
   ]
  },
  {
   "cell_type": "code",
   "execution_count": 184,
   "id": "dba13ae8",
   "metadata": {},
   "outputs": [
    {
     "name": "stdout",
     "output_type": "stream",
     "text": [
      "{'hostname': 'sw1', 'vendor': 'Cisco', 'model': '3750', 'location': 'London'}\n",
      "sw1 3750\n",
      "{'hostname': 'sw2', 'vendor': 'Cisco', 'model': '3850', 'location': 'Liverpool'}\n",
      "sw2 3850\n",
      "{'hostname': 'sw3', 'vendor': 'Cisco', 'model': '3650', 'location': 'Liverpool'}\n",
      "sw3 3650\n",
      "{'hostname': 'sw4', 'vendor': 'Cisco', 'model': '3650', 'location': 'London'}\n",
      "sw4 3650\n"
     ]
    }
   ],
   "source": [
    "import csv\n",
    "\n",
    "with open('data.csv') as f:\n",
    "    reader = csv.DictReader(f)\n",
    "    for row in reader:\n",
    "        print(row)\n",
    "        print(row['hostname'], row['model'])"
   ]
  },
  {
   "cell_type": "markdown",
   "id": "cdba7222",
   "metadata": {},
   "source": [
    "### Запись"
   ]
  },
  {
   "cell_type": "code",
   "execution_count": 185,
   "id": "f10e30b3",
   "metadata": {},
   "outputs": [
    {
     "name": "stdout",
     "output_type": "stream",
     "text": [
      "hostname,vendor,model,location\n",
      "sw1,Cisco,3750,\"London, Best str\"\n",
      "sw2,Cisco,3850,\"Liverpool, Better str\"\n",
      "sw3,Cisco,3650,\"Liverpool, Better str\"\n",
      "sw4,Cisco,3650,\"London, Best str\"\n",
      "\n"
     ]
    }
   ],
   "source": [
    "import csv\n",
    "\n",
    "data = [['hostname', 'vendor', 'model', 'location'],\n",
    "        ['sw1', 'Cisco', '3750', 'London, Best str'],\n",
    "        ['sw2', 'Cisco', '3850', 'Liverpool, Better str'],\n",
    "        ['sw3', 'Cisco', '3650', 'Liverpool, Better str'],\n",
    "        ['sw4', 'Cisco', '3650', 'London, Best str']]\n",
    "\n",
    "\n",
    "with open('sw_data_new.csv', 'w') as f:\n",
    "    writer = csv.writer(f)\n",
    "    for row in data:\n",
    "        writer.writerow(row)\n",
    "\n",
    "with open('sw_data_new.csv') as f:\n",
    "    print(f.read())"
   ]
  },
  {
   "cell_type": "markdown",
   "id": "fbfe8c0d",
   "metadata": {},
   "source": [
    "### Как добавить кавычки во всех строковых данных"
   ]
  },
  {
   "cell_type": "code",
   "execution_count": 186,
   "id": "e3ab97f3",
   "metadata": {},
   "outputs": [
    {
     "name": "stdout",
     "output_type": "stream",
     "text": [
      "\"hostname\",\"vendor\",\"model\",\"location\"\n",
      "\"sw1\",\"Cisco\",\"3750\",\"London, Best str\"\n",
      "\"sw2\",\"Cisco\",\"3850\",\"Liverpool, Better str\"\n",
      "\"sw3\",\"Cisco\",\"3650\",\"Liverpool, Better str\"\n",
      "\"sw4\",\"Cisco\",\"3650\",\"London, Best str\"\n",
      "\n"
     ]
    }
   ],
   "source": [
    "import csv\n",
    "\n",
    "\n",
    "data = [['hostname', 'vendor', 'model', 'location'],\n",
    "        ['sw1', 'Cisco', '3750', 'London, Best str'],\n",
    "        ['sw2', 'Cisco', '3850', 'Liverpool, Better str'],\n",
    "        ['sw3', 'Cisco', '3650', 'Liverpool, Better str'],\n",
    "        ['sw4', 'Cisco', '3650', 'London, Best str']]\n",
    "\n",
    "\n",
    "with open('sw_data_new.csv', 'w') as f:\n",
    "    writer = csv.writer(f, quoting=csv.QUOTE_NONNUMERIC)\n",
    "    for row in data:\n",
    "        writer.writerow(row)\n",
    "\n",
    "with open('sw_data_new.csv') as f:\n",
    "    print(f.read())"
   ]
  },
  {
   "cell_type": "markdown",
   "id": "2edff4f9",
   "metadata": {},
   "source": [
    "### Упрощенная запись в файл"
   ]
  },
  {
   "cell_type": "code",
   "execution_count": 187,
   "id": "03f30866",
   "metadata": {},
   "outputs": [
    {
     "name": "stdout",
     "output_type": "stream",
     "text": [
      "\"hostname\",\"vendor\",\"model\",\"location\"\n",
      "\"sw1\",\"Cisco\",\"3750\",\"London, Best str\"\n",
      "\"sw2\",\"Cisco\",\"3850\",\"Liverpool, Better str\"\n",
      "\"sw3\",\"Cisco\",\"3650\",\"Liverpool, Better str\"\n",
      "\"sw4\",\"Cisco\",\"3650\",\"London, Best str\"\n",
      "\n"
     ]
    }
   ],
   "source": [
    "import csv\n",
    "\n",
    "data = [['hostname', 'vendor', 'model', 'location'],\n",
    "        ['sw1', 'Cisco', '3750', 'London, Best str'],\n",
    "        ['sw2', 'Cisco', '3850', 'Liverpool, Better str'],\n",
    "        ['sw3', 'Cisco', '3650', 'Liverpool, Better str'],\n",
    "        ['sw4', 'Cisco', '3650', 'London, Best str']]\n",
    "\n",
    "\n",
    "with open('sw_data_new.csv', 'w') as f:\n",
    "    writer = csv.writer(f, quoting=csv.QUOTE_NONNUMERIC)\n",
    "    writer.writerows(data)\n",
    "\n",
    "with open('sw_data_new.csv') as f:\n",
    "    print(f.read())"
   ]
  },
  {
   "cell_type": "markdown",
   "id": "7d55bfa2",
   "metadata": {},
   "source": [
    "### Запись из словаря"
   ]
  },
  {
   "cell_type": "code",
   "execution_count": 188,
   "id": "b0911513",
   "metadata": {},
   "outputs": [
    {
     "name": "stdout",
     "output_type": "stream",
     "text": [
      "\"hostname\",\"location\",\"model\",\"vendor\"\n",
      "\"sw1\",\"London\",\"3750\",\"Cisco\"\n",
      "\"sw2\",\"Liverpool\",\"3850\",\"Cisco\"\n",
      "\"sw3\",\"Liverpool\",\"3650\",\"Cisco\"\n",
      "\"sw4\",\"London\",\"3650\",\"Cisco\"\n",
      "\n"
     ]
    }
   ],
   "source": [
    "import csv\n",
    "\n",
    "data = [{\n",
    "    'hostname': 'sw1',\n",
    "    'location': 'London',\n",
    "    'model': '3750',\n",
    "    'vendor': 'Cisco'\n",
    "}, {\n",
    "    'hostname': 'sw2',\n",
    "    'location': 'Liverpool',\n",
    "    'model': '3850',\n",
    "    'vendor': 'Cisco'\n",
    "}, {\n",
    "    'hostname': 'sw3',\n",
    "    'location': 'Liverpool',\n",
    "    'model': '3650',\n",
    "    'vendor': 'Cisco'\n",
    "}, {\n",
    "    'hostname': 'sw4',\n",
    "    'location': 'London',\n",
    "    'model': '3650',\n",
    "    'vendor': 'Cisco'\n",
    "}]\n",
    "\n",
    "with open('csv_write_dictwriter.csv', 'w') as f:\n",
    "    writer = csv.DictWriter(\n",
    "        f, fieldnames=list(data[0].keys()), quoting=csv.QUOTE_NONNUMERIC)\n",
    "    writer.writeheader()\n",
    "    for d in data:\n",
    "        writer.writerow(d)\n",
    "        \n",
    "with open('csv_write_dictwriter.csv') as f:\n",
    "    print(f.read())"
   ]
  },
  {
   "cell_type": "markdown",
   "id": "6d1a1124",
   "metadata": {},
   "source": [
    "hostname;vendor;model;location\n",
    "\n",
    "sw1;Cisco;3750;London\n",
    "\n",
    "sw2;Cisco;3850;Liverpool\n",
    "\n",
    "sw3;Cisco;3650;Liverpool\n",
    "\n",
    "sw4;Cisco;3650;London"
   ]
  },
  {
   "cell_type": "code",
   "execution_count": 189,
   "id": "fae89613",
   "metadata": {},
   "outputs": [
    {
     "name": "stdout",
     "output_type": "stream",
     "text": [
      "['hostname', 'vendor', 'model', 'location']\n",
      "['sw1', 'Cisco', '3750', 'London']\n",
      "['sw2', 'Cisco', '3850', 'Liverpool']\n",
      "['sw3', 'Cisco', '3650', 'Liverpool']\n",
      "['sw4', 'Cisco', '3650', 'London']\n"
     ]
    }
   ],
   "source": [
    "import csv\n",
    "\n",
    "with open('sw_data2.csv') as f:\n",
    "    reader = csv.reader(f, delimiter=';')\n",
    "    for row in reader:\n",
    "        print(row)"
   ]
  },
  {
   "cell_type": "code",
   "execution_count": null,
   "id": "c4edf66a",
   "metadata": {},
   "outputs": [],
   "source": []
  },
  {
   "cell_type": "code",
   "execution_count": null,
   "id": "7bdc6ac5",
   "metadata": {},
   "outputs": [],
   "source": []
  },
  {
   "cell_type": "code",
   "execution_count": null,
   "id": "dc2f57e6",
   "metadata": {},
   "outputs": [],
   "source": []
  },
  {
   "cell_type": "code",
   "execution_count": null,
   "id": "7b2d7de2",
   "metadata": {},
   "outputs": [],
   "source": []
  },
  {
   "cell_type": "code",
   "execution_count": null,
   "id": "c66ecbfa",
   "metadata": {},
   "outputs": [],
   "source": []
  },
  {
   "cell_type": "code",
   "execution_count": null,
   "id": "298ced6e",
   "metadata": {},
   "outputs": [],
   "source": []
  },
  {
   "cell_type": "code",
   "execution_count": null,
   "id": "274b7262",
   "metadata": {},
   "outputs": [],
   "source": []
  },
  {
   "cell_type": "code",
   "execution_count": null,
   "id": "57ba425e",
   "metadata": {},
   "outputs": [],
   "source": []
  }
 ],
 "metadata": {
  "kernelspec": {
   "display_name": "Python 3 (ipykernel)",
   "language": "python",
   "name": "python3"
  },
  "language_info": {
   "codemirror_mode": {
    "name": "ipython",
    "version": 3
   },
   "file_extension": ".py",
   "mimetype": "text/x-python",
   "name": "python",
   "nbconvert_exporter": "python",
   "pygments_lexer": "ipython3",
   "version": "3.11.1"
  }
 },
 "nbformat": 4,
 "nbformat_minor": 5
}
