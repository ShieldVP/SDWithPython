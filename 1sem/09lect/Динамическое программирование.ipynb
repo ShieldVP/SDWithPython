{
 "cells": [
  {
   "cell_type": "markdown",
   "id": "70444eb9",
   "metadata": {},
   "source": [
    "# Динамическое программирование\n",
    "\n",
    "**Динамическое программирование** — метод решения задачи путём её разбиения на несколько одинаковых подзадач, рекуррентно связанных между собой\n",
    "\n",
    "Решение должно содержать следующее:\n",
    "* Зависимость элементов динамики друг от друга\n",
    "* Значение начальных состояний\n",
    "\n",
    "![](src/1.png)"
   ]
  },
  {
   "cell_type": "markdown",
   "id": "ab1e457d",
   "metadata": {},
   "source": [
    "## Числа Фибоначчи\n",
    "\n",
    "### Рекурсивное решение"
   ]
  },
  {
   "cell_type": "code",
   "execution_count": 1,
   "id": "a326a799",
   "metadata": {},
   "outputs": [],
   "source": [
    "# F(n) = F(n - 1) + F(n - 2)\n",
    "# 1 1 2 3 5 ...\n",
    "\n",
    "def fib(n):\n",
    "    if n == 0 or n == 1:\n",
    "        return\n",
    "    return fib(n - 2) + fib(n - 1)"
   ]
  },
  {
   "cell_type": "code",
   "execution_count": null,
   "id": "650d1daa",
   "metadata": {},
   "outputs": [],
   "source": [
    "# n = 4\n",
    "# n = 2\n",
    "# n = 0 -> 1\n",
    "# n = 1 -> 1\n",
    "# n = 2 -> 2\n",
    "# n = 3\n",
    "# n = 1 -> 1\n",
    "# n = 2\n",
    "# n = 0 -> 1\n",
    "# n = 1 -> 1\n",
    "# n = 2 -> 2\n",
    "# n = 3 "
   ]
  },
  {
   "cell_type": "code",
   "execution_count": 2,
   "id": "65ba8e11",
   "metadata": {},
   "outputs": [
    {
     "data": {
      "text/plain": [
       "(5, 21, 34)"
      ]
     },
     "execution_count": 2,
     "metadata": {},
     "output_type": "execute_result"
    }
   ],
   "source": [
    "fib(4), fib(7), fib(8)"
   ]
  },
  {
   "cell_type": "code",
   "execution_count": 3,
   "id": "cd18b30f",
   "metadata": {},
   "outputs": [
    {
     "name": "stdout",
     "output_type": "stream",
     "text": [
      "1346269\n",
      "Time 0.13106822967529297\n"
     ]
    }
   ],
   "source": [
    "import time\n",
    "\n",
    "t = time.time()\n",
    "print(fib(30))\n",
    "print('Time',time.time() - t)"
   ]
  },
  {
   "cell_type": "markdown",
   "id": "cbe11f67",
   "metadata": {},
   "source": [
    "### Рекурсивное решение с кэшированием значений"
   ]
  },
  {
   "cell_type": "code",
   "execution_count": 9,
   "id": "c1f19e9e",
   "metadata": {},
   "outputs": [],
   "source": [
    "hash_map = {}\n",
    "\n",
    "def fib_cache(n):\n",
    "    if n == 0 or n == 1:\n",
    "        return 1\n",
    "\n",
    "    if n - 1 not in hash_map:\n",
    "        hash_map[n - 1] = fib_cache(n - 1)\n",
    "    if n - 2 not in hash_map:\n",
    "        hash_map[n - 2] = fib_cache(n - 2)\n",
    "\n",
    "    return hash_map[n - 1] + hash_map[n - 2]"
   ]
  },
  {
   "cell_type": "code",
   "execution_count": 10,
   "id": "4951598a",
   "metadata": {},
   "outputs": [
    {
     "name": "stdout",
     "output_type": "stream",
     "text": [
      "1346269\n",
      "Time 0.00015926361083984375\n"
     ]
    }
   ],
   "source": [
    "import time\n",
    "\n",
    "t = time.time()\n",
    "print(fib_cache(30))\n",
    "print('Time',time.time() - t)"
   ]
  },
  {
   "cell_type": "code",
   "execution_count": 11,
   "id": "3eb5c7b5",
   "metadata": {},
   "outputs": [
    {
     "data": {
      "text/plain": [
       "{1: 1,\n",
       " 0: 1,\n",
       " 2: 2,\n",
       " 3: 3,\n",
       " 4: 5,\n",
       " 5: 8,\n",
       " 6: 13,\n",
       " 7: 21,\n",
       " 8: 34,\n",
       " 9: 55,\n",
       " 10: 89,\n",
       " 11: 144,\n",
       " 12: 233,\n",
       " 13: 377,\n",
       " 14: 610,\n",
       " 15: 987,\n",
       " 16: 1597,\n",
       " 17: 2584,\n",
       " 18: 4181,\n",
       " 19: 6765,\n",
       " 20: 10946,\n",
       " 21: 17711,\n",
       " 22: 28657,\n",
       " 23: 46368,\n",
       " 24: 75025,\n",
       " 25: 121393,\n",
       " 26: 196418,\n",
       " 27: 317811,\n",
       " 28: 514229,\n",
       " 29: 832040}"
      ]
     },
     "execution_count": 11,
     "metadata": {},
     "output_type": "execute_result"
    }
   ],
   "source": [
    "hash_map"
   ]
  },
  {
   "cell_type": "markdown",
   "id": "ac23abfc",
   "metadata": {},
   "source": [
    "### Последовательное решение"
   ]
  },
  {
   "cell_type": "code",
   "execution_count": 12,
   "id": "eaf3cc35",
   "metadata": {},
   "outputs": [],
   "source": [
    "def fib_posl(n):\n",
    "    if n < 2:\n",
    "        return 1\n",
    "    \n",
    "    fib_arr = [1, 1]\n",
    "    for i in range(2, n + 1):\n",
    "        fib_arr.append(fib_arr[i - 1] + fib_arr[i - 2])\n",
    "    return fib_arr[-1]"
   ]
  },
  {
   "cell_type": "code",
   "execution_count": 14,
   "id": "f9336ec8",
   "metadata": {},
   "outputs": [
    {
     "name": "stdout",
     "output_type": "stream",
     "text": [
      "1346269\n",
      "Time 0.0002231597900390625\n"
     ]
    }
   ],
   "source": [
    "import time\n",
    "\n",
    "t = time.time()\n",
    "print(fib_posl(30))\n",
    "print('Time',time.time() - t)"
   ]
  },
  {
   "cell_type": "code",
   "execution_count": 15,
   "id": "22a2f073",
   "metadata": {},
   "outputs": [
    {
     "name": "stdout",
     "output_type": "stream",
     "text": [
      "70330367711422815821835254877183549770181269836358732742604905087154537118196933579742249494562611733487750449241765991088186363265450223647106012053374121273867339111198139373125598767690091902245245323403501\n",
      "Time 0.001316070556640625\n"
     ]
    }
   ],
   "source": [
    "import time\n",
    "\n",
    "t = time.time()\n",
    "print(fib_posl(1000))\n",
    "print('Time',time.time() - t)"
   ]
  },
  {
   "cell_type": "markdown",
   "id": "22e5c0f6",
   "metadata": {},
   "source": [
    "### Создание стека индексов"
   ]
  },
  {
   "cell_type": "code",
   "execution_count": 17,
   "id": "1999466d",
   "metadata": {},
   "outputs": [],
   "source": [
    "def fib_stack_index(n):\n",
    "    values = {0: 1, 1: 1}\n",
    "    \n",
    "    stack = list([n])\n",
    "    queue = set([n])\n",
    "    while len(queue) > 0:\n",
    "        d = max(queue)\n",
    "        queue.remove(d)\n",
    "        \n",
    "        if d - 1 > 1:\n",
    "            stack.append(d - 1)\n",
    "            queue.add(d - 1)\n",
    "        if d - 2 > 1:\n",
    "            stack.append(d - 2)\n",
    "            queue.add(d - 2)\n",
    "\n",
    "    while len(stack) > 0:\n",
    "        num = stack.pop()\n",
    "        if num not in values:\n",
    "            value = values[num - 1] + values[num - 2]\n",
    "            values[num] = value\n",
    "    return values[n]"
   ]
  },
  {
   "cell_type": "code",
   "execution_count": 18,
   "id": "4149bb0a",
   "metadata": {},
   "outputs": [
    {
     "name": "stdout",
     "output_type": "stream",
     "text": [
      "1346269\n",
      "Time 0.0006659030914306641\n"
     ]
    }
   ],
   "source": [
    "import time\n",
    "\n",
    "t = time.time()\n",
    "print(fib_stack_index(30))\n",
    "print('Time',time.time() - t)"
   ]
  },
  {
   "cell_type": "markdown",
   "id": "cf545986",
   "metadata": {},
   "source": [
    "## Игра в камни\n",
    "\n",
    "![](src/2.png)\n",
    "\n",
    "![](src/3.png)\n",
    "\n",
    "![](src/4.png)\n",
    "\n",
    "![](src/5.png)\n",
    "\n",
    "![](src/6.png)"
   ]
  },
  {
   "cell_type": "code",
   "execution_count": 19,
   "id": "efc951ac",
   "metadata": {},
   "outputs": [],
   "source": [
    "cache = {}\n",
    "\n",
    "# W - 1\n",
    "# L - 2\n",
    "def rocks(n, m):\n",
    "    cache[(0, 0)] = 2\n",
    "    \n",
    "    for i in range(1, n + 1):\n",
    "        if cache[(i - 1, 0)] == 1:\n",
    "            cache[(i, 0)] = 2\n",
    "        else:\n",
    "            cache[(i, 0)] = 1\n",
    "    for j in range(1, m + 1):\n",
    "        if cache[(0,j-1)] == 1:\n",
    "            cache[(0,j)] = 2\n",
    "        else:\n",
    "            cache[(0,j)] = 1\n",
    "    for i in range(1, n + 1):\n",
    "        for j in range(1, m + 1):\n",
    "            if cache[(i-1,j-1)]==1 and cache[(i,j-1)]==1 and cache[(i-1,j)]==1:\n",
    "                cache[(i,j)] = 2\n",
    "            else:\n",
    "                cache[(i,j)] = 1\n",
    "    return cache[(n,m)]"
   ]
  },
  {
   "cell_type": "code",
   "execution_count": 21,
   "id": "cf2833c6",
   "metadata": {},
   "outputs": [
    {
     "data": {
      "text/plain": [
       "2"
      ]
     },
     "execution_count": 21,
     "metadata": {},
     "output_type": "execute_result"
    }
   ],
   "source": [
    "rocks(10, 10)"
   ]
  },
  {
   "cell_type": "code",
   "execution_count": 22,
   "id": "fb0c91fc",
   "metadata": {},
   "outputs": [
    {
     "data": {
      "text/plain": [
       "1"
      ]
     },
     "execution_count": 22,
     "metadata": {},
     "output_type": "execute_result"
    }
   ],
   "source": [
    "rocks(10, 9)"
   ]
  },
  {
   "cell_type": "markdown",
   "id": "b2747f15",
   "metadata": {},
   "source": [
    "### Оптимизированный алгоритм"
   ]
  },
  {
   "cell_type": "code",
   "execution_count": 24,
   "id": "4b2ca26f",
   "metadata": {},
   "outputs": [],
   "source": [
    "def fast_rocks(n, m):\n",
    "    if n % 2 == 0 and m % 2 == 0:\n",
    "        return 2\n",
    "    else:\n",
    "        return 1"
   ]
  },
  {
   "cell_type": "code",
   "execution_count": 26,
   "id": "ba5579a9",
   "metadata": {},
   "outputs": [
    {
     "data": {
      "text/plain": [
       "2"
      ]
     },
     "execution_count": 26,
     "metadata": {},
     "output_type": "execute_result"
    }
   ],
   "source": [
    "fast_rocks(10, 10)"
   ]
  },
  {
   "cell_type": "code",
   "execution_count": 27,
   "id": "574b378b",
   "metadata": {},
   "outputs": [
    {
     "data": {
      "text/plain": [
       "1"
      ]
     },
     "execution_count": 27,
     "metadata": {},
     "output_type": "execute_result"
    }
   ],
   "source": [
    "fast_rocks(10, 9)"
   ]
  },
  {
   "cell_type": "markdown",
   "id": "95e8d33a",
   "metadata": {},
   "source": [
    "## Задачи с двухмерными таблицами\n",
    "\n",
    "![](src/7.png)\n",
    "\n",
    "\n",
    "![](src/8.png)\n",
    "![](src/9.png)\n",
    "![](src/10.png)\n",
    "![](src/11.png)\n",
    "![](src/12.png)\n",
    "![](src/13.png)\n",
    "![](src/14.png)\n",
    "![](src/15.png)"
   ]
  },
  {
   "cell_type": "code",
   "execution_count": 28,
   "id": "88908cec",
   "metadata": {},
   "outputs": [],
   "source": [
    "def edit_distance(s1, s2):\n",
    "    m, n = len(s1), len(s2)\n",
    "    dp = [[0] * (n+1) for _ in range(m+1)]\n",
    "\n",
    "    for i in range(m+1):\n",
    "        for j in range(n+1):\n",
    "            if i == 0:\n",
    "                dp[i][j] = j\n",
    "            elif j == 0:\n",
    "                dp[i][j] = i\n",
    "            elif s1[i-1] == s2[j-1]:\n",
    "                dp[i][j] = dp[i-1][j-1]\n",
    "            else:\n",
    "                dp[i][j] = 1 + min(dp[i-1][j], dp[i][j-1], dp[i-1][j-1])\n",
    "\n",
    "    return dp[m][n]"
   ]
  },
  {
   "cell_type": "code",
   "execution_count": 29,
   "id": "10bef8f6",
   "metadata": {},
   "outputs": [
    {
     "data": {
      "text/plain": [
       "3"
      ]
     },
     "execution_count": 29,
     "metadata": {},
     "output_type": "execute_result"
    }
   ],
   "source": [
    "edit_distance('sunday', 'saturday')"
   ]
  },
  {
   "cell_type": "code",
   "execution_count": 30,
   "id": "70f6cc8f",
   "metadata": {},
   "outputs": [
    {
     "data": {
      "text/plain": [
       "0"
      ]
     },
     "execution_count": 30,
     "metadata": {},
     "output_type": "execute_result"
    }
   ],
   "source": [
    "edit_distance('sunday', 'sunday')"
   ]
  },
  {
   "cell_type": "code",
   "execution_count": 31,
   "id": "4fac2ae0",
   "metadata": {},
   "outputs": [
    {
     "data": {
      "text/plain": [
       "1"
      ]
     },
     "execution_count": 31,
     "metadata": {},
     "output_type": "execute_result"
    }
   ],
   "source": [
    "edit_distance('sunday', 'bunday')"
   ]
  },
  {
   "cell_type": "code",
   "execution_count": 32,
   "id": "7ebb8d4a",
   "metadata": {},
   "outputs": [
    {
     "data": {
      "text/plain": [
       "2"
      ]
     },
     "execution_count": 32,
     "metadata": {},
     "output_type": "execute_result"
    }
   ],
   "source": [
    "edit_distance('sunday', 'bunsday')"
   ]
  },
  {
   "cell_type": "markdown",
   "id": "96f0f026",
   "metadata": {},
   "source": [
    "### Самая длинная подпоследовательность\n",
    "\n",
    "![](src/16.png)\n",
    "![](src/17.png)\n",
    "![](src/18.png)"
   ]
  },
  {
   "cell_type": "code",
   "execution_count": 33,
   "id": "cf83d935",
   "metadata": {},
   "outputs": [],
   "source": [
    "def lcs(s1, s2):\n",
    "    m, n = len(s1), len(s2)\n",
    "    dp = [[0] * (n+1) for _ in range(m+1)]\n",
    "\n",
    "    for i in range(1, m+1):\n",
    "        for j in range(1, n+1):\n",
    "            if s1[i-1] == s2[j-1]:\n",
    "                dp[i][j] = dp[i-1][j-1] + 1\n",
    "            else:\n",
    "                dp[i][j] = max(dp[i-1][j], dp[i][j-1])\n",
    "    return dp[m][n]"
   ]
  },
  {
   "cell_type": "code",
   "execution_count": 34,
   "id": "2f949518",
   "metadata": {},
   "outputs": [
    {
     "data": {
      "text/plain": [
       "5"
      ]
     },
     "execution_count": 34,
     "metadata": {},
     "output_type": "execute_result"
    }
   ],
   "source": [
    "lcs('harbour', 'habrahabr')"
   ]
  },
  {
   "cell_type": "code",
   "execution_count": 35,
   "id": "c13e9156",
   "metadata": {},
   "outputs": [
    {
     "data": {
      "text/plain": [
       "4"
      ]
     },
     "execution_count": 35,
     "metadata": {},
     "output_type": "execute_result"
    }
   ],
   "source": [
    "lcs('gakahara', 'hagara')"
   ]
  },
  {
   "cell_type": "code",
   "execution_count": null,
   "id": "b4c21c2f",
   "metadata": {},
   "outputs": [],
   "source": []
  }
 ],
 "metadata": {
  "kernelspec": {
   "display_name": "Python 3 (ipykernel)",
   "language": "python",
   "name": "python3"
  },
  "language_info": {
   "codemirror_mode": {
    "name": "ipython",
    "version": 3
   },
   "file_extension": ".py",
   "mimetype": "text/x-python",
   "name": "python",
   "nbconvert_exporter": "python",
   "pygments_lexer": "ipython3",
   "version": "3.11.1"
  }
 },
 "nbformat": 4,
 "nbformat_minor": 5
}
