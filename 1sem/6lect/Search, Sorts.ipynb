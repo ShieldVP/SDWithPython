{
 "cells": [
  {
   "cell_type": "markdown",
   "id": "c5c827dd",
   "metadata": {},
   "source": [
    "# Алгоритмы\n",
    "\n",
    "**Алгоритм** – это совокупность действий, приводящих к достижению результата за конечное число шагов.\n",
    "\n",
    "\n",
    "**Свойства алгоритмов:**\n",
    "* **Дискретность** (от лат. discretus — разделенный, прерывистый) – это разбиение алгоритма на ряд отдельных законченных действий (шагов).\n",
    "* **Детерминированность** (от лат. determinate — определенность, точность) - любое действие алгоритма должно быть строго и недвусмысленно определено в каждом случае.\n",
    "* **Конечность** – каждое действие в отдельности и алгоритм в целом должны иметь возможность завершения.\n",
    "* **Массовость** – один и тот же алгоритм можно использовать с разными исходными данными.\n",
    "* **Результативность** – алгоритм должен приводить к достоверному решению.\n"
   ]
  },
  {
   "cell_type": "markdown",
   "id": "45bce279",
   "metadata": {},
   "source": [
    "# Сложности алгоритмов\n",
    "\n",
    "**Сложность алгоритма** - это количественная характеристика, которая говорит о том, сколько времени, либо какой объём памяти потребуется для выполнения алгоритма\n",
    "\n",
    "**Big O** показывает то, как сложность алгоритма растёт с увеличением входных данных. При этом она всегда показывает худший вариант развития событий - верхнюю границу.\n",
    "\n",
    "![](src/3.png)\n",
    "\n",
    "![](src/4.png)\n",
    "\n",
    "![](src/2.png)"
   ]
  },
  {
   "cell_type": "markdown",
   "id": "df3dfd2e",
   "metadata": {},
   "source": [
    "# Распространённые сложности алгоритмов\n",
    "\n",
    "## Константная - O(1)."
   ]
  },
  {
   "cell_type": "code",
   "execution_count": 1,
   "id": "b6f9f96d",
   "metadata": {},
   "outputs": [
    {
     "data": {
      "text/plain": [
       "1"
      ]
     },
     "execution_count": 1,
     "metadata": {},
     "output_type": "execute_result"
    }
   ],
   "source": [
    "nums = [1, 2, 3, 4, 5]\n",
    "first_number = nums[0]\n",
    "\n",
    "first_number"
   ]
  },
  {
   "cell_type": "code",
   "execution_count": 2,
   "id": "129b5a30",
   "metadata": {},
   "outputs": [
    {
     "data": {
      "text/plain": [
       "11"
      ]
     },
     "execution_count": 2,
     "metadata": {},
     "output_type": "execute_result"
    }
   ],
   "source": [
    "def plus(a, b):\n",
    "    return a + b\n",
    "\n",
    "plus(5, 6)"
   ]
  },
  {
   "cell_type": "markdown",
   "id": "90b20d0a",
   "metadata": {},
   "source": [
    "## Линейная - O(n)."
   ]
  },
  {
   "cell_type": "code",
   "execution_count": 3,
   "id": "2f5d4d4f",
   "metadata": {},
   "outputs": [
    {
     "data": {
      "text/plain": [
       "15"
      ]
     },
     "execution_count": 3,
     "metadata": {},
     "output_type": "execute_result"
    }
   ],
   "source": [
    "def s(n):\n",
    "    if (n == 1):\n",
    "        return 1\n",
    "    return n + s(n - 1)\n",
    "\n",
    "s(5)"
   ]
  },
  {
   "cell_type": "markdown",
   "id": "187a5b54",
   "metadata": {},
   "source": [
    "### O(2n) = O(n)"
   ]
  },
  {
   "cell_type": "code",
   "execution_count": 4,
   "id": "acfeeeb4",
   "metadata": {},
   "outputs": [
    {
     "name": "stdout",
     "output_type": "stream",
     "text": [
      "10 24\n"
     ]
    }
   ],
   "source": [
    "def s(nums):\n",
    "    result = 0\n",
    "    product = 1\n",
    "\n",
    "    for num in nums:\n",
    "        result += num\n",
    "\n",
    "    for num in nums:\n",
    "        product *= num\n",
    "\n",
    "    print(result, product)\n",
    "    \n",
    "s([1, 2, 3 ,4])"
   ]
  },
  {
   "cell_type": "markdown",
   "id": "cc372a73",
   "metadata": {},
   "source": [
    "## Логарифмическая - O(log n)\n",
    "Сложность растет логарифмически, пример - бинарный поиск (о нем дальше)\n",
    "\n",
    "## Линеарифметическая или линеаризованная - O(n * log n)\n",
    "Удвоение размера входных данных увеличит время выполнения чуть более, чем вдвое. Примеры: Сортировка слиянием или множеством n элементов (о них дальше)\n",
    "\n"
   ]
  },
  {
   "cell_type": "markdown",
   "id": "1391e134",
   "metadata": {},
   "source": [
    "## Квадратичная - O(n^2)"
   ]
  },
  {
   "cell_type": "code",
   "execution_count": 5,
   "id": "61d4667a",
   "metadata": {},
   "outputs": [
    {
     "name": "stdout",
     "output_type": "stream",
     "text": [
      "3 4 5 \n",
      "7 6 3 \n",
      "7 8 5 \n"
     ]
    }
   ],
   "source": [
    "def f(nums):\n",
    "    for i in nums:\n",
    "        for j in i:\n",
    "            print(j, end=' ')\n",
    "        print()\n",
    "        \n",
    "f([[3, 4, 5], [7, 6, 3], [7, 8, 5]])"
   ]
  },
  {
   "cell_type": "markdown",
   "id": "6dd8b017",
   "metadata": {},
   "source": [
    "# Сложности сортировок\n",
    "\n",
    "![](src/1.png)"
   ]
  },
  {
   "cell_type": "markdown",
   "id": "122eb894",
   "metadata": {},
   "source": [
    "# Алгоритмы поиска"
   ]
  },
  {
   "cell_type": "markdown",
   "id": "64083cdd",
   "metadata": {},
   "source": [
    "## Линейный поиск"
   ]
  },
  {
   "cell_type": "code",
   "execution_count": 7,
   "id": "d84fc093",
   "metadata": {},
   "outputs": [
    {
     "data": {
      "text/plain": [
       "-1"
      ]
     },
     "execution_count": 7,
     "metadata": {},
     "output_type": "execute_result"
    }
   ],
   "source": [
    "def search(nums, n):\n",
    "    for i in range(len(nums)):\n",
    "        if nums[i] == n:\n",
    "            return i\n",
    "    return -1\n",
    "\n",
    "search([6, 5, 4, 3, 2], 9)"
   ]
  },
  {
   "cell_type": "code",
   "execution_count": 8,
   "id": "b6c1a3fa",
   "metadata": {},
   "outputs": [
    {
     "data": {
      "text/plain": [
       "3"
      ]
     },
     "execution_count": 8,
     "metadata": {},
     "output_type": "execute_result"
    }
   ],
   "source": [
    "def get_min_index(nums):\n",
    "    result = 0\n",
    "    for i in range(1, len(nums)):\n",
    "        if nums[i] < nums[result]:\n",
    "            result = i\n",
    "    return result\n",
    "\n",
    "get_min_index([6, 5, 4, 3, 20, 500])"
   ]
  },
  {
   "cell_type": "code",
   "execution_count": 9,
   "id": "36864361",
   "metadata": {},
   "outputs": [
    {
     "data": {
      "text/plain": [
       "5"
      ]
     },
     "execution_count": 9,
     "metadata": {},
     "output_type": "execute_result"
    }
   ],
   "source": [
    "def get_max_index(nums):\n",
    "    result = 0\n",
    "    for i in range(1, len(nums)):\n",
    "        if nums[i] > nums[result]:\n",
    "            result = i\n",
    "    return result\n",
    "\n",
    "get_max_index([6, 5, 4, 3, 20, 500])"
   ]
  },
  {
   "cell_type": "code",
   "execution_count": 10,
   "id": "7dcb3e41",
   "metadata": {},
   "outputs": [
    {
     "data": {
      "text/plain": [
       "(3, 5)"
      ]
     },
     "execution_count": 10,
     "metadata": {},
     "output_type": "execute_result"
    }
   ],
   "source": [
    "def get_min_and_max_index(nums):\n",
    "    result_max = 0\n",
    "    result_min = 0\n",
    "    for i in range(1, len(nums)):\n",
    "        if nums[i] > nums[result_max]:\n",
    "            result_max = i\n",
    "        if nums[i] < nums[result_min]:\n",
    "            result_min = i\n",
    "    return result_min, result_max\n",
    "\n",
    "get_min_and_max_index([6, 5, 4, 3, 20, 500])"
   ]
  },
  {
   "cell_type": "markdown",
   "id": "fbfb3ea5",
   "metadata": {},
   "source": [
    "## Бинарный поиск (log n)"
   ]
  },
  {
   "cell_type": "code",
   "execution_count": 11,
   "id": "3335946e",
   "metadata": {},
   "outputs": [
    {
     "name": "stdout",
     "output_type": "stream",
     "text": [
      "Num 50 in list:  True\n",
      "Left 0, M 499, Right 999\n",
      "Left 500, M 749, Right 999\n",
      "Left 500, M 624, Right 749\n",
      "Left 500, M 562, Right 624\n",
      "Left 500, M 531, Right 562\n",
      "Left 500, M 515, Right 531\n",
      "Left 500, M 507, Right 515\n",
      "Left 500, M 503, Right 507\n",
      "Left 504, M 505, Right 507\n",
      "Left 504, M 504, Right 505\n",
      "Number operations: 10\n",
      "Result index: 504 Value by this index: 50\n"
     ]
    }
   ],
   "source": [
    "import random\n",
    "from script import binary_search\n",
    "\n",
    "# result = -1\n",
    "# l = 0\n",
    "# r = len(nums) - 1\n",
    "# while l < r do\n",
    "#   m = (l + r) / 2\n",
    "#   if nums[m] < k\n",
    "#     l = m + 1\n",
    "#   else\n",
    "#     r = m\n",
    "#   end\n",
    "# end\n",
    "#\n",
    "# if nums[r] == k\n",
    "#   result = r\n",
    "# end\n",
    "\n",
    "a = sorted([random.randint(0, 100) for _ in range(1000)])\n",
    "num_to_found = 50\n",
    "# print(a)\n",
    "print(f'Num {num_to_found} in list: ', num_to_found in a)\n",
    "res = binary_search(a, 50)\n",
    "print(f'Result index: {res}', 'Value by this index:', a[res] if res >= 0 else 'Not found')"
   ]
  },
  {
   "cell_type": "markdown",
   "id": "7d779545",
   "metadata": {},
   "source": [
    "## Квадратичные алгоритмы сортировки"
   ]
  },
  {
   "cell_type": "code",
   "execution_count": 12,
   "id": "258debba",
   "metadata": {},
   "outputs": [],
   "source": [
    "from script import swap\n",
    "import random\n",
    "\n",
    "def is_sorted(arr):\n",
    "    for i in range(1, len(arr)):\n",
    "        if arr[i - 1] > arr[i]:\n",
    "            return False\n",
    "    return True"
   ]
  },
  {
   "cell_type": "code",
   "execution_count": 13,
   "id": "b7a6013e",
   "metadata": {},
   "outputs": [
    {
     "name": "stdout",
     "output_type": "stream",
     "text": [
      "[10, 8, 10, 8, 0, 4, 7, 0, 9, 3]\n",
      "False\n",
      "[8, 10, 10, 8, 0, 4, 7, 0, 9, 3]\n",
      "[8, 10, 10, 8, 0, 4, 7, 0, 9, 3]\n",
      "[8, 8, 10, 10, 0, 4, 7, 0, 9, 3]\n",
      "[0, 8, 8, 10, 10, 4, 7, 0, 9, 3]\n",
      "[0, 4, 8, 8, 10, 10, 7, 0, 9, 3]\n",
      "[0, 4, 7, 8, 8, 10, 10, 0, 9, 3]\n",
      "[0, 0, 4, 7, 8, 8, 10, 10, 9, 3]\n",
      "[0, 0, 4, 7, 8, 8, 9, 10, 10, 3]\n",
      "[0, 0, 3, 4, 7, 8, 8, 9, 10, 10]\n",
      "True\n"
     ]
    }
   ],
   "source": [
    "from script import insertion_sort\n",
    "\n",
    "# for i = 1 to len(arr) - 1 do\n",
    "#   key = arr[i]\n",
    "#   j = i - 1\n",
    "#\n",
    "#   while j >= 0 and key < arr[j] do\n",
    "#     arr[j + 1] = arr[j]\n",
    "#     j -= 1\n",
    "#   end\n",
    "#\n",
    "#   arr[j + 1] = key\n",
    "# end\n",
    "\n",
    "a = [random.randint(0, 10) for _ in range(10)]\n",
    "print(a)\n",
    "print(is_sorted(a))\n",
    "insertion_sort(a)\n",
    "print(is_sorted(a))"
   ]
  },
  {
   "cell_type": "code",
   "execution_count": 14,
   "id": "8dd0892c",
   "metadata": {},
   "outputs": [
    {
     "name": "stdout",
     "output_type": "stream",
     "text": [
      "[6, 0, 0, 1, 2, 10, 7, 4, 1, 0]\n",
      "False\n",
      "[0, 6, 0, 1, 2, 10, 7, 4, 1, 0]\n",
      "[0, 0, 6, 1, 2, 10, 7, 4, 1, 0]\n",
      "[0, 0, 1, 6, 2, 10, 7, 4, 1, 0]\n",
      "[0, 0, 1, 2, 6, 10, 7, 4, 1, 0]\n",
      "[0, 0, 1, 2, 6, 10, 7, 4, 1, 0]\n",
      "[0, 0, 1, 2, 6, 7, 10, 4, 1, 0]\n",
      "[0, 0, 1, 2, 4, 6, 7, 10, 1, 0]\n",
      "[0, 0, 1, 1, 2, 4, 6, 7, 10, 0]\n",
      "[0, 0, 0, 1, 1, 2, 4, 6, 7, 10]\n",
      "True\n"
     ]
    }
   ],
   "source": [
    "from script import bubble_sort\n",
    "\n",
    "# for i = 0 to len(arr) - 1 do\n",
    "#     for j = 0 to len(arr) - 1 do\n",
    "#         if arr[j] > arr[j + 1] then\n",
    "#             swap(arr[j], arr[j + 1])\n",
    "#         end\n",
    "#     end\n",
    "# end\n",
    "\n",
    "a = [random.randint(0, 10) for _ in range(10)]\n",
    "print(a)\n",
    "print(is_sorted(a))\n",
    "insertion_sort(a)\n",
    "print(is_sorted(a))"
   ]
  },
  {
   "cell_type": "markdown",
   "id": "49016a9e",
   "metadata": {},
   "source": [
    "## Быстрая сортировка"
   ]
  },
  {
   "cell_type": "code",
   "execution_count": null,
   "id": "bec5ecd9",
   "metadata": {},
   "outputs": [],
   "source": [
    "sorted"
   ]
  },
  {
   "cell_type": "code",
   "execution_count": 15,
   "id": "f6a5c41f",
   "metadata": {},
   "outputs": [
    {
     "name": "stdout",
     "output_type": "stream",
     "text": [
      "[2, 8, 2, 3, 7, 8, 10, 5, 5, 7]\n",
      "False\n",
      "Begin of sort [2, 8, 2, 3, 7, 8, 10, 5, 5, 7]\n",
      "Left 0, Right 9, Middle 4, arr [2, 8, 2, 3, 7, 8, 10, 5, 5, 7]\n",
      "Begin of sort [2, 7, 2, 3, 5, 5, 10, 8, 7, 8]\n",
      "Left 6, Right 9, Middle 7, arr [10, 8, 7, 8]\n",
      "Begin of sort [2, 7, 2, 3, 5, 5, 8, 7, 8, 10]\n",
      "Left 8, Right 9, Middle 8, arr [8, 10]\n",
      "Result of sort [2, 7, 2, 3, 5, 5, 8, 7, 8, 10]\n",
      "\n",
      "Begin of sort [2, 7, 2, 3, 5, 5, 8, 7, 8, 10]\n",
      "Left 6, Right 7, Middle 6, arr [8, 7]\n",
      "Result of sort [2, 7, 2, 3, 5, 5, 7, 8, 8, 10]\n",
      "\n",
      "Result of sort [2, 7, 2, 3, 5, 5, 7, 8, 8, 10]\n",
      "\n",
      "Begin of sort [2, 7, 2, 3, 5, 5, 7, 8, 8, 10]\n",
      "Left 0, Right 5, Middle 2, arr [2, 7, 2, 3, 5, 5]\n",
      "Begin of sort [2, 7, 2, 3, 5, 5, 7, 8, 8, 10]\n",
      "Left 1, Right 5, Middle 3, arr [7, 2, 3, 5, 5]\n",
      "Begin of sort [2, 3, 2, 7, 5, 5, 7, 8, 8, 10]\n",
      "Left 3, Right 5, Middle 4, arr [7, 5, 5]\n",
      "Result of sort [2, 3, 2, 5, 5, 7, 7, 8, 8, 10]\n",
      "\n",
      "Begin of sort [2, 3, 2, 5, 5, 7, 7, 8, 8, 10]\n",
      "Left 1, Right 2, Middle 1, arr [3, 2]\n",
      "Result of sort [2, 2, 3, 5, 5, 7, 7, 8, 8, 10]\n",
      "\n",
      "Result of sort [2, 2, 3, 5, 5, 7, 7, 8, 8, 10]\n",
      "\n",
      "Result of sort [2, 2, 3, 5, 5, 7, 7, 8, 8, 10]\n",
      "\n",
      "Result of sort [2, 2, 3, 5, 5, 7, 7, 8, 8, 10]\n",
      "\n",
      "True\n"
     ]
    }
   ],
   "source": [
    "from script import quick_sort\n",
    "# func quick_sort(l, r, a):\n",
    "#     i = l\n",
    "#     j = r\n",
    "#     x = a[(i + j)/ 2]\n",
    "    \n",
    "#     while i <= j do\n",
    "#         while a[i] < x do\n",
    "#             i += 1\n",
    "#         end\n",
    "#         while a[j] > x do\n",
    "#             j -= 1\n",
    "#         end\n",
    "#         if (i <= j) then\n",
    "#             swap(a[i], a[j])\n",
    "#             i += 1\n",
    "#             j -= 1\n",
    "#         end\n",
    "#     end\n",
    "#     if (i < r) then\n",
    "#         quick_sort(i, r, a)\n",
    "#     end\n",
    "#     if (j > l) then\n",
    "#         quick_sort(l, j, a)\n",
    "#     end\n",
    "\n",
    "\n",
    "a = [random.randint(0, 10) for _ in range(10)]\n",
    "print(a)\n",
    "print(is_sorted(a))\n",
    "quick_sort(0, len(a) - 1, a)\n",
    "print(is_sorted(a))"
   ]
  },
  {
   "cell_type": "markdown",
   "id": "b5528e56",
   "metadata": {},
   "source": [
    "## Сортировка слиянием"
   ]
  },
  {
   "cell_type": "code",
   "execution_count": 17,
   "id": "b9b98771",
   "metadata": {},
   "outputs": [
    {
     "name": "stdout",
     "output_type": "stream",
     "text": [
      "[6, 3, 6, 7, 3]\n",
      "False\n",
      "Array in merge_sort: [6, 3, 6, 7, 3]\n",
      "Array in merge_sort: [6, 3]\n",
      "Array in merge_sort: [6]\n",
      "Array after left merge_sort [6]\n",
      "\n",
      "Array in merge_sort: [3]\n",
      "Array after right merge_sort [3]\n",
      "\n",
      "Array after left merge_sort [3, 6]\n",
      "\n",
      "Array in merge_sort: [6, 7, 3]\n",
      "Array in merge_sort: [6]\n",
      "Array after left merge_sort [6]\n",
      "\n",
      "Array in merge_sort: [7, 3]\n",
      "Array in merge_sort: [7]\n",
      "Array after left merge_sort [7]\n",
      "\n",
      "Array in merge_sort: [3]\n",
      "Array after right merge_sort [3]\n",
      "\n",
      "Array after right merge_sort [3, 7]\n",
      "\n",
      "Array after right merge_sort [3, 6, 7]\n",
      "\n",
      "True\n"
     ]
    }
   ],
   "source": [
    "from script import merge_sort\n",
    "import random\n",
    "\n",
    "# fucntion merge(left, right)\n",
    "#     result = []\n",
    "#     i, j = 0, 0\n",
    "#     while i < len(left) and j < len(right) do\n",
    "#         if compare(left[i], right[j]) then\n",
    "#             result.add(left[i])\n",
    "#             i++\n",
    "#         else\n",
    "#             result.add(right[j])\n",
    "#             j++\n",
    "#         end\n",
    "#     end\n",
    "#     while i < len(left) do\n",
    "#         result.append(left[i])\n",
    "#         i++\n",
    "#     end\n",
    "#     while j < len(right) do\n",
    "#         result.append(right[j])\n",
    "#         j++\n",
    "#     end\n",
    "#     return result\n",
    "\n",
    "# def merge_sort(L):\n",
    "#     if len(L) < 2 then\n",
    "#         return L.copy()\n",
    "#     else\n",
    "#         middle = len(L) / 2\n",
    "#         left = merge_sort(L[:middle])\n",
    "#         right = merge_sort(L[middle:])\n",
    "#         return merge(left, right)\n",
    "#.    end\n",
    "\n",
    "a = [random.randint(0, 10) for _ in range(5)]\n",
    "print(a)\n",
    "print(is_sorted(a))\n",
    "b = merge_sort(a)\n",
    "print(is_sorted(b))"
   ]
  },
  {
   "cell_type": "code",
   "execution_count": 18,
   "id": "9e107279",
   "metadata": {},
   "outputs": [
    {
     "data": {
      "text/plain": [
       "[3, 3, 6, 6, 7]"
      ]
     },
     "execution_count": 18,
     "metadata": {},
     "output_type": "execute_result"
    }
   ],
   "source": [
    "b"
   ]
  },
  {
   "cell_type": "markdown",
   "id": "6bbc05a3",
   "metadata": {},
   "source": [
    "## Поразрядная сортировка"
   ]
  },
  {
   "cell_type": "code",
   "execution_count": 20,
   "id": "3cd452b0",
   "metadata": {},
   "outputs": [
    {
     "name": "stdout",
     "output_type": "stream",
     "text": [
      "[484, 0, 318, 728, 9, 599, 56, 339, 433, 183]\n",
      "False\n",
      "Max digits 3\n",
      "!!! Номер разряда → 0\n",
      "Исходный массив [0, 433, 183, 484, 56, 318, 728, 9, 599, 339]\n",
      "Промежуточный массив [[0], [], [], [433, 183], [484], [], [56], [], [318, 728], [9, 599, 339]]\n",
      "!!! Номер разряда → 1\n",
      "Исходный массив [0, 9, 318, 728, 433, 339, 56, 183, 484, 599]\n",
      "Промежуточный массив [[0, 9], [318], [728], [433, 339], [], [56], [], [], [183, 484], [599]]\n",
      "!!! Номер разряда → 2\n",
      "Исходный массив [0, 9, 56, 183, 318, 339, 433, 484, 599, 728]\n",
      "Промежуточный массив [[0, 9, 56], [183], [], [318, 339], [433, 484], [599], [], [728], [], []]\n",
      "True\n"
     ]
    }
   ],
   "source": [
    "from script import radix_sort\n",
    "\n",
    "\n",
    "# max_digits = max([len(str(x)) for x in arr])\n",
    "# base = 10\n",
    "# bins = [[] for _ in range(base)]\n",
    "# for i in range(0, max_digits):\n",
    "#     for x in arr:\n",
    "#         digit = (x // base ** i) % base \n",
    "#         bins[digit].append(x)\n",
    "#     arr = [x for queue in bins for x in queue]\n",
    "#     bins = [[] for _ in range(base)]\n",
    "\n",
    "a = [random.randint(0, 1000) for _ in range(10)]\n",
    "print(a)\n",
    "print(is_sorted(a))\n",
    "b = radix_sort(a)\n",
    "print(is_sorted(b))"
   ]
  },
  {
   "cell_type": "markdown",
   "id": "3d2a604b",
   "metadata": {},
   "source": [
    "## Сортировка блочная"
   ]
  },
  {
   "cell_type": "code",
   "execution_count": 23,
   "id": "002bb658",
   "metadata": {},
   "outputs": [
    {
     "name": "stdout",
     "output_type": "stream",
     "text": [
      "[13, 18, 10, 5, 8, 14, 6, 18, 11, 19]\n",
      "False\n",
      "Max 19, Min 5, Buckets len 15\n",
      "Buckets result {5: 1, 6: 1, 7: 0, 8: 1, 9: 0, 10: 1, 11: 1, 12: 0, 13: 1, 14: 1, 15: 0, 16: 0, 17: 0, 18: 2, 19: 1}\n",
      "True\n"
     ]
    }
   ],
   "source": [
    "from script import bucketSort\n",
    "\n",
    "# max_v = max(a)\n",
    "# min_v = min(a)\n",
    "\n",
    "# buckets = [0 for i = 0 to (max_v - min_v + 1)]\n",
    "# for i = 0 to len(a) - 1 do\n",
    "#     buckets[a[i] - min_v]++\n",
    "# end\n",
    "# i = 0\n",
    "# for j = 0 to len(buckets) - 1 do\n",
    "#     for k = 0 to buckets[j] do\n",
    "#         a[i] = j\n",
    "#         i += 1\n",
    "#.    end\n",
    "# end\n",
    "            \n",
    "a = [random.randint(5, 20) for _ in range(10)]\n",
    "print(a)\n",
    "print(is_sorted(a))\n",
    "bucketSort(a)\n",
    "print(is_sorted(a))"
   ]
  },
  {
   "cell_type": "code",
   "execution_count": 24,
   "id": "a78b50bc",
   "metadata": {},
   "outputs": [
    {
     "data": {
      "text/plain": [
       "[0, 1, 3, 5, 6, 8, 9, 13, 13, 14]"
      ]
     },
     "execution_count": 24,
     "metadata": {},
     "output_type": "execute_result"
    }
   ],
   "source": [
    "a"
   ]
  },
  {
   "cell_type": "code",
   "execution_count": null,
   "id": "e4909456",
   "metadata": {},
   "outputs": [],
   "source": [
    "0, 1, 2, 3, 4,5, 6, 7, 8, 9, 10"
   ]
  },
  {
   "cell_type": "code",
   "execution_count": null,
   "id": "6850e360",
   "metadata": {},
   "outputs": [],
   "source": []
  }
 ],
 "metadata": {
  "kernelspec": {
   "display_name": "Python 3 (ipykernel)",
   "language": "python",
   "name": "python3"
  },
  "language_info": {
   "codemirror_mode": {
    "name": "ipython",
    "version": 3
   },
   "file_extension": ".py",
   "mimetype": "text/x-python",
   "name": "python",
   "nbconvert_exporter": "python",
   "pygments_lexer": "ipython3",
   "version": "3.11.1"
  }
 },
 "nbformat": 4,
 "nbformat_minor": 5
}
