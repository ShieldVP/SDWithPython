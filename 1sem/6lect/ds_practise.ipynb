{
 "cells": [
  {
   "cell_type": "markdown",
   "metadata": {},
   "source": [
    "# Простой стек"
   ]
  },
  {
   "cell_type": "markdown",
   "metadata": {},
   "source": [
    "Задача №54. **Простой стек**\n",
    "\n",
    "Количество элементов во всех структурах данных не превышает 10000, если это не указано особо.\n",
    "\n",
    "Реализуйте структуру данных \"стек\". Напишите программу, содержащую описание стека и моделирующую работу стека, реализовав все указанные здесь методы.  Программа считывает последовательность команд и в зависимости от команды выполняет ту или иную операцию. После выполнения каждой команды программа должна вывести одну строчку. Возможные команды для программы:\n",
    "\n",
    "**push n**\n",
    "\n",
    "Добавить в стек число n (значение n задается после команды). Программа должна вывести ok.\n",
    "\n",
    "**pop**\n",
    "\n",
    "Удалить из стека последний элемент. Программа должна вывести его значение.\n",
    "\n",
    "**back**\n",
    "\n",
    "Программа должна вывести значение последнего элемента, не удаляя его из стека.\n",
    "\n",
    "**size**\n",
    "\n",
    "Программа должна вывести количество элементов в стеке.\n",
    "\n",
    "**clear**\n",
    "\n",
    "Программа должна очистить стек и вывести ok.\n",
    "\n",
    "**exit**\n",
    "\n",
    "Программа должна вывести bye и завершить работу.\n",
    "\n",
    "**Входные данные**\n",
    "\n",
    "Команды управления стеком вводятся в описанном ранее формате по 1 на строке.\n",
    "\n",
    "Гарантируется, что набор входных команд удовлетворяет следующим требованиям: максимальное количество элементов в стеке в любой момент не превосходит 100, все команды pop и back корректны, то есть при их исполнении в стеке содержится хотя бы один элемент.\n",
    "\n",
    "**Выходные данные**\n",
    "\n",
    "Требуется вывести протокол работы со стеком, по 1 сообщению в строке"
   ]
  },
  {
   "cell_type": "code",
   "execution_count": 3,
   "metadata": {},
   "outputs": [],
   "source": [
    "class stack:\n",
    "    def __init__(self):\n",
    "        self._data = []\n",
    "    \n",
    "    def push(self, n):\n",
    "        self._data.append(n)\n",
    "        return 'ok'\n",
    "\n",
    "    def pop(self):\n",
    "        return self._data.pop()\n",
    "    \n",
    "    def back(self):\n",
    "        return self._data[-1]\n",
    "    \n",
    "    def size(self):\n",
    "        return len(self._data)\n",
    "    \n",
    "    def clear(self):\n",
    "        self._data.clear()\n",
    "        return 'ok'"
   ]
  },
  {
   "cell_type": "code",
   "execution_count": 4,
   "metadata": {},
   "outputs": [],
   "source": [
    "s = stack()"
   ]
  },
  {
   "cell_type": "code",
   "execution_count": null,
   "metadata": {},
   "outputs": [],
   "source": [
    "while True:\n",
    "    cmd = tuple(input().split())\n",
    "    match cmd[0]:\n",
    "        case \"push\":\n",
    "            num = int(cmd[1])\n",
    "            print(s.push(num))\n",
    "\n",
    "        case \"pop\":\n",
    "            print(s.pop())\n",
    "\n",
    "        case \"back\":\n",
    "            print(s.back())\n",
    "\n",
    "        case \"size\":\n",
    "            print(s.size())\n",
    "        \n",
    "        case \"clear\":\n",
    "            print(s.clear())\n",
    "        \n",
    "        case \"exit\":\n",
    "            break"
   ]
  },
  {
   "cell_type": "markdown",
   "metadata": {},
   "source": [
    "# Простая очередь"
   ]
  },
  {
   "cell_type": "markdown",
   "metadata": {},
   "source": [
    "Задача №57. **Простая очередь**\n",
    "\n",
    "Количество элементов во всех структурах данных не превышает 10000, если это не указано особо.\n",
    "\n",
    "Реализуйте структуру данных \"очередь\". Напишите программу, содержащую описание очереди и моделирующую работу очереди, реализовав все указанные здесь методы. Программа считывает последовательность команд и в зависимости от команды выполняет ту или иную операцию. После выполнения каждой команды программа должна вывести одну строчку. Возможные команды для программы:\n",
    "\n",
    "**push n**\n",
    "\n",
    "Добавить в очередь число n (значение n задается после команды). Программа должна вывести ok.\n",
    "\n",
    "**pop**\n",
    "\n",
    "Удалить из очереди первый элемент. Программа должна вывести его значение.\n",
    "\n",
    "**front**\n",
    "\n",
    "Программа должна вывести значение первого элемента, не удаляя его из очереди.\n",
    "\n",
    "**size**\n",
    "\n",
    "Программа должна вывести количество элементов в очереди.\n",
    "\n",
    "**clear**\n",
    "\n",
    "Программа должна очистить очередь и вывести ok.\n",
    "\n",
    "**exit**\n",
    "\n",
    "Программа должна вывести bye и завершить работу.\n",
    "\n",
    "Гарантируется, что набор входных команд удовлетворяет следующим требованиям: максимальное количество элементов в очереди в любой момент не превосходит 100, все команды pop и front корректны, то есть при их исполнении в очереди содержится хотя бы один элемент.\n",
    " \n",
    "\n",
    "**Входные данные**\n",
    "\n",
    "Вводятся команды управления очередью, по одной на строке\n",
    "\n",
    "**Выходные данные**\n",
    "\n",
    "Требуется вывести протокол работы с очередью, по одному сообщению на строке"
   ]
  },
  {
   "cell_type": "code",
   "execution_count": 9,
   "metadata": {},
   "outputs": [],
   "source": [
    "class Node:\n",
    "    def __init__(self, data = None, prev = None, next = None):\n",
    "        self._data = data\n",
    "        self._prev = prev\n",
    "        self._next = next\n",
    "\n",
    "    def setNext(self, next):\n",
    "        self._next = next\n",
    "\n",
    "    def __str__(self):\n",
    "        return str(self._data)"
   ]
  },
  {
   "cell_type": "code",
   "execution_count": 26,
   "metadata": {},
   "outputs": [],
   "source": [
    "class Queue:\n",
    "    def __init__(self):\n",
    "        self._tail = None\n",
    "        self._head = None\n",
    "        self._cnt = 0\n",
    "\n",
    "    def push(self, n: int):\n",
    "        if self._tail is self._head is None:\n",
    "            temp = Node(n)\n",
    "            self._tail = self._head = temp\n",
    "        \n",
    "        temp = Node(n, self._head)\n",
    "        self._head.setNext(temp)\n",
    "        self._head = temp\n",
    "        self._cnt += 1\n",
    "        return 'ok'\n",
    "    \n",
    "    def pop(self):\n",
    "        temp = self._tail\n",
    "        self._tail = temp._next\n",
    "        self._tail._prev = None\n",
    "        self._cnt -= 1\n",
    "        return temp\n",
    "    \n",
    "    def front(self):\n",
    "        return self._tail\n",
    "    \n",
    "    def clear(self):\n",
    "        self._tail = self._head = None\n",
    "        self._cnt = 0\n",
    "        return 'ok'\n",
    "\n",
    "    def size(self):\n",
    "        return self._cnt   \n"
   ]
  },
  {
   "cell_type": "code",
   "execution_count": 24,
   "metadata": {},
   "outputs": [],
   "source": [
    "q = Queue()"
   ]
  },
  {
   "cell_type": "code",
   "execution_count": 25,
   "metadata": {},
   "outputs": [
    {
     "name": "stdout",
     "output_type": "stream",
     "text": [
      "ok\n",
      "1\n",
      "1\n",
      "ok\n",
      "ok\n",
      "2\n",
      "ok\n",
      "2\n",
      "bye\n"
     ]
    }
   ],
   "source": [
    "while True:\n",
    "    cmd = tuple(input().split())\n",
    "    match cmd[0]:\n",
    "        case \"push\":\n",
    "            num = int(cmd[1])\n",
    "            print(q.push(num))\n",
    "\n",
    "        case \"pop\":\n",
    "            print(q.pop())\n",
    "\n",
    "        case \"back\":\n",
    "            print(q.back())\n",
    "\n",
    "        case \"size\":\n",
    "            print(q.size())\n",
    "        \n",
    "        case \"clear\":\n",
    "            print(q.clear())\n",
    "        \n",
    "        case \"exit\":\n",
    "            print('bye')\n",
    "            break"
   ]
  }
 ],
 "metadata": {
  "kernelspec": {
   "display_name": "Python 3",
   "language": "python",
   "name": "python3"
  },
  "language_info": {
   "codemirror_mode": {
    "name": "ipython",
    "version": 3
   },
   "file_extension": ".py",
   "mimetype": "text/x-python",
   "name": "python",
   "nbconvert_exporter": "python",
   "pygments_lexer": "ipython3",
   "version": "3.11.6"
  }
 },
 "nbformat": 4,
 "nbformat_minor": 2
}
