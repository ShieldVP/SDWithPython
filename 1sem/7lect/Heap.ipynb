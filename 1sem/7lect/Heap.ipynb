{
 "cells": [
  {
   "cell_type": "markdown",
   "id": "303ca7c7",
   "metadata": {},
   "source": [
    "# Куча\n",
    "\n",
    "**Куча** - древовидная структура данных\n",
    "\n",
    "Свойство кучи - **каждый элемент не меньше (больше) своих потомков**\n",
    "\n",
    "**Операции:**\n",
    "* Получение максимального (минимального) элемента - O(1)\n",
    "* Добавление нового элемента - O(logN)\n",
    "* Удаление элемента - O(logN)\n",
    "\n",
    "## Визуализация кучи (правило \"не меньше\")\n",
    "![](src/1.png)"
   ]
  },
  {
   "cell_type": "markdown",
   "id": "05d83ad0",
   "metadata": {},
   "source": [
    "## Пример кучи (правило \"не больше\") на массивах (индексы записаны маленькими цифрами)\n",
    "\n",
    "![](src/2.png)\n",
    "\n",
    "### Потомками i-го элемента будут i\\*2 + 1 и i\\*2 + 2 \n",
    "### i -й элемент - предок этих элементов"
   ]
  },
  {
   "cell_type": "code",
   "execution_count": null,
   "id": "0e475472",
   "metadata": {},
   "outputs": [],
   "source": [
    "class Heap:\n",
    "    def __init__(self):\n",
    "        pass\n",
    "\n",
    "    def heap_min(self):\n",
    "        pass\n",
    "\n",
    "    def add(self, value):\n",
    "        pass\n",
    "\n",
    "    def remove(self, value):\n",
    "        pass"
   ]
  },
  {
   "cell_type": "markdown",
   "id": "ba948f18",
   "metadata": {},
   "source": [
    "### Инициализация\n",
    "\n",
    "* heap - куча"
   ]
  },
  {
   "cell_type": "code",
   "execution_count": 1,
   "id": "be1b6d52",
   "metadata": {},
   "outputs": [],
   "source": [
    "class Heap:\n",
    "    def __init__(self):\n",
    "        self.heap = []\n",
    "    \n",
    "    def __str__(self):\n",
    "        return str(self.heap)"
   ]
  },
  {
   "cell_type": "code",
   "execution_count": 2,
   "id": "31bdd708",
   "metadata": {},
   "outputs": [
    {
     "data": {
      "text/plain": [
       "'[]'"
      ]
     },
     "execution_count": 2,
     "metadata": {},
     "output_type": "execute_result"
    }
   ],
   "source": [
    "h = Heap()\n",
    "str(h)"
   ]
  },
  {
   "cell_type": "markdown",
   "id": "51ce8106",
   "metadata": {},
   "source": [
    "### Добавление\n",
    "\n",
    "![](src/3.png)"
   ]
  },
  {
   "cell_type": "code",
   "execution_count": 3,
   "id": "17e82e39",
   "metadata": {},
   "outputs": [],
   "source": [
    "class Heap:\n",
    "    def __init__(self):\n",
    "        self.heap = []\n",
    "    \n",
    "    def __str__(self):\n",
    "        return str(self.heap)\n",
    "\n",
    "    def _swap(self, i, j):\n",
    "        self.heap[i], self.heap[j] = self.heap[j], self.heap[i]\n",
    "    \n",
    "    def add(self, value):\n",
    "        self.heap.append(value)\n",
    "        if len(self.heap) < 3:\n",
    "            return\n",
    "        \n",
    "        pos = len(self.heap) - 1\n",
    "        npos = (pos - 1) // 2\n",
    "        while pos > 0 and self.heap[pos] < self.heap[npos]:\n",
    "            self._swap(pos, npos)\n",
    "            pos = npos\n",
    "            npos = (pos - 1) // 2"
   ]
  },
  {
   "cell_type": "code",
   "execution_count": 4,
   "id": "beffea04",
   "metadata": {},
   "outputs": [
    {
     "data": {
      "text/plain": [
       "'[1, 5, 8, 6, 7, 12, 9, 10, 8]'"
      ]
     },
     "execution_count": 4,
     "metadata": {},
     "output_type": "execute_result"
    }
   ],
   "source": [
    "h = Heap()\n",
    "h.heap = [1, 6, 8, 8, 7, 12, 9, 10]\n",
    "h.add(5)\n",
    "\n",
    "str(h)"
   ]
  },
  {
   "cell_type": "code",
   "execution_count": 5,
   "id": "b6d2c4ac",
   "metadata": {},
   "outputs": [
    {
     "data": {
      "text/plain": [
       "'[1, 5, 8, 6, 7, 12, 9, 10, 8, 52, 37, 43, 60, 18]'"
      ]
     },
     "execution_count": 5,
     "metadata": {},
     "output_type": "execute_result"
    }
   ],
   "source": [
    "import random\n",
    "for i in range(5):\n",
    "    a = random.randint(0, 100)\n",
    "    h.add(a)\n",
    "str(h)"
   ]
  },
  {
   "cell_type": "markdown",
   "id": "5e1e00fd",
   "metadata": {},
   "source": [
    "### Получение минимума"
   ]
  },
  {
   "cell_type": "code",
   "execution_count": 6,
   "id": "6ddb1635",
   "metadata": {},
   "outputs": [],
   "source": [
    "class Heap:\n",
    "    def __init__(self):\n",
    "        self.heap = []\n",
    "    \n",
    "    def __str__(self):\n",
    "        return str(self.heap)\n",
    "\n",
    "    def _swap(self, i, j):\n",
    "        self.heap[i], self.heap[j] = self.heap[j], self.heap[i]\n",
    "    \n",
    "    def add(self, value):\n",
    "        self.heap.append(value)\n",
    "        if len(self.heap) < 3:\n",
    "            return\n",
    "        \n",
    "        pos = len(self.heap) - 1\n",
    "        npos = (pos - 1) // 2\n",
    "        while pos > 0 and self.heap[pos] < self.heap[npos]:\n",
    "            self._swap(pos, npos)\n",
    "            pos = npos\n",
    "            npos = (pos - 1) // 2\n",
    "            \n",
    "    def heap_min(self):\n",
    "        return self.heap[0]"
   ]
  },
  {
   "cell_type": "code",
   "execution_count": 7,
   "id": "e11ae075",
   "metadata": {},
   "outputs": [
    {
     "data": {
      "text/plain": [
       "'[8, 28, 25, 38, 34]'"
      ]
     },
     "execution_count": 7,
     "metadata": {},
     "output_type": "execute_result"
    }
   ],
   "source": [
    "h = Heap()\n",
    "for i in range(5):\n",
    "    a = random.randint(0, 100)\n",
    "    h.add(a)\n",
    "str(h)"
   ]
  },
  {
   "cell_type": "code",
   "execution_count": 8,
   "id": "36ed740e",
   "metadata": {},
   "outputs": [
    {
     "data": {
      "text/plain": [
       "8"
      ]
     },
     "execution_count": 8,
     "metadata": {},
     "output_type": "execute_result"
    }
   ],
   "source": [
    "h.heap_min()"
   ]
  },
  {
   "cell_type": "markdown",
   "id": "915226f0",
   "metadata": {},
   "source": [
    "### Удаление минимального элемента"
   ]
  },
  {
   "cell_type": "code",
   "execution_count": 9,
   "id": "09fee94b",
   "metadata": {},
   "outputs": [],
   "source": [
    "class Heap:\n",
    "    def __init__(self):\n",
    "        self.heap = []\n",
    "    \n",
    "    def __str__(self):\n",
    "        return str(self.heap)\n",
    "\n",
    "    def _swap(self, i, j):\n",
    "        self.heap[i], self.heap[j] = self.heap[j], self.heap[i]\n",
    "    \n",
    "    def add(self, value):\n",
    "        self.heap.append(value)\n",
    "        if len(self.heap) < 3:\n",
    "            return\n",
    "        \n",
    "        pos = len(self.heap) - 1\n",
    "        npos = (pos - 1) // 2\n",
    "        while pos > 0 and self.heap[pos] < self.heap[npos]:\n",
    "            self._swap(pos, npos)\n",
    "            pos = npos\n",
    "            npos = (pos - 1) // 2\n",
    "            \n",
    "    def heap_min(self):\n",
    "        return self.heap[0]\n",
    "    \n",
    "    def heapify(self, index):\n",
    "        pos = index\n",
    "        while pos * 2 + 1 < len(self.heap) - 2:\n",
    "            y = pos * 2 + 1\n",
    "            minp = y if self.heap[y] < self.heap[y + 1] else y + 1\n",
    "            if self.heap[pos] > self.heap[minp]:\n",
    "                self._swap(pos, minp)\n",
    "                pos = minp\n",
    "            else:\n",
    "                break\n",
    "    \n",
    "    def remove_min(self):\n",
    "        self.heap[0] = self.heap.pop()\n",
    "        self.heapify(0)\n",
    "    \n",
    "    def extract_min(self):\n",
    "        result = self.heap[0]\n",
    "        self.remove_min()\n",
    "        return result"
   ]
  },
  {
   "cell_type": "code",
   "execution_count": 10,
   "id": "2df4bc65",
   "metadata": {},
   "outputs": [
    {
     "data": {
      "text/plain": [
       "'[7, 10, 14, 34, 39, 49, 19, 65, 81, 78, 95, 80, 59, 65, 61, 77]'"
      ]
     },
     "execution_count": 10,
     "metadata": {},
     "output_type": "execute_result"
    }
   ],
   "source": [
    "h = Heap()\n",
    "for i in range(15):\n",
    "    a = random.randint(0, 100)\n",
    "    h.add(a)\n",
    "    \n",
    "h.add(10)\n",
    "str(h)"
   ]
  },
  {
   "cell_type": "code",
   "execution_count": 11,
   "id": "14cfe9c3",
   "metadata": {},
   "outputs": [
    {
     "data": {
      "text/plain": [
       "'[10, 34, 14, 65, 39, 49, 19, 77, 81, 78, 95, 80, 59, 65, 61]'"
      ]
     },
     "execution_count": 11,
     "metadata": {},
     "output_type": "execute_result"
    }
   ],
   "source": [
    "h.remove_min()\n",
    "str(h)"
   ]
  },
  {
   "cell_type": "code",
   "execution_count": 12,
   "id": "8a0d4169",
   "metadata": {},
   "outputs": [
    {
     "data": {
      "text/plain": [
       "10"
      ]
     },
     "execution_count": 12,
     "metadata": {},
     "output_type": "execute_result"
    }
   ],
   "source": [
    "h.extract_min()"
   ]
  },
  {
   "cell_type": "code",
   "execution_count": 13,
   "id": "14f5a859",
   "metadata": {},
   "outputs": [
    {
     "data": {
      "text/plain": [
       "'[14, 34, 19, 65, 39, 49, 61, 77, 81, 78, 95, 80, 59, 65]'"
      ]
     },
     "execution_count": 13,
     "metadata": {},
     "output_type": "execute_result"
    }
   ],
   "source": [
    "str(h)"
   ]
  },
  {
   "cell_type": "markdown",
   "id": "8f491c39",
   "metadata": {},
   "source": [
    "### Построение кучи из списка"
   ]
  },
  {
   "cell_type": "markdown",
   "id": "41a81b72",
   "metadata": {},
   "source": [
    "![](src/8.png)\n",
    "![](src/9.png)\n",
    "![](src/10.png)\n",
    "![](src/11.png)"
   ]
  },
  {
   "cell_type": "code",
   "execution_count": 14,
   "id": "41293331",
   "metadata": {},
   "outputs": [],
   "source": [
    "class Heap:\n",
    "    def __init__(self, heap=None):\n",
    "        if heap is None:\n",
    "            self.heap = []\n",
    "        else:\n",
    "            self.heap = heap\n",
    "            self.build_heap()\n",
    "    \n",
    "    def __str__(self):\n",
    "        return str(self.heap)\n",
    "\n",
    "    def _swap(self, i, j):\n",
    "        self.heap[i], self.heap[j] = self.heap[j], self.heap[i]\n",
    "    \n",
    "    def add(self, value):\n",
    "        self.heap.append(value)\n",
    "        if len(self.heap) < 3:\n",
    "            return\n",
    "        \n",
    "        pos = len(self.heap) - 1\n",
    "        npos = (pos - 1) // 2\n",
    "        while pos > 0 and self.heap[pos] < self.heap[npos]:\n",
    "            self._swap(pos, npos)\n",
    "            pos = npos\n",
    "            npos = (pos - 1) // 2\n",
    "            \n",
    "    def heap_min(self):\n",
    "        return self.heap[0]\n",
    "    \n",
    "    def heapify(self, index):\n",
    "        pos = index\n",
    "        while pos * 2 + 1 < len(self.heap) - 2:\n",
    "            y = pos * 2 + 1\n",
    "            minp = y if self.heap[y] < self.heap[y + 1] else y + 1\n",
    "            if self.heap[pos] > self.heap[minp]:\n",
    "                self._swap(pos, minp)\n",
    "                pos = minp\n",
    "            else:\n",
    "                break\n",
    "    \n",
    "    def remove_min(self):\n",
    "        self.heap[0] = self.heap.pop()\n",
    "        self.heapify(0)\n",
    "    \n",
    "    def extract_min(self):\n",
    "        result = self.heap[0]\n",
    "        self.remove_min()\n",
    "        return result\n",
    "\n",
    "    def build_heap(self):\n",
    "        for i in range(len(self.heap) // 2, -1, -1):\n",
    "            self.heapify(i)"
   ]
  },
  {
   "cell_type": "code",
   "execution_count": 15,
   "id": "aa5d3b42",
   "metadata": {},
   "outputs": [
    {
     "data": {
      "text/plain": [
       "[29, 12, 68, 49, 72, 31, 64, 93, 15, 97]"
      ]
     },
     "execution_count": 15,
     "metadata": {},
     "output_type": "execute_result"
    }
   ],
   "source": [
    "n = [random.randint(0, 100) for i in range(10)]\n",
    "n"
   ]
  },
  {
   "cell_type": "code",
   "execution_count": 16,
   "id": "35fbc390",
   "metadata": {},
   "outputs": [
    {
     "data": {
      "text/plain": [
       "'[12, 15, 31, 29, 72, 68, 64, 93, 49, 97]'"
      ]
     },
     "execution_count": 16,
     "metadata": {},
     "output_type": "execute_result"
    }
   ],
   "source": [
    "h = Heap(n)\n",
    "\n",
    "str(h)"
   ]
  },
  {
   "cell_type": "markdown",
   "id": "93e54bf1",
   "metadata": {},
   "source": [
    "### Heap sort"
   ]
  },
  {
   "cell_type": "markdown",
   "id": "b74fd294",
   "metadata": {},
   "source": [
    "![](src/4.png)\n",
    "![](src/5.png)\n",
    "![](src/6.png)\n",
    "![](src/7.png)"
   ]
  },
  {
   "cell_type": "code",
   "execution_count": 17,
   "id": "f0d9ed16",
   "metadata": {},
   "outputs": [
    {
     "name": "stdout",
     "output_type": "stream",
     "text": [
      "Sorted array is\n",
      "[1, 5, 6, 9, 10, 12]\n"
     ]
    }
   ],
   "source": [
    "import random\n",
    "\n",
    "def heapify(arr, n, i):\n",
    "    largest = i\n",
    "    left = 2 * i + 1\n",
    "    right = 2 * i + 2\n",
    "    if left < n and arr[left] > arr[largest]:\n",
    "        largest = left\n",
    "\n",
    "    if right < n and arr[right] > arr[largest]:\n",
    "        largest = right\n",
    "    if largest != i:\n",
    "        arr[i], arr[largest] = arr[largest], arr[i]\n",
    "        heapify(arr, n, largest)\n",
    "        \n",
    "def heapSort(arr):\n",
    "    n = len(arr)\n",
    "    for i in range(n//2, -1, -1):\n",
    "        heapify(arr, n, i)\n",
    "\n",
    "    for i in range(n-1, 0, -1):\n",
    "        arr[i], arr[0] = arr[0], arr[i]\n",
    "        heapify(arr, i, 0)\n",
    "  \n",
    "  \n",
    "arr = [1, 12, 9, 5, 6, 10]\n",
    "heapSort(arr)\n",
    "print(\"Sorted array is\")\n",
    "print(arr)"
   ]
  },
  {
   "cell_type": "code",
   "execution_count": 18,
   "id": "a1f62da2",
   "metadata": {},
   "outputs": [
    {
     "name": "stdout",
     "output_type": "stream",
     "text": [
      "[51, 11, 90, 50, 11, 11, 45, 53, 26, 59, 51, 71, 80, 59, 50]\n"
     ]
    },
    {
     "data": {
      "text/plain": [
       "[11, 11, 11, 26, 45, 50, 50, 51, 51, 53, 59, 59, 71, 80, 90]"
      ]
     },
     "execution_count": 18,
     "metadata": {},
     "output_type": "execute_result"
    }
   ],
   "source": [
    "arr = [random.randint(0, 100) for i in range(15)]\n",
    "print(arr)\n",
    "heapSort(arr)\n",
    "arr"
   ]
  },
  {
   "cell_type": "code",
   "execution_count": null,
   "id": "7a9b8d5b",
   "metadata": {},
   "outputs": [],
   "source": []
  },
  {
   "cell_type": "code",
   "execution_count": null,
   "id": "6687a752",
   "metadata": {},
   "outputs": [],
   "source": []
  }
 ],
 "metadata": {
  "kernelspec": {
   "display_name": "Python 3 (ipykernel)",
   "language": "python",
   "name": "python3"
  },
  "language_info": {
   "codemirror_mode": {
    "name": "ipython",
    "version": 3
   },
   "file_extension": ".py",
   "mimetype": "text/x-python",
   "name": "python",
   "nbconvert_exporter": "python",
   "pygments_lexer": "ipython3",
   "version": "3.11.1"
  }
 },
 "nbformat": 4,
 "nbformat_minor": 5
}
